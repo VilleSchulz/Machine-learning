{
 "cells": [
  {
   "cell_type": "markdown",
   "source": [
    "# Assignment: Decision trees and random forests"
   ],
   "metadata": {
    "collapsed": false
   },
   "id": "3f22f56a9a367fd4"
  },
  {
   "cell_type": "markdown",
   "source": [
    "## 1. Business understanding\n",
    "\n",
    "Phishing websites are a major cybersecurity threat, aiming to steal sensitive information such as passwords or credit card details. Detecting them early is essential to protect users from financial loss, identity theft, and reputational damage.\n",
    "\n",
    "The goal of this project is to test whether phishing websites can be reliably identified using simple, automatically collected features such as SSL certificate status, URL patterns, web traffic, and link structure. A successful model could support the development of an automated warning system that alerts users before they enter a phishing site.\n",
    "\n",
    "Two approaches will be used:\n",
    "\n",
    "1. **Decision Trees** – to create a transparent, human-readable model that can be directly translated into analyst instructions.\n",
    "\n",
    "2. **Random Forests** – to improve predictive accuracy through an ensemble of decision trees.\n",
    "\n",
    "The project seeks to balance **interpretability** (decision tree rules that are understandable to an internet analyst) and **accuracy** (improved prediction via random forests). If successful, the models can form the foundation of a practical phishing detection tool, contributing to safer online interactions for end-users.\n",
    "\n",
    "\n",
    "\n",
    "\n",
    "\n",
    "\n",
    "\n",
    "\n",
    "Ultimately, the project aims to balance interpretability (decision tree rules that are understandable to an internet analyst) and accuracy (improved prediction via random forests). If successful, the models can form the foundation of a practical phishing detection tool, contributing to safer online interactions for end-users.\n",
    "\n",
    "\n",
    "We are using the Phishing dataset that is available at the UCI Machine Learning Repository: [Phishing Websites Data Set](https://archive.ics.uci.edu/dataset/327/phishing+websites). The target variable Result indicates whether a website is a phishing site or not.\n",
    "\n",
    "Note: As the interpretation of the -1’s and 1’s in the Result column seems to be missing from the document, it may be helpful to know that a ‘1‘ corresponds to a phishing site and a ‘-1’ to a legitimate site.\n",
    "\n",
    "Our goal was to find out whether it is possible to reliably predict whether a website is a phishing site or not based on the easily obtainable information about the website. Based on the outcome, it is possible to construct an automated system that warns users when they are about to visit a phishing website.\n"
   ],
   "metadata": {
    "collapsed": false
   },
   "id": "5cfacdacca3196c6"
  },
  {
   "cell_type": "markdown",
   "source": [
    "## 2. Data understanding\n",
    "\n",
    "The dataset used in this project is the **[Phishing Websites Data Set](https://archive.ics.uci.edu/dataset/327/phishing+websites)** from the UCI Machine Learning Repository. It contains **11,055 instances** with **30 predictive features**, all integer-valued and with no missing values. The **target variable** `Result` is encoded as:\n",
    "\n",
    "- **1 = phishing site**\n",
    "- **–1 = legitimate site**\n",
    "\n",
    "This label encoding is not clearly stated in the UCI documentation but confirmed in related papers, making it important to highlight here.\n",
    "\n",
    "#### 2.1. Feature Overview\n",
    "\n",
    "The features represent structural and behavioral properties of websites that can be collected automatically. They are designed to capture common tricks used in phishing attacks. Examples include:\n",
    "\n",
    "- **URL and domain structure**:  \n",
    "  - *IP Address*: phishing URLs may use numeric IPs instead of domain names.  \n",
    "  - *URL Length*: overly long URLs can hide malicious elements.  \n",
    "  - *Prefix-Suffix*: hyphens in domains (e.g., `paypal-security.com`) often imitate real sites.  \n",
    "  - *Having Subdomain*: excessive subdomains may disguise a malicious site.  \n",
    "  - *HTTPS-token*: misleading use of “https” inside the domain name.  \n",
    "\n",
    "- **Security indicators**:  \n",
    "  - *SSLfinal_State*: validity of the SSL certificate.  \n",
    "  - *Domain Registration Length* and *Age of Domain*: short-lived or newly created domains are more suspicious.  \n",
    "  - *DNS Record*: missing or abnormal DNS entries suggest fraud.  \n",
    "\n",
    "- **Content and linking patterns**:  \n",
    "  - *Request URL* and *URL of Anchor*: percentage of external objects or anchor links leading outside the domain.  \n",
    "  - *Links in Tags*: external links inside `<meta>`, `<script>`, and `<link>` tags.  \n",
    "  - *Favicon*: loading icons from external sources instead of the main site.  \n",
    "  - *Links Pointing to Page*: legitimate sites typically have more inbound links.  \n",
    "\n",
    "- **User interaction tricks**:  \n",
    "  - *On-mouseover*: changes in the browser’s status bar on hover.  \n",
    "  - *RightClick* and *PopUpWindow*: disabling user actions or forcing pop-ups.  \n",
    "  - *Iframe*: use of hidden frames to load external content.  \n",
    "\n",
    "- **Traffic and reputation**:  \n",
    "  - *Web Traffic*: phishing sites typically have very low visitor numbers.  \n",
    "  - *PageRank*, *Google Index*: trusted sites are usually ranked and indexed.  \n",
    "  - *Statistical Report*: cross-check against known phishing/malware blacklists.  \n",
    "\n",
    "#### 2.2. Class Balance\n",
    "\n",
    "The dataset is moderately balanced, with around **6,157 legitimate** vs **4,898 phishing** websites. This makes it well-suited for supervised learning methods such as decision trees and random forests without requiring heavy imbalance correction."
   ],
   "metadata": {
    "collapsed": false
   },
   "id": "6dfd65a32e94fc43"
  },
  {
   "cell_type": "code",
   "execution_count": null,
   "outputs": [],
   "source": [
    "from ucimlrepo import fetch_ucirepo \n",
    "  \n",
    "# fetch dataset \n",
    "phishing_websites = fetch_ucirepo(id=327) \n",
    "  \n",
    "# data (as pandas dataframes) \n",
    "X = phishing_websites.data.features \n",
    "y = phishing_websites.data.targets \n",
    "  \n",
    "  \n",
    "# variable information \n",
    "display(phishing_websites.variables) \n"
   ],
   "metadata": {
    "collapsed": false
   },
   "id": "b45417e411443f51"
  },
  {
   "cell_type": "markdown",
   "source": [
    "The variables contained in this dataset are:\n",
    "<br>\n",
    "\n",
    "\n",
    "| Feature                    | Explanation                                                                                   |\n",
    "|-----------------------------|-----------------------------------------------------------------------------------------------|\n",
    "| Using the IP Address        | If the URL uses an IP address instead of a domain name (phishers often hide domain names).    |\n",
    "| URL-Length                  | Very long URLs can be suspicious (used to hide malicious parts).                              |\n",
    "| Shortening-Service          | Use of services like bit.ly or tinyurl can hide the true destination.                         |\n",
    "| having-At-Symbol            | An “@” symbol in a URL may redirect to a different site.                                      |\n",
    "| double-slash-redirecting    | Extra `//` after the protocol may indicate redirection tricks.                                |\n",
    "| Prefix-Suffix               | Use of a hyphen “-” in the domain (e.g., paypal-security.com) often mimics real sites.        |\n",
    "| having-Sub-Domain           | Too many subdomains (e.g., login.bank.example.phish.com) can be a trick.                      |\n",
    "| SSLfinal-State              | Checks if the SSL certificate is valid (fake or expired SSL is a warning sign).               |\n",
    "| Domain-registration-length  | Domains registered for a very short time are more likely to be malicious.                     |\n",
    "| Favicon                     | A favicon loaded from an external domain (not the main site) can signal phishing.             |\n",
    "| port                        | Use of uncommon or suspicious ports instead of standard ones (80/443).                        |\n",
    "| HTTPS-token                 | Misuse of “https” inside the domain name (e.g., https-login.com) to fake security.            |\n",
    "| Request-URL                 | Percentage of external objects (images, scripts, etc.) loaded from outside domains.           |\n",
    "| URL-of-Anchor               | Percentage of anchor (`<a>`) tags leading to outside or empty links.                          |\n",
    "| Links-in-tags               | Percentage of links inside `<meta>`, `<script>`, and `<link>` tags pointing outside.          |\n",
    "| SFH (Server Form Handler)   | Where a form submits data (if empty or external, suspicious).                                 |\n",
    "| Submitting-to-email         | Forms that submit directly to an email instead of a server.                                   |\n",
    "| Abnormal_URL                | Whether the domain matches its WHOIS registration info (fake mismatch = phishing).            |\n",
    "| Redirect                    | Number of times the site redirects (too many = suspicious).                                   |\n",
    "| On-mouseover                | If hovering changes the link shown in the status bar (a common phishing trick).               |\n",
    "| RightClick                  | Disabling right-click to prevent users from inspecting elements or code.                      |\n",
    "| popUpWindow                 | Presence of pop-ups, often used in scams.                                                     |\n",
    "| Iframe                      | Use of hidden frames (`<iframe>`) to load content secretly from other sites.                  |\n",
    "| Age-of-domain               | Newly created domains are more likely to be phishing.                                         |\n",
    "| DNSRecord                   | Missing or abnormal DNS records may indicate a fake site.                                     |\n",
    "| Web-traffic                 | Very low traffic rank (site is not popular/legitimate).                                       |\n",
    "| Page-Rank                   | Low Google PageRank means the site isn’t trusted.                                             |\n",
    "| Google-Index                | If the site is not indexed by Google, it may be suspicious.                                   |\n",
    "| Links-pointing-to-page      | Few or no inbound links suggest a fake site.                                                  |\n",
    "| Statistical-report          | Matches known phishing/malware sites in public blacklists/statistical reports.                |\n",
    "\n",
    "\n",
    "\n",
    "\n",
    "\n"
   ],
   "metadata": {
    "collapsed": false
   },
   "id": "9e00956dd675ac91"
  },
  {
   "cell_type": "markdown",
   "source": [
    "## 3. Data preparation\n",
    "\n",
    "The data:"
   ],
   "metadata": {
    "collapsed": false
   },
   "id": "331b698d6c2c960b"
  },
  {
   "cell_type": "code",
   "execution_count": null,
   "outputs": [],
   "source": [
    "display(X.head())\n",
    "display(y.head())"
   ],
   "metadata": {
    "collapsed": false
   },
   "id": "efecaa5f1e5d71bf"
  },
  {
   "cell_type": "markdown",
   "source": [
    "Tarkistetaan onko vääriä arvoja seassa. Tulostetaan min ja max arvot"
   ],
   "metadata": {
    "collapsed": false
   },
   "id": "c82b314423de39c"
  },
  {
   "cell_type": "code",
   "execution_count": null,
   "outputs": [],
   "source": [
    "display(X.min())\n",
    "display(X.max())\n"
   ],
   "metadata": {
    "collapsed": false
   },
   "id": "84b1786b789874a1"
  },
  {
   "cell_type": "markdown",
   "source": [
    "Toteamme näin että dataset on valid.\n",
    "Ei tarvitse standardisoida dataa koska teemme päätöspuita."
   ],
   "metadata": {
    "collapsed": false
   },
   "id": "6effbc444ce8c9e0"
  },
  {
   "cell_type": "markdown",
   "source": [
    "## Part 1 Decision tree\n",
    "\n",
    "Your initial goal is to construct a small yet useful decision tree that predicts whether a website is a phishing site or not.\n",
    "\n",
    "The outcome should contain the following:\n",
    "\n",
    "An image of the final decision tree.\n",
    "Evaluation metrics for the decision tree.\n",
    "Written instructions for an internet analyst to manually make the decision of whether the website is likely to be a phishing site or not. The instructions must match one-to-one with your decision tree, and be written in a way that is understandable to an engineer who is aware of the basics of internet technologies."
   ],
   "metadata": {
    "collapsed": false
   },
   "id": "a7075a081826f7d4"
  },
  {
   "cell_type": "markdown",
   "source": [
    "Creating a tree classifier"
   ],
   "metadata": {
    "collapsed": false
   },
   "id": "7ebe1f392158e2a7"
  },
  {
   "cell_type": "code",
   "execution_count": null,
   "outputs": [],
   "source": [
    "import pandas as pd\n",
    "import matplotlib.pyplot as plt\n",
    "from sklearn.model_selection import train_test_split\n",
    "from sklearn.tree import DecisionTreeClassifier, plot_tree  \n",
    "\n",
    "\n",
    "X_train, X_test, y_train, y_test = train_test_split(X, y, test_size = 0.25, random_state=20) # extract test set\n",
    "print(X_train.shape, X_test.shape, y_train.shape, y_test.shape)"
   ],
   "metadata": {
    "collapsed": false
   },
   "id": "5de7d9fe206cb8b1"
  },
  {
   "cell_type": "markdown",
   "source": [
    "### 1.4 Modeling\n",
    "\n",
    "Building a decision tree"
   ],
   "metadata": {
    "collapsed": false
   },
   "id": "d95cbec351a4a9e"
  },
  {
   "cell_type": "code",
   "execution_count": null,
   "outputs": [],
   "source": [
    "tree = DecisionTreeClassifier(max_depth=5, random_state=666, min_impurity_decrease=0.02)\n",
    "tree.fit(X_train, y_train)"
   ],
   "metadata": {
    "collapsed": false
   },
   "id": "210008659c9f947a"
  },
  {
   "cell_type": "markdown",
   "source": [
    "Visualize tree"
   ],
   "metadata": {
    "collapsed": false
   },
   "id": "b16a43799c855999"
  },
  {
   "cell_type": "code",
   "execution_count": null,
   "outputs": [],
   "source": [
    "fig = plt.figure(figsize=(30, 10))\n",
    "plot_tree(\n",
    "    tree,\n",
    "    feature_names=X.keys(),\n",
    "    class_names=[\"Legitimate (-1)\", \"Phishing (1)\"],\n",
    "    fontsize=12  # larger text → larger boxes\n",
    ")\n",
    "plt.show()"
   ],
   "metadata": {
    "collapsed": false
   },
   "id": "75d4e49d4f3ff2c7"
  },
  {
   "cell_type": "markdown",
   "source": [
    "First check if the web page has trusted ssl-certificate. If it does, then the site is not phishing.\n",
    "If site doesn't have a trusted ssl-certificate, then check if the <a> tags in websites html code have different domain than the parent site. If they do, site is a phishing site. If these are correct, then the site is legit."
   ],
   "metadata": {
    "collapsed": false
   },
   "id": "d70d647c063edb38"
  },
  {
   "cell_type": "markdown",
   "source": [
    "### 1.5 Evaluation\n",
    "\n",
    "Test the performance of classifier"
   ],
   "metadata": {
    "collapsed": false
   },
   "id": "96ac729e78f07db8"
  },
  {
   "cell_type": "code",
   "execution_count": null,
   "outputs": [],
   "source": [
    "from sklearn.metrics import confusion_matrix\n",
    "from sklearn.metrics import accuracy_score\n",
    "\n",
    "y_pred2 = tree.predict(X_test)\n",
    "accuracy_test = accuracy_score(y_test, y_pred2)\n",
    "display(f\"Accuracy of tree classifier on the test set: {accuracy_test:.2f}\")\n",
    "confusion_matrix(y_test, y_pred2)"
   ],
   "metadata": {
    "collapsed": false
   },
   "id": "cc3f34174c49f737"
  },
  {
   "cell_type": "code",
   "execution_count": null,
   "outputs": [],
   "source": [
    "from sklearn.metrics import confusion_matrix, ConfusionMatrixDisplay\n",
    "from sklearn.utils.multiclass import unique_labels\n",
    "\n",
    "\n",
    "y_pred = tree.predict(X)\n",
    "labels = unique_labels(y, y_pred)\n",
    "cm = confusion_matrix(y, y_pred)\n",
    "cmd = ConfusionMatrixDisplay(cm, display_labels=labels)\n",
    "cmd.plot(cmap=\"Reds\")"
   ],
   "metadata": {
    "collapsed": false
   },
   "id": "79c4fe05f11acd61"
  },
  {
   "cell_type": "markdown",
   "source": [
    "Puu syvyys 5 oli huonompi ennustamaan --> enemmän virheellisesti ennustettuja arvoja. 10 ennusti paremmin. Tämän vuoksi päädyimme syvyyteen 10."
   ],
   "metadata": {
    "collapsed": false
   },
   "id": "beca529da9ec074d"
  },
  {
   "cell_type": "markdown",
   "source": [
    "## Part 2: Random Forest\n",
    "\n",
    "As our ultimate goal is to build an automated system, we don't have to stick to a single, relatively simple decision tree.\n",
    "\n",
    "We try to tweak the performance of the decision tree by replacing it with a random forest. We may also try to tune the hyperparameters of the random forest to improve the performance."
   ],
   "metadata": {
    "collapsed": false
   },
   "id": "4297373b72dcd92"
  },
  {
   "cell_type": "markdown",
   "source": [
    "### 2.4 Modeling\n",
    "\n",
    "Planting a random forest"
   ],
   "metadata": {
    "collapsed": false
   },
   "id": "f851e51947f6c339"
  },
  {
   "cell_type": "code",
   "execution_count": null,
   "outputs": [],
   "source": [
    "from sklearn.ensemble import RandomForestClassifier\n",
    "\n",
    "forest = RandomForestClassifier(n_estimators=100, bootstrap=True, max_samples=0.7, max_features=0.4, random_state=666, max_depth=10)\n",
    "forest.fit(X, y.values.ravel())\n",
    "\n"
   ],
   "metadata": {
    "collapsed": false
   },
   "id": "25a2bc2db66336f7"
  },
  {
   "cell_type": "markdown",
   "source": [
    "Visualize forest"
   ],
   "metadata": {
    "collapsed": false
   },
   "id": "cb4d11cdda76ae3b"
  },
  {
   "cell_type": "code",
   "execution_count": null,
   "outputs": [],
   "source": [
    "# Number of trees to plot\n",
    "n_trees_to_plot = 5\n",
    "\n",
    "# Create a figure to hold the plots\n",
    "plt.figure(figsize=(20, 10))\n",
    "\n",
    "for i in range(n_trees_to_plot):\n",
    "    plt.subplot(1, n_trees_to_plot, i + 1)  # 1 row and n_trees_to_plot columns\n",
    "    plot_tree(forest.estimators_[i], filled=True,\n",
    "              feature_names=X.columns, class_names=[\"Legitimate (-1)\", \"Phishing (1)\"])\n",
    "    plt.title(f'Tree {i + 1}')\n",
    "\n",
    "plt.tight_layout()\n",
    "plt.show()"
   ],
   "metadata": {
    "collapsed": false
   },
   "id": "a5a2fb8ab77cf6a6"
  },
  {
   "cell_type": "markdown",
   "source": [
    "### 2.5 Evaluation\n",
    "\n",
    "Evaluating the performance of the forest"
   ],
   "metadata": {
    "collapsed": false
   },
   "id": "1c0c6790dec91a7f"
  },
  {
   "cell_type": "code",
   "execution_count": null,
   "outputs": [],
   "source": [
    "y_pred2 = forest.predict(X_test)\n",
    "accuracy_test = accuracy_score(y_test, y_pred2)\n",
    "display(f\"Accuracy of tree classifier on the test set: {accuracy_test:.2f}\")\n",
    "confusion_matrix(y_test, y_pred2)"
   ],
   "metadata": {
    "collapsed": false
   },
   "id": "24c76e65d75631c2"
  },
  {
   "cell_type": "code",
   "execution_count": null,
   "outputs": [],
   "source": [
    "y_pred = forest.predict(X)\n",
    "labels = unique_labels(y, y_pred)\n",
    "cm = confusion_matrix(y, y_pred)\n",
    "cmd = ConfusionMatrixDisplay(cm, display_labels=labels)\n",
    "cmd.plot(cmap=\"Reds\")"
   ],
   "metadata": {
    "collapsed": false
   },
   "id": "5f195d67a4aa6a3"
  },
  {
   "cell_type": "markdown",
   "source": [
    "Huomasimme, että sample_sizea alentamalla, ja puiden kokoa kasvattamalla pääsee parempiin tuloksiin. Saimme parempia tuloksi metsällä, kuin yksittäisellä puulla."
   ],
   "metadata": {
    "collapsed": false
   },
   "id": "b9691f9422c6c05b"
  }
 ],
 "metadata": {
  "kernelspec": {
   "display_name": "Python 3",
   "language": "python",
   "name": "python3"
  },
  "language_info": {
   "codemirror_mode": {
    "name": "ipython",
    "version": 2
   },
   "file_extension": ".py",
   "mimetype": "text/x-python",
   "name": "python",
   "nbconvert_exporter": "python",
   "pygments_lexer": "ipython2",
   "version": "2.7.6"
  }
 },
 "nbformat": 4,
 "nbformat_minor": 5
}
