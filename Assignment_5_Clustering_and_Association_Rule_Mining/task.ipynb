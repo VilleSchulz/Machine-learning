{
 "cells": [
  {
   "cell_type": "markdown",
   "id": "7b2dac7d",
   "metadata": {},
   "source": [
    "# Assignment: Clustering and association rule mining\n",
    "\n",
    "## 1. Business Understanding\n",
    "\n",
    "Another optimization idea is to increase the revenue of the company by recommending products to customers based on their purchase history. For this purpose, the company is looking to use association rule mining to find interesting relationships between products that are frequently purchased together.\n",
    "In the initial phase of the project, the company focuses on 20 internal product groups, and wants to find out which product groups act as triggers for buying items from some other product groups.\n",
    "\n",
    "## Task\n",
    "\n",
    "The task is split into two sub-tasks: finding optimal hub locations and finding interesting relationships between product groups."
   ]
  },
  {
   "cell_type": "markdown",
   "source": [
    "## Task 1: Finding optimal hub locations"
   ],
   "metadata": {
    "collapsed": false
   },
   "id": "55aa3e7f783e280b"
  },
  {
   "cell_type": "markdown",
   "source": [
    "### Business understanding\n",
    "\n",
    "The company has a fleet of drones that deliver products to customers.\n",
    "The company intends to create a set of hubs, or depots, where the drones are stationed, serviced, and loaded with products for delivery.\n",
    "The company is looking to optimize its operations by finding the optimal locations for its hubs."
   ],
   "metadata": {
    "collapsed": false
   },
   "id": "ebb0b4f778ee6d65"
  },
  {
   "cell_type": "markdown",
   "source": [
    "### Data understanding\n",
    "\n",
    "höpöhöpö"
   ],
   "metadata": {
    "collapsed": false
   },
   "id": "c98dcb7c1cc67144"
  },
  {
   "cell_type": "code",
   "execution_count": null,
   "outputs": [],
   "source": [
    "import pandas as pd\n",
    "\n",
    "df = pd.read_csv('drone_cust_locations.csv', sep=\";\")\n",
    "\n",
    "display(df.head())"
   ],
   "metadata": {
    "collapsed": false
   },
   "id": "c8ac5fb17f4940ac"
  },
  {
   "cell_type": "markdown",
   "source": [
    "Datasetti sisältää asiakkaiden id -numerot, sekä x- ja y-koordinaatit. Koordinaatit eivät vaikuta olevan asteellisia koordinaatteja, vaan liukulukuja välillä 0-1000."
   ],
   "metadata": {
    "collapsed": false
   },
   "id": "2aee74020bf8fbda"
  },
  {
   "cell_type": "markdown",
   "source": [
    "### Data preparation"
   ],
   "metadata": {
    "collapsed": false
   },
   "id": "3dba88cf01d3f119"
  },
  {
   "cell_type": "markdown",
   "source": [
    "Here we clean the data by removing the id column."
   ],
   "metadata": {
    "collapsed": false
   },
   "id": "26c65140e1a66787"
  },
  {
   "cell_type": "code",
   "execution_count": null,
   "outputs": [],
   "source": [
    "df.drop(columns=\"clientid\", inplace=True)\n",
    "\n",
    "display(df.head(5))"
   ],
   "metadata": {
    "collapsed": false
   },
   "id": "8f5a7e04c91cafc6"
  },
  {
   "cell_type": "code",
   "execution_count": null,
   "outputs": [],
   "source": [
    "import seaborn as sns\n",
    "\n",
    "sns.scatterplot(data=df, x=\"x\", y=\"y\")"
   ],
   "metadata": {
    "collapsed": false
   },
   "id": "5340d552ec3d7105"
  },
  {
   "cell_type": "markdown",
   "source": [
    "Kuvaajasta voimme päätellä, että asuinalueen lävistää joki, taikka muu asuinkelvoton alue, kuten moottoritie. Kuitenkin tämänkin alueen sisällä on muutama yksittäinen asiakas. "
   ],
   "metadata": {
    "collapsed": false
   },
   "id": "a22c806cf5d2897f"
  },
  {
   "cell_type": "markdown",
   "source": [
    "### Modeling"
   ],
   "metadata": {
    "collapsed": false
   },
   "id": "5885d9efaaa43ef5"
  },
  {
   "cell_type": "markdown",
   "source": [
    "Here we create the K Means clustering for 3 clusters. The model will split the data into 3 clusters for optimal locations of the drone stations."
   ],
   "metadata": {
    "collapsed": false
   },
   "id": "64d48f4f0377d7b8"
  },
  {
   "cell_type": "markdown",
   "source": [
    "Here we added the cluster centers to the dataframe with depot value of \"center\". This allows us to plot the center points of the clusters. We define a function to print out the "
   ],
   "metadata": {
    "collapsed": false
   },
   "id": "b989944617e4fd06"
  },
  {
   "cell_type": "code",
   "execution_count": null,
   "outputs": [],
   "source": [
    "import time\n",
    "import matplotlib.pyplot as plt\n",
    "from sklearn.cluster import KMeans\n",
    "\n",
    "\n",
    "clusters_list = [3, 5, 7, 10]\n",
    "\n",
    "def plot_clusters(num, df):\n",
    "    start_time = time.time()\n",
    "    \n",
    "    dff = df.copy()\n",
    "    \n",
    "    model = KMeans(init=\"random\", n_clusters=num, random_state=123)\n",
    "    \n",
    "    model.fit(dff)\n",
    "    \n",
    "    dff[\"depot\"] = model.labels_\n",
    "    \n",
    "    columns = [\"x\", \"y\"]\n",
    "    centers = pd.DataFrame(model.cluster_centers_, columns=columns)\n",
    "            \n",
    "    sns.scatterplot(data=dff, x=\"x\", y=\"y\", hue=\"depot\", style=\"depot\", palette=\"pastel\")\n",
    "    \n",
    "    sns.scatterplot(data=centers, x=\"x\", y=\"y\", color=\"red\", marker=\"X\", s=150)\n",
    "    \n",
    "    plt.show()\n",
    "    \n",
    "    end_time = time.time()\n",
    "    runtime = end_time - start_time\n",
    "    \n",
    "    display(f\"Runtime: {runtime:.4f} seconds\")\n",
    "    \n",
    "for n in clusters_list:\n",
    "    plot_clusters(n, df)"
   ],
   "metadata": {
    "collapsed": false
   },
   "id": "5cff00a5ffd44ecc"
  },
  {
   "cell_type": "markdown",
   "source": [
    "With more clusters the runtime decreases."
   ],
   "metadata": {
    "collapsed": false
   },
   "id": "b74c66d881ffe277"
  },
  {
   "cell_type": "markdown",
   "source": [
    "### Agglomerative hierarchical clustering"
   ],
   "metadata": {
    "collapsed": false
   },
   "id": "b425f85b96e49716"
  },
  {
   "cell_type": "code",
   "execution_count": null,
   "outputs": [],
   "source": [
    "from sklearn.cluster import AgglomerativeClustering\n",
    "from scipy.cluster.hierarchy import dendrogram, linkage\n",
    "\n",
    "\n",
    "def hierarchical_clustering(num, df):\n",
    "    start_time = time.time()\n",
    "    \n",
    "    dff = df.copy()\n",
    "    \n",
    "    # Agglomerative clustering\n",
    "    model = AgglomerativeClustering(n_clusters=num, metric=\"euclidean\", linkage=\"ward\")\n",
    "    dff[\"depot\"] = model.fit_predict(dff[[\"x\", \"y\"]])\n",
    "    \n",
    "    # Plot\n",
    "    sns.scatterplot(data=dff, x=\"x\", y=\"y\", hue=\"depot\", style=\"depot\", palette=\"pastel\")\n",
    "    plt.title(f\"Agglomerative Clustering with {num} depots\")\n",
    "    plt.show()\n",
    "    \n",
    "    runtime = time.time() - start_time\n",
    "    print(f\"Runtime for {num} depots: {runtime:.4f} seconds\")\n",
    "    \n",
    "for n in clusters_list:\n",
    "    hierarchical_clustering(n, df)\n"
   ],
   "metadata": {
    "collapsed": false
   },
   "id": "7e57035ef04f6680"
  },
  {
   "cell_type": "code",
   "execution_count": null,
   "outputs": [],
   "source": [],
   "metadata": {
    "collapsed": false
   },
   "id": "e56eaa8441a53174"
  }
 ],
 "metadata": {
  "language_info": {
   "name": "python"
  },
  "kernelspec": {
   "name": "python3",
   "language": "python",
   "display_name": "Python 3 (ipykernel)"
  }
 },
 "nbformat": 4,
 "nbformat_minor": 5
}
