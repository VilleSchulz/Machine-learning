{
 "cells": [
  {
   "cell_type": "markdown",
   "id": "7b2dac7d",
   "metadata": {},
   "source": [
    "# Assignment: Clustering and association rule mining\n",
    "\n",
    "## 1. Business Understanding\n",
    "\n",
    "Another optimization idea is to increase the revenue of the company by recommending products to customers based on their purchase history. For this purpose, the company is looking to use association rule mining to find interesting relationships between products that are frequently purchased together.\n",
    "In the initial phase of the project, the company focuses on 20 internal product groups, and wants to find out which product groups act as triggers for buying items from some other product groups.\n",
    "\n",
    "## Task\n",
    "\n",
    "The task is split into two sub-tasks: finding optimal hub locations and finding interesting relationships between product groups."
   ]
  },
  {
   "cell_type": "markdown",
   "source": [
    "## Task 1: Finding optimal hub locations"
   ],
   "metadata": {
    "collapsed": false
   },
   "id": "55aa3e7f783e280b"
  },
  {
   "cell_type": "markdown",
   "source": [
    "### Business understanding\n",
    "\n",
    "The company operates a drone fleet for product delivery and plans to establish depots for stationing, servicing, and loading. The goal is to optimize operations by identifying the best hub locations by analyzing order location data."
   ],
   "metadata": {
    "collapsed": false
   },
   "id": "ebb0b4f778ee6d65"
  },
  {
   "cell_type": "markdown",
   "source": [
    "### Data understanding\n",
    "\n",
    "Here we import the dataset into pandas as a dataframe, and display first 5 rows to check data format."
   ],
   "metadata": {
    "collapsed": false
   },
   "id": "c98dcb7c1cc67144"
  },
  {
   "cell_type": "code",
   "execution_count": null,
   "outputs": [],
   "source": [
    "import pandas as pd\n",
    "\n",
    "df = pd.read_csv('drone_cust_locations.csv', sep=\";\")\n",
    "\n",
    "display(df.head())"
   ],
   "metadata": {
    "collapsed": false
   },
   "id": "c8ac5fb17f4940ac"
  },
  {
   "cell_type": "markdown",
   "source": [
    "The dataset includes customer IDs with corresponding x and y coordinates. The coordinates are expressed as floating-point values in the range 0–1000, rather than in degrees."
   ],
   "metadata": {
    "collapsed": false
   },
   "id": "2aee74020bf8fbda"
  },
  {
   "cell_type": "markdown",
   "source": [
    "### Data preparation"
   ],
   "metadata": {
    "collapsed": false
   },
   "id": "3dba88cf01d3f119"
  },
  {
   "cell_type": "markdown",
   "source": [
    "We clean the data by removing the ID column and then display the results."
   ],
   "metadata": {
    "collapsed": false
   },
   "id": "26c65140e1a66787"
  },
  {
   "cell_type": "code",
   "execution_count": null,
   "outputs": [],
   "source": [
    "df.drop(columns=\"clientid\", inplace=True)\n",
    "\n",
    "display(df.head(5))"
   ],
   "metadata": {
    "collapsed": false
   },
   "id": "8f5a7e04c91cafc6"
  },
  {
   "cell_type": "markdown",
   "source": [
    "Next, we visualize the data using a seaborn scatter plot."
   ],
   "metadata": {
    "collapsed": false
   },
   "id": "c11e5632774a9aad"
  },
  {
   "cell_type": "code",
   "execution_count": null,
   "outputs": [],
   "source": [
    "import seaborn as sns\n",
    "\n",
    "sns.scatterplot(data=df, x=\"x\", y=\"y\")"
   ],
   "metadata": {
    "collapsed": false
   },
   "id": "5340d552ec3d7105"
  },
  {
   "cell_type": "markdown",
   "source": [
    "From the plot, we can see that the residential area is divided by a river or another uninhabitable zone, such as a highway. However, there are still a few individual customers located within this area."
   ],
   "metadata": {
    "collapsed": false
   },
   "id": "a22c806cf5d2897f"
  },
  {
   "cell_type": "markdown",
   "source": [
    "### Modeling"
   ],
   "metadata": {
    "collapsed": false
   },
   "id": "5885d9efaaa43ef5"
  },
  {
   "cell_type": "markdown",
   "source": [
    "We perform K-Means clustering with 3, 5, 7 and 10 clusters to identify optimal locations for the drone stations. Cluster centers are added to the dataframe with a depot value of \"center\", enabling us to plot the cluster centers. A function is also defined to print out the cluster details. We also printed out the runtimes for each plot to see the difference between cluster counts."
   ],
   "metadata": {
    "collapsed": false
   },
   "id": "64d48f4f0377d7b8"
  },
  {
   "cell_type": "code",
   "execution_count": null,
   "outputs": [],
   "source": [
    "import time\n",
    "import matplotlib.pyplot as plt\n",
    "from sklearn.cluster import KMeans\n",
    "\n",
    "clusters_list = [3, 5, 7, 10]\n",
    "\n",
    "def plot_clusters(num, df):\n",
    "    start_time = time.time()\n",
    "    \n",
    "    dff = df.copy()\n",
    "    \n",
    "    model = KMeans(init=\"random\", n_clusters=num, random_state=123)\n",
    "    \n",
    "    model.fit(dff)\n",
    "    \n",
    "    dff[\"depot\"] = model.labels_\n",
    "    \n",
    "    columns = [\"x\", \"y\"]\n",
    "    centers = pd.DataFrame(model.cluster_centers_, columns=columns)\n",
    "            \n",
    "    sns.scatterplot(data=dff, x=\"x\", y=\"y\", hue=\"depot\", style=\"depot\", palette=\"pastel\")\n",
    "    \n",
    "    sns.scatterplot(data=centers, x=\"x\", y=\"y\", color=\"red\", marker=\"X\", s=150)\n",
    "    \n",
    "    plt.show()\n",
    "    \n",
    "    end_time = time.time()\n",
    "    runtime = end_time - start_time\n",
    "    \n",
    "    display(f\"Runtime: {runtime:.4f} seconds\")\n",
    "    \n",
    "for n in clusters_list:\n",
    "    plot_clusters(n, df)"
   ],
   "metadata": {
    "collapsed": false
   },
   "id": "5cff00a5ffd44ecc"
  },
  {
   "cell_type": "markdown",
   "source": [
    "With more clusters the runtime seems to decrease. From the plot we can also see how the clusters form around the uninhabitable zone in the middle."
   ],
   "metadata": {
    "collapsed": false
   },
   "id": "b74c66d881ffe277"
  },
  {
   "cell_type": "markdown",
   "source": [
    "### Evaluation"
   ],
   "metadata": {
    "collapsed": false
   },
   "id": "e350fd9fa70f003"
  },
  {
   "cell_type": "markdown",
   "source": [
    "We evaluate the K-Means results using WCSS (within-cluster sum of squares) for cluster counts ranging from 1 to 10."
   ],
   "metadata": {
    "collapsed": false
   },
   "id": "3da344611243c59f"
  },
  {
   "cell_type": "code",
   "execution_count": null,
   "outputs": [],
   "source": [
    "wcss = []\n",
    "for i in range(1,11):\n",
    "    model = KMeans(init='random', n_clusters=i, random_state=42).fit(df)\n",
    "    wcss.append(model.inertia_)\n",
    "    \n",
    "plt.plot(range(1,11), wcss, 'o-')\n",
    "plt.xlabel('Number of clusters')\n",
    "plt.ylabel('WCSS')\n",
    "plt.show()"
   ],
   "metadata": {
    "collapsed": false
   },
   "id": "535fcfae61d7fdc8"
  },
  {
   "cell_type": "markdown",
   "source": [
    "Based on the graph, 5-6 clusters appear optimal, as the WCSS decreases only marginally beyond this point."
   ],
   "metadata": {
    "collapsed": false
   },
   "id": "2bae98146bef403c"
  },
  {
   "cell_type": "code",
   "execution_count": null,
   "outputs": [],
   "source": [
    "from sklearn.metrics import silhouette_score\n",
    "\n",
    "model = KMeans(init='random', n_clusters=3, random_state=42).fit(df)\n",
    "labels = model.labels_\n",
    "print('Silhouette score = %.2f' % silhouette_score(df, labels))"
   ],
   "metadata": {
    "collapsed": false
   },
   "id": "ea9436d38e8c514a"
  },
  {
   "cell_type": "markdown",
   "source": [
    "This result tells us, that the clustering results are not ideal, but are acceptable. By testing other values, we found no large increase in the score."
   ],
   "metadata": {
    "collapsed": false
   },
   "id": "fc0fc32c91ca20b"
  },
  {
   "cell_type": "markdown",
   "source": [
    "### Agglomerative hierarchical clustering"
   ],
   "metadata": {
    "collapsed": false
   },
   "id": "b425f85b96e49716"
  },
  {
   "cell_type": "markdown",
   "source": [
    "We applied agglomerative clustering to group customers and explore potential locations for drone hubs as an alternative to K-Means."
   ],
   "metadata": {
    "collapsed": false
   },
   "id": "e1850bc81117673d"
  },
  {
   "cell_type": "code",
   "execution_count": null,
   "outputs": [],
   "source": [
    "from sklearn.cluster import AgglomerativeClustering\n",
    "from scipy.cluster.hierarchy import dendrogram, linkage\n",
    "\n",
    "def hierarchical_clustering(num, df):\n",
    "    start_time = time.time()\n",
    "    dff = df.copy()\n",
    "    \n",
    "    # Agglomerative clustering\n",
    "    model = AgglomerativeClustering(n_clusters=num, metric=\"euclidean\", linkage=\"ward\")\n",
    "    dff[\"depot\"] = model.fit_predict(dff[[\"x\", \"y\"]])\n",
    "    \n",
    "    # Plot clusters\n",
    "    sns.scatterplot(data=dff, x=\"x\", y=\"y\", hue=\"depot\", style=\"depot\", palette=\"pastel\")\n",
    "    plt.title(f\"Agglomerative Clustering with {num} depots\")\n",
    "    plt.show()\n",
    "    \n",
    "    runtime = time.time() - start_time\n",
    "    print(f\"Runtime for {num} depots: {runtime:.4f} seconds\")\n",
    "    \n",
    "    # Plot dendrogram\n",
    "    Z = linkage(dff[[\"x\", \"y\"]], method=\"ward\")\n",
    "    plt.figure(figsize=(8, 4))\n",
    "    dendrogram(Z, labels=dff.index.tolist())\n",
    "    plt.title(f\"Dendrogram for {num} depots\")\n",
    "    plt.xlabel(\"Samples\")\n",
    "    plt.ylabel(\"Distance\")\n",
    "    plt.axhline(y=Z[-num+1, 2], color=\"red\", linestyle=\"--\")\n",
    "    plt.show()\n",
    "    \n",
    "for n in clusters_list:\n",
    "    hierarchical_clustering(n, df)\n"
   ],
   "metadata": {
    "collapsed": false
   },
   "id": "7e57035ef04f6680"
  },
  {
   "cell_type": "markdown",
   "source": [
    "From the plots, we can see that depot locations should follow the K-Means results, as hierarchical clustering often identified areas that were not optimally located."
   ],
   "metadata": {
    "collapsed": false
   },
   "id": "23a054f37c2f7c9f"
  },
  {
   "cell_type": "markdown",
   "source": [
    "## Part 2: Finding interesting relationships between product groups"
   ],
   "metadata": {
    "collapsed": false
   },
   "id": "eb79458eb8befee5"
  },
  {
   "cell_type": "markdown",
   "source": [
    "### Business understanding\n",
    "\n",
    "Next we will analyze order info based on different products on order. The idea is to find out correlations between products, and group them up based on order preferences."
   ],
   "metadata": {
    "collapsed": false
   },
   "id": "78a5d71196f62b47"
  },
  {
   "cell_type": "markdown",
   "source": [
    "### Data understanding\n",
    "\n",
    "Now we load a new dataset into a pandas dataframe."
   ],
   "metadata": {
    "collapsed": false
   },
   "id": "a7f4d30aeb797acd"
  },
  {
   "cell_type": "code",
   "execution_count": null,
   "outputs": [],
   "source": [
    "df2 = pd.read_csv('drone_prod_groups.csv')\n",
    "\n",
    "display(df2.head(5))"
   ],
   "metadata": {
    "collapsed": false
   },
   "id": "eb2df317cbc80d7e"
  },
  {
   "cell_type": "markdown",
   "source": [
    "The dataset has binary rows for 20 different products and order id."
   ],
   "metadata": {
    "collapsed": false
   },
   "id": "bb8602dc0512cd88"
  },
  {
   "cell_type": "markdown",
   "source": [
    "### Data preparation"
   ],
   "metadata": {
    "collapsed": false
   },
   "id": "245335a58122d47d"
  },
  {
   "cell_type": "markdown",
   "source": [
    "We prepare the data by replacing zeroes with False and ones with True. This prevents the model creating associations based on the 0 rows and focuses only on the purchased products. We also drop the id column."
   ],
   "metadata": {
    "collapsed": false
   },
   "id": "a6ad771c8b29ab53"
  },
  {
   "cell_type": "code",
   "execution_count": null,
   "outputs": [],
   "source": [
    "df2.replace(0, False, inplace=True)\n",
    "df2.replace(1, True, inplace=True)\n",
    "\n",
    "df2.drop(columns=\"ID\", inplace=True)\n",
    "\n",
    "display(df2.head())"
   ],
   "metadata": {
    "collapsed": false
   },
   "id": "8b254a9fda8333f2"
  },
  {
   "cell_type": "markdown",
   "source": [
    "### Modeling"
   ],
   "metadata": {
    "collapsed": false
   },
   "id": "a8ebd5b1286ec651"
  },
  {
   "cell_type": "markdown",
   "source": [
    "Here we apply the Apriori algorithm to the dataset. we will play around with different values of min_support to get a result that is suitable to continue with."
   ],
   "metadata": {
    "collapsed": false
   },
   "id": "830476217e213866"
  },
  {
   "cell_type": "code",
   "execution_count": null,
   "outputs": [],
   "source": [
    "from mlxtend.frequent_patterns import apriori\n",
    "\n",
    "frequent_itemsets = apriori(df2, min_support=0.005, use_colnames=True)\n",
    "display(frequent_itemsets)"
   ],
   "metadata": {
    "collapsed": false
   },
   "id": "f0d17fd864dd3b16"
  },
  {
   "cell_type": "markdown",
   "source": [
    "We ended up using min_support value of 0.005 to produce a list of item sets containing 339 sets of items."
   ],
   "metadata": {
    "collapsed": false
   },
   "id": "7326d76624a290d"
  },
  {
   "cell_type": "markdown",
   "source": [
    "Next we will generate association rules based on the item sets. Here we will alter the value of min_threshold to produce rules set."
   ],
   "metadata": {
    "collapsed": false
   },
   "id": "f8e83e0d633ecd89"
  },
  {
   "cell_type": "code",
   "execution_count": null,
   "outputs": [],
   "source": [
    "from mlxtend.frequent_patterns import association_rules\n",
    "\n",
    "# generate association rules\n",
    "rules = association_rules(frequent_itemsets, metric='confidence', min_threshold=0.5)\n",
    "\n",
    "# sort in descending order of confidence\n",
    "rules = rules.sort_values(by='confidence', ascending=False)\n",
    "\n",
    "display(rules)"
   ],
   "metadata": {
    "collapsed": false
   },
   "id": "b9aa8551326ecac1"
  },
  {
   "cell_type": "markdown",
   "source": [
    "We made a set of 133 rules based on groupings of orders in the dataset."
   ],
   "metadata": {
    "collapsed": false
   },
   "id": "5aba9dd763f26972"
  },
  {
   "cell_type": "markdown",
   "source": [
    "Next, we group values by lift, which indicates how much more likely an outcome is compared to random chance."
   ],
   "metadata": {
    "collapsed": false
   },
   "id": "e7b746be656ce916"
  },
  {
   "cell_type": "code",
   "execution_count": null,
   "outputs": [],
   "source": [
    "rules = association_rules(frequent_itemsets, metric='lift', min_threshold=0.5)\n",
    "\n",
    "# sort in descending order of lift\n",
    "rules = rules.sort_values(by='lift', ascending=False)\n",
    "\n",
    "display(rules)"
   ],
   "metadata": {
    "collapsed": false
   },
   "id": "26b8aa57c55163d3"
  }
 ],
 "metadata": {
  "language_info": {
   "name": "python"
  },
  "kernelspec": {
   "name": "python3",
   "language": "python",
   "display_name": "Python 3 (ipykernel)"
  }
 },
 "nbformat": 4,
 "nbformat_minor": 5
}
