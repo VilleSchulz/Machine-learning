{
 "cells": [
  {
   "cell_type": "markdown",
   "id": "7b2dac7d",
   "metadata": {},
   "source": [
    "# Assignment: Clustering and association rule mining\n",
    "\n",
    "## 1. Business Understanding\n",
    "\n",
    "The company has a fleet of drones that deliver products to customers.\n",
    "The company intends to create a set of hubs, or depots, where the drones are stationed, serviced, and loaded with products for delivery.\n",
    "The company is looking to optimize its operations by finding the optimal locations for its hubs.\n",
    "\n",
    "Another optimization idea is to increase the revenue of the company by recommending products to customers based on their purchase history. For this purpose, the company is looking to use association rule mining to find interesting relationships between products that are frequently purchased together.\n",
    "In the initial phase of the project, the company focuses on 20 internal product groups, and wants to find out which product groups act as triggers for buying items from some other product groups.\n",
    "\n",
    "## Task\n",
    "\n",
    "The task is split into two sub-tasks: finding optimal hub locations and finding interesting relationships between product groups."
   ]
  }
 ],
 "metadata": {
  "language_info": {
   "name": "python"
  }
 },
 "nbformat": 4,
 "nbformat_minor": 5
}
