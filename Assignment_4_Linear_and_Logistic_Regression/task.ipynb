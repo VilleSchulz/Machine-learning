{
 "cells": [
  {
   "cell_type": "markdown",
   "id": "0cf75b96",
   "metadata": {},
   "source": [
    "# Assignment: Linear and logistic regression\n",
    "\n",
    "## Objectives\n",
    "\n",
    "The objectives of this assignment are:\n",
    "1. to learn to use linear regression for predicting continuously varying target variables \n",
    "2. to learn to use logistic regression for binary classification\n",
    "3. to learn to estimate the relative importance of input features\n",
    "\n",
    "## Setup\n",
    "\n",
    "In this assignment, use the Real Estate Valuation dataset that is available at [https://archive.ics.uci.edu/dataset/477/real+estate+valuation+data+set](https://archive.ics.uci.edu/dataset/477/real+estate+valuation+data+set). The data is collected from New Taipei City, Taiwan. \n",
    "\n",
    "## Task\n",
    "\n",
    "The assignment consists of constructing *two* separate models for predicting the real estate prices in the dataset: one with linear and one with logistic regression.\n",
    "\n",
    "1. **Linear regression model**: construct a linear regression model for predicting the continuous target variable \"Y house price of unit area\" in the dataset.\n",
    "\n",
    "2. **Logistic regression model**: convert the target variable into a binary-valued one according to whether the original target value is above or below the average house price of unit area (within the training set samples), and construct a binary classifier for predicting its value with logistic regression.\n",
    "\n",
    "Both models should be validated, with appropriate metrics presented and discussed. \n",
    "\n",
    "Remember to draw conclusions from your results and interpret your findings! Can you e.g. estimate which of the input variables has the most important role when predicting the house prices, and which ones are less important? Also, give some thought to whether the input data should be standardized before modeling or not. \n",
    "\n",
    "Prepare a Jupyter notebook containing a full account of the problem treatment. Construct your notebook to include sections for each of the six separate stages in the CRISP-DM model, with appropriate contents (include subsections for the two separate tasks in \"Modeling\" and \"Evaluation\").\n",
    "\n",
    "## Deliverables\n",
    "\n",
    "Submit a GitHub permalink that points to the Jupyter notebook as instructed in Oma. The submitted notebook must contain the problem analysis written in accordance with the CRISP-DM process model, complete with Markdown blocks and comments that clearly explain what has been done. \n"
   ]
  },
  {
   "cell_type": "markdown",
   "id": "5f6ec135",
   "metadata": {},
   "source": [
    "## Business Understanding\n",
    "\n",
    "The aim of this assignment is to predict real estate prices using the Real Estate Valuation dataset from New Taipei City, Taiwan. Two models are included: first, a linear regression model to predict the continuous target variable “house price of unit area,” and second, a logistic regression model to classify whether the price is above or below the average value in the training set.\n"
   ]
  },
  {
   "cell_type": "markdown",
   "id": "99672bf9",
   "metadata": {},
   "source": [
    "## Data understanding\n",
    "Dataset is imported from UC Irvine Machine Learning Repository, by using their python package. It consists of real estate valuation data taken from Sindian Dist., New Taipei City, Taiwan.\n"
   ]
  },
  {
   "cell_type": "code",
   "execution_count": null,
   "id": "35db80ee",
   "metadata": {},
   "outputs": [],
   "source": [
    "from ucimlrepo import fetch_ucirepo \n",
    "  \n",
    "# fetch dataset \n",
    "real_estate_valuation = fetch_ucirepo(id=477) \n",
    "  \n",
    "# data (as pandas dataframes) \n",
    "df = real_estate_valuation.data.features \n",
    "\n",
    "# Combining features and target variable into a single dataframe\n",
    "df['Y house price of unit area'] = real_estate_valuation.data.targets\n",
    "display(df.head())\n"
   ]
  },
  {
   "cell_type": "markdown",
   "id": "59801b1f",
   "metadata": {},
   "source": [
    "There are 6 features and one target variable in dataset and 414 instances.\n",
    "Feature types are integer and float.  "
   ]
  },
  {
   "cell_type": "code",
   "execution_count": null,
   "id": "96dd4030",
   "metadata": {},
   "outputs": [],
   "source": [
    "\n",
    "# variable information \n",
    "display(real_estate_valuation.variables) "
   ]
  },
  {
   "cell_type": "code",
   "execution_count": null,
   "id": "1d6a53ce",
   "metadata": {},
   "outputs": [],
   "source": [
    "import matplotlib.pyplot as plt\n",
    "\n",
    "y = df['Y house price of unit area']  # target\n",
    "feature_cols = [c for c in df.columns if c != 'Y house price of unit area']\n",
    "number_of_plots = len(feature_cols)\n",
    "\n",
    "rows, cols = (number_of_plots + 2) // 3, 3  \n",
    "fig, axes = plt.subplots(rows, cols, figsize=(15, 5*rows))\n",
    "axes = axes.flatten()\n",
    "\n",
    "for i, col in enumerate(feature_cols):\n",
    "    X = df[col]\n",
    "    axes[i].scatter(X, y, s=10)\n",
    "    axes[i].set_xlabel(col)\n",
    "    axes[i].set_ylabel('Y House Price of Unit Area')\n",
    "    axes[i].set_title(f\"Plot {i+1}\")\n",
    "    if i >= 3:\n",
    "        break\n",
    "\n",
    "for j in range(i+1, len(axes)):\n",
    "    fig.delaxes(axes[j])\n",
    "\n",
    "plt.tight_layout()\n",
    "plt.show()\n"
   ]
  },
  {
   "cell_type": "markdown",
   "id": "53cdb3f3",
   "metadata": {},
   "source": [
    "From these plots we can see that features doesnt have linear correlation"
   ]
  },
  {
   "cell_type": "markdown",
   "id": "cc39cd09",
   "metadata": {},
   "source": [
    "## Data preparation\n",
    "Here we normalize data"
   ]
  },
  {
   "cell_type": "code",
   "execution_count": null,
   "id": "c667c321",
   "metadata": {},
   "outputs": [],
   "source": [
    "df.drop('ID',axis=1,inplace=True)\n",
    "for col in df.columns:\n",
    "    if df[col].dtype != 'float64':\n",
    "        df[col]=df[col].astype(dtype='float64')\n",
    "\n",
    "df.head()\n"
   ]
  }
 ],
 "metadata": {
  "kernelspec": {
   "display_name": "Python 3",
   "language": "python",
   "name": "python3"
  },
  "language_info": {
   "codemirror_mode": {
    "name": "ipython",
    "version": 3
   },
   "file_extension": ".py",
   "mimetype": "text/x-python",
   "name": "python",
   "nbconvert_exporter": "python",
   "pygments_lexer": "ipython3",
   "version": "3.9.1rc1"
  }
 },
 "nbformat": 4,
 "nbformat_minor": 5
}
