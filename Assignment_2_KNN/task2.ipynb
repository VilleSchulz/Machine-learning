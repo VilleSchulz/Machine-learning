{
 "cells": [
  {
   "cell_type": "markdown",
   "source": [
    "# Assignment 2: KNN luokittelija"
   ],
   "metadata": {
    "collapsed": false
   },
   "id": "f38989190c95101a"
  },
  {
   "cell_type": "markdown",
   "source": [
    "## 1. Business understanding\n",
    "\n",
    "Fetch the diagnostic Wisconsin breast cancer dataset from the link ([https://archive.ics.uci.edu/dataset/17/breast+cancer+wisconsin+diagnostic](https://archive.ics.uci.edu/dataset/17/breast+cancer+wisconsin+diagnostic)) and study the associated description. The problem task consists of building a classifier using the kNN algorithm to predict the binary-valued target variable \"Diagnosis\" in the data. Also, the performance of the classifier must be investigated and reported.  \n",
    "\n"
   ],
   "metadata": {
    "collapsed": false
   },
   "id": "7851747967f109a2"
  },
  {
   "cell_type": "markdown",
   "source": [
    "## 2. Data understanding\n",
    "\n",
    "-Investigate the contents of the dataset and include a brief description of its variables."
   ],
   "metadata": {
    "collapsed": false
   },
   "id": "f0525b64e02925f5"
  },
  {
   "cell_type": "markdown",
   "source": [
    "Here we fetch the dataset using the provided import method for python. We also print metadata for the dataset, and information on contained variables."
   ],
   "metadata": {
    "collapsed": false
   },
   "id": "8314de53703463f1"
  },
  {
   "cell_type": "code",
   "execution_count": 69,
   "outputs": [
    {
     "data": {
      "text/plain": "                  name     role         type demographic description units  \\\n0                   ID       ID  Categorical        None        None  None   \n1            Diagnosis   Target  Categorical        None        None  None   \n2              radius1  Feature   Continuous        None        None  None   \n3             texture1  Feature   Continuous        None        None  None   \n4           perimeter1  Feature   Continuous        None        None  None   \n5                area1  Feature   Continuous        None        None  None   \n6          smoothness1  Feature   Continuous        None        None  None   \n7         compactness1  Feature   Continuous        None        None  None   \n8           concavity1  Feature   Continuous        None        None  None   \n9      concave_points1  Feature   Continuous        None        None  None   \n10           symmetry1  Feature   Continuous        None        None  None   \n11  fractal_dimension1  Feature   Continuous        None        None  None   \n12             radius2  Feature   Continuous        None        None  None   \n13            texture2  Feature   Continuous        None        None  None   \n14          perimeter2  Feature   Continuous        None        None  None   \n15               area2  Feature   Continuous        None        None  None   \n16         smoothness2  Feature   Continuous        None        None  None   \n17        compactness2  Feature   Continuous        None        None  None   \n18          concavity2  Feature   Continuous        None        None  None   \n19     concave_points2  Feature   Continuous        None        None  None   \n20           symmetry2  Feature   Continuous        None        None  None   \n21  fractal_dimension2  Feature   Continuous        None        None  None   \n22             radius3  Feature   Continuous        None        None  None   \n23            texture3  Feature   Continuous        None        None  None   \n24          perimeter3  Feature   Continuous        None        None  None   \n25               area3  Feature   Continuous        None        None  None   \n26         smoothness3  Feature   Continuous        None        None  None   \n27        compactness3  Feature   Continuous        None        None  None   \n28          concavity3  Feature   Continuous        None        None  None   \n29     concave_points3  Feature   Continuous        None        None  None   \n30           symmetry3  Feature   Continuous        None        None  None   \n31  fractal_dimension3  Feature   Continuous        None        None  None   \n\n   missing_values  \n0              no  \n1              no  \n2              no  \n3              no  \n4              no  \n5              no  \n6              no  \n7              no  \n8              no  \n9              no  \n10             no  \n11             no  \n12             no  \n13             no  \n14             no  \n15             no  \n16             no  \n17             no  \n18             no  \n19             no  \n20             no  \n21             no  \n22             no  \n23             no  \n24             no  \n25             no  \n26             no  \n27             no  \n28             no  \n29             no  \n30             no  \n31             no  ",
      "text/html": "<div>\n<style scoped>\n    .dataframe tbody tr th:only-of-type {\n        vertical-align: middle;\n    }\n\n    .dataframe tbody tr th {\n        vertical-align: top;\n    }\n\n    .dataframe thead th {\n        text-align: right;\n    }\n</style>\n<table border=\"1\" class=\"dataframe\">\n  <thead>\n    <tr style=\"text-align: right;\">\n      <th></th>\n      <th>name</th>\n      <th>role</th>\n      <th>type</th>\n      <th>demographic</th>\n      <th>description</th>\n      <th>units</th>\n      <th>missing_values</th>\n    </tr>\n  </thead>\n  <tbody>\n    <tr>\n      <th>0</th>\n      <td>ID</td>\n      <td>ID</td>\n      <td>Categorical</td>\n      <td>None</td>\n      <td>None</td>\n      <td>None</td>\n      <td>no</td>\n    </tr>\n    <tr>\n      <th>1</th>\n      <td>Diagnosis</td>\n      <td>Target</td>\n      <td>Categorical</td>\n      <td>None</td>\n      <td>None</td>\n      <td>None</td>\n      <td>no</td>\n    </tr>\n    <tr>\n      <th>2</th>\n      <td>radius1</td>\n      <td>Feature</td>\n      <td>Continuous</td>\n      <td>None</td>\n      <td>None</td>\n      <td>None</td>\n      <td>no</td>\n    </tr>\n    <tr>\n      <th>3</th>\n      <td>texture1</td>\n      <td>Feature</td>\n      <td>Continuous</td>\n      <td>None</td>\n      <td>None</td>\n      <td>None</td>\n      <td>no</td>\n    </tr>\n    <tr>\n      <th>4</th>\n      <td>perimeter1</td>\n      <td>Feature</td>\n      <td>Continuous</td>\n      <td>None</td>\n      <td>None</td>\n      <td>None</td>\n      <td>no</td>\n    </tr>\n    <tr>\n      <th>5</th>\n      <td>area1</td>\n      <td>Feature</td>\n      <td>Continuous</td>\n      <td>None</td>\n      <td>None</td>\n      <td>None</td>\n      <td>no</td>\n    </tr>\n    <tr>\n      <th>6</th>\n      <td>smoothness1</td>\n      <td>Feature</td>\n      <td>Continuous</td>\n      <td>None</td>\n      <td>None</td>\n      <td>None</td>\n      <td>no</td>\n    </tr>\n    <tr>\n      <th>7</th>\n      <td>compactness1</td>\n      <td>Feature</td>\n      <td>Continuous</td>\n      <td>None</td>\n      <td>None</td>\n      <td>None</td>\n      <td>no</td>\n    </tr>\n    <tr>\n      <th>8</th>\n      <td>concavity1</td>\n      <td>Feature</td>\n      <td>Continuous</td>\n      <td>None</td>\n      <td>None</td>\n      <td>None</td>\n      <td>no</td>\n    </tr>\n    <tr>\n      <th>9</th>\n      <td>concave_points1</td>\n      <td>Feature</td>\n      <td>Continuous</td>\n      <td>None</td>\n      <td>None</td>\n      <td>None</td>\n      <td>no</td>\n    </tr>\n    <tr>\n      <th>10</th>\n      <td>symmetry1</td>\n      <td>Feature</td>\n      <td>Continuous</td>\n      <td>None</td>\n      <td>None</td>\n      <td>None</td>\n      <td>no</td>\n    </tr>\n    <tr>\n      <th>11</th>\n      <td>fractal_dimension1</td>\n      <td>Feature</td>\n      <td>Continuous</td>\n      <td>None</td>\n      <td>None</td>\n      <td>None</td>\n      <td>no</td>\n    </tr>\n    <tr>\n      <th>12</th>\n      <td>radius2</td>\n      <td>Feature</td>\n      <td>Continuous</td>\n      <td>None</td>\n      <td>None</td>\n      <td>None</td>\n      <td>no</td>\n    </tr>\n    <tr>\n      <th>13</th>\n      <td>texture2</td>\n      <td>Feature</td>\n      <td>Continuous</td>\n      <td>None</td>\n      <td>None</td>\n      <td>None</td>\n      <td>no</td>\n    </tr>\n    <tr>\n      <th>14</th>\n      <td>perimeter2</td>\n      <td>Feature</td>\n      <td>Continuous</td>\n      <td>None</td>\n      <td>None</td>\n      <td>None</td>\n      <td>no</td>\n    </tr>\n    <tr>\n      <th>15</th>\n      <td>area2</td>\n      <td>Feature</td>\n      <td>Continuous</td>\n      <td>None</td>\n      <td>None</td>\n      <td>None</td>\n      <td>no</td>\n    </tr>\n    <tr>\n      <th>16</th>\n      <td>smoothness2</td>\n      <td>Feature</td>\n      <td>Continuous</td>\n      <td>None</td>\n      <td>None</td>\n      <td>None</td>\n      <td>no</td>\n    </tr>\n    <tr>\n      <th>17</th>\n      <td>compactness2</td>\n      <td>Feature</td>\n      <td>Continuous</td>\n      <td>None</td>\n      <td>None</td>\n      <td>None</td>\n      <td>no</td>\n    </tr>\n    <tr>\n      <th>18</th>\n      <td>concavity2</td>\n      <td>Feature</td>\n      <td>Continuous</td>\n      <td>None</td>\n      <td>None</td>\n      <td>None</td>\n      <td>no</td>\n    </tr>\n    <tr>\n      <th>19</th>\n      <td>concave_points2</td>\n      <td>Feature</td>\n      <td>Continuous</td>\n      <td>None</td>\n      <td>None</td>\n      <td>None</td>\n      <td>no</td>\n    </tr>\n    <tr>\n      <th>20</th>\n      <td>symmetry2</td>\n      <td>Feature</td>\n      <td>Continuous</td>\n      <td>None</td>\n      <td>None</td>\n      <td>None</td>\n      <td>no</td>\n    </tr>\n    <tr>\n      <th>21</th>\n      <td>fractal_dimension2</td>\n      <td>Feature</td>\n      <td>Continuous</td>\n      <td>None</td>\n      <td>None</td>\n      <td>None</td>\n      <td>no</td>\n    </tr>\n    <tr>\n      <th>22</th>\n      <td>radius3</td>\n      <td>Feature</td>\n      <td>Continuous</td>\n      <td>None</td>\n      <td>None</td>\n      <td>None</td>\n      <td>no</td>\n    </tr>\n    <tr>\n      <th>23</th>\n      <td>texture3</td>\n      <td>Feature</td>\n      <td>Continuous</td>\n      <td>None</td>\n      <td>None</td>\n      <td>None</td>\n      <td>no</td>\n    </tr>\n    <tr>\n      <th>24</th>\n      <td>perimeter3</td>\n      <td>Feature</td>\n      <td>Continuous</td>\n      <td>None</td>\n      <td>None</td>\n      <td>None</td>\n      <td>no</td>\n    </tr>\n    <tr>\n      <th>25</th>\n      <td>area3</td>\n      <td>Feature</td>\n      <td>Continuous</td>\n      <td>None</td>\n      <td>None</td>\n      <td>None</td>\n      <td>no</td>\n    </tr>\n    <tr>\n      <th>26</th>\n      <td>smoothness3</td>\n      <td>Feature</td>\n      <td>Continuous</td>\n      <td>None</td>\n      <td>None</td>\n      <td>None</td>\n      <td>no</td>\n    </tr>\n    <tr>\n      <th>27</th>\n      <td>compactness3</td>\n      <td>Feature</td>\n      <td>Continuous</td>\n      <td>None</td>\n      <td>None</td>\n      <td>None</td>\n      <td>no</td>\n    </tr>\n    <tr>\n      <th>28</th>\n      <td>concavity3</td>\n      <td>Feature</td>\n      <td>Continuous</td>\n      <td>None</td>\n      <td>None</td>\n      <td>None</td>\n      <td>no</td>\n    </tr>\n    <tr>\n      <th>29</th>\n      <td>concave_points3</td>\n      <td>Feature</td>\n      <td>Continuous</td>\n      <td>None</td>\n      <td>None</td>\n      <td>None</td>\n      <td>no</td>\n    </tr>\n    <tr>\n      <th>30</th>\n      <td>symmetry3</td>\n      <td>Feature</td>\n      <td>Continuous</td>\n      <td>None</td>\n      <td>None</td>\n      <td>None</td>\n      <td>no</td>\n    </tr>\n    <tr>\n      <th>31</th>\n      <td>fractal_dimension3</td>\n      <td>Feature</td>\n      <td>Continuous</td>\n      <td>None</td>\n      <td>None</td>\n      <td>None</td>\n      <td>no</td>\n    </tr>\n  </tbody>\n</table>\n</div>"
     },
     "metadata": {},
     "output_type": "display_data"
    },
    {
     "data": {
      "text/plain": "numpy.ndarray"
     },
     "metadata": {},
     "output_type": "display_data"
    }
   ],
   "source": [
    "from ucimlrepo import fetch_ucirepo \n",
    "  \n",
    "# fetch dataset \n",
    "breast_cancer_wisconsin_diagnostic = fetch_ucirepo(id=17) \n",
    "  \n",
    "# data (as pandas dataframes) \n",
    "X = breast_cancer_wisconsin_diagnostic.data.features \n",
    "y = breast_cancer_wisconsin_diagnostic.data.targets.values.ravel()\n",
    "  \n",
    "# variable information \n",
    "display(breast_cancer_wisconsin_diagnostic.variables)\n",
    "\n",
    "display(type(y))"
   ],
   "metadata": {
    "collapsed": false,
    "ExecuteTime": {
     "end_time": "2025-09-02T14:19:01.553634100Z",
     "start_time": "2025-09-02T14:18:57.468337900Z"
    }
   },
   "id": "887f685c2f8cced"
  },
  {
   "cell_type": "markdown",
   "source": [
    "The variables contained in this dataset are:\n",
    "    1) ID number\n",
    "    2) Diagnosis (M = malignant, B = benign) \n",
    "\t3) radius (mean of distances from center to points on the perimeter)\n",
    "\t4) texture (standard deviation of gray-scale values)\n",
    "\t5) perimeter\n",
    "\t6) area\n",
    "\t7) smoothness (local variation in radius lengths)\n",
    "\t8) compactness (perimeter^2 / area - 1.0)\n",
    "\t9) concavity (severity of concave portions of the contour)\n",
    "\t10) concave points (number of concave portions of the contour)\n",
    "\t11) symmetry \n",
    "\t12) fractal dimension (\"coastline approximation\" - 1)\n",
    "\t\n",
    "Measurements provided are taken in three planes, with 1-3 included in variable names."
   ],
   "metadata": {
    "collapsed": false
   },
   "id": "b5bb255817f35b9e"
  },
  {
   "cell_type": "markdown",
   "source": [
    "## 3. Data preparation\n",
    "\n",
    "Here we apply standardization to the numerical values of the input variables."
   ],
   "metadata": {
    "collapsed": false
   },
   "id": "c6780dccb2db921a"
  },
  {
   "cell_type": "code",
   "execution_count": 70,
   "outputs": [
    {
     "data": {
      "text/plain": "    radius1  texture1  perimeter1     area1  smoothness1  compactness1  \\\n0  1.097064 -2.073335    1.269934  0.984375     1.568466      3.283515   \n1  1.829821 -0.353632    1.685955  1.908708    -0.826962     -0.487072   \n2  1.579888  0.456187    1.566503  1.558884     0.942210      1.052926   \n3 -0.768909  0.253732   -0.592687 -0.764464     3.283553      3.402909   \n4  1.750297 -1.151816    1.776573  1.826229     0.280372      0.539340   \n\n   concavity1  concave_points1  symmetry1  fractal_dimension1   radius2  \\\n0    2.652874         2.532475   2.217515            2.255747  2.489734   \n1   -0.023846         0.548144   0.001392           -0.868652  0.499255   \n2    1.363478         2.037231   0.939685           -0.398008  1.228676   \n3    1.915897         1.451707   2.867383            4.910919  0.326373   \n4    1.371011         1.428493  -0.009560           -0.562450  1.270543   \n\n   texture2  perimeter2     area2  smoothness2  compactness2  concavity2  \\\n0 -0.565265    2.833031  2.487578    -0.214002      1.316862    0.724026   \n1 -0.876244    0.263327  0.742402    -0.605351     -0.692926   -0.440780   \n2 -0.780083    0.850928  1.181336    -0.297005      0.814974    0.213076   \n3 -0.110409    0.286593 -0.288378     0.689702      2.744280    0.819518   \n4 -0.790244    1.273189  1.190357     1.483067     -0.048520    0.828471   \n\n   concave_points2  symmetry2  fractal_dimension2   radius3  texture3  \\\n0         0.660820   1.148757            0.907083  1.886690 -1.359293   \n1         0.260162  -0.805450           -0.099444  1.805927 -0.369203   \n2         1.424827   0.237036            0.293559  1.511870 -0.023974   \n3         1.115007   4.732680            2.047511 -0.281464  0.133984   \n4         1.144205  -0.361092            0.499328  1.298575 -1.466770   \n\n   perimeter3     area3  smoothness3  compactness3  concavity3  \\\n0    2.303601  2.001237     1.307686      2.616665    2.109526   \n1    1.535126  1.890489    -0.375612     -0.430444   -0.146749   \n2    1.347475  1.456285     0.527407      1.082932    0.854974   \n3   -0.249939 -0.550021     3.394275      3.893397    1.989588   \n4    1.338539  1.220724     0.220556     -0.313395    0.613179   \n\n   concave_points3  symmetry3  fractal_dimension3  \n0         2.296076   2.750622            1.937015  \n1         1.087084  -0.243890            0.281190  \n2         1.955000   1.152255            0.201391  \n3         2.175786   6.046041            4.935010  \n4         0.729259  -0.868353           -0.397100  ",
      "text/html": "<div>\n<style scoped>\n    .dataframe tbody tr th:only-of-type {\n        vertical-align: middle;\n    }\n\n    .dataframe tbody tr th {\n        vertical-align: top;\n    }\n\n    .dataframe thead th {\n        text-align: right;\n    }\n</style>\n<table border=\"1\" class=\"dataframe\">\n  <thead>\n    <tr style=\"text-align: right;\">\n      <th></th>\n      <th>radius1</th>\n      <th>texture1</th>\n      <th>perimeter1</th>\n      <th>area1</th>\n      <th>smoothness1</th>\n      <th>compactness1</th>\n      <th>concavity1</th>\n      <th>concave_points1</th>\n      <th>symmetry1</th>\n      <th>fractal_dimension1</th>\n      <th>radius2</th>\n      <th>texture2</th>\n      <th>perimeter2</th>\n      <th>area2</th>\n      <th>smoothness2</th>\n      <th>compactness2</th>\n      <th>concavity2</th>\n      <th>concave_points2</th>\n      <th>symmetry2</th>\n      <th>fractal_dimension2</th>\n      <th>radius3</th>\n      <th>texture3</th>\n      <th>perimeter3</th>\n      <th>area3</th>\n      <th>smoothness3</th>\n      <th>compactness3</th>\n      <th>concavity3</th>\n      <th>concave_points3</th>\n      <th>symmetry3</th>\n      <th>fractal_dimension3</th>\n    </tr>\n  </thead>\n  <tbody>\n    <tr>\n      <th>0</th>\n      <td>1.097064</td>\n      <td>-2.073335</td>\n      <td>1.269934</td>\n      <td>0.984375</td>\n      <td>1.568466</td>\n      <td>3.283515</td>\n      <td>2.652874</td>\n      <td>2.532475</td>\n      <td>2.217515</td>\n      <td>2.255747</td>\n      <td>2.489734</td>\n      <td>-0.565265</td>\n      <td>2.833031</td>\n      <td>2.487578</td>\n      <td>-0.214002</td>\n      <td>1.316862</td>\n      <td>0.724026</td>\n      <td>0.660820</td>\n      <td>1.148757</td>\n      <td>0.907083</td>\n      <td>1.886690</td>\n      <td>-1.359293</td>\n      <td>2.303601</td>\n      <td>2.001237</td>\n      <td>1.307686</td>\n      <td>2.616665</td>\n      <td>2.109526</td>\n      <td>2.296076</td>\n      <td>2.750622</td>\n      <td>1.937015</td>\n    </tr>\n    <tr>\n      <th>1</th>\n      <td>1.829821</td>\n      <td>-0.353632</td>\n      <td>1.685955</td>\n      <td>1.908708</td>\n      <td>-0.826962</td>\n      <td>-0.487072</td>\n      <td>-0.023846</td>\n      <td>0.548144</td>\n      <td>0.001392</td>\n      <td>-0.868652</td>\n      <td>0.499255</td>\n      <td>-0.876244</td>\n      <td>0.263327</td>\n      <td>0.742402</td>\n      <td>-0.605351</td>\n      <td>-0.692926</td>\n      <td>-0.440780</td>\n      <td>0.260162</td>\n      <td>-0.805450</td>\n      <td>-0.099444</td>\n      <td>1.805927</td>\n      <td>-0.369203</td>\n      <td>1.535126</td>\n      <td>1.890489</td>\n      <td>-0.375612</td>\n      <td>-0.430444</td>\n      <td>-0.146749</td>\n      <td>1.087084</td>\n      <td>-0.243890</td>\n      <td>0.281190</td>\n    </tr>\n    <tr>\n      <th>2</th>\n      <td>1.579888</td>\n      <td>0.456187</td>\n      <td>1.566503</td>\n      <td>1.558884</td>\n      <td>0.942210</td>\n      <td>1.052926</td>\n      <td>1.363478</td>\n      <td>2.037231</td>\n      <td>0.939685</td>\n      <td>-0.398008</td>\n      <td>1.228676</td>\n      <td>-0.780083</td>\n      <td>0.850928</td>\n      <td>1.181336</td>\n      <td>-0.297005</td>\n      <td>0.814974</td>\n      <td>0.213076</td>\n      <td>1.424827</td>\n      <td>0.237036</td>\n      <td>0.293559</td>\n      <td>1.511870</td>\n      <td>-0.023974</td>\n      <td>1.347475</td>\n      <td>1.456285</td>\n      <td>0.527407</td>\n      <td>1.082932</td>\n      <td>0.854974</td>\n      <td>1.955000</td>\n      <td>1.152255</td>\n      <td>0.201391</td>\n    </tr>\n    <tr>\n      <th>3</th>\n      <td>-0.768909</td>\n      <td>0.253732</td>\n      <td>-0.592687</td>\n      <td>-0.764464</td>\n      <td>3.283553</td>\n      <td>3.402909</td>\n      <td>1.915897</td>\n      <td>1.451707</td>\n      <td>2.867383</td>\n      <td>4.910919</td>\n      <td>0.326373</td>\n      <td>-0.110409</td>\n      <td>0.286593</td>\n      <td>-0.288378</td>\n      <td>0.689702</td>\n      <td>2.744280</td>\n      <td>0.819518</td>\n      <td>1.115007</td>\n      <td>4.732680</td>\n      <td>2.047511</td>\n      <td>-0.281464</td>\n      <td>0.133984</td>\n      <td>-0.249939</td>\n      <td>-0.550021</td>\n      <td>3.394275</td>\n      <td>3.893397</td>\n      <td>1.989588</td>\n      <td>2.175786</td>\n      <td>6.046041</td>\n      <td>4.935010</td>\n    </tr>\n    <tr>\n      <th>4</th>\n      <td>1.750297</td>\n      <td>-1.151816</td>\n      <td>1.776573</td>\n      <td>1.826229</td>\n      <td>0.280372</td>\n      <td>0.539340</td>\n      <td>1.371011</td>\n      <td>1.428493</td>\n      <td>-0.009560</td>\n      <td>-0.562450</td>\n      <td>1.270543</td>\n      <td>-0.790244</td>\n      <td>1.273189</td>\n      <td>1.190357</td>\n      <td>1.483067</td>\n      <td>-0.048520</td>\n      <td>0.828471</td>\n      <td>1.144205</td>\n      <td>-0.361092</td>\n      <td>0.499328</td>\n      <td>1.298575</td>\n      <td>-1.466770</td>\n      <td>1.338539</td>\n      <td>1.220724</td>\n      <td>0.220556</td>\n      <td>-0.313395</td>\n      <td>0.613179</td>\n      <td>0.729259</td>\n      <td>-0.868353</td>\n      <td>-0.397100</td>\n    </tr>\n  </tbody>\n</table>\n</div>"
     },
     "metadata": {},
     "output_type": "display_data"
    }
   ],
   "source": [
    "import pandas as pd\n",
    "from sklearn.preprocessing import StandardScaler\n",
    "\n",
    "scaler = StandardScaler()\n",
    "X_scaled = pd.DataFrame(scaler.fit_transform(X), columns=X.columns)\n",
    "\n",
    "display(X_scaled.head())"
   ],
   "metadata": {
    "collapsed": false,
    "ExecuteTime": {
     "end_time": "2025-09-02T14:19:01.686960400Z",
     "start_time": "2025-09-02T14:19:01.559991Z"
    }
   },
   "id": "d9b4b0517df52b74"
  },
  {
   "cell_type": "markdown",
   "source": [
    "By standardizing values we make sure that large values don't skew the learning process of the model based on high-value columns."
   ],
   "metadata": {
    "collapsed": false
   },
   "id": "534b2923fa0fffa4"
  },
  {
   "cell_type": "markdown",
   "source": [
    "## 4. Modeling\n",
    "\n",
    "Here we extract 70% of the data for training data, and 30% of the data for testing. We chose k value of 5 for best results.\n"
   ],
   "metadata": {
    "collapsed": false
   },
   "id": "5f5c6e5be74fe9b"
  },
  {
   "cell_type": "code",
   "execution_count": 71,
   "outputs": [
    {
     "data": {
      "text/plain": "KNeighborsClassifier(n_neighbors=9)",
      "text/html": "<style>#sk-container-id-4 {\n  /* Definition of color scheme common for light and dark mode */\n  --sklearn-color-text: #000;\n  --sklearn-color-text-muted: #666;\n  --sklearn-color-line: gray;\n  /* Definition of color scheme for unfitted estimators */\n  --sklearn-color-unfitted-level-0: #fff5e6;\n  --sklearn-color-unfitted-level-1: #f6e4d2;\n  --sklearn-color-unfitted-level-2: #ffe0b3;\n  --sklearn-color-unfitted-level-3: chocolate;\n  /* Definition of color scheme for fitted estimators */\n  --sklearn-color-fitted-level-0: #f0f8ff;\n  --sklearn-color-fitted-level-1: #d4ebff;\n  --sklearn-color-fitted-level-2: #b3dbfd;\n  --sklearn-color-fitted-level-3: cornflowerblue;\n\n  /* Specific color for light theme */\n  --sklearn-color-text-on-default-background: var(--sg-text-color, var(--theme-code-foreground, var(--jp-content-font-color1, black)));\n  --sklearn-color-background: var(--sg-background-color, var(--theme-background, var(--jp-layout-color0, white)));\n  --sklearn-color-border-box: var(--sg-text-color, var(--theme-code-foreground, var(--jp-content-font-color1, black)));\n  --sklearn-color-icon: #696969;\n\n  @media (prefers-color-scheme: dark) {\n    /* Redefinition of color scheme for dark theme */\n    --sklearn-color-text-on-default-background: var(--sg-text-color, var(--theme-code-foreground, var(--jp-content-font-color1, white)));\n    --sklearn-color-background: var(--sg-background-color, var(--theme-background, var(--jp-layout-color0, #111)));\n    --sklearn-color-border-box: var(--sg-text-color, var(--theme-code-foreground, var(--jp-content-font-color1, white)));\n    --sklearn-color-icon: #878787;\n  }\n}\n\n#sk-container-id-4 {\n  color: var(--sklearn-color-text);\n}\n\n#sk-container-id-4 pre {\n  padding: 0;\n}\n\n#sk-container-id-4 input.sk-hidden--visually {\n  border: 0;\n  clip: rect(1px 1px 1px 1px);\n  clip: rect(1px, 1px, 1px, 1px);\n  height: 1px;\n  margin: -1px;\n  overflow: hidden;\n  padding: 0;\n  position: absolute;\n  width: 1px;\n}\n\n#sk-container-id-4 div.sk-dashed-wrapped {\n  border: 1px dashed var(--sklearn-color-line);\n  margin: 0 0.4em 0.5em 0.4em;\n  box-sizing: border-box;\n  padding-bottom: 0.4em;\n  background-color: var(--sklearn-color-background);\n}\n\n#sk-container-id-4 div.sk-container {\n  /* jupyter's `normalize.less` sets `[hidden] { display: none; }`\n     but bootstrap.min.css set `[hidden] { display: none !important; }`\n     so we also need the `!important` here to be able to override the\n     default hidden behavior on the sphinx rendered scikit-learn.org.\n     See: https://github.com/scikit-learn/scikit-learn/issues/21755 */\n  display: inline-block !important;\n  position: relative;\n}\n\n#sk-container-id-4 div.sk-text-repr-fallback {\n  display: none;\n}\n\ndiv.sk-parallel-item,\ndiv.sk-serial,\ndiv.sk-item {\n  /* draw centered vertical line to link estimators */\n  background-image: linear-gradient(var(--sklearn-color-text-on-default-background), var(--sklearn-color-text-on-default-background));\n  background-size: 2px 100%;\n  background-repeat: no-repeat;\n  background-position: center center;\n}\n\n/* Parallel-specific style estimator block */\n\n#sk-container-id-4 div.sk-parallel-item::after {\n  content: \"\";\n  width: 100%;\n  border-bottom: 2px solid var(--sklearn-color-text-on-default-background);\n  flex-grow: 1;\n}\n\n#sk-container-id-4 div.sk-parallel {\n  display: flex;\n  align-items: stretch;\n  justify-content: center;\n  background-color: var(--sklearn-color-background);\n  position: relative;\n}\n\n#sk-container-id-4 div.sk-parallel-item {\n  display: flex;\n  flex-direction: column;\n}\n\n#sk-container-id-4 div.sk-parallel-item:first-child::after {\n  align-self: flex-end;\n  width: 50%;\n}\n\n#sk-container-id-4 div.sk-parallel-item:last-child::after {\n  align-self: flex-start;\n  width: 50%;\n}\n\n#sk-container-id-4 div.sk-parallel-item:only-child::after {\n  width: 0;\n}\n\n/* Serial-specific style estimator block */\n\n#sk-container-id-4 div.sk-serial {\n  display: flex;\n  flex-direction: column;\n  align-items: center;\n  background-color: var(--sklearn-color-background);\n  padding-right: 1em;\n  padding-left: 1em;\n}\n\n\n/* Toggleable style: style used for estimator/Pipeline/ColumnTransformer box that is\nclickable and can be expanded/collapsed.\n- Pipeline and ColumnTransformer use this feature and define the default style\n- Estimators will overwrite some part of the style using the `sk-estimator` class\n*/\n\n/* Pipeline and ColumnTransformer style (default) */\n\n#sk-container-id-4 div.sk-toggleable {\n  /* Default theme specific background. It is overwritten whether we have a\n  specific estimator or a Pipeline/ColumnTransformer */\n  background-color: var(--sklearn-color-background);\n}\n\n/* Toggleable label */\n#sk-container-id-4 label.sk-toggleable__label {\n  cursor: pointer;\n  display: flex;\n  width: 100%;\n  margin-bottom: 0;\n  padding: 0.5em;\n  box-sizing: border-box;\n  text-align: center;\n  align-items: start;\n  justify-content: space-between;\n  gap: 0.5em;\n}\n\n#sk-container-id-4 label.sk-toggleable__label .caption {\n  font-size: 0.6rem;\n  font-weight: lighter;\n  color: var(--sklearn-color-text-muted);\n}\n\n#sk-container-id-4 label.sk-toggleable__label-arrow:before {\n  /* Arrow on the left of the label */\n  content: \"▸\";\n  float: left;\n  margin-right: 0.25em;\n  color: var(--sklearn-color-icon);\n}\n\n#sk-container-id-4 label.sk-toggleable__label-arrow:hover:before {\n  color: var(--sklearn-color-text);\n}\n\n/* Toggleable content - dropdown */\n\n#sk-container-id-4 div.sk-toggleable__content {\n  max-height: 0;\n  max-width: 0;\n  overflow: hidden;\n  text-align: left;\n  /* unfitted */\n  background-color: var(--sklearn-color-unfitted-level-0);\n}\n\n#sk-container-id-4 div.sk-toggleable__content.fitted {\n  /* fitted */\n  background-color: var(--sklearn-color-fitted-level-0);\n}\n\n#sk-container-id-4 div.sk-toggleable__content pre {\n  margin: 0.2em;\n  border-radius: 0.25em;\n  color: var(--sklearn-color-text);\n  /* unfitted */\n  background-color: var(--sklearn-color-unfitted-level-0);\n}\n\n#sk-container-id-4 div.sk-toggleable__content.fitted pre {\n  /* unfitted */\n  background-color: var(--sklearn-color-fitted-level-0);\n}\n\n#sk-container-id-4 input.sk-toggleable__control:checked~div.sk-toggleable__content {\n  /* Expand drop-down */\n  max-height: 200px;\n  max-width: 100%;\n  overflow: auto;\n}\n\n#sk-container-id-4 input.sk-toggleable__control:checked~label.sk-toggleable__label-arrow:before {\n  content: \"▾\";\n}\n\n/* Pipeline/ColumnTransformer-specific style */\n\n#sk-container-id-4 div.sk-label input.sk-toggleable__control:checked~label.sk-toggleable__label {\n  color: var(--sklearn-color-text);\n  background-color: var(--sklearn-color-unfitted-level-2);\n}\n\n#sk-container-id-4 div.sk-label.fitted input.sk-toggleable__control:checked~label.sk-toggleable__label {\n  background-color: var(--sklearn-color-fitted-level-2);\n}\n\n/* Estimator-specific style */\n\n/* Colorize estimator box */\n#sk-container-id-4 div.sk-estimator input.sk-toggleable__control:checked~label.sk-toggleable__label {\n  /* unfitted */\n  background-color: var(--sklearn-color-unfitted-level-2);\n}\n\n#sk-container-id-4 div.sk-estimator.fitted input.sk-toggleable__control:checked~label.sk-toggleable__label {\n  /* fitted */\n  background-color: var(--sklearn-color-fitted-level-2);\n}\n\n#sk-container-id-4 div.sk-label label.sk-toggleable__label,\n#sk-container-id-4 div.sk-label label {\n  /* The background is the default theme color */\n  color: var(--sklearn-color-text-on-default-background);\n}\n\n/* On hover, darken the color of the background */\n#sk-container-id-4 div.sk-label:hover label.sk-toggleable__label {\n  color: var(--sklearn-color-text);\n  background-color: var(--sklearn-color-unfitted-level-2);\n}\n\n/* Label box, darken color on hover, fitted */\n#sk-container-id-4 div.sk-label.fitted:hover label.sk-toggleable__label.fitted {\n  color: var(--sklearn-color-text);\n  background-color: var(--sklearn-color-fitted-level-2);\n}\n\n/* Estimator label */\n\n#sk-container-id-4 div.sk-label label {\n  font-family: monospace;\n  font-weight: bold;\n  display: inline-block;\n  line-height: 1.2em;\n}\n\n#sk-container-id-4 div.sk-label-container {\n  text-align: center;\n}\n\n/* Estimator-specific */\n#sk-container-id-4 div.sk-estimator {\n  font-family: monospace;\n  border: 1px dotted var(--sklearn-color-border-box);\n  border-radius: 0.25em;\n  box-sizing: border-box;\n  margin-bottom: 0.5em;\n  /* unfitted */\n  background-color: var(--sklearn-color-unfitted-level-0);\n}\n\n#sk-container-id-4 div.sk-estimator.fitted {\n  /* fitted */\n  background-color: var(--sklearn-color-fitted-level-0);\n}\n\n/* on hover */\n#sk-container-id-4 div.sk-estimator:hover {\n  /* unfitted */\n  background-color: var(--sklearn-color-unfitted-level-2);\n}\n\n#sk-container-id-4 div.sk-estimator.fitted:hover {\n  /* fitted */\n  background-color: var(--sklearn-color-fitted-level-2);\n}\n\n/* Specification for estimator info (e.g. \"i\" and \"?\") */\n\n/* Common style for \"i\" and \"?\" */\n\n.sk-estimator-doc-link,\na:link.sk-estimator-doc-link,\na:visited.sk-estimator-doc-link {\n  float: right;\n  font-size: smaller;\n  line-height: 1em;\n  font-family: monospace;\n  background-color: var(--sklearn-color-background);\n  border-radius: 1em;\n  height: 1em;\n  width: 1em;\n  text-decoration: none !important;\n  margin-left: 0.5em;\n  text-align: center;\n  /* unfitted */\n  border: var(--sklearn-color-unfitted-level-1) 1pt solid;\n  color: var(--sklearn-color-unfitted-level-1);\n}\n\n.sk-estimator-doc-link.fitted,\na:link.sk-estimator-doc-link.fitted,\na:visited.sk-estimator-doc-link.fitted {\n  /* fitted */\n  border: var(--sklearn-color-fitted-level-1) 1pt solid;\n  color: var(--sklearn-color-fitted-level-1);\n}\n\n/* On hover */\ndiv.sk-estimator:hover .sk-estimator-doc-link:hover,\n.sk-estimator-doc-link:hover,\ndiv.sk-label-container:hover .sk-estimator-doc-link:hover,\n.sk-estimator-doc-link:hover {\n  /* unfitted */\n  background-color: var(--sklearn-color-unfitted-level-3);\n  color: var(--sklearn-color-background);\n  text-decoration: none;\n}\n\ndiv.sk-estimator.fitted:hover .sk-estimator-doc-link.fitted:hover,\n.sk-estimator-doc-link.fitted:hover,\ndiv.sk-label-container:hover .sk-estimator-doc-link.fitted:hover,\n.sk-estimator-doc-link.fitted:hover {\n  /* fitted */\n  background-color: var(--sklearn-color-fitted-level-3);\n  color: var(--sklearn-color-background);\n  text-decoration: none;\n}\n\n/* Span, style for the box shown on hovering the info icon */\n.sk-estimator-doc-link span {\n  display: none;\n  z-index: 9999;\n  position: relative;\n  font-weight: normal;\n  right: .2ex;\n  padding: .5ex;\n  margin: .5ex;\n  width: min-content;\n  min-width: 20ex;\n  max-width: 50ex;\n  color: var(--sklearn-color-text);\n  box-shadow: 2pt 2pt 4pt #999;\n  /* unfitted */\n  background: var(--sklearn-color-unfitted-level-0);\n  border: .5pt solid var(--sklearn-color-unfitted-level-3);\n}\n\n.sk-estimator-doc-link.fitted span {\n  /* fitted */\n  background: var(--sklearn-color-fitted-level-0);\n  border: var(--sklearn-color-fitted-level-3);\n}\n\n.sk-estimator-doc-link:hover span {\n  display: block;\n}\n\n/* \"?\"-specific style due to the `<a>` HTML tag */\n\n#sk-container-id-4 a.estimator_doc_link {\n  float: right;\n  font-size: 1rem;\n  line-height: 1em;\n  font-family: monospace;\n  background-color: var(--sklearn-color-background);\n  border-radius: 1rem;\n  height: 1rem;\n  width: 1rem;\n  text-decoration: none;\n  /* unfitted */\n  color: var(--sklearn-color-unfitted-level-1);\n  border: var(--sklearn-color-unfitted-level-1) 1pt solid;\n}\n\n#sk-container-id-4 a.estimator_doc_link.fitted {\n  /* fitted */\n  border: var(--sklearn-color-fitted-level-1) 1pt solid;\n  color: var(--sklearn-color-fitted-level-1);\n}\n\n/* On hover */\n#sk-container-id-4 a.estimator_doc_link:hover {\n  /* unfitted */\n  background-color: var(--sklearn-color-unfitted-level-3);\n  color: var(--sklearn-color-background);\n  text-decoration: none;\n}\n\n#sk-container-id-4 a.estimator_doc_link.fitted:hover {\n  /* fitted */\n  background-color: var(--sklearn-color-fitted-level-3);\n}\n</style><div id=\"sk-container-id-4\" class=\"sk-top-container\"><div class=\"sk-text-repr-fallback\"><pre>KNeighborsClassifier(n_neighbors=9)</pre><b>In a Jupyter environment, please rerun this cell to show the HTML representation or trust the notebook. <br />On GitHub, the HTML representation is unable to render, please try loading this page with nbviewer.org.</b></div><div class=\"sk-container\" hidden><div class=\"sk-item\"><div class=\"sk-estimator fitted sk-toggleable\"><input class=\"sk-toggleable__control sk-hidden--visually\" id=\"sk-estimator-id-4\" type=\"checkbox\" checked><label for=\"sk-estimator-id-4\" class=\"sk-toggleable__label fitted sk-toggleable__label-arrow\"><div><div>KNeighborsClassifier</div></div><div><a class=\"sk-estimator-doc-link fitted\" rel=\"noreferrer\" target=\"_blank\" href=\"https://scikit-learn.org/1.6/modules/generated/sklearn.neighbors.KNeighborsClassifier.html\">?<span>Documentation for KNeighborsClassifier</span></a><span class=\"sk-estimator-doc-link fitted\">i<span>Fitted</span></span></div></label><div class=\"sk-toggleable__content fitted\"><pre>KNeighborsClassifier(n_neighbors=9)</pre></div> </div></div></div></div>"
     },
     "execution_count": 71,
     "metadata": {},
     "output_type": "execute_result"
    }
   ],
   "source": [
    "from sklearn.model_selection import train_test_split\n",
    "from sklearn.neighbors import KNeighborsClassifier\n",
    "from sklearn.metrics import accuracy_score\n",
    "\n",
    "# Splitting dataset for training and testing data\n",
    "X_train, X_test, y_train, y_test = train_test_split(X, y, test_size=0.3, random_state=666)\n",
    "\n",
    "# Creating the classifier\n",
    "knn = KNeighborsClassifier(n_neighbors=9)\n",
    "\n",
    "# Training\n",
    "knn.fit(X_train, y_train)"
   ],
   "metadata": {
    "collapsed": false,
    "ExecuteTime": {
     "end_time": "2025-09-02T14:19:01.715965500Z",
     "start_time": "2025-09-02T14:19:01.607962500Z"
    }
   },
   "id": "46d427fe85b3c7f7"
  },
  {
   "cell_type": "markdown",
   "source": [
    "## 5. Evaluation\n",
    "\n",
    "-Testing the performance of the classifier and present the associated confusion matrix together with the most common evaluation metrics (accuracy, precision and recall)."
   ],
   "metadata": {
    "collapsed": false
   },
   "id": "2083a5d9eff875b6"
  },
  {
   "cell_type": "code",
   "execution_count": 72,
   "outputs": [
    {
     "name": "stdout",
     "output_type": "stream",
     "text": [
      "Accuracy of kNN classifier on the test set: 0.95\n"
     ]
    }
   ],
   "source": [
    "# testing the predictions\n",
    "y_pred = knn.predict(X_test)\n",
    "\n",
    "# Calculate and print the accuracy of the classifier on the test set\n",
    "accuracy_test = accuracy_score(y_test, y_pred)\n",
    "print(f\"Accuracy of kNN classifier on the test set: {accuracy_test:.2f}\")"
   ],
   "metadata": {
    "collapsed": false,
    "ExecuteTime": {
     "end_time": "2025-09-02T14:19:01.718964Z",
     "start_time": "2025-09-02T14:19:01.617969200Z"
    }
   },
   "id": "3fb0c1604c205346"
  },
  {
   "cell_type": "markdown",
   "source": [],
   "metadata": {
    "collapsed": false
   },
   "id": "31e66700e4279d87"
  },
  {
   "cell_type": "markdown",
   "source": [
    "The accuracy for the model is 95%."
   ],
   "metadata": {
    "collapsed": false
   },
   "id": "75860fedba66e5be"
  },
  {
   "cell_type": "code",
   "execution_count": 73,
   "outputs": [
    {
     "data": {
      "text/plain": "<sklearn.metrics._plot.confusion_matrix.ConfusionMatrixDisplay at 0x20af2402fd0>"
     },
     "execution_count": 73,
     "metadata": {},
     "output_type": "execute_result"
    },
    {
     "data": {
      "text/plain": "<Figure size 640x480 with 2 Axes>",
      "image/png": "[encoded data removed]"
     },
     "metadata": {},
     "output_type": "display_data"
    }
   ],
   "source": [
    "from sklearn.metrics import confusion_matrix, ConfusionMatrixDisplay\n",
    "from sklearn.utils.multiclass import unique_labels\n",
    "\n",
    "labels = unique_labels(y, y_pred)\n",
    "y_pred = knn.predict(X_scaled)\n",
    "cm = confusion_matrix(y, y_pred)\n",
    "cmd = ConfusionMatrixDisplay(cm, display_labels=labels)\n",
    "cmd.plot(cmap=\"Reds\")"
   ],
   "metadata": {
    "collapsed": false,
    "ExecuteTime": {
     "end_time": "2025-09-02T14:19:01.959540Z",
     "start_time": "2025-09-02T14:19:01.665962500Z"
    }
   },
   "id": "6b6035d8f53b8ed8"
  },
  {
   "cell_type": "markdown",
   "source": [
    "## 6. Deployment"
   ],
   "metadata": {
    "collapsed": false
   },
   "id": "40c4586e149f45ed"
  }
 ],
 "metadata": {
  "kernelspec": {
   "display_name": "Python 3",
   "language": "python",
   "name": "python3"
  },
  "language_info": {
   "codemirror_mode": {
    "name": "ipython",
    "version": 2
   },
   "file_extension": ".py",
   "mimetype": "text/x-python",
   "name": "python",
   "nbconvert_exporter": "python",
   "pygments_lexer": "ipython2",
   "version": "2.7.6"
  }
 },
 "nbformat": 4,
 "nbformat_minor": 5
}
