{
 "cells": [
  {
   "cell_type": "markdown",
   "source": [
    "# Projektityö\n",
    "\n",
    "### Tavoite\n",
    "\n",
    " Projektityön tavoitteena on oppia soveltamaan koneoppimis-/tiedonlouhintamenetelmiä todellisiin tietoaineistoihin. Projektityö kattaa kaikki tiedonlouhinnan vaiheet tavoitteiden asettelusta johtopäätöksiin.\n",
    " \n",
    "Kyseessä on ryhmätehtävä.\n",
    "\n",
    "### Tehtävä\n",
    "\n",
    "Valitkaa tutkimuksenne kohteeksi haluamanne tietoaineisto. Kyseessä voi olla jokin verkon datapankeista löytyvä tietoaineisto tai muulla tavoin (esim. web-louhinnan tekniikoin) kerätty aineisto.\n",
    "\n",
    "Projektityössä noudatetaan CRISP-DM-mallia. Tutkimuskysymykset saatte keksiä itse.\n",
    "\n",
    " Työ alkaa tavoitteenasettelusta. Valitkaa aluksi teitä kiinnostavat tutkimuskysymykset: mitä ennalta tuntematonta haluatte saada aineistostanne selville (CRISP-DM-mallin vaihe 1)?\n",
    " \n",
    "Kuvatkaa aineistonne (vaihe 2) ja esikäsitelkää se (vaihe 3) valitsemienne analyysimenetelmien vaatimaan muotoon. Analysoikaa aineisto soveltuvin menetelmin (vaihe 4),tulkitkaa tulokset (vaihe 5) ja kuvatkaa, millä tavoin tuloksia voi hyödyntää (vaihe 6).\n",
    "\n",
    "## Tuotokset\n",
    "\n",
    "Viimeisellä viikolla pidetään seminaaritilaisuus, jossa kukin tiimi esittelee projektinsa saavutukset.\n",
    "\n",
    " Esityksen lisäksi tuotoksena palautetaan:\n",
    " \n",
    "- linkki havainnolliseen ja esityskelpoiseen Jupyter Notebookina toteutettuun analyysiraporttiin, jossa kuvataan ja toteutetaan tiedonlouhintaprosessin eteneminen CRISP-DMmallin mukaisesti.\n",
    "\n",
    "## Arviointi\n",
    "\n",
    " Projektityön perusteella voi saada 25% kurssin kokonaispistemäärästä. Työstä saatavaan piste\n",
    "määrään vaikuttavat seuraavat seikat:\n",
    "\n",
    "- kysymyksenasettelun haastavuus ja omaleimaisuus\n",
    "- aineiston soveltuvuus asetettuihin tutkimuskysymyksiin\n",
    "- aineiston käsittelyn (keruu, esikäsittely, analyysi) tekninen oikeellisuus ja innovatiivisuus\n",
    "- tulosten kuvaaminen ja oikea tulkinta sekä tehtyjen johtopäätösten perustelu\n",
    "- dokumenttien ymmärrettävyys ja kattavuus\n",
    "- seminaariesityksen laatu"
   ],
   "metadata": {
    "collapsed": false
   },
   "id": "aa75c5415c0ba143"
  },
  {
   "cell_type": "markdown",
   "source": [],
   "metadata": {
    "collapsed": false
   },
   "id": "4cd688520c210d45"
  }
 ],
 "metadata": {
  "kernelspec": {
   "display_name": "Python 3",
   "language": "python",
   "name": "python3"
  },
  "language_info": {
   "codemirror_mode": {
    "name": "ipython",
    "version": 2
   },
   "file_extension": ".py",
   "mimetype": "text/x-python",
   "name": "python",
   "nbconvert_exporter": "python",
   "pygments_lexer": "ipython2",
   "version": "2.7.6"
  }
 },
 "nbformat": 4,
 "nbformat_minor": 5
}
