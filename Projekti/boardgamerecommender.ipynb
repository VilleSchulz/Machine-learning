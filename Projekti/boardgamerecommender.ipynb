{
 "cells": [
  {
   "cell_type": "markdown",
   "id": "c81e98924bf071a7",
   "metadata": {
    "collapsed": false
   },
   "source": [
    "# Boardgame Recommender"
   ]
  },
  {
   "cell_type": "markdown",
   "id": "a4c9cc9a54ec6412",
   "metadata": {
    "collapsed": false
   },
   "source": [
    "## 1. Business Understanding\n",
    "\n",
    "**BoardGameGeek** is a comprehensive online database that catalogues over 125,600 board games, providing access to reviews, discussion forums, and detailed information on individual titles. It is widely recognized as the most extensive repository of board game data available. In addition to serving as an information resource, the platform enables users to rate games on a 1–10 scale and to manage their personal game collections.\n",
    "\n",
    "The aim of this project is to build a recommender system that uses data gathered from BoardGameGeek to generate board game recommendations based on user ratings. \n",
    "-item based collaborative filtering\n",
    "Recomendations for selected user"
   ]
  },
  {
   "cell_type": "markdown",
   "id": "c3681d2cd75bb9c3",
   "metadata": {
    "collapsed": false
   },
   "source": [
    "## 2. Data Understanding\n",
    "\n",
    "Feature-rich multi-table dataset full of interesting information about Board Games:\n",
    "[Board Games Database (BoardGameGeek, Kaggle)](https://www.kaggle.com/datasets/threnjen/board-games-database-from-boardgamegeek)\n",
    "\n",
    "This data set includes nine potential files for exploration and/or modeling. The files are as follows:\n",
    "\n",
    "- GAMES - the basic information file with 47 features about each of 22k board games. Primary key is BGGId which is the BoardGameGeek game id.\n",
    "- RATINGS_DISTRIBTION - includes full ratings distribution for each BGGId\n",
    "- THEMES - table of themes for each BGGId\n",
    "- MECHANICS - table of mechanics with binary flags per BGGId\n",
    "- SUBCATEGORIES - table of subcategories with binary flags per BGGId\n",
    "- ARTISTS_REDUCED - gives artist information for each BGGId. This file is reduced to artists with >3 works, with a binary flag indicating the game included an artist with <= 3 works\n",
    "- DESIGNERS_REDUCED - gives designer information for each BGGId. This file is reduced to designers with >3 works, with a binary flag indicating the game included a designer with <= 3 works\n",
    "- PUBLISHERS_REDUCED - gives publisher information for each BGGId. This file is reduced to publishers with >3 works, with a binary flag indicating the game included a publisher with <= 3 works\n",
    "- USER_RATINGS - has all ratings for all BGGId with username. There are over 411k unique users and ~19 million ratings. Use in recommender system.\n",
    "\n",
    "Source for the dataset:  \n",
    "[BoardGameGeek](https://boardgamegeek.com/)\n"
   ]
  },
  {
   "cell_type": "markdown",
   "id": "dad0ff0c9fdf9af8",
   "metadata": {
    "collapsed": false
   },
   "source": [
    "kerrotaan miten importataan data Data is imported from the kagglehub "
   ]
  },
  {
   "cell_type": "code",
   "execution_count": 75,
   "outputs": [],
   "source": [
    "# Install dependencies as needed:\n",
    "# pip install kagglehub[pandas-datasets]\n",
    "import kagglehub\n",
    "import os\n",
    "import pandas as pd\n",
    "\n",
    "path = kagglehub.dataset_download(\"threnjen/board-games-database-from-boardgamegeek\")\n",
    "\n",
    "#TODO: tuo vaan ne mitä päädytään käyttämään, laita omiin blokkeihin ja selitykset ekaksi markdownina\n",
    "\n",
    "# df_artists = pd.read_csv(os.path.join(path, \"artists_reduced.csv\"))\n",
    "# display(df_artists.head())\n",
    "# \n",
    "# df_designers = pd.read_csv(os.path.join(path, \"designers_reduced.csv\"))\n",
    "# display(df_designers.head())\n",
    "\n",
    "\n",
    "\n",
    "# df_mechanics = pd.read_csv(os.path.join(path, \"mechanics.csv\"))\n",
    "# display(df_mechanics.head())\n",
    "# \n",
    "# df_publishers = pd.read_csv(os.path.join(path, \"publishers_reduced.csv\"))\n",
    "# display(df_publishers.head())\n",
    "\n",
    "# df_ratings_distribution = pd.read_csv(os.path.join(path, \"ratings_distribution.csv\"))\n",
    "# display(df_ratings_distribution.head())\n",
    "\n",
    "# df_subcategories = pd.read_csv(os.path.join(path, \"subcategories.csv\"))\n",
    "# display(df_subcategories.head())\n",
    "\n",
    "# df_themes = pd.read_csv(os.path.join(path, \"themes.csv\"))\n",
    "# display(df_themes.head())\n",
    "\n",
    "\n",
    "\n",
    "# For the documentation file, just preview as text (not tabular)\n",
    "# with open(os.path.join(path, \"bgg_data_documentation.txt\"), \"r\", encoding=\"utf-8\") as f:\n",
    "#     bgg_documentation = f.read()\n",
    "# print(bgg_documentation[:500])  # first 500 characters"
   ],
   "metadata": {
    "collapsed": false,
    "ExecuteTime": {
     "end_time": "2025-10-06T14:34:15.984088500Z",
     "start_time": "2025-10-06T14:34:15.546367200Z"
    }
   },
   "id": "42725a4f7a3b8792"
  },
  {
   "cell_type": "code",
   "execution_count": 76,
   "outputs": [
    {
     "data": {
      "text/plain": "   BGGId            Name                                        Description  \\\n0      1      Die Macher  die macher game seven sequential political rac...   \n1      2    Dragonmaster  dragonmaster tricktaking card game base old ga...   \n2      3         Samurai  samurai set medieval japan player compete gain...   \n3      4  Tal der Könige  triangular box luxurious large block tal der k...   \n4      5         Acquire  acquire player strategically invest business t...   \n\n   YearPublished  GameWeight  AvgRating  BayesAvgRating   StdDev  MinPlayers  \\\n0           1986      4.3206    7.61428         7.10363  1.57979           3   \n1           1981      1.9630    6.64537         5.78447  1.45440           3   \n2           1998      2.4859    7.45601         7.23994  1.18227           2   \n3           1992      2.6667    6.60006         5.67954  1.23129           2   \n4           1964      2.5031    7.33861         7.14189  1.33583           2   \n\n   MaxPlayers  ...  Rank:partygames  Rank:childrensgames  Cat:Thematic  \\\n0           5  ...            21926                21926             0   \n1           4  ...            21926                21926             0   \n2           4  ...            21926                21926             0   \n3           4  ...            21926                21926             0   \n4           6  ...            21926                21926             0   \n\n  Cat:Strategy  Cat:War  Cat:Family  Cat:CGS  Cat:Abstract  Cat:Party  \\\n0            1        0           0        0             0          0   \n1            1        0           0        0             0          0   \n2            1        0           0        0             0          0   \n3            0        0           0        0             0          0   \n4            1        0           0        0             0          0   \n\n   Cat:Childrens  \n0              0  \n1              0  \n2              0  \n3              0  \n4              0  \n\n[5 rows x 48 columns]",
      "text/html": "<div>\n<style scoped>\n    .dataframe tbody tr th:only-of-type {\n        vertical-align: middle;\n    }\n\n    .dataframe tbody tr th {\n        vertical-align: top;\n    }\n\n    .dataframe thead th {\n        text-align: right;\n    }\n</style>\n<table border=\"1\" class=\"dataframe\">\n  <thead>\n    <tr style=\"text-align: right;\">\n      <th></th>\n      <th>BGGId</th>\n      <th>Name</th>\n      <th>Description</th>\n      <th>YearPublished</th>\n      <th>GameWeight</th>\n      <th>AvgRating</th>\n      <th>BayesAvgRating</th>\n      <th>StdDev</th>\n      <th>MinPlayers</th>\n      <th>MaxPlayers</th>\n      <th>...</th>\n      <th>Rank:partygames</th>\n      <th>Rank:childrensgames</th>\n      <th>Cat:Thematic</th>\n      <th>Cat:Strategy</th>\n      <th>Cat:War</th>\n      <th>Cat:Family</th>\n      <th>Cat:CGS</th>\n      <th>Cat:Abstract</th>\n      <th>Cat:Party</th>\n      <th>Cat:Childrens</th>\n    </tr>\n  </thead>\n  <tbody>\n    <tr>\n      <th>0</th>\n      <td>1</td>\n      <td>Die Macher</td>\n      <td>die macher game seven sequential political rac...</td>\n      <td>1986</td>\n      <td>4.3206</td>\n      <td>7.61428</td>\n      <td>7.10363</td>\n      <td>1.57979</td>\n      <td>3</td>\n      <td>5</td>\n      <td>...</td>\n      <td>21926</td>\n      <td>21926</td>\n      <td>0</td>\n      <td>1</td>\n      <td>0</td>\n      <td>0</td>\n      <td>0</td>\n      <td>0</td>\n      <td>0</td>\n      <td>0</td>\n    </tr>\n    <tr>\n      <th>1</th>\n      <td>2</td>\n      <td>Dragonmaster</td>\n      <td>dragonmaster tricktaking card game base old ga...</td>\n      <td>1981</td>\n      <td>1.9630</td>\n      <td>6.64537</td>\n      <td>5.78447</td>\n      <td>1.45440</td>\n      <td>3</td>\n      <td>4</td>\n      <td>...</td>\n      <td>21926</td>\n      <td>21926</td>\n      <td>0</td>\n      <td>1</td>\n      <td>0</td>\n      <td>0</td>\n      <td>0</td>\n      <td>0</td>\n      <td>0</td>\n      <td>0</td>\n    </tr>\n    <tr>\n      <th>2</th>\n      <td>3</td>\n      <td>Samurai</td>\n      <td>samurai set medieval japan player compete gain...</td>\n      <td>1998</td>\n      <td>2.4859</td>\n      <td>7.45601</td>\n      <td>7.23994</td>\n      <td>1.18227</td>\n      <td>2</td>\n      <td>4</td>\n      <td>...</td>\n      <td>21926</td>\n      <td>21926</td>\n      <td>0</td>\n      <td>1</td>\n      <td>0</td>\n      <td>0</td>\n      <td>0</td>\n      <td>0</td>\n      <td>0</td>\n      <td>0</td>\n    </tr>\n    <tr>\n      <th>3</th>\n      <td>4</td>\n      <td>Tal der Könige</td>\n      <td>triangular box luxurious large block tal der k...</td>\n      <td>1992</td>\n      <td>2.6667</td>\n      <td>6.60006</td>\n      <td>5.67954</td>\n      <td>1.23129</td>\n      <td>2</td>\n      <td>4</td>\n      <td>...</td>\n      <td>21926</td>\n      <td>21926</td>\n      <td>0</td>\n      <td>0</td>\n      <td>0</td>\n      <td>0</td>\n      <td>0</td>\n      <td>0</td>\n      <td>0</td>\n      <td>0</td>\n    </tr>\n    <tr>\n      <th>4</th>\n      <td>5</td>\n      <td>Acquire</td>\n      <td>acquire player strategically invest business t...</td>\n      <td>1964</td>\n      <td>2.5031</td>\n      <td>7.33861</td>\n      <td>7.14189</td>\n      <td>1.33583</td>\n      <td>2</td>\n      <td>6</td>\n      <td>...</td>\n      <td>21926</td>\n      <td>21926</td>\n      <td>0</td>\n      <td>1</td>\n      <td>0</td>\n      <td>0</td>\n      <td>0</td>\n      <td>0</td>\n      <td>0</td>\n      <td>0</td>\n    </tr>\n  </tbody>\n</table>\n<p>5 rows × 48 columns</p>\n</div>"
     },
     "metadata": {},
     "output_type": "display_data"
    }
   ],
   "source": [
    "df_games = pd.read_csv(os.path.join(path, \"games.csv\"))\n",
    "display(df_games.head())"
   ],
   "metadata": {
    "collapsed": false,
    "ExecuteTime": {
     "end_time": "2025-10-06T14:34:16.580770Z",
     "start_time": "2025-10-06T14:34:15.989089400Z"
    }
   },
   "id": "63d8da4501ecbc7c"
  },
  {
   "cell_type": "markdown",
   "source": [
    "TODO df games plot? validate data"
   ],
   "metadata": {
    "collapsed": false
   },
   "id": "2130150bf66df9dc"
  },
  {
   "cell_type": "code",
   "execution_count": 77,
   "outputs": [
    {
     "data": {
      "text/plain": "    BGGId  Rating     Username\n0  213788     8.0    Tonydorrf\n1  213788     8.0   tachyon14k\n2  213788     8.0     Ungotter\n3  213788     8.0  brainlocki3\n4  213788     8.0         PPMP",
      "text/html": "<div>\n<style scoped>\n    .dataframe tbody tr th:only-of-type {\n        vertical-align: middle;\n    }\n\n    .dataframe tbody tr th {\n        vertical-align: top;\n    }\n\n    .dataframe thead th {\n        text-align: right;\n    }\n</style>\n<table border=\"1\" class=\"dataframe\">\n  <thead>\n    <tr style=\"text-align: right;\">\n      <th></th>\n      <th>BGGId</th>\n      <th>Rating</th>\n      <th>Username</th>\n    </tr>\n  </thead>\n  <tbody>\n    <tr>\n      <th>0</th>\n      <td>213788</td>\n      <td>8.0</td>\n      <td>Tonydorrf</td>\n    </tr>\n    <tr>\n      <th>1</th>\n      <td>213788</td>\n      <td>8.0</td>\n      <td>tachyon14k</td>\n    </tr>\n    <tr>\n      <th>2</th>\n      <td>213788</td>\n      <td>8.0</td>\n      <td>Ungotter</td>\n    </tr>\n    <tr>\n      <th>3</th>\n      <td>213788</td>\n      <td>8.0</td>\n      <td>brainlocki3</td>\n    </tr>\n    <tr>\n      <th>4</th>\n      <td>213788</td>\n      <td>8.0</td>\n      <td>PPMP</td>\n    </tr>\n  </tbody>\n</table>\n</div>"
     },
     "metadata": {},
     "output_type": "display_data"
    }
   ],
   "source": [
    "df_user_ratings = pd.read_csv(os.path.join(path, \"user_ratings.csv\"))\n",
    "display(df_user_ratings.head())"
   ],
   "metadata": {
    "collapsed": false,
    "ExecuteTime": {
     "end_time": "2025-10-06T14:34:23.862448100Z",
     "start_time": "2025-10-06T14:34:16.569768800Z"
    }
   },
   "id": "57e68c083395b7e"
  },
  {
   "cell_type": "markdown",
   "source": [
    "TODO df rating plot\n",
    "validate data\n"
   ],
   "metadata": {
    "collapsed": false
   },
   "id": "5c5275a76dda6aa"
  },
  {
   "cell_type": "markdown",
   "id": "eb906b1f9929b47c",
   "metadata": {
    "collapsed": false
   },
   "source": [
    "GAMES\n",
    "\tBGGId\t\t\tBoardGameGeek game ID\n",
    "\tName\t\t\tName of game\n",
    "\tDescription\t\tDescription, stripped of punctuation and lemmatized\n",
    "\tYearPublished\t\tFirst year game published\n",
    "\tGameWeight\t\tGame difficulty/complexity\n",
    "\tAvgRating\t\tAverage user rating for game\n",
    "\tBayesAvgRating\t\tBayes weighted average for game (x # of average reviews applied)\n",
    "\tStdDev\t\t\tStandard deviation of Bayes Avg\n",
    "\tMinPlayers\t\tMinimum number of players\n",
    "\tMaxPlayers\t\tMaximun number of players\n",
    "\tComAgeRec\t\tCommunity's recommended age minimum\n",
    "\tLanguageEase\t\tLanguage requirement\n",
    "\tBestPlayers\t\tCommunity voted best player count\n",
    "\tGoodPlayers\t\tList of community voted good plater counts\n",
    "\tNumOwned\t\tNumber of users who own this game\n",
    "\tNumWant\t\t\tNumber of users who want this game\n",
    "\tNumWish\t\t\tNumber of users who wishlisted this game\n",
    "\tNumWeightVotes\t\t? Unknown\n",
    "\tMfgPlayTime\t\tManufacturer Stated Play Time\n",
    "\tComMinPlaytime\t\tCommunity minimum play time\n",
    "\tComMaxPlaytime\t\tCommunity maximum play time\n",
    "\tMfgAgeRec\t\tManufacturer Age Recommendation\n",
    "\tNumUserRatings\t\tNumber of user ratings\n",
    "\tNumComments\t\tNumber of user comments\n",
    "\tNumAlternates\t\tNumber of alternate versions\n",
    "\tNumExpansions\t\tNumber of expansions\n",
    "\tNumImplementations\tNumber of implementations\n",
    "\tIsReimplementation\tBinary - Is this listing a reimplementation? \n",
    "\tFamily\t\t\tGame family\n",
    "\tKickstarted\t\tBinary - Is this a kickstarter?\n",
    "\tImagePath\t\tImage http:// path\n",
    "\tRank:boardgame\t\tRank for boardgames overall\n",
    "\tRank:strategygames\tRank in strategy games\n",
    "\tRank:abstracts\t\tRank in abstracts\n",
    "\tRank:familygames\tRank in family games\n",
    "\tRank:thematic\t\tRank in thematic\n",
    "\tRank:cgs\t\tRank in card games\n",
    "\tRank:wargames\t\tRank in war games\n",
    "\tRank:partygames\t\tRank in party games\n",
    "\tRank:childrensgames\tRank in children's games\n",
    "\tCat:Thematic\t\tBinary is in Thematic category\n",
    "\tCat:Strategy\t\tBinary is in Strategy category\n",
    "\tCat:War\t\t\tBinary is in War category\n",
    "\tCat:Family\t\tBinary is in Family category\n",
    "\tCat:CGS\t\t\tBinary is in Card Games category\n",
    "\tCat:Abstract\t\tBinary is in Abstract category\n",
    "\tCat:Party\t\tBinary is in Party category\n",
    "\tCat:Childrens\t\tBinary is in Childrens category\n",
    "\n",
    "\n",
    "MECHANICS\n",
    "\tBGGId\t\t\tBoardGameGeek game ID\t\n",
    "\tRemaining headers are various mechanics with binary flag\n",
    "\n",
    "\n",
    "THEMES\n",
    "\tBGGId\t\t\tBoardGameGeek game ID\n",
    "\tRemaining headers are various themes with binary flag\n",
    "\n",
    "\n",
    "SUBCATEGORIES\n",
    "\tBGGId\t\t\tBoardGameGeek game ID\n",
    "\tRemaining headers are various subcategories with binary flag\n",
    "\n",
    "\n",
    "ARTISTS_REDUCED\n",
    "\tBGGId\t\t\tBoardGameGeek game ID\n",
    "\tLow-Exp Artist\t\tIndicates game has an unlisted artist with <= 3 entries\n",
    "\tRemaining headers are various artists with binary flag\n",
    "\n",
    "\n",
    "DESIGNERS_REDUCED\n",
    "\tBGGId\t\t\tBoardGameGeek game ID\n",
    "\tLow-Exp Designer\tIndicates game has an unlisted designer with <= 3 entries\n",
    "\tRemaining headers are various subcategories with binary flag\n",
    "\n",
    "\n",
    "PUBLISHERS_REDUCED\n",
    "\tBGGId\t\t\tBoardGameGeek game ID\n",
    "\tLow-Exp Publisher\tIndicated games has an unlisted publisher with <= 3 entries\n",
    "\tRemaining headers are various subcategories with binary flag\n",
    "\n",
    "\n",
    "USER_RATINGS\n",
    "\tBGGId\t\t\tBoardGameGeek game ID\t\n",
    "\tRating\t\t\tRaw rating given by user\n",
    "\tUsername\t\tUser giving rating\n",
    "\n",
    "\n",
    "RATINGS_DISTRIBUTION\n",
    "\tBGGId\t\t\tBoardGameGeek game ID\n",
    "\tNumbers 0.0-10.0\tNumber of ratings per rating header\n",
    "\ttotal_ratings\t\tTotal number of ratings for game"
   ]
  },
  {
   "cell_type": "markdown",
   "id": "2da1ed4fcb95bda6",
   "metadata": {
    "collapsed": false
   },
   "source": [
    "## 3. Data Preparation"
   ]
  },
  {
   "cell_type": "markdown",
   "id": "60711db3d93ad4ba",
   "metadata": {
    "collapsed": false
   },
   "source": [
    " cleanataan data "
   ]
  },
  {
   "cell_type": "code",
   "execution_count": 78,
   "id": "50a175295596177",
   "metadata": {
    "collapsed": false,
    "ExecuteTime": {
     "end_time": "2025-10-06T14:34:23.893048500Z",
     "start_time": "2025-10-06T14:34:23.864370200Z"
    }
   },
   "outputs": [],
   "source": [
    "# Target user\n",
    "target_user = \"TeemuVataja\""
   ]
  },
  {
   "cell_type": "code",
   "execution_count": 79,
   "id": "831fdd6cfb0ded84",
   "metadata": {
    "collapsed": false,
    "ExecuteTime": {
     "end_time": "2025-10-06T14:34:30.049444900Z",
     "start_time": "2025-10-06T14:34:29.064515100Z"
    }
   },
   "outputs": [
    {
     "data": {
      "text/plain": "411374"
     },
     "metadata": {},
     "output_type": "display_data"
    },
    {
     "name": "stdout",
     "output_type": "stream",
     "text": [
      "User table\n"
     ]
    },
    {
     "data": {
      "text/plain": "   UserId           Username  RatingCount\n0       0          Fu_Koios             2\n1       1           beastvol            9\n2       2            mycroft           14\n3       3                woh            5\n4       4  (mostly) harmless            1",
      "text/html": "<div>\n<style scoped>\n    .dataframe tbody tr th:only-of-type {\n        vertical-align: middle;\n    }\n\n    .dataframe tbody tr th {\n        vertical-align: top;\n    }\n\n    .dataframe thead th {\n        text-align: right;\n    }\n</style>\n<table border=\"1\" class=\"dataframe\">\n  <thead>\n    <tr style=\"text-align: right;\">\n      <th></th>\n      <th>UserId</th>\n      <th>Username</th>\n      <th>RatingCount</th>\n    </tr>\n  </thead>\n  <tbody>\n    <tr>\n      <th>0</th>\n      <td>0</td>\n      <td>Fu_Koios</td>\n      <td>2</td>\n    </tr>\n    <tr>\n      <th>1</th>\n      <td>1</td>\n      <td>beastvol</td>\n      <td>9</td>\n    </tr>\n    <tr>\n      <th>2</th>\n      <td>2</td>\n      <td>mycroft</td>\n      <td>14</td>\n    </tr>\n    <tr>\n      <th>3</th>\n      <td>3</td>\n      <td>woh</td>\n      <td>5</td>\n    </tr>\n    <tr>\n      <th>4</th>\n      <td>4</td>\n      <td>(mostly) harmless</td>\n      <td>1</td>\n    </tr>\n  </tbody>\n</table>\n</div>"
     },
     "metadata": {},
     "output_type": "display_data"
    },
    {
     "name": "stdout",
     "output_type": "stream",
     "text": [
      "User rating table\n"
     ]
    },
    {
     "data": {
      "text/plain": "    BGGId  Rating     Username\n0  213788     8.0    Tonydorrf\n1  213788     8.0   tachyon14k\n2  213788     8.0     Ungotter\n3  213788     8.0  brainlocki3\n4  213788     8.0         PPMP",
      "text/html": "<div>\n<style scoped>\n    .dataframe tbody tr th:only-of-type {\n        vertical-align: middle;\n    }\n\n    .dataframe tbody tr th {\n        vertical-align: top;\n    }\n\n    .dataframe thead th {\n        text-align: right;\n    }\n</style>\n<table border=\"1\" class=\"dataframe\">\n  <thead>\n    <tr style=\"text-align: right;\">\n      <th></th>\n      <th>BGGId</th>\n      <th>Rating</th>\n      <th>Username</th>\n    </tr>\n  </thead>\n  <tbody>\n    <tr>\n      <th>0</th>\n      <td>213788</td>\n      <td>8.0</td>\n      <td>Tonydorrf</td>\n    </tr>\n    <tr>\n      <th>1</th>\n      <td>213788</td>\n      <td>8.0</td>\n      <td>tachyon14k</td>\n    </tr>\n    <tr>\n      <th>2</th>\n      <td>213788</td>\n      <td>8.0</td>\n      <td>Ungotter</td>\n    </tr>\n    <tr>\n      <th>3</th>\n      <td>213788</td>\n      <td>8.0</td>\n      <td>brainlocki3</td>\n    </tr>\n    <tr>\n      <th>4</th>\n      <td>213788</td>\n      <td>8.0</td>\n      <td>PPMP</td>\n    </tr>\n  </tbody>\n</table>\n</div>"
     },
     "metadata": {},
     "output_type": "display_data"
    },
    {
     "name": "stdout",
     "output_type": "stream",
     "text": [
      "Selected user table\n"
     ]
    },
    {
     "data": {
      "text/plain": "        UserId     Username  RatingCount\n187874  187874  TeemuVataja          206",
      "text/html": "<div>\n<style scoped>\n    .dataframe tbody tr th:only-of-type {\n        vertical-align: middle;\n    }\n\n    .dataframe tbody tr th {\n        vertical-align: top;\n    }\n\n    .dataframe thead th {\n        text-align: right;\n    }\n</style>\n<table border=\"1\" class=\"dataframe\">\n  <thead>\n    <tr style=\"text-align: right;\">\n      <th></th>\n      <th>UserId</th>\n      <th>Username</th>\n      <th>RatingCount</th>\n    </tr>\n  </thead>\n  <tbody>\n    <tr>\n      <th>187874</th>\n      <td>187874</td>\n      <td>TeemuVataja</td>\n      <td>206</td>\n    </tr>\n  </tbody>\n</table>\n</div>"
     },
     "metadata": {},
     "output_type": "display_data"
    }
   ],
   "source": [
    "from surprise import Reader, Dataset\n",
    "\n",
    "# Example df_user_ratings has columns: Username, Item, Rating\n",
    "\n",
    "# Build user table with unique IDs and rating counts\n",
    "# If we ever need a dataframe without ratings just copy df_users before this step\n",
    "df_users = (\n",
    "    df_user_ratings.groupby(\"Username\")\n",
    "    .size()  # counts ratings per user\n",
    "    .reset_index(name=\"RatingCount\")\n",
    "    .reset_index(names=\"UserId\")  # create UserId from row index\n",
    ")\n",
    "\n",
    "#TODO: printtejä\n",
    "\n",
    "display(len(df_users))\n",
    "print(\"User table\")\n",
    "display(df_users.head())\n",
    "print(\"User rating table\")\n",
    "display(df_user_ratings.head())\n",
    "print(\"Selected user table\")\n",
    "display(df_users[df_users[\"Username\"] == target_user])"
   ]
  },
  {
   "cell_type": "markdown",
   "source": [
    "Users with more than equal 10 ratings"
   ],
   "metadata": {
    "collapsed": false
   },
   "id": "40778c0e01b62976"
  },
  {
   "cell_type": "code",
   "execution_count": 80,
   "outputs": [
    {
     "data": {
      "text/plain": "'Length of users set before reduction: 411374'"
     },
     "metadata": {},
     "output_type": "display_data"
    },
    {
     "data": {
      "text/plain": "'Length of users set after reduction: 224604'"
     },
     "metadata": {},
     "output_type": "display_data"
    }
   ],
   "source": [
    "display(f\"Length of users set before reduction: {len(df_users)}\")\n",
    "\n",
    "df_users_reduced = df_users[df_users['RatingCount'] >= 10]\n",
    "display(f\"Length of users set after reduction: {len(df_users_reduced)}\")"
   ],
   "metadata": {
    "collapsed": false,
    "ExecuteTime": {
     "end_time": "2025-10-06T14:34:30.051450300Z",
     "start_time": "2025-10-06T14:34:29.983702300Z"
    }
   },
   "id": "7c34eabf8e9623a7"
  },
  {
   "cell_type": "markdown",
   "source": [],
   "metadata": {
    "collapsed": false
   },
   "id": "673f2d7646146fcf"
  },
  {
   "cell_type": "code",
   "execution_count": 81,
   "id": "5a8776087cf54aad",
   "metadata": {
    "collapsed": false,
    "ExecuteTime": {
     "end_time": "2025-10-06T14:34:30.053449400Z",
     "start_time": "2025-10-06T14:34:30.015447Z"
    }
   },
   "outputs": [
    {
     "data": {
      "text/plain": "'Length of games set before reduction: 21925'"
     },
     "metadata": {},
     "output_type": "display_data"
    },
    {
     "data": {
      "text/plain": "'Length of games set after reduction: 12239'"
     },
     "metadata": {},
     "output_type": "display_data"
    }
   ],
   "source": [
    "display(f\"Length of games set before reduction: {len(df_games)}\")\n",
    "\n",
    "df_games_reduced = df_games[df_games['NumUserRatings'] >= 100]\n",
    "\n",
    "display(f\"Length of games set after reduction: {len(df_games_reduced)}\")"
   ]
  },
  {
   "cell_type": "markdown",
   "source": [],
   "metadata": {
    "collapsed": false
   },
   "id": "35225e75c786dc89"
  },
  {
   "cell_type": "code",
   "execution_count": 82,
   "outputs": [
    {
     "data": {
      "text/plain": "'Length of ratings set before reduction: 18942215'"
     },
     "metadata": {},
     "output_type": "display_data"
    },
    {
     "data": {
      "text/plain": "'Length of ratings set after reduction: 17849716'"
     },
     "metadata": {},
     "output_type": "display_data"
    },
    {
     "data": {
      "text/plain": "'Valid ratings after pruning for target user: 198'"
     },
     "metadata": {},
     "output_type": "display_data"
    }
   ],
   "source": [
    "display(f\"Length of ratings set before reduction: {len(df_user_ratings)}\")\n",
    "\n",
    "df_ratings_reduced = df_user_ratings[df_user_ratings[\"BGGId\"].isin(df_games_reduced[\"BGGId\"])]\n",
    "df_ratings_reduced = df_ratings_reduced[df_ratings_reduced[\"Username\"].isin(df_users_reduced[\"Username\"])]\n",
    "\n",
    "display(f\"Length of ratings set after reduction: {len(df_ratings_reduced)}\")\n",
    "display(f\"Valid ratings after pruning for target user: {len(df_ratings_reduced[df_ratings_reduced['Username'] == target_user])}\")"
   ],
   "metadata": {
    "collapsed": false,
    "ExecuteTime": {
     "end_time": "2025-10-06T14:34:36.981713700Z",
     "start_time": "2025-10-06T14:34:30.050448100Z"
    }
   },
   "id": "a40a49ee4ea64d9"
  },
  {
   "cell_type": "markdown",
   "source": [
    "## 4. Modeling\n"
   ],
   "metadata": {
    "collapsed": false
   },
   "id": "7208eaa952d55178"
  },
  {
   "cell_type": "markdown",
   "source": [
    "Selitä mitä nyt tehdään\n",
    "# SVD = item x item\n",
    "# KNN = user x user\n",
    "Mallin luonti ja tallennus tietokoneelle. Jos ei luotu niin kouluttaa sen ja tallentaa"
   ],
   "metadata": {
    "collapsed": false
   },
   "id": "cb07f935522851b"
  },
  {
   "cell_type": "code",
   "execution_count": 83,
   "outputs": [],
   "source": [
    "from surprise import SVD, dump\n",
    "from surprise.model_selection import train_test_split\n",
    "import os\n",
    "\n",
    "def create_surprise_dataset(df, user_id, item_id, ratings, reader):\n",
    "    return Dataset.load_from_df(df[[user_id, item_id, ratings]], reader) # Must be in order [user_id - item_id - ratings] for Surprise to create proper dataset. User id may be an integer or a string\n",
    "\n",
    "def load_test_model(model_name, algo, force_recreate=False):\n",
    "    if not os.path.exists(model_name) or force_recreate:\n",
    "        surprise_dataset = create_surprise_dataset(df_ratings_reduced, \"Username\", \"BGGId\", \"Rating\", Reader(rating_scale=(0.0, 10.0))) # First create surprise dataset from an existing Pandas Dataframe. Hardcoded for now\n",
    "        trainset, testset = train_test_split(surprise_dataset, test_size=0.2)\n",
    "        algo.fit(trainset)\n",
    "        #surprise_trainset = surprise_dataset.build_full_trainset() # Then build the trainset\n",
    "        #algo.fit(surprise_trainset) # Lastly create the model using said training set\n",
    "        \n",
    "        dump.dump(model_name, algo=algo)\n",
    "        return algo, testset\n",
    "\n",
    "    _, algo = dump.load(model_name)\n",
    "    return algo\n",
    "\n",
    "\n",
    "def load_surprise_model(model_name, algo, force_recreate=False):\n",
    "    if not os.path.exists(model_name) or force_recreate:\n",
    "        surprise_dataset = create_surprise_dataset(df_ratings_reduced, \"Username\", \"BGGId\", \"Rating\", Reader(rating_scale=(0.0, 10.0))) # First create surprise dataset from an existing Pandas Dataframe. Hardcoded for now\n",
    "        surprise_trainset = surprise_dataset.build_full_trainset() # Then build the trainset\n",
    "        algo.fit(surprise_trainset) # Lastly create the model using said training set\n",
    "        \n",
    "        dump.dump(model_name, algo=algo)\n",
    "        return algo\n",
    "\n",
    "    _, algo = dump.load(model_name)\n",
    "    return algo\n",
    "\n",
    "test_model, testset = load_test_model(\"testmodel.pkl\", SVD(n_factors=50, random_state=666))\n",
    "\n",
    "ratings_model = load_surprise_model(\"model.pkl\", SVD(n_factors=50,random_state=666))"
   ],
   "metadata": {
    "collapsed": false,
    "ExecuteTime": {
     "end_time": "2025-10-06T14:35:04.225849800Z",
     "start_time": "2025-10-06T14:34:36.956758700Z"
    }
   },
   "id": "39a75ef37609ff92"
  },
  {
   "cell_type": "markdown",
   "source": [
    "predictions funktiot."
   ],
   "metadata": {
    "collapsed": false
   },
   "id": "3a7f16c7a899b043"
  },
  {
   "cell_type": "code",
   "execution_count": 84,
   "outputs": [],
   "source": [
    "import numpy as np\n",
    "from sklearn.metrics.pairwise import cosine_similarity\n",
    "\n",
    "def top_similar_users(username, model, top_n=10):\n",
    "    \"\"\"\n",
    "    Returns top-N similar users to a given username (raw ID).\n",
    "    \"\"\"\n",
    "    try:\n",
    "        inner_uid = model.trainset.to_inner_uid(username)\n",
    "    except ValueError:\n",
    "        return []\n",
    "\n",
    "    user_vec = model.pu[inner_uid].reshape(1, -1)\n",
    "    sims = cosine_similarity(user_vec, model.pu)[0]\n",
    "\n",
    "    # Exclude self\n",
    "    top_inner = np.argsort(-sims)[1:top_n+1]\n",
    "    return [model.trainset.to_raw_uid(i) for i in top_inner]\n"
   ],
   "metadata": {
    "collapsed": false,
    "ExecuteTime": {
     "end_time": "2025-10-06T14:35:04.235846Z",
     "start_time": "2025-10-06T14:35:04.232840100Z"
    }
   },
   "id": "5d40db5e197b691f"
  },
  {
   "cell_type": "markdown",
   "source": [
    "Selitystä"
   ],
   "metadata": {
    "collapsed": false
   },
   "id": "17232db075b13393"
  },
  {
   "cell_type": "code",
   "execution_count": 85,
   "outputs": [],
   "source": [
    "\n",
    "def user_predictions(username, model, top_n_items=None):\n",
    "    \"\"\"\n",
    "    Predict ratings for all unseen items for a given username.\n",
    "    Optionally, return only top-N items.\n",
    "    \"\"\"\n",
    "    try:\n",
    "        inner_uid = model.trainset.to_inner_uid(username)\n",
    "    except ValueError:\n",
    "        return []\n",
    "\n",
    "    # Items already rated by user\n",
    "    user_items = {iid for (iid, _) in model.trainset.ur[inner_uid]}\n",
    "    all_items = set(range(model.trainset.n_items))\n",
    "    unseen_items = all_items - user_items\n",
    "\n",
    "    # Build test set (user x unseen items)\n",
    "    testset = [(username, model.trainset.to_raw_iid(i), 0.) for i in unseen_items]\n",
    "\n",
    "    # Get predictions\n",
    "    predictions = model.test(testset)\n",
    "\n",
    "    # Optionally keep top-N items\n",
    "    if top_n_items:\n",
    "        predictions = sorted(predictions, key=lambda x: x.est, reverse=True)[:top_n_items]\n",
    "\n",
    "    return predictions\n"
   ],
   "metadata": {
    "collapsed": false,
    "ExecuteTime": {
     "start_time": "2025-10-06T14:35:04.234837300Z"
    }
   },
   "id": "dc97fcc77a7c592a"
  },
  {
   "cell_type": "markdown",
   "source": [
    "Selitystä"
   ],
   "metadata": {
    "collapsed": false
   },
   "id": "9e20df85424e7ae2"
  },
  {
   "cell_type": "code",
   "execution_count": 86,
   "outputs": [],
   "source": [
    "def user_predictions_from_similar(username, model, top_n_users=1000, top_n_items=10):\n",
    "    \"\"\"\n",
    "    Predict items for a user based on items liked by similar users.\n",
    "    \"\"\"\n",
    "    similar_users = top_similar_users(username, model, top_n=top_n_users)\n",
    "\n",
    "    # Collect items rated by similar users\n",
    "    similar_items = set()\n",
    "    for su in similar_users:\n",
    "        inner_uid = model.trainset.to_inner_uid(su)\n",
    "        similar_items.update([model.trainset.to_raw_iid(iid) for (iid, _) in model.trainset.ur[inner_uid]])\n",
    "\n",
    "    # Filter out items already rated by target user\n",
    "    inner_uid_target = model.trainset.to_inner_uid(username)\n",
    "    user_items = {model.trainset.to_raw_iid(iid) for (iid, _) in model.trainset.ur[inner_uid_target]}\n",
    "    candidate_items = similar_items - user_items\n",
    "\n",
    "    # Build test set and predict\n",
    "    testset = [(username, iid, 0.) for iid in candidate_items]\n",
    "    predictions = model.test(testset)\n",
    "    predictions = sorted(predictions, key=lambda x: x.est, reverse=True)[:top_n_items]\n",
    "\n",
    "    return predictions\n"
   ],
   "metadata": {
    "collapsed": false,
    "ExecuteTime": {
     "start_time": "2025-10-06T14:35:04.249841500Z"
    }
   },
   "id": "832d8d2a1d399344"
  },
  {
   "cell_type": "markdown",
   "source": [
    "Selitystä"
   ],
   "metadata": {
    "collapsed": false
   },
   "id": "393fd2e72ef64cc0"
  },
  {
   "cell_type": "code",
   "execution_count": 87,
   "outputs": [
    {
     "name": "stdout",
     "output_type": "stream",
     "text": [
      "39463 9.899635017978534\n"
     ]
    },
    {
     "data": {
      "text/plain": "      BGGId              Name  \\\n8836  39463  Cosmic Encounter   \n\n                                            Description  YearPublished  \\\n8836  build galactic empirein depth space alien race...           2008   \n\n      GameWeight  AvgRating  BayesAvgRating   StdDev  MinPlayers  MaxPlayers  \\\n8836      2.5761    7.53816         7.36761  1.70052           3           5   \n\n      ...  Rank:partygames  Rank:childrensgames  Cat:Thematic Cat:Strategy  \\\n8836  ...            21926                21926             1            1   \n\n      Cat:War  Cat:Family  Cat:CGS  Cat:Abstract  Cat:Party  Cat:Childrens  \n8836        0           0        0             0          0              0  \n\n[1 rows x 48 columns]",
      "text/html": "<div>\n<style scoped>\n    .dataframe tbody tr th:only-of-type {\n        vertical-align: middle;\n    }\n\n    .dataframe tbody tr th {\n        vertical-align: top;\n    }\n\n    .dataframe thead th {\n        text-align: right;\n    }\n</style>\n<table border=\"1\" class=\"dataframe\">\n  <thead>\n    <tr style=\"text-align: right;\">\n      <th></th>\n      <th>BGGId</th>\n      <th>Name</th>\n      <th>Description</th>\n      <th>YearPublished</th>\n      <th>GameWeight</th>\n      <th>AvgRating</th>\n      <th>BayesAvgRating</th>\n      <th>StdDev</th>\n      <th>MinPlayers</th>\n      <th>MaxPlayers</th>\n      <th>...</th>\n      <th>Rank:partygames</th>\n      <th>Rank:childrensgames</th>\n      <th>Cat:Thematic</th>\n      <th>Cat:Strategy</th>\n      <th>Cat:War</th>\n      <th>Cat:Family</th>\n      <th>Cat:CGS</th>\n      <th>Cat:Abstract</th>\n      <th>Cat:Party</th>\n      <th>Cat:Childrens</th>\n    </tr>\n  </thead>\n  <tbody>\n    <tr>\n      <th>8836</th>\n      <td>39463</td>\n      <td>Cosmic Encounter</td>\n      <td>build galactic empirein depth space alien race...</td>\n      <td>2008</td>\n      <td>2.5761</td>\n      <td>7.53816</td>\n      <td>7.36761</td>\n      <td>1.70052</td>\n      <td>3</td>\n      <td>5</td>\n      <td>...</td>\n      <td>21926</td>\n      <td>21926</td>\n      <td>1</td>\n      <td>1</td>\n      <td>0</td>\n      <td>0</td>\n      <td>0</td>\n      <td>0</td>\n      <td>0</td>\n      <td>0</td>\n    </tr>\n  </tbody>\n</table>\n<p>1 rows × 48 columns</p>\n</div>"
     },
     "metadata": {},
     "output_type": "display_data"
    },
    {
     "name": "stdout",
     "output_type": "stream",
     "text": [
      "55690 9.643000184044938\n"
     ]
    },
    {
     "data": {
      "text/plain": "      BGGId                    Name  \\\n9398  55690  Kingdom Death: Monster   \n\n                                            Description  YearPublished  \\\n9398  kingdom death monster fully cooperative tablet...           2015   \n\n      GameWeight  AvgRating  BayesAvgRating   StdDev  MinPlayers  MaxPlayers  \\\n9398      4.2617    8.61012         7.73507  1.97682           1           4   \n\n      ...  Rank:partygames  Rank:childrensgames  Cat:Thematic Cat:Strategy  \\\n9398  ...            21926                21926             1            0   \n\n      Cat:War  Cat:Family  Cat:CGS  Cat:Abstract  Cat:Party  Cat:Childrens  \n9398        0           0        0             0          0              0  \n\n[1 rows x 48 columns]",
      "text/html": "<div>\n<style scoped>\n    .dataframe tbody tr th:only-of-type {\n        vertical-align: middle;\n    }\n\n    .dataframe tbody tr th {\n        vertical-align: top;\n    }\n\n    .dataframe thead th {\n        text-align: right;\n    }\n</style>\n<table border=\"1\" class=\"dataframe\">\n  <thead>\n    <tr style=\"text-align: right;\">\n      <th></th>\n      <th>BGGId</th>\n      <th>Name</th>\n      <th>Description</th>\n      <th>YearPublished</th>\n      <th>GameWeight</th>\n      <th>AvgRating</th>\n      <th>BayesAvgRating</th>\n      <th>StdDev</th>\n      <th>MinPlayers</th>\n      <th>MaxPlayers</th>\n      <th>...</th>\n      <th>Rank:partygames</th>\n      <th>Rank:childrensgames</th>\n      <th>Cat:Thematic</th>\n      <th>Cat:Strategy</th>\n      <th>Cat:War</th>\n      <th>Cat:Family</th>\n      <th>Cat:CGS</th>\n      <th>Cat:Abstract</th>\n      <th>Cat:Party</th>\n      <th>Cat:Childrens</th>\n    </tr>\n  </thead>\n  <tbody>\n    <tr>\n      <th>9398</th>\n      <td>55690</td>\n      <td>Kingdom Death: Monster</td>\n      <td>kingdom death monster fully cooperative tablet...</td>\n      <td>2015</td>\n      <td>4.2617</td>\n      <td>8.61012</td>\n      <td>7.73507</td>\n      <td>1.97682</td>\n      <td>1</td>\n      <td>4</td>\n      <td>...</td>\n      <td>21926</td>\n      <td>21926</td>\n      <td>1</td>\n      <td>0</td>\n      <td>0</td>\n      <td>0</td>\n      <td>0</td>\n      <td>0</td>\n      <td>0</td>\n      <td>0</td>\n    </tr>\n  </tbody>\n</table>\n<p>1 rows × 48 columns</p>\n</div>"
     },
     "metadata": {},
     "output_type": "display_data"
    },
    {
     "name": "stdout",
     "output_type": "stream",
     "text": [
      "342942 9.55606795394015\n"
     ]
    },
    {
     "data": {
      "text/plain": "        BGGId      Name                                        Description  \\\n21896  342942  Ark Nova  ark nova plan design modern scientifically man...   \n\n       YearPublished  GameWeight  AvgRating  BayesAvgRating   StdDev  \\\n21896           2021      3.7714    8.47839         6.25826  1.38243   \n\n       MinPlayers  MaxPlayers  ...  Rank:partygames  Rank:childrensgames  \\\n21896           1           4  ...            21926                21926   \n\n       Cat:Thematic Cat:Strategy  Cat:War  Cat:Family  Cat:CGS  Cat:Abstract  \\\n21896             0            1        0           0        0             0   \n\n       Cat:Party  Cat:Childrens  \n21896          0              0  \n\n[1 rows x 48 columns]",
      "text/html": "<div>\n<style scoped>\n    .dataframe tbody tr th:only-of-type {\n        vertical-align: middle;\n    }\n\n    .dataframe tbody tr th {\n        vertical-align: top;\n    }\n\n    .dataframe thead th {\n        text-align: right;\n    }\n</style>\n<table border=\"1\" class=\"dataframe\">\n  <thead>\n    <tr style=\"text-align: right;\">\n      <th></th>\n      <th>BGGId</th>\n      <th>Name</th>\n      <th>Description</th>\n      <th>YearPublished</th>\n      <th>GameWeight</th>\n      <th>AvgRating</th>\n      <th>BayesAvgRating</th>\n      <th>StdDev</th>\n      <th>MinPlayers</th>\n      <th>MaxPlayers</th>\n      <th>...</th>\n      <th>Rank:partygames</th>\n      <th>Rank:childrensgames</th>\n      <th>Cat:Thematic</th>\n      <th>Cat:Strategy</th>\n      <th>Cat:War</th>\n      <th>Cat:Family</th>\n      <th>Cat:CGS</th>\n      <th>Cat:Abstract</th>\n      <th>Cat:Party</th>\n      <th>Cat:Childrens</th>\n    </tr>\n  </thead>\n  <tbody>\n    <tr>\n      <th>21896</th>\n      <td>342942</td>\n      <td>Ark Nova</td>\n      <td>ark nova plan design modern scientifically man...</td>\n      <td>2021</td>\n      <td>3.7714</td>\n      <td>8.47839</td>\n      <td>6.25826</td>\n      <td>1.38243</td>\n      <td>1</td>\n      <td>4</td>\n      <td>...</td>\n      <td>21926</td>\n      <td>21926</td>\n      <td>0</td>\n      <td>1</td>\n      <td>0</td>\n      <td>0</td>\n      <td>0</td>\n      <td>0</td>\n      <td>0</td>\n      <td>0</td>\n    </tr>\n  </tbody>\n</table>\n<p>1 rows × 48 columns</p>\n</div>"
     },
     "metadata": {},
     "output_type": "display_data"
    },
    {
     "name": "stdout",
     "output_type": "stream",
     "text": [
      "198953 9.357417239603404\n"
     ]
    },
    {
     "data": {
      "text/plain": "        BGGId             Name  \\\n16036  198953  Pax Renaissance   \n\n                                             Description  YearPublished  \\\n16036  renaissance banker finance king republic spons...           2016   \n\n       GameWeight  AvgRating  BayesAvgRating   StdDev  MinPlayers  MaxPlayers  \\\n16036       4.418    8.03208         6.84614  1.61752           2           4   \n\n       ...  Rank:partygames  Rank:childrensgames  Cat:Thematic Cat:Strategy  \\\n16036  ...            21926                21926             1            1   \n\n       Cat:War  Cat:Family  Cat:CGS  Cat:Abstract  Cat:Party  Cat:Childrens  \n16036        0           0        0             0          0              0  \n\n[1 rows x 48 columns]",
      "text/html": "<div>\n<style scoped>\n    .dataframe tbody tr th:only-of-type {\n        vertical-align: middle;\n    }\n\n    .dataframe tbody tr th {\n        vertical-align: top;\n    }\n\n    .dataframe thead th {\n        text-align: right;\n    }\n</style>\n<table border=\"1\" class=\"dataframe\">\n  <thead>\n    <tr style=\"text-align: right;\">\n      <th></th>\n      <th>BGGId</th>\n      <th>Name</th>\n      <th>Description</th>\n      <th>YearPublished</th>\n      <th>GameWeight</th>\n      <th>AvgRating</th>\n      <th>BayesAvgRating</th>\n      <th>StdDev</th>\n      <th>MinPlayers</th>\n      <th>MaxPlayers</th>\n      <th>...</th>\n      <th>Rank:partygames</th>\n      <th>Rank:childrensgames</th>\n      <th>Cat:Thematic</th>\n      <th>Cat:Strategy</th>\n      <th>Cat:War</th>\n      <th>Cat:Family</th>\n      <th>Cat:CGS</th>\n      <th>Cat:Abstract</th>\n      <th>Cat:Party</th>\n      <th>Cat:Childrens</th>\n    </tr>\n  </thead>\n  <tbody>\n    <tr>\n      <th>16036</th>\n      <td>198953</td>\n      <td>Pax Renaissance</td>\n      <td>renaissance banker finance king republic spons...</td>\n      <td>2016</td>\n      <td>4.418</td>\n      <td>8.03208</td>\n      <td>6.84614</td>\n      <td>1.61752</td>\n      <td>2</td>\n      <td>4</td>\n      <td>...</td>\n      <td>21926</td>\n      <td>21926</td>\n      <td>1</td>\n      <td>1</td>\n      <td>0</td>\n      <td>0</td>\n      <td>0</td>\n      <td>0</td>\n      <td>0</td>\n      <td>0</td>\n    </tr>\n  </tbody>\n</table>\n<p>1 rows × 48 columns</p>\n</div>"
     },
     "metadata": {},
     "output_type": "display_data"
    },
    {
     "name": "stdout",
     "output_type": "stream",
     "text": [
      "256960 9.342293845014776\n"
     ]
    },
    {
     "data": {
      "text/plain": "        BGGId                       Name  \\\n19129  256960  Pax Pamir: Second Edition   \n\n                                             Description  YearPublished  \\\n19129  pax pamir player assume role nineteenth centur...           2019   \n\n       GameWeight  AvgRating  BayesAvgRating   StdDev  MinPlayers  MaxPlayers  \\\n19129      3.8162    8.35655         7.71147  1.42367           1           5   \n\n       ...  Rank:partygames  Rank:childrensgames  Cat:Thematic Cat:Strategy  \\\n19129  ...            21926                21926             0            1   \n\n       Cat:War  Cat:Family  Cat:CGS  Cat:Abstract  Cat:Party  Cat:Childrens  \n19129        0           0        0             0          0              0  \n\n[1 rows x 48 columns]",
      "text/html": "<div>\n<style scoped>\n    .dataframe tbody tr th:only-of-type {\n        vertical-align: middle;\n    }\n\n    .dataframe tbody tr th {\n        vertical-align: top;\n    }\n\n    .dataframe thead th {\n        text-align: right;\n    }\n</style>\n<table border=\"1\" class=\"dataframe\">\n  <thead>\n    <tr style=\"text-align: right;\">\n      <th></th>\n      <th>BGGId</th>\n      <th>Name</th>\n      <th>Description</th>\n      <th>YearPublished</th>\n      <th>GameWeight</th>\n      <th>AvgRating</th>\n      <th>BayesAvgRating</th>\n      <th>StdDev</th>\n      <th>MinPlayers</th>\n      <th>MaxPlayers</th>\n      <th>...</th>\n      <th>Rank:partygames</th>\n      <th>Rank:childrensgames</th>\n      <th>Cat:Thematic</th>\n      <th>Cat:Strategy</th>\n      <th>Cat:War</th>\n      <th>Cat:Family</th>\n      <th>Cat:CGS</th>\n      <th>Cat:Abstract</th>\n      <th>Cat:Party</th>\n      <th>Cat:Childrens</th>\n    </tr>\n  </thead>\n  <tbody>\n    <tr>\n      <th>19129</th>\n      <td>256960</td>\n      <td>Pax Pamir: Second Edition</td>\n      <td>pax pamir player assume role nineteenth centur...</td>\n      <td>2019</td>\n      <td>3.8162</td>\n      <td>8.35655</td>\n      <td>7.71147</td>\n      <td>1.42367</td>\n      <td>1</td>\n      <td>5</td>\n      <td>...</td>\n      <td>21926</td>\n      <td>21926</td>\n      <td>0</td>\n      <td>1</td>\n      <td>0</td>\n      <td>0</td>\n      <td>0</td>\n      <td>0</td>\n      <td>0</td>\n      <td>0</td>\n    </tr>\n  </tbody>\n</table>\n<p>1 rows × 48 columns</p>\n</div>"
     },
     "metadata": {},
     "output_type": "display_data"
    },
    {
     "name": "stdout",
     "output_type": "stream",
     "text": [
      "262211 9.31919369645835\n"
     ]
    },
    {
     "data": {
      "text/plain": "        BGGId        Name                                        Description  \\\n19434  262211  Cloudspire  cloudspire   player strategy game heavily infl...   \n\n       YearPublished  GameWeight  AvgRating  BayesAvgRating   StdDev  \\\n19434           2019      4.2794    8.26495         6.90388  1.63067   \n\n       MinPlayers  MaxPlayers  ...  Rank:partygames  Rank:childrensgames  \\\n19434           1           4  ...            21926                21926   \n\n       Cat:Thematic Cat:Strategy  Cat:War  Cat:Family  Cat:CGS  Cat:Abstract  \\\n19434             0            1        0           0        0             0   \n\n       Cat:Party  Cat:Childrens  \n19434          0              0  \n\n[1 rows x 48 columns]",
      "text/html": "<div>\n<style scoped>\n    .dataframe tbody tr th:only-of-type {\n        vertical-align: middle;\n    }\n\n    .dataframe tbody tr th {\n        vertical-align: top;\n    }\n\n    .dataframe thead th {\n        text-align: right;\n    }\n</style>\n<table border=\"1\" class=\"dataframe\">\n  <thead>\n    <tr style=\"text-align: right;\">\n      <th></th>\n      <th>BGGId</th>\n      <th>Name</th>\n      <th>Description</th>\n      <th>YearPublished</th>\n      <th>GameWeight</th>\n      <th>AvgRating</th>\n      <th>BayesAvgRating</th>\n      <th>StdDev</th>\n      <th>MinPlayers</th>\n      <th>MaxPlayers</th>\n      <th>...</th>\n      <th>Rank:partygames</th>\n      <th>Rank:childrensgames</th>\n      <th>Cat:Thematic</th>\n      <th>Cat:Strategy</th>\n      <th>Cat:War</th>\n      <th>Cat:Family</th>\n      <th>Cat:CGS</th>\n      <th>Cat:Abstract</th>\n      <th>Cat:Party</th>\n      <th>Cat:Childrens</th>\n    </tr>\n  </thead>\n  <tbody>\n    <tr>\n      <th>19434</th>\n      <td>262211</td>\n      <td>Cloudspire</td>\n      <td>cloudspire   player strategy game heavily infl...</td>\n      <td>2019</td>\n      <td>4.2794</td>\n      <td>8.26495</td>\n      <td>6.90388</td>\n      <td>1.63067</td>\n      <td>1</td>\n      <td>4</td>\n      <td>...</td>\n      <td>21926</td>\n      <td>21926</td>\n      <td>0</td>\n      <td>1</td>\n      <td>0</td>\n      <td>0</td>\n      <td>0</td>\n      <td>0</td>\n      <td>0</td>\n      <td>0</td>\n    </tr>\n  </tbody>\n</table>\n<p>1 rows × 48 columns</p>\n</div>"
     },
     "metadata": {},
     "output_type": "display_data"
    },
    {
     "name": "stdout",
     "output_type": "stream",
     "text": [
      "214296 9.264977877360142\n"
     ]
    },
    {
     "data": {
      "text/plain": "        BGGId         Name                                        Description  \\\n16820  214296  Tenkatoitsu  japan tear war decade oda nobunaga unifier suc...   \n\n       YearPublished  GameWeight  AvgRating  BayesAvgRating   StdDev  \\\n16820           2016      3.4091    8.43846         5.76003  1.27596   \n\n       MinPlayers  MaxPlayers  ...  Rank:partygames  Rank:childrensgames  \\\n16820           1           2  ...            21926                21926   \n\n       Cat:Thematic Cat:Strategy  Cat:War  Cat:Family  Cat:CGS  Cat:Abstract  \\\n16820             0            0        1           0        0             0   \n\n       Cat:Party  Cat:Childrens  \n16820          0              0  \n\n[1 rows x 48 columns]",
      "text/html": "<div>\n<style scoped>\n    .dataframe tbody tr th:only-of-type {\n        vertical-align: middle;\n    }\n\n    .dataframe tbody tr th {\n        vertical-align: top;\n    }\n\n    .dataframe thead th {\n        text-align: right;\n    }\n</style>\n<table border=\"1\" class=\"dataframe\">\n  <thead>\n    <tr style=\"text-align: right;\">\n      <th></th>\n      <th>BGGId</th>\n      <th>Name</th>\n      <th>Description</th>\n      <th>YearPublished</th>\n      <th>GameWeight</th>\n      <th>AvgRating</th>\n      <th>BayesAvgRating</th>\n      <th>StdDev</th>\n      <th>MinPlayers</th>\n      <th>MaxPlayers</th>\n      <th>...</th>\n      <th>Rank:partygames</th>\n      <th>Rank:childrensgames</th>\n      <th>Cat:Thematic</th>\n      <th>Cat:Strategy</th>\n      <th>Cat:War</th>\n      <th>Cat:Family</th>\n      <th>Cat:CGS</th>\n      <th>Cat:Abstract</th>\n      <th>Cat:Party</th>\n      <th>Cat:Childrens</th>\n    </tr>\n  </thead>\n  <tbody>\n    <tr>\n      <th>16820</th>\n      <td>214296</td>\n      <td>Tenkatoitsu</td>\n      <td>japan tear war decade oda nobunaga unifier suc...</td>\n      <td>2016</td>\n      <td>3.4091</td>\n      <td>8.43846</td>\n      <td>5.76003</td>\n      <td>1.27596</td>\n      <td>1</td>\n      <td>2</td>\n      <td>...</td>\n      <td>21926</td>\n      <td>21926</td>\n      <td>0</td>\n      <td>0</td>\n      <td>1</td>\n      <td>0</td>\n      <td>0</td>\n      <td>0</td>\n      <td>0</td>\n      <td>0</td>\n    </tr>\n  </tbody>\n</table>\n<p>1 rows × 48 columns</p>\n</div>"
     },
     "metadata": {},
     "output_type": "display_data"
    },
    {
     "name": "stdout",
     "output_type": "stream",
     "text": [
      "68820 9.247399375615121\n"
     ]
    },
    {
     "data": {
      "text/plain": "      BGGId                    Name  \\\n9867  68820  Enemy Action: Ardennes   \n\n                                            Description  YearPublished  \\\n9867  enemy action new series carddriven war game pi...           2015   \n\n      GameWeight  AvgRating  BayesAvgRating   StdDev  MinPlayers  MaxPlayers  \\\n9867      4.2195    8.61585         6.12197  1.41185           1           2   \n\n      ...  Rank:partygames  Rank:childrensgames  Cat:Thematic Cat:Strategy  \\\n9867  ...            21926                21926             0            0   \n\n      Cat:War  Cat:Family  Cat:CGS  Cat:Abstract  Cat:Party  Cat:Childrens  \n9867        1           0        0             0          0              0  \n\n[1 rows x 48 columns]",
      "text/html": "<div>\n<style scoped>\n    .dataframe tbody tr th:only-of-type {\n        vertical-align: middle;\n    }\n\n    .dataframe tbody tr th {\n        vertical-align: top;\n    }\n\n    .dataframe thead th {\n        text-align: right;\n    }\n</style>\n<table border=\"1\" class=\"dataframe\">\n  <thead>\n    <tr style=\"text-align: right;\">\n      <th></th>\n      <th>BGGId</th>\n      <th>Name</th>\n      <th>Description</th>\n      <th>YearPublished</th>\n      <th>GameWeight</th>\n      <th>AvgRating</th>\n      <th>BayesAvgRating</th>\n      <th>StdDev</th>\n      <th>MinPlayers</th>\n      <th>MaxPlayers</th>\n      <th>...</th>\n      <th>Rank:partygames</th>\n      <th>Rank:childrensgames</th>\n      <th>Cat:Thematic</th>\n      <th>Cat:Strategy</th>\n      <th>Cat:War</th>\n      <th>Cat:Family</th>\n      <th>Cat:CGS</th>\n      <th>Cat:Abstract</th>\n      <th>Cat:Party</th>\n      <th>Cat:Childrens</th>\n    </tr>\n  </thead>\n  <tbody>\n    <tr>\n      <th>9867</th>\n      <td>68820</td>\n      <td>Enemy Action: Ardennes</td>\n      <td>enemy action new series carddriven war game pi...</td>\n      <td>2015</td>\n      <td>4.2195</td>\n      <td>8.61585</td>\n      <td>6.12197</td>\n      <td>1.41185</td>\n      <td>1</td>\n      <td>2</td>\n      <td>...</td>\n      <td>21926</td>\n      <td>21926</td>\n      <td>0</td>\n      <td>0</td>\n      <td>1</td>\n      <td>0</td>\n      <td>0</td>\n      <td>0</td>\n      <td>0</td>\n      <td>0</td>\n    </tr>\n  </tbody>\n</table>\n<p>1 rows × 48 columns</p>\n</div>"
     },
     "metadata": {},
     "output_type": "display_data"
    },
    {
     "name": "stdout",
     "output_type": "stream",
     "text": [
      "243 9.244911146122519\n"
     ]
    },
    {
     "data": {
      "text/plain": "     BGGId                   Name  \\\n209    243  Advanced Squad Leader   \n\n                                           Description  YearPublished  \\\n209  advanced squad leader completely reorganize re...           1985   \n\n     GameWeight  AvgRating  BayesAvgRating   StdDev  MinPlayers  MaxPlayers  \\\n209      4.7321    8.00152         7.06699  2.05663           2           2   \n\n     ...  Rank:partygames  Rank:childrensgames  Cat:Thematic Cat:Strategy  \\\n209  ...            21926                21926             0            0   \n\n     Cat:War  Cat:Family  Cat:CGS  Cat:Abstract  Cat:Party  Cat:Childrens  \n209        1           0        0             0          0              0  \n\n[1 rows x 48 columns]",
      "text/html": "<div>\n<style scoped>\n    .dataframe tbody tr th:only-of-type {\n        vertical-align: middle;\n    }\n\n    .dataframe tbody tr th {\n        vertical-align: top;\n    }\n\n    .dataframe thead th {\n        text-align: right;\n    }\n</style>\n<table border=\"1\" class=\"dataframe\">\n  <thead>\n    <tr style=\"text-align: right;\">\n      <th></th>\n      <th>BGGId</th>\n      <th>Name</th>\n      <th>Description</th>\n      <th>YearPublished</th>\n      <th>GameWeight</th>\n      <th>AvgRating</th>\n      <th>BayesAvgRating</th>\n      <th>StdDev</th>\n      <th>MinPlayers</th>\n      <th>MaxPlayers</th>\n      <th>...</th>\n      <th>Rank:partygames</th>\n      <th>Rank:childrensgames</th>\n      <th>Cat:Thematic</th>\n      <th>Cat:Strategy</th>\n      <th>Cat:War</th>\n      <th>Cat:Family</th>\n      <th>Cat:CGS</th>\n      <th>Cat:Abstract</th>\n      <th>Cat:Party</th>\n      <th>Cat:Childrens</th>\n    </tr>\n  </thead>\n  <tbody>\n    <tr>\n      <th>209</th>\n      <td>243</td>\n      <td>Advanced Squad Leader</td>\n      <td>advanced squad leader completely reorganize re...</td>\n      <td>1985</td>\n      <td>4.7321</td>\n      <td>8.00152</td>\n      <td>7.06699</td>\n      <td>2.05663</td>\n      <td>2</td>\n      <td>2</td>\n      <td>...</td>\n      <td>21926</td>\n      <td>21926</td>\n      <td>0</td>\n      <td>0</td>\n      <td>1</td>\n      <td>0</td>\n      <td>0</td>\n      <td>0</td>\n      <td>0</td>\n      <td>0</td>\n    </tr>\n  </tbody>\n</table>\n<p>1 rows × 48 columns</p>\n</div>"
     },
     "metadata": {},
     "output_type": "display_data"
    },
    {
     "name": "stdout",
     "output_type": "stream",
     "text": [
      "175914 9.236257695750345\n"
     ]
    },
    {
     "data": {
      "text/plain": "        BGGId                Name  \\\n14619  175914  Food Chain Magnate   \n\n                                             Description  YearPublished  \\\n14619  quotlemonade want lemonade world come want com...           2015   \n\n       GameWeight  AvgRating  BayesAvgRating   StdDev  MinPlayers  MaxPlayers  \\\n14619         4.2     8.1166         7.83205  1.58484           2           5   \n\n       ...  Rank:partygames  Rank:childrensgames  Cat:Thematic Cat:Strategy  \\\n14619  ...            21926                21926             0            1   \n\n       Cat:War  Cat:Family  Cat:CGS  Cat:Abstract  Cat:Party  Cat:Childrens  \n14619        0           0        0             0          0              0  \n\n[1 rows x 48 columns]",
      "text/html": "<div>\n<style scoped>\n    .dataframe tbody tr th:only-of-type {\n        vertical-align: middle;\n    }\n\n    .dataframe tbody tr th {\n        vertical-align: top;\n    }\n\n    .dataframe thead th {\n        text-align: right;\n    }\n</style>\n<table border=\"1\" class=\"dataframe\">\n  <thead>\n    <tr style=\"text-align: right;\">\n      <th></th>\n      <th>BGGId</th>\n      <th>Name</th>\n      <th>Description</th>\n      <th>YearPublished</th>\n      <th>GameWeight</th>\n      <th>AvgRating</th>\n      <th>BayesAvgRating</th>\n      <th>StdDev</th>\n      <th>MinPlayers</th>\n      <th>MaxPlayers</th>\n      <th>...</th>\n      <th>Rank:partygames</th>\n      <th>Rank:childrensgames</th>\n      <th>Cat:Thematic</th>\n      <th>Cat:Strategy</th>\n      <th>Cat:War</th>\n      <th>Cat:Family</th>\n      <th>Cat:CGS</th>\n      <th>Cat:Abstract</th>\n      <th>Cat:Party</th>\n      <th>Cat:Childrens</th>\n    </tr>\n  </thead>\n  <tbody>\n    <tr>\n      <th>14619</th>\n      <td>175914</td>\n      <td>Food Chain Magnate</td>\n      <td>quotlemonade want lemonade world come want com...</td>\n      <td>2015</td>\n      <td>4.2</td>\n      <td>8.1166</td>\n      <td>7.83205</td>\n      <td>1.58484</td>\n      <td>2</td>\n      <td>5</td>\n      <td>...</td>\n      <td>21926</td>\n      <td>21926</td>\n      <td>0</td>\n      <td>1</td>\n      <td>0</td>\n      <td>0</td>\n      <td>0</td>\n      <td>0</td>\n      <td>0</td>\n      <td>0</td>\n    </tr>\n  </tbody>\n</table>\n<p>1 rows × 48 columns</p>\n</div>"
     },
     "metadata": {},
     "output_type": "display_data"
    }
   ],
   "source": [
    "#TODO: poista sarakkeita tulostuksesta\n",
    "# Example usage\n",
    "predictions = user_predictions_from_similar(target_user, ratings_model)\n",
    "\n",
    "top10 = sorted(predictions, key=lambda x: x.est, reverse=True)\n",
    "for pred in top10:\n",
    "    print(pred.iid, pred.est)\n",
    "    display(df_games_reduced[df_games_reduced[\"BGGId\"] == pred.iid])\n",
    "    "
   ],
   "metadata": {
    "collapsed": false,
    "ExecuteTime": {
     "start_time": "2025-10-06T14:35:04.267957900Z"
    }
   },
   "id": "65d47318831d432c"
  },
  {
   "cell_type": "markdown",
   "id": "fe5a72235e1289ec",
   "metadata": {
    "collapsed": false
   },
   "source": [
    "## 5. Evaluation"
   ]
  },
  {
   "cell_type": "markdown",
   "id": "eb73bfdfd9f6fa65",
   "metadata": {
    "collapsed": false
   },
   "source": [
    "## 6. Deployment"
   ]
  }
 ],
 "metadata": {
  "kernelspec": {
   "display_name": ".venv",
   "language": "python",
   "name": "python3"
  },
  "language_info": {
   "codemirror_mode": {
    "name": "ipython",
    "version": 3
   },
   "file_extension": ".py",
   "mimetype": "text/x-python",
   "name": "python",
   "nbconvert_exporter": "python",
   "pygments_lexer": "ipython3",
   "version": "3.11.13"
  }
 },
 "nbformat": 4,
 "nbformat_minor": 5
}
