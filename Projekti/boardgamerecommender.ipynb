{
 "cells": [
  {
   "cell_type": "markdown",
   "id": "c81e98924bf071a7",
   "metadata": {
    "collapsed": false
   },
   "source": [
    "# Boardgame Recommender"
   ]
  },
  {
   "cell_type": "markdown",
   "id": "a4c9cc9a54ec6412",
   "metadata": {
    "collapsed": false
   },
   "source": [
    "## 1. Business Understanding\n",
    "\n",
    "**BoardGameGeek** is a comprehensive online database that catalogues over 125,600 board games, providing access to reviews, discussion forums, and detailed information on individual titles. It is widely recognized as the most extensive repository of board game data available. In addition to serving as an information resource, the platform enables users to rate games on a 1–10 scale and to manage their personal game collections.\n",
    "\n",
    "The aim of this project is to build a recommender system that uses data gathered from BoardGameGeek to generate board game recommendations based on user ratings. \n",
    "-item based collaborative filtering\n",
    "Recomendations for selected user"
   ]
  },
  {
   "cell_type": "code",
   "execution_count": 184,
   "outputs": [],
   "source": [
    "# Target user\n",
    "target_user = \"TeemuVataja\""
   ],
   "metadata": {
    "collapsed": false,
    "ExecuteTime": {
     "end_time": "2025-10-06T20:34:54.583361100Z",
     "start_time": "2025-10-06T20:34:54.435187100Z"
    }
   },
   "id": "50a175295596177"
  },
  {
   "cell_type": "markdown",
   "source": [
    "## 2. Data Understanding\n",
    "\n",
    "Feature-rich multi-table dataset full of interesting information about Board Games:\n",
    "[Board Games Database (BoardGameGeek, Kaggle)](https://www.kaggle.com/datasets/threnjen/board-games-database-from-boardgamegeek)\n",
    "\n",
    "This data set includes nine potential files for exploration and/or modeling. The files are as follows:\n",
    "\n",
    "- GAMES - the basic information file with 47 features about each of 22k board games. Primary key is BGGId which is the BoardGameGeek game id.\n",
    "- RATINGS_DISTRIBTION - includes full ratings distribution for each BGGId\n",
    "- THEMES - table of themes for each BGGId\n",
    "- MECHANICS - table of mechanics with binary flags per BGGId\n",
    "- SUBCATEGORIES - table of subcategories with binary flags per BGGId\n",
    "- ARTISTS_REDUCED - gives artist information for each BGGId. This file is reduced to artists with >3 works, with a binary flag indicating the game included an artist with <= 3 works\n",
    "- DESIGNERS_REDUCED - gives designer information for each BGGId. This file is reduced to designers with >3 works, with a binary flag indicating the game included a designer with <= 3 works\n",
    "- PUBLISHERS_REDUCED - gives publisher information for each BGGId. This file is reduced to publishers with >3 works, with a binary flag indicating the game included a publisher with <= 3 works\n",
    "- USER_RATINGS - has all ratings for all BGGId with username. There are over 411k unique users and ~19 million ratings. Use in recommender system.\n",
    "\n",
    "Source for the dataset:  \n",
    "[BoardGameGeek](https://boardgamegeek.com/)\n"
   ],
   "metadata": {
    "collapsed": false
   },
   "id": "c3681d2cd75bb9c3"
  },
  {
   "cell_type": "markdown",
   "source": [
    "kerrotaan miten importataan data Data is imported from the kagglehub "
   ],
   "metadata": {
    "collapsed": false
   },
   "id": "dad0ff0c9fdf9af8"
  },
  {
   "cell_type": "code",
   "execution_count": 185,
   "outputs": [],
   "source": [
    "# Install dependencies as needed:\n",
    "# pip install kagglehub[pandas-datasets]\n",
    "import kagglehub\n",
    "import os\n",
    "import pandas as pd\n",
    "\n",
    "path = kagglehub.dataset_download(\"threnjen/board-games-database-from-boardgamegeek\")\n",
    "\n",
    "#TODO: tuo vaan ne mitä päädytään käyttämään, laita omiin blokkeihin ja selitykset ekaksi markdownina\n",
    "\n",
    "# df_artists = pd.read_csv(os.path.join(path, \"artists_reduced.csv\"))\n",
    "# display(df_artists.head())\n",
    "# \n",
    "# df_designers = pd.read_csv(os.path.join(path, \"designers_reduced.csv\"))\n",
    "# display(df_designers.head())\n",
    "\n",
    "\n",
    "\n",
    "# df_mechanics = pd.read_csv(os.path.join(path, \"mechanics.csv\"))\n",
    "# display(df_mechanics.head())\n",
    "# \n",
    "# df_publishers = pd.read_csv(os.path.join(path, \"publishers_reduced.csv\"))\n",
    "# display(df_publishers.head())\n",
    "\n",
    "# df_ratings_distribution = pd.read_csv(os.path.join(path, \"ratings_distribution.csv\"))\n",
    "# display(df_ratings_distribution.head())\n",
    "\n",
    "# df_subcategories = pd.read_csv(os.path.join(path, \"subcategories.csv\"))\n",
    "# display(df_subcategories.head())\n",
    "\n",
    "# df_themes = pd.read_csv(os.path.join(path, \"themes.csv\"))\n",
    "# display(df_themes.head())\n",
    "\n",
    "\n",
    "\n",
    "# For the documentation file, just preview as text (not tabular)\n",
    "# with open(os.path.join(path, \"bgg_data_documentation.txt\"), \"r\", encoding=\"utf-8\") as f:\n",
    "#     bgg_documentation = f.read()\n",
    "# print(bgg_documentation[:500])  # first 500 characters"
   ],
   "metadata": {
    "collapsed": false,
    "ExecuteTime": {
     "end_time": "2025-10-06T20:34:55.341840600Z",
     "start_time": "2025-10-06T20:34:54.461291900Z"
    }
   },
   "id": "42725a4f7a3b8792"
  },
  {
   "cell_type": "code",
   "execution_count": 186,
   "outputs": [
    {
     "data": {
      "text/plain": "   BGGId            Name                                        Description  \\\n0      1      Die Macher  die macher game seven sequential political rac...   \n1      2    Dragonmaster  dragonmaster tricktaking card game base old ga...   \n2      3         Samurai  samurai set medieval japan player compete gain...   \n3      4  Tal der Könige  triangular box luxurious large block tal der k...   \n4      5         Acquire  acquire player strategically invest business t...   \n\n   YearPublished  GameWeight  AvgRating  BayesAvgRating   StdDev  MinPlayers  \\\n0           1986      4.3206    7.61428         7.10363  1.57979           3   \n1           1981      1.9630    6.64537         5.78447  1.45440           3   \n2           1998      2.4859    7.45601         7.23994  1.18227           2   \n3           1992      2.6667    6.60006         5.67954  1.23129           2   \n4           1964      2.5031    7.33861         7.14189  1.33583           2   \n\n   MaxPlayers  ...  Rank:partygames  Rank:childrensgames  Cat:Thematic  \\\n0           5  ...            21926                21926             0   \n1           4  ...            21926                21926             0   \n2           4  ...            21926                21926             0   \n3           4  ...            21926                21926             0   \n4           6  ...            21926                21926             0   \n\n  Cat:Strategy  Cat:War  Cat:Family  Cat:CGS  Cat:Abstract  Cat:Party  \\\n0            1        0           0        0             0          0   \n1            1        0           0        0             0          0   \n2            1        0           0        0             0          0   \n3            0        0           0        0             0          0   \n4            1        0           0        0             0          0   \n\n   Cat:Childrens  \n0              0  \n1              0  \n2              0  \n3              0  \n4              0  \n\n[5 rows x 48 columns]",
      "text/html": "<div>\n<style scoped>\n    .dataframe tbody tr th:only-of-type {\n        vertical-align: middle;\n    }\n\n    .dataframe tbody tr th {\n        vertical-align: top;\n    }\n\n    .dataframe thead th {\n        text-align: right;\n    }\n</style>\n<table border=\"1\" class=\"dataframe\">\n  <thead>\n    <tr style=\"text-align: right;\">\n      <th></th>\n      <th>BGGId</th>\n      <th>Name</th>\n      <th>Description</th>\n      <th>YearPublished</th>\n      <th>GameWeight</th>\n      <th>AvgRating</th>\n      <th>BayesAvgRating</th>\n      <th>StdDev</th>\n      <th>MinPlayers</th>\n      <th>MaxPlayers</th>\n      <th>...</th>\n      <th>Rank:partygames</th>\n      <th>Rank:childrensgames</th>\n      <th>Cat:Thematic</th>\n      <th>Cat:Strategy</th>\n      <th>Cat:War</th>\n      <th>Cat:Family</th>\n      <th>Cat:CGS</th>\n      <th>Cat:Abstract</th>\n      <th>Cat:Party</th>\n      <th>Cat:Childrens</th>\n    </tr>\n  </thead>\n  <tbody>\n    <tr>\n      <th>0</th>\n      <td>1</td>\n      <td>Die Macher</td>\n      <td>die macher game seven sequential political rac...</td>\n      <td>1986</td>\n      <td>4.3206</td>\n      <td>7.61428</td>\n      <td>7.10363</td>\n      <td>1.57979</td>\n      <td>3</td>\n      <td>5</td>\n      <td>...</td>\n      <td>21926</td>\n      <td>21926</td>\n      <td>0</td>\n      <td>1</td>\n      <td>0</td>\n      <td>0</td>\n      <td>0</td>\n      <td>0</td>\n      <td>0</td>\n      <td>0</td>\n    </tr>\n    <tr>\n      <th>1</th>\n      <td>2</td>\n      <td>Dragonmaster</td>\n      <td>dragonmaster tricktaking card game base old ga...</td>\n      <td>1981</td>\n      <td>1.9630</td>\n      <td>6.64537</td>\n      <td>5.78447</td>\n      <td>1.45440</td>\n      <td>3</td>\n      <td>4</td>\n      <td>...</td>\n      <td>21926</td>\n      <td>21926</td>\n      <td>0</td>\n      <td>1</td>\n      <td>0</td>\n      <td>0</td>\n      <td>0</td>\n      <td>0</td>\n      <td>0</td>\n      <td>0</td>\n    </tr>\n    <tr>\n      <th>2</th>\n      <td>3</td>\n      <td>Samurai</td>\n      <td>samurai set medieval japan player compete gain...</td>\n      <td>1998</td>\n      <td>2.4859</td>\n      <td>7.45601</td>\n      <td>7.23994</td>\n      <td>1.18227</td>\n      <td>2</td>\n      <td>4</td>\n      <td>...</td>\n      <td>21926</td>\n      <td>21926</td>\n      <td>0</td>\n      <td>1</td>\n      <td>0</td>\n      <td>0</td>\n      <td>0</td>\n      <td>0</td>\n      <td>0</td>\n      <td>0</td>\n    </tr>\n    <tr>\n      <th>3</th>\n      <td>4</td>\n      <td>Tal der Könige</td>\n      <td>triangular box luxurious large block tal der k...</td>\n      <td>1992</td>\n      <td>2.6667</td>\n      <td>6.60006</td>\n      <td>5.67954</td>\n      <td>1.23129</td>\n      <td>2</td>\n      <td>4</td>\n      <td>...</td>\n      <td>21926</td>\n      <td>21926</td>\n      <td>0</td>\n      <td>0</td>\n      <td>0</td>\n      <td>0</td>\n      <td>0</td>\n      <td>0</td>\n      <td>0</td>\n      <td>0</td>\n    </tr>\n    <tr>\n      <th>4</th>\n      <td>5</td>\n      <td>Acquire</td>\n      <td>acquire player strategically invest business t...</td>\n      <td>1964</td>\n      <td>2.5031</td>\n      <td>7.33861</td>\n      <td>7.14189</td>\n      <td>1.33583</td>\n      <td>2</td>\n      <td>6</td>\n      <td>...</td>\n      <td>21926</td>\n      <td>21926</td>\n      <td>0</td>\n      <td>1</td>\n      <td>0</td>\n      <td>0</td>\n      <td>0</td>\n      <td>0</td>\n      <td>0</td>\n      <td>0</td>\n    </tr>\n  </tbody>\n</table>\n<p>5 rows × 48 columns</p>\n</div>"
     },
     "metadata": {},
     "output_type": "display_data"
    }
   ],
   "source": [
    "df_games = pd.read_csv(os.path.join(path, \"games.csv\"))\n",
    "display(df_games.head())"
   ],
   "metadata": {
    "collapsed": false,
    "ExecuteTime": {
     "end_time": "2025-10-06T20:34:55.950939300Z",
     "start_time": "2025-10-06T20:34:55.349832500Z"
    }
   },
   "id": "63d8da4501ecbc7c"
  },
  {
   "cell_type": "markdown",
   "source": [
    "TODO df games plot? validate data"
   ],
   "metadata": {
    "collapsed": false
   },
   "id": "2130150bf66df9dc"
  },
  {
   "cell_type": "code",
   "execution_count": 187,
   "outputs": [
    {
     "data": {
      "text/plain": "    BGGId  Rating     Username\n0  213788     8.0    Tonydorrf\n1  213788     8.0   tachyon14k\n2  213788     8.0     Ungotter\n3  213788     8.0  brainlocki3\n4  213788     8.0         PPMP",
      "text/html": "<div>\n<style scoped>\n    .dataframe tbody tr th:only-of-type {\n        vertical-align: middle;\n    }\n\n    .dataframe tbody tr th {\n        vertical-align: top;\n    }\n\n    .dataframe thead th {\n        text-align: right;\n    }\n</style>\n<table border=\"1\" class=\"dataframe\">\n  <thead>\n    <tr style=\"text-align: right;\">\n      <th></th>\n      <th>BGGId</th>\n      <th>Rating</th>\n      <th>Username</th>\n    </tr>\n  </thead>\n  <tbody>\n    <tr>\n      <th>0</th>\n      <td>213788</td>\n      <td>8.0</td>\n      <td>Tonydorrf</td>\n    </tr>\n    <tr>\n      <th>1</th>\n      <td>213788</td>\n      <td>8.0</td>\n      <td>tachyon14k</td>\n    </tr>\n    <tr>\n      <th>2</th>\n      <td>213788</td>\n      <td>8.0</td>\n      <td>Ungotter</td>\n    </tr>\n    <tr>\n      <th>3</th>\n      <td>213788</td>\n      <td>8.0</td>\n      <td>brainlocki3</td>\n    </tr>\n    <tr>\n      <th>4</th>\n      <td>213788</td>\n      <td>8.0</td>\n      <td>PPMP</td>\n    </tr>\n  </tbody>\n</table>\n</div>"
     },
     "metadata": {},
     "output_type": "display_data"
    }
   ],
   "source": [
    "df_user_ratings = pd.read_csv(os.path.join(path, \"user_ratings.csv\"))\n",
    "display(df_user_ratings.head())"
   ],
   "metadata": {
    "collapsed": false,
    "ExecuteTime": {
     "end_time": "2025-10-06T20:35:08.772112100Z",
     "start_time": "2025-10-06T20:34:55.951906600Z"
    }
   },
   "id": "57e68c083395b7e"
  },
  {
   "cell_type": "code",
   "execution_count": 188,
   "outputs": [
    {
     "data": {
      "text/plain": "<Figure size 800x500 with 1 Axes>",
      "image/png": "[encoded data removed]"
     },
     "metadata": {},
     "output_type": "display_data"
    },
    {
     "name": "stdout",
     "output_type": "stream",
     "text": [
      "Information for: TeemuVataja\n",
      "Mean: 6.86, Standard deviation: 1.48\n"
     ]
    },
    {
     "data": {
      "text/plain": "<Figure size 800x500 with 1 Axes>",
      "image/png": "[encoded data removed]"
     },
     "metadata": {},
     "output_type": "display_data"
    },
    {
     "name": "stdout",
     "output_type": "stream",
     "text": [
      "Information for: All users\n",
      "Mean: 7.13, Standard deviation: 1.54\n"
     ]
    }
   ],
   "source": [
    "import numpy as np\n",
    "import seaborn as sns\n",
    "import matplotlib.pyplot as plt\n",
    "\n",
    "def create_distribution_histrogram(title,user_data):\n",
    "    \n",
    "    bins = np.arange(1, 11 + 0.5, 0.5)\n",
    "\n",
    "    #display(user_data.values.unique().count())\n",
    " \n",
    "    # Laske keskiarvo ja keskihajonta\n",
    "    mu = np.mean(user_data)\n",
    "    sigma = np.std(user_data, ddof=1)\n",
    "    \n",
    "    \n",
    "    # Piirrä histogrammi\n",
    "    plt.figure(figsize=(8,5))\n",
    "    sns.histplot(user_data, stat='density', bins=bins, kde=False, color='skyblue', edgecolor='black')\n",
    "    \n",
    "    # Laske ja piirrä teoreettinen normaalijakauma\n",
    "    x = np.linspace(min(user_data)-1, max(user_data)+1, 200)\n",
    "    pdf = (1 / (sigma * np.sqrt(2 * np.pi))) * np.exp(-0.5 * ((x - mu) / sigma) ** 2)\n",
    "    plt.plot(x, pdf, color='red', linewidth=2, label=f'Norm({mu:.2f}, {sigma:.2f})')\n",
    "    \n",
    "    # Aseta otsikot ja legendat\n",
    "    plt.title(f'{title} Distribution of Ratings and Theoretical Normal Curve')\n",
    "    plt.xticks(range(1, 11))    \n",
    "\n",
    "    plt.xlabel('Grade')\n",
    "    plt.ylabel('Density')\n",
    "    plt.legend()\n",
    "    plt.grid(alpha=0.2)\n",
    "    plt.show() \n",
    "    print(f\"Information for: {title}\")\n",
    "    print(f\"Mean: {mu:.2f}, Standard deviation: {sigma:.2f}\")\n",
    "\n",
    "    \n",
    "    \n",
    "user_data = df_user_ratings[df_user_ratings[\"Username\"] == target_user][\"Rating\"]\n",
    "create_distribution_histrogram(target_user,user_data)\n",
    "all_users_data =df_user_ratings[\"Rating\"]\n",
    "create_distribution_histrogram(\"All users\",all_users_data)"
   ],
   "metadata": {
    "collapsed": false,
    "ExecuteTime": {
     "end_time": "2025-10-06T20:35:26.558770500Z",
     "start_time": "2025-10-06T20:35:08.767107400Z"
    }
   },
   "id": "da7264edb62544dd"
  },
  {
   "cell_type": "markdown",
   "source": [
    "\n",
    "validate data\n"
   ],
   "metadata": {
    "collapsed": false
   },
   "id": "5c5275a76dda6aa"
  },
  {
   "cell_type": "markdown",
   "source": [
    "GAMES\n",
    "\tBGGId\t\t\tBoardGameGeek game ID\n",
    "\tName\t\t\tName of game\n",
    "\tDescription\t\tDescription, stripped of punctuation and lemmatized\n",
    "\tYearPublished\t\tFirst year game published\n",
    "\tGameWeight\t\tGame difficulty/complexity\n",
    "\tAvgRating\t\tAverage user rating for game\n",
    "\tBayesAvgRating\t\tBayes weighted average for game (x # of average reviews applied)\n",
    "\tStdDev\t\t\tStandard deviation of Bayes Avg\n",
    "\tMinPlayers\t\tMinimum number of players\n",
    "\tMaxPlayers\t\tMaximun number of players\n",
    "\tComAgeRec\t\tCommunity's recommended age minimum\n",
    "\tLanguageEase\t\tLanguage requirement\n",
    "\tBestPlayers\t\tCommunity voted best player count\n",
    "\tGoodPlayers\t\tList of community voted good plater counts\n",
    "\tNumOwned\t\tNumber of users who own this game\n",
    "\tNumWant\t\t\tNumber of users who want this game\n",
    "\tNumWish\t\t\tNumber of users who wishlisted this game\n",
    "\tNumWeightVotes\t\t? Unknown\n",
    "\tMfgPlayTime\t\tManufacturer Stated Play Time\n",
    "\tComMinPlaytime\t\tCommunity minimum play time\n",
    "\tComMaxPlaytime\t\tCommunity maximum play time\n",
    "\tMfgAgeRec\t\tManufacturer Age Recommendation\n",
    "\tNumUserRatings\t\tNumber of user ratings\n",
    "\tNumComments\t\tNumber of user comments\n",
    "\tNumAlternates\t\tNumber of alternate versions\n",
    "\tNumExpansions\t\tNumber of expansions\n",
    "\tNumImplementations\tNumber of implementations\n",
    "\tIsReimplementation\tBinary - Is this listing a reimplementation? \n",
    "\tFamily\t\t\tGame family\n",
    "\tKickstarted\t\tBinary - Is this a kickstarter?\n",
    "\tImagePath\t\tImage http:// path\n",
    "\tRank:boardgame\t\tRank for boardgames overall\n",
    "\tRank:strategygames\tRank in strategy games\n",
    "\tRank:abstracts\t\tRank in abstracts\n",
    "\tRank:familygames\tRank in family games\n",
    "\tRank:thematic\t\tRank in thematic\n",
    "\tRank:cgs\t\tRank in card games\n",
    "\tRank:wargames\t\tRank in war games\n",
    "\tRank:partygames\t\tRank in party games\n",
    "\tRank:childrensgames\tRank in children's games\n",
    "\tCat:Thematic\t\tBinary is in Thematic category\n",
    "\tCat:Strategy\t\tBinary is in Strategy category\n",
    "\tCat:War\t\t\tBinary is in War category\n",
    "\tCat:Family\t\tBinary is in Family category\n",
    "\tCat:CGS\t\t\tBinary is in Card Games category\n",
    "\tCat:Abstract\t\tBinary is in Abstract category\n",
    "\tCat:Party\t\tBinary is in Party category\n",
    "\tCat:Childrens\t\tBinary is in Childrens category\n",
    "\n",
    "\n",
    "MECHANICS\n",
    "\tBGGId\t\t\tBoardGameGeek game ID\t\n",
    "\tRemaining headers are various mechanics with binary flag\n",
    "\n",
    "\n",
    "THEMES\n",
    "\tBGGId\t\t\tBoardGameGeek game ID\n",
    "\tRemaining headers are various themes with binary flag\n",
    "\n",
    "\n",
    "SUBCATEGORIES\n",
    "\tBGGId\t\t\tBoardGameGeek game ID\n",
    "\tRemaining headers are various subcategories with binary flag\n",
    "\n",
    "\n",
    "ARTISTS_REDUCED\n",
    "\tBGGId\t\t\tBoardGameGeek game ID\n",
    "\tLow-Exp Artist\t\tIndicates game has an unlisted artist with <= 3 entries\n",
    "\tRemaining headers are various artists with binary flag\n",
    "\n",
    "\n",
    "DESIGNERS_REDUCED\n",
    "\tBGGId\t\t\tBoardGameGeek game ID\n",
    "\tLow-Exp Designer\tIndicates game has an unlisted designer with <= 3 entries\n",
    "\tRemaining headers are various subcategories with binary flag\n",
    "\n",
    "\n",
    "PUBLISHERS_REDUCED\n",
    "\tBGGId\t\t\tBoardGameGeek game ID\n",
    "\tLow-Exp Publisher\tIndicated games has an unlisted publisher with <= 3 entries\n",
    "\tRemaining headers are various subcategories with binary flag\n",
    "\n",
    "\n",
    "USER_RATINGS\n",
    "\tBGGId\t\t\tBoardGameGeek game ID\t\n",
    "\tRating\t\t\tRaw rating given by user\n",
    "\tUsername\t\tUser giving rating\n",
    "\n",
    "\n",
    "RATINGS_DISTRIBUTION\n",
    "\tBGGId\t\t\tBoardGameGeek game ID\n",
    "\tNumbers 0.0-10.0\tNumber of ratings per rating header\n",
    "\ttotal_ratings\t\tTotal number of ratings for game"
   ],
   "metadata": {
    "collapsed": false
   },
   "id": "eb906b1f9929b47c"
  },
  {
   "cell_type": "markdown",
   "source": [
    "## 3. Data Preparation"
   ],
   "metadata": {
    "collapsed": false
   },
   "id": "2da1ed4fcb95bda6"
  },
  {
   "cell_type": "markdown",
   "source": [
    "## User table is consisted with combined data from ratings. Rating count is added to give information how many ratings user has made."
   ],
   "metadata": {
    "collapsed": false
   },
   "id": "60711db3d93ad4ba"
  },
  {
   "cell_type": "code",
   "execution_count": 189,
   "id": "831fdd6cfb0ded84",
   "metadata": {
    "collapsed": false,
    "ExecuteTime": {
     "end_time": "2025-10-06T20:35:35.668200300Z",
     "start_time": "2025-10-06T20:35:26.563831800Z"
    }
   },
   "outputs": [
    {
     "name": "stdout",
     "output_type": "stream",
     "text": [
      "Total number of users:\n"
     ]
    },
    {
     "data": {
      "text/plain": "411374"
     },
     "metadata": {},
     "output_type": "display_data"
    },
    {
     "name": "stdout",
     "output_type": "stream",
     "text": [
      "User table\n"
     ]
    },
    {
     "data": {
      "text/plain": "   UserId           Username  RatingCount\n0       0          Fu_Koios             2\n1       1           beastvol            9\n2       2            mycroft           14\n3       3                woh            5\n4       4  (mostly) harmless            1",
      "text/html": "<div>\n<style scoped>\n    .dataframe tbody tr th:only-of-type {\n        vertical-align: middle;\n    }\n\n    .dataframe tbody tr th {\n        vertical-align: top;\n    }\n\n    .dataframe thead th {\n        text-align: right;\n    }\n</style>\n<table border=\"1\" class=\"dataframe\">\n  <thead>\n    <tr style=\"text-align: right;\">\n      <th></th>\n      <th>UserId</th>\n      <th>Username</th>\n      <th>RatingCount</th>\n    </tr>\n  </thead>\n  <tbody>\n    <tr>\n      <th>0</th>\n      <td>0</td>\n      <td>Fu_Koios</td>\n      <td>2</td>\n    </tr>\n    <tr>\n      <th>1</th>\n      <td>1</td>\n      <td>beastvol</td>\n      <td>9</td>\n    </tr>\n    <tr>\n      <th>2</th>\n      <td>2</td>\n      <td>mycroft</td>\n      <td>14</td>\n    </tr>\n    <tr>\n      <th>3</th>\n      <td>3</td>\n      <td>woh</td>\n      <td>5</td>\n    </tr>\n    <tr>\n      <th>4</th>\n      <td>4</td>\n      <td>(mostly) harmless</td>\n      <td>1</td>\n    </tr>\n  </tbody>\n</table>\n</div>"
     },
     "metadata": {},
     "output_type": "display_data"
    },
    {
     "name": "stdout",
     "output_type": "stream",
     "text": [
      "User rating table\n"
     ]
    },
    {
     "data": {
      "text/plain": "    BGGId  Rating     Username\n0  213788     8.0    Tonydorrf\n1  213788     8.0   tachyon14k\n2  213788     8.0     Ungotter\n3  213788     8.0  brainlocki3\n4  213788     8.0         PPMP",
      "text/html": "<div>\n<style scoped>\n    .dataframe tbody tr th:only-of-type {\n        vertical-align: middle;\n    }\n\n    .dataframe tbody tr th {\n        vertical-align: top;\n    }\n\n    .dataframe thead th {\n        text-align: right;\n    }\n</style>\n<table border=\"1\" class=\"dataframe\">\n  <thead>\n    <tr style=\"text-align: right;\">\n      <th></th>\n      <th>BGGId</th>\n      <th>Rating</th>\n      <th>Username</th>\n    </tr>\n  </thead>\n  <tbody>\n    <tr>\n      <th>0</th>\n      <td>213788</td>\n      <td>8.0</td>\n      <td>Tonydorrf</td>\n    </tr>\n    <tr>\n      <th>1</th>\n      <td>213788</td>\n      <td>8.0</td>\n      <td>tachyon14k</td>\n    </tr>\n    <tr>\n      <th>2</th>\n      <td>213788</td>\n      <td>8.0</td>\n      <td>Ungotter</td>\n    </tr>\n    <tr>\n      <th>3</th>\n      <td>213788</td>\n      <td>8.0</td>\n      <td>brainlocki3</td>\n    </tr>\n    <tr>\n      <th>4</th>\n      <td>213788</td>\n      <td>8.0</td>\n      <td>PPMP</td>\n    </tr>\n  </tbody>\n</table>\n</div>"
     },
     "metadata": {},
     "output_type": "display_data"
    },
    {
     "name": "stdout",
     "output_type": "stream",
     "text": [
      "Selected user table\n"
     ]
    },
    {
     "data": {
      "text/plain": "        UserId     Username  RatingCount\n187874  187874  TeemuVataja          206",
      "text/html": "<div>\n<style scoped>\n    .dataframe tbody tr th:only-of-type {\n        vertical-align: middle;\n    }\n\n    .dataframe tbody tr th {\n        vertical-align: top;\n    }\n\n    .dataframe thead th {\n        text-align: right;\n    }\n</style>\n<table border=\"1\" class=\"dataframe\">\n  <thead>\n    <tr style=\"text-align: right;\">\n      <th></th>\n      <th>UserId</th>\n      <th>Username</th>\n      <th>RatingCount</th>\n    </tr>\n  </thead>\n  <tbody>\n    <tr>\n      <th>187874</th>\n      <td>187874</td>\n      <td>TeemuVataja</td>\n      <td>206</td>\n    </tr>\n  </tbody>\n</table>\n</div>"
     },
     "metadata": {},
     "output_type": "display_data"
    }
   ],
   "source": [
    "from surprise import Reader, Dataset\n",
    "\n",
    "# Example df_user_ratings has columns: Username, Item, Rating\n",
    "\n",
    "# Build user table with unique IDs and rating counts\n",
    "# If we ever need a dataframe without ratings just copy df_users before this step\n",
    "df_users = (\n",
    "    df_user_ratings.groupby(\"Username\")\n",
    "    .size()  # counts ratings per user\n",
    "    .reset_index(name=\"RatingCount\")\n",
    "    .reset_index(names=\"UserId\")  # create UserId from row index\n",
    ")\n",
    "\n",
    "#TODO: printtejä\n",
    "\n",
    "print(\"Total number of users:\")\n",
    "display(len(df_users))\n",
    "\n",
    "print(\"User table\")\n",
    "display(df_users.head())\n",
    "\n",
    "print(\"User rating table\")\n",
    "display(df_user_ratings.head())\n",
    "\n",
    "print(\"Selected user table\")\n",
    "display(df_users[df_users[\"Username\"] == target_user])"
   ]
  },
  {
   "cell_type": "markdown",
   "source": [
    "## Users with less than  10 ratings are filtered out from the data"
   ],
   "metadata": {
    "collapsed": false
   },
   "id": "40778c0e01b62976"
  },
  {
   "cell_type": "code",
   "execution_count": 190,
   "outputs": [
    {
     "data": {
      "text/plain": "<Figure size 600x500 with 1 Axes>",
      "image/png": "[encoded data removed]"
     },
     "metadata": {},
     "output_type": "display_data"
    }
   ],
   "source": [
    "#print(f\"Length of users set before reduction: {len(df_users)}\")\n",
    "\n",
    "df_users_reduced = df_users[df_users['RatingCount'] >= 10]\n",
    "\n",
    "#print(f\"Length of users set after reduction: {len(df_users_reduced)}\")\n",
    "\n",
    "# Examples\n",
    "before = len(df_users)\n",
    "after = len(df_users_reduced)\n",
    "\n",
    "# Data and labels\n",
    "counts = [before, after]\n",
    "labels = ['Before reduction', 'After reduction']\n",
    "\n",
    "# Draw diagram\n",
    "plt.figure(figsize=(6,5))\n",
    "bars = plt.bar(labels, counts, color=['skyblue', 'salmon'], edgecolor='black')\n",
    "\n",
    "# Add numbers to on top of bar\n",
    "for bar in bars:\n",
    "    height = bar.get_height()\n",
    "    plt.text(bar.get_x() + bar.get_width()/2, height + 1, str(height), ha='center', va='bottom', fontsize=12, fontweight='bold')\n",
    "\n",
    "plt.ylabel('Number of Users')\n",
    "plt.title('Number of Users Before and After Reduction')\n",
    "plt.grid(axis='y', alpha=0.2)\n",
    "plt.show()"
   ],
   "metadata": {
    "collapsed": false,
    "ExecuteTime": {
     "end_time": "2025-10-06T20:35:35.955711800Z",
     "start_time": "2025-10-06T20:35:35.646674600Z"
    }
   },
   "id": "7c34eabf8e9623a7"
  },
  {
   "cell_type": "markdown",
   "source": [
    "## Games less than 100 reviews are filtered out from the data"
   ],
   "metadata": {
    "collapsed": false
   },
   "id": "673f2d7646146fcf"
  },
  {
   "cell_type": "code",
   "execution_count": 191,
   "id": "5a8776087cf54aad",
   "metadata": {
    "collapsed": false,
    "ExecuteTime": {
     "end_time": "2025-10-06T20:35:36.087744500Z",
     "start_time": "2025-10-06T20:35:35.887711300Z"
    }
   },
   "outputs": [
    {
     "data": {
      "text/plain": "<Figure size 600x500 with 1 Axes>",
      "image/png": "[encoded data removed]"
     },
     "metadata": {},
     "output_type": "display_data"
    }
   ],
   "source": [
    "#print(f\"Length of games set before reduction: {len(df_games)}\")\n",
    "\n",
    "df_games_reduced = df_games[df_games['NumUserRatings'] >= 100]\n",
    "\n",
    "#print(f\"Length of games set after reduction: {len(df_games_reduced)}\")\n",
    "import matplotlib.pyplot as plt\n",
    "\n",
    "# Examples\n",
    "before = len(df_games)\n",
    "after = len(df_games_reduced)\n",
    "\n",
    "# Data and labels\n",
    "counts = [before, after]\n",
    "labels = ['Before reduction', 'After reduction']\n",
    "\n",
    "# Draw diagram\n",
    "plt.figure(figsize=(6,5))\n",
    "bars = plt.bar(labels, counts, color=['lightgreen', 'orange'], edgecolor='black')\n",
    "\n",
    "# Add numbers to on top of bar\n",
    "for bar in bars:\n",
    "    height = bar.get_height()\n",
    "    plt.text(bar.get_x() + bar.get_width()/2, height + 1, str(height), ha='center', va='bottom', fontsize=12, fontweight='bold')\n",
    "\n",
    "plt.ylabel('Number of Games')\n",
    "plt.title('Number of Games Before and After Reduction')\n",
    "plt.grid(axis='y', alpha=0.2)\n",
    "plt.show()"
   ]
  },
  {
   "cell_type": "markdown",
   "source": [],
   "metadata": {
    "collapsed": false
   },
   "id": "35225e75c786dc89"
  },
  {
   "cell_type": "markdown",
   "source": [
    "## Here you can see how little reducing  users and games affected to ratings count. Data will be half of its size but relevant information in not greatly affected"
   ],
   "metadata": {
    "collapsed": false
   },
   "id": "cd1889120e966bf3"
  },
  {
   "cell_type": "code",
   "execution_count": 192,
   "outputs": [
    {
     "data": {
      "text/plain": "<Figure size 800x500 with 1 Axes>",
      "image/png": "[encoded data removed]"
     },
     "metadata": {},
     "output_type": "display_data"
    }
   ],
   "source": [
    "#print(f\"Length of ratings set before reduction: {len(df_user_ratings)}\")\n",
    "\n",
    "df_ratings_reduced = df_user_ratings[df_user_ratings[\"BGGId\"].isin(df_games_reduced[\"BGGId\"])]\n",
    "df_ratings_reduced = df_ratings_reduced[df_ratings_reduced[\"Username\"].isin(df_users_reduced[\"Username\"])]\n",
    "\n",
    "#print(f\"Length of ratings set after reduction: {len(df_ratings_reduced)}\")\n",
    "#print(f\"Valid ratings after pruning for target user: {len(df_ratings_reduced[df_ratings_reduced['Username'] == target_user])}\")\n",
    "\n",
    "before = len(df_user_ratings)\n",
    "after = len(df_ratings_reduced)\n",
    "target_user_count_before = len(df_user_ratings[df_user_ratings['Username'] == target_user])\n",
    "target_user_count_after = len(df_ratings_reduced[df_ratings_reduced['Username'] == target_user])\n",
    "\n",
    "# Data and labels\n",
    "counts = [before, after, target_user_count_before, target_user_count_after]\n",
    "labels = ['All Ratings', 'After Reduction', f'{target_user} \\nRatings Before',  f'{target_user} \\nRatings After']\n",
    "\n",
    "# Draw diagram\n",
    "plt.figure(figsize=(8,5))\n",
    "bars = plt.bar(labels, counts, color=['skyblue', 'salmon', 'lightgreen', 'orange'], edgecolor='black')\n",
    "\n",
    "# Add numbers on top of bars\n",
    "for bar in bars:\n",
    "    height = bar.get_height()\n",
    "    plt.text(bar.get_x() + bar.get_width()/2, height + 5, str(height), ha='center', va='bottom', fontsize=11, fontweight='bold')\n",
    "\n",
    "plt.ylabel('Number of Ratings')\n",
    "plt.title('Ratings Before and After Reduction')\n",
    "plt.grid(axis='y', alpha=0.2)\n",
    "plt.show()\n"
   ],
   "metadata": {
    "collapsed": false,
    "ExecuteTime": {
     "end_time": "2025-10-06T20:35:47.786839100Z",
     "start_time": "2025-10-06T20:35:36.074758700Z"
    }
   },
   "id": "a40a49ee4ea64d9"
  },
  {
   "cell_type": "code",
   "execution_count": 192,
   "outputs": [],
   "source": [],
   "metadata": {
    "collapsed": false,
    "ExecuteTime": {
     "end_time": "2025-10-06T20:35:47.796838100Z",
     "start_time": "2025-10-06T20:35:47.782842600Z"
    }
   },
   "id": "3e77be3e1fd8fb89"
  },
  {
   "cell_type": "markdown",
   "source": [
    "## 4. Modeling\n"
   ],
   "metadata": {
    "collapsed": false
   },
   "id": "7208eaa952d55178"
  },
  {
   "cell_type": "markdown",
   "source": [
    "Selitä mitä nyt tehdään\n",
    "# SVD = item x item\n",
    "# KNN = user x user\n",
    "Mallin luonti ja tallennus tietokoneelle. Jos ei luotu niin kouluttaa sen ja tallentaa"
   ],
   "metadata": {
    "collapsed": false
   },
   "id": "cb07f935522851b"
  },
  {
   "cell_type": "code",
   "execution_count": 193,
   "outputs": [],
   "source": [
    "from surprise import SVD, dump\n",
    "from surprise.model_selection import train_test_split\n",
    "import os\n",
    "\n",
    "def create_surprise_dataset(df, user_id, item_id, ratings, reader):\n",
    "    return Dataset.load_from_df(df[[user_id, item_id, ratings]], reader)\n",
    "\n",
    "data = create_surprise_dataset(df_ratings_reduced, \"Username\", \"BGGId\", \"Rating\", Reader(rating_scale=(0.0, 10.0)))\n",
    "\n",
    "# def load_test_model(model_name, algo, force_recreate=False):\n",
    "#     if not os.path.exists(model_name) or force_recreate:\n",
    "#         surprise_dataset = create_surprise_dataset(df_ratings_reduced, \"Username\", \"BGGId\", \"Rating\", Reader(rating_scale=(0.0, 10.0))) # First create surprise dataset from an existing Pandas Dataframe. Hardcoded for now\n",
    "#         trainset, testset = train_test_split(surprise_dataset, test_size=0.2)\n",
    "#         algo.fit(trainset)\n",
    "#         #surprise_trainset = surprise_dataset.build_full_trainset() # Then build the trainset\n",
    "#         #algo.fit(surprise_trainset) # Lastly create the model using said training set\n",
    "#         \n",
    "#         dump.dump(model_name, algo=algo)\n",
    "#         return algo, testset\n",
    "# \n",
    "#     _, algo = dump.load(model_name)\n",
    "#     return algo\n",
    "# \n",
    "# model, testset = load_test_model(\"testmodel.pkl\", SVD(n_factors=50, random_state=666))"
   ],
   "metadata": {
    "collapsed": false,
    "ExecuteTime": {
     "end_time": "2025-10-06T20:36:24.767969100Z",
     "start_time": "2025-10-06T20:35:47.854840400Z"
    }
   },
   "id": "39a75ef37609ff92"
  },
  {
   "cell_type": "markdown",
   "source": [
    "predictions funktiot."
   ],
   "metadata": {
    "collapsed": false
   },
   "id": "3a7f16c7a899b043"
  },
  {
   "cell_type": "code",
   "execution_count": 194,
   "outputs": [],
   "source": [
    "import numpy as np\n",
    "from sklearn.metrics.pairwise import cosine_similarity\n",
    "\n",
    "def top_similar_users(username, model, top_n=10):\n",
    "    \"\"\"\n",
    "    Returns top-N similar users to a given username (raw ID).\n",
    "    \"\"\"\n",
    "    try:\n",
    "        inner_uid = model.trainset.to_inner_uid(username)\n",
    "    except ValueError:\n",
    "        return []\n",
    "\n",
    "    user_vec = model.pu[inner_uid].reshape(1, -1)\n",
    "    sims = cosine_similarity(user_vec, model.pu)[0]\n",
    "\n",
    "    # Exclude self\n",
    "    top_inner = np.argsort(-sims)[1:top_n+1]\n",
    "    return [model.trainset.to_raw_uid(i) for i in top_inner]\n"
   ],
   "metadata": {
    "collapsed": false,
    "ExecuteTime": {
     "end_time": "2025-10-06T20:36:24.804359600Z",
     "start_time": "2025-10-06T20:36:24.786151800Z"
    }
   },
   "id": "5d40db5e197b691f"
  },
  {
   "cell_type": "markdown",
   "source": [
    "Selitystä"
   ],
   "metadata": {
    "collapsed": false
   },
   "id": "17232db075b13393"
  },
  {
   "cell_type": "code",
   "execution_count": 195,
   "outputs": [],
   "source": [
    "\n",
    "def user_predictions(username, model, top_n_items=None):\n",
    "    \"\"\"\n",
    "    Predict ratings for all unseen items for a given username.\n",
    "    Optionally, return only top-N items.\n",
    "    \"\"\"\n",
    "    try:\n",
    "        inner_uid = model.trainset.to_inner_uid(username)\n",
    "    except ValueError:\n",
    "        return []\n",
    "\n",
    "    # Items already rated by user\n",
    "    user_items = {iid for (iid, _) in model.trainset.ur[inner_uid]}\n",
    "    all_items = set(range(model.trainset.n_items))\n",
    "    unseen_items = all_items - user_items\n",
    "\n",
    "    # Build test set (user x unseen items)\n",
    "    testset = [(username, model.trainset.to_raw_iid(i), 0.) for i in unseen_items]\n",
    "\n",
    "    # Get predictions\n",
    "    predictions = model.test(testset)\n",
    "\n",
    "    # Optionally keep top-N items\n",
    "    if top_n_items:\n",
    "        predictions = sorted(predictions, key=lambda x: x.est, reverse=True)[:top_n_items]\n",
    "\n",
    "    return predictions\n"
   ],
   "metadata": {
    "collapsed": false,
    "ExecuteTime": {
     "end_time": "2025-10-06T20:36:24.858321600Z",
     "start_time": "2025-10-06T20:36:24.817357900Z"
    }
   },
   "id": "dc97fcc77a7c592a"
  },
  {
   "cell_type": "markdown",
   "source": [
    "Selitystä"
   ],
   "metadata": {
    "collapsed": false
   },
   "id": "9e20df85424e7ae2"
  },
  {
   "cell_type": "code",
   "execution_count": 196,
   "outputs": [],
   "source": [
    "def user_predictions_from_similar(username, model, top_n_users=1000, top_n_items=10):\n",
    "    \"\"\"\n",
    "    Predict items for a user based on items liked by similar users.\n",
    "    \"\"\"\n",
    "    similar_users = top_similar_users(username, model, top_n=top_n_users)\n",
    "\n",
    "    # Collect items rated by similar users\n",
    "    similar_items = set()\n",
    "    for su in similar_users:\n",
    "        inner_uid = model.trainset.to_inner_uid(su)\n",
    "        similar_items.update([model.trainset.to_raw_iid(iid) for (iid, _) in model.trainset.ur[inner_uid]])\n",
    "\n",
    "    # Filter out items already rated by target user\n",
    "    inner_uid_target = model.trainset.to_inner_uid(username)\n",
    "    user_items = {model.trainset.to_raw_iid(iid) for (iid, _) in model.trainset.ur[inner_uid_target]}\n",
    "    candidate_items = similar_items - user_items\n",
    "\n",
    "    # Build test set and predict\n",
    "    testset = [(username, iid, 0.) for iid in candidate_items]\n",
    "    predictions = model.test(testset)\n",
    "    predictions = sorted(predictions, key=lambda x: x.est, reverse=True)[:top_n_items]\n",
    "\n",
    "    return predictions\n"
   ],
   "metadata": {
    "collapsed": false,
    "ExecuteTime": {
     "end_time": "2025-10-06T20:36:24.871361400Z",
     "start_time": "2025-10-06T20:36:24.858321600Z"
    }
   },
   "id": "832d8d2a1d399344"
  },
  {
   "cell_type": "markdown",
   "source": [
    "Selitystä"
   ],
   "metadata": {
    "collapsed": false
   },
   "id": "393fd2e72ef64cc0"
  },
  {
   "cell_type": "markdown",
   "id": "fe5a72235e1289ec",
   "metadata": {
    "collapsed": false
   },
   "source": [
    "## 5. Evaluation"
   ]
  },
  {
   "cell_type": "code",
   "execution_count": null,
   "outputs": [],
   "source": [
    "from surprise.model_selection import cross_validate\n",
    "\n",
    "cross_validate(SVD(n_factors=50, random_state=666), data, measures=[\"RMSE\", \"MAE\"], cv=3, return_train_measures=True, verbose=True)"
   ],
   "metadata": {
    "collapsed": false,
    "is_executing": true,
    "ExecuteTime": {
     "start_time": "2025-10-06T20:36:24.875362Z"
    }
   },
   "id": "a7c62ff076d36df0"
  },
  {
   "cell_type": "markdown",
   "id": "eb73bfdfd9f6fa65",
   "metadata": {
    "collapsed": false
   },
   "source": [
    "## 6. Deployment"
   ]
  },
  {
   "cell_type": "code",
   "execution_count": null,
   "outputs": [],
   "source": [
    "def load_surprise_model(model_name, algo, force_recreate=False):\n",
    "    if not os.path.exists(model_name) or force_recreate:\n",
    "        surprise_dataset = create_surprise_dataset(df_ratings_reduced, \"Username\", \"BGGId\", \"Rating\", Reader(rating_scale=(0.0, 10.0))) # First create surprise dataset from an existing Pandas Dataframe. Hardcoded for now\n",
    "        surprise_trainset = surprise_dataset.build_full_trainset() # Then build the trainset\n",
    "        algo.fit(surprise_trainset) # Lastly create the model using said training set\n",
    "        \n",
    "        dump.dump(model_name, algo=algo)\n",
    "        return algo\n",
    "\n",
    "    _, algo = dump.load(model_name)\n",
    "    return algo\n",
    "\n",
    "model = load_surprise_model(\"model.pkl\", SVD(n_factors=50,random_state=666))\n",
    "\n",
    "##tehdään tällä juttutja"
   ],
   "metadata": {
    "collapsed": false,
    "is_executing": true
   },
   "id": "312be1e03fedafd2"
  },
  {
   "cell_type": "markdown",
   "source": [
    "tähän juttuja mallin luonnista"
   ],
   "metadata": {
    "collapsed": false
   },
   "id": "364e1693f1d51deb"
  },
  {
   "cell_type": "code",
   "execution_count": null,
   "outputs": [],
   "source": [
    "#TODO: poista sarakkeita tulostuksesta\n",
    "# Example usage\n",
    "predictions = user_predictions_from_similar(target_user, model)\n",
    "\n",
    "top10 = sorted(predictions, key=lambda x: x.est, reverse=True)\n",
    "for pred in top10:\n",
    "    print(pred.iid, pred.est)\n",
    "    display(df_games_reduced[df_games_reduced[\"BGGId\"] == pred.iid])\n",
    "    "
   ],
   "metadata": {
    "collapsed": false,
    "is_executing": true
   },
   "id": "65d47318831d432c"
  },
  {
   "cell_type": "markdown",
   "source": [
    "ajatuksia"
   ],
   "metadata": {
    "collapsed": false
   },
   "id": "8a03434e41cc693"
  }
 ],
 "metadata": {
  "kernelspec": {
   "display_name": ".venv",
   "language": "python",
   "name": "python3"
  },
  "language_info": {
   "codemirror_mode": {
    "name": "ipython",
    "version": 3
   },
   "file_extension": ".py",
   "mimetype": "text/x-python",
   "name": "python",
   "nbconvert_exporter": "python",
   "pygments_lexer": "ipython3",
   "version": "3.11.13"
  }
 },
 "nbformat": 4,
 "nbformat_minor": 5
}
