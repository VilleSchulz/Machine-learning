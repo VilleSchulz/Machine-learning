{
 "cells": [
  {
   "cell_type": "markdown",
   "id": "c81e98924bf071a7",
   "metadata": {
    "collapsed": false
   },
   "source": [
    "# Boardgame Recommender"
   ]
  },
  {
   "cell_type": "markdown",
   "id": "a4c9cc9a54ec6412",
   "metadata": {
    "collapsed": false
   },
   "source": [
    "## 1. Business Understanding\n",
    "\n",
    "**BoardGameGeek** is a comprehensive online database that consists of over 125,600 board games, providing access to reviews, discussion forums, and detailed information on individual titles. It is widely recognized as the most extensive repository of board game data available. In addition to serving as an information resource, the platform enables users to rate games on a 1–10 scale and to manage their personal game collections.\n",
    "\n",
    "The goal of this project is to develop a recommender system that leverages data from BoardGameGeek to suggest board games to users. We chose a matrix factorization collaborative filtering approach, using community rating data to learn latent features of users and games. The system generates personalized recommendations for a selected user, based on their past ratings."
   ]
  },
  {
   "cell_type": "markdown",
   "id": "c3681d2cd75bb9c3",
   "metadata": {
    "collapsed": false
   },
   "source": [
    "## 2. Data Understanding\n",
    "\n",
    "Feature-rich multi-table dataset full of interesting information about Board Games:\n",
    "[Board Games Database (BoardGameGeek, Kaggle)](https://www.kaggle.com/datasets/threnjen/board-games-database-from-boardgamegeek)\n",
    "\n",
    "This data set includes nine potential files for exploration and/or modeling. The files are as follows:\n",
    "\n",
    "- GAMES - the basic information file with 47 features about each of 22k board games. Primary key is BGGId which is the BoardGameGeek game id.\n",
    "- RATINGS_DISTRIBTION - includes full ratings distribution for each BGGId\n",
    "- THEMES - table of themes for each BGGId\n",
    "- MECHANICS - table of mechanics with binary flags per BGGId\n",
    "- SUBCATEGORIES - table of subcategories with binary flags per BGGId\n",
    "- ARTISTS_REDUCED - gives artist information for each BGGId. This file is reduced to artists with >3 works, with a binary flag indicating the game included an artist with <= 3 works\n",
    "- DESIGNERS_REDUCED - gives designer information for each BGGId. This file is reduced to designers with >3 works, with a binary flag indicating the game included a designer with <= 3 works\n",
    "- PUBLISHERS_REDUCED - gives publisher information for each BGGId. This file is reduced to publishers with >3 works, with a binary flag indicating the game included a publisher with <= 3 works\n",
    "- USER_RATINGS - has all ratings for all BGGId with username. There are over 411k unique users and ~19 million ratings. Use in recommender system.\n",
    "\n",
    "Source for the dataset:  \n",
    "[BoardGameGeek](https://boardgamegeek.com/)\n"
   ]
  },
  {
   "cell_type": "markdown",
   "id": "dad0ff0c9fdf9af8",
   "metadata": {
    "collapsed": false
   },
   "source": [
    "kerrotaan miten importataan data Data is imported from the kagglehub "
   ]
  },
  {
   "cell_type": "code",
   "execution_count": 100,
   "outputs": [],
   "source": [
    "# Install dependencies as needed:\n",
    "# pip install kagglehub[pandas-datasets]\n",
    "import kagglehub\n",
    "import os\n",
    "import pandas as pd\n",
    "\n",
    "path = kagglehub.dataset_download(\"threnjen/board-games-database-from-boardgamegeek\")\n",
    "\n",
    "#TODO: tuo vaan ne mitä päädytään käyttämään, laita omiin blokkeihin ja selitykset ekaksi markdownina\n",
    "\n",
    "# df_artists = pd.read_csv(os.path.join(path, \"artists_reduced.csv\"))\n",
    "# display(df_artists.head())\n",
    "# \n",
    "# df_designers = pd.read_csv(os.path.join(path, \"designers_reduced.csv\"))\n",
    "# display(df_designers.head())\n",
    "\n",
    "\n",
    "\n",
    "# df_mechanics = pd.read_csv(os.path.join(path, \"mechanics.csv\"))\n",
    "# display(df_mechanics.head())\n",
    "# \n",
    "# df_publishers = pd.read_csv(os.path.join(path, \"publishers_reduced.csv\"))\n",
    "# display(df_publishers.head())\n",
    "\n",
    "# df_ratings_distribution = pd.read_csv(os.path.join(path, \"ratings_distribution.csv\"))\n",
    "# display(df_ratings_distribution.head())\n",
    "\n",
    "# df_subcategories = pd.read_csv(os.path.join(path, \"subcategories.csv\"))\n",
    "# display(df_subcategories.head())\n",
    "\n",
    "# df_themes = pd.read_csv(os.path.join(path, \"themes.csv\"))\n",
    "# display(df_themes.head())\n",
    "\n",
    "\n",
    "\n",
    "# For the documentation file, just preview as text (not tabular)\n",
    "# with open(os.path.join(path, \"bgg_data_documentation.txt\"), \"r\", encoding=\"utf-8\") as f:\n",
    "#     bgg_documentation = f.read()\n",
    "# print(bgg_documentation[:500])  # first 500 characters"
   ],
   "metadata": {
    "collapsed": false,
    "ExecuteTime": {
     "end_time": "2025-10-06T17:10:12.944262300Z",
     "start_time": "2025-10-06T17:10:12.485566Z"
    }
   },
   "id": "42725a4f7a3b8792"
  },
  {
   "cell_type": "code",
   "execution_count": 101,
   "outputs": [
    {
     "data": {
      "text/plain": "   BGGId            Name                                        Description  \\\n0      1      Die Macher  die macher game seven sequential political rac...   \n1      2    Dragonmaster  dragonmaster tricktaking card game base old ga...   \n2      3         Samurai  samurai set medieval japan player compete gain...   \n3      4  Tal der Könige  triangular box luxurious large block tal der k...   \n4      5         Acquire  acquire player strategically invest business t...   \n\n   YearPublished  GameWeight  AvgRating  BayesAvgRating   StdDev  MinPlayers  \\\n0           1986      4.3206    7.61428         7.10363  1.57979           3   \n1           1981      1.9630    6.64537         5.78447  1.45440           3   \n2           1998      2.4859    7.45601         7.23994  1.18227           2   \n3           1992      2.6667    6.60006         5.67954  1.23129           2   \n4           1964      2.5031    7.33861         7.14189  1.33583           2   \n\n   MaxPlayers  ...  Rank:partygames  Rank:childrensgames  Cat:Thematic  \\\n0           5  ...            21926                21926             0   \n1           4  ...            21926                21926             0   \n2           4  ...            21926                21926             0   \n3           4  ...            21926                21926             0   \n4           6  ...            21926                21926             0   \n\n  Cat:Strategy  Cat:War  Cat:Family  Cat:CGS  Cat:Abstract  Cat:Party  \\\n0            1        0           0        0             0          0   \n1            1        0           0        0             0          0   \n2            1        0           0        0             0          0   \n3            0        0           0        0             0          0   \n4            1        0           0        0             0          0   \n\n   Cat:Childrens  \n0              0  \n1              0  \n2              0  \n3              0  \n4              0  \n\n[5 rows x 48 columns]",
      "text/html": "<div>\n<style scoped>\n    .dataframe tbody tr th:only-of-type {\n        vertical-align: middle;\n    }\n\n    .dataframe tbody tr th {\n        vertical-align: top;\n    }\n\n    .dataframe thead th {\n        text-align: right;\n    }\n</style>\n<table border=\"1\" class=\"dataframe\">\n  <thead>\n    <tr style=\"text-align: right;\">\n      <th></th>\n      <th>BGGId</th>\n      <th>Name</th>\n      <th>Description</th>\n      <th>YearPublished</th>\n      <th>GameWeight</th>\n      <th>AvgRating</th>\n      <th>BayesAvgRating</th>\n      <th>StdDev</th>\n      <th>MinPlayers</th>\n      <th>MaxPlayers</th>\n      <th>...</th>\n      <th>Rank:partygames</th>\n      <th>Rank:childrensgames</th>\n      <th>Cat:Thematic</th>\n      <th>Cat:Strategy</th>\n      <th>Cat:War</th>\n      <th>Cat:Family</th>\n      <th>Cat:CGS</th>\n      <th>Cat:Abstract</th>\n      <th>Cat:Party</th>\n      <th>Cat:Childrens</th>\n    </tr>\n  </thead>\n  <tbody>\n    <tr>\n      <th>0</th>\n      <td>1</td>\n      <td>Die Macher</td>\n      <td>die macher game seven sequential political rac...</td>\n      <td>1986</td>\n      <td>4.3206</td>\n      <td>7.61428</td>\n      <td>7.10363</td>\n      <td>1.57979</td>\n      <td>3</td>\n      <td>5</td>\n      <td>...</td>\n      <td>21926</td>\n      <td>21926</td>\n      <td>0</td>\n      <td>1</td>\n      <td>0</td>\n      <td>0</td>\n      <td>0</td>\n      <td>0</td>\n      <td>0</td>\n      <td>0</td>\n    </tr>\n    <tr>\n      <th>1</th>\n      <td>2</td>\n      <td>Dragonmaster</td>\n      <td>dragonmaster tricktaking card game base old ga...</td>\n      <td>1981</td>\n      <td>1.9630</td>\n      <td>6.64537</td>\n      <td>5.78447</td>\n      <td>1.45440</td>\n      <td>3</td>\n      <td>4</td>\n      <td>...</td>\n      <td>21926</td>\n      <td>21926</td>\n      <td>0</td>\n      <td>1</td>\n      <td>0</td>\n      <td>0</td>\n      <td>0</td>\n      <td>0</td>\n      <td>0</td>\n      <td>0</td>\n    </tr>\n    <tr>\n      <th>2</th>\n      <td>3</td>\n      <td>Samurai</td>\n      <td>samurai set medieval japan player compete gain...</td>\n      <td>1998</td>\n      <td>2.4859</td>\n      <td>7.45601</td>\n      <td>7.23994</td>\n      <td>1.18227</td>\n      <td>2</td>\n      <td>4</td>\n      <td>...</td>\n      <td>21926</td>\n      <td>21926</td>\n      <td>0</td>\n      <td>1</td>\n      <td>0</td>\n      <td>0</td>\n      <td>0</td>\n      <td>0</td>\n      <td>0</td>\n      <td>0</td>\n    </tr>\n    <tr>\n      <th>3</th>\n      <td>4</td>\n      <td>Tal der Könige</td>\n      <td>triangular box luxurious large block tal der k...</td>\n      <td>1992</td>\n      <td>2.6667</td>\n      <td>6.60006</td>\n      <td>5.67954</td>\n      <td>1.23129</td>\n      <td>2</td>\n      <td>4</td>\n      <td>...</td>\n      <td>21926</td>\n      <td>21926</td>\n      <td>0</td>\n      <td>0</td>\n      <td>0</td>\n      <td>0</td>\n      <td>0</td>\n      <td>0</td>\n      <td>0</td>\n      <td>0</td>\n    </tr>\n    <tr>\n      <th>4</th>\n      <td>5</td>\n      <td>Acquire</td>\n      <td>acquire player strategically invest business t...</td>\n      <td>1964</td>\n      <td>2.5031</td>\n      <td>7.33861</td>\n      <td>7.14189</td>\n      <td>1.33583</td>\n      <td>2</td>\n      <td>6</td>\n      <td>...</td>\n      <td>21926</td>\n      <td>21926</td>\n      <td>0</td>\n      <td>1</td>\n      <td>0</td>\n      <td>0</td>\n      <td>0</td>\n      <td>0</td>\n      <td>0</td>\n      <td>0</td>\n    </tr>\n  </tbody>\n</table>\n<p>5 rows × 48 columns</p>\n</div>"
     },
     "metadata": {},
     "output_type": "display_data"
    }
   ],
   "source": [
    "df_games = pd.read_csv(os.path.join(path, \"games.csv\"))\n",
    "display(df_games.head())"
   ],
   "metadata": {
    "collapsed": false,
    "ExecuteTime": {
     "end_time": "2025-10-06T17:10:13.517901300Z",
     "start_time": "2025-10-06T17:10:12.880239300Z"
    }
   },
   "id": "63d8da4501ecbc7c"
  },
  {
   "cell_type": "markdown",
   "source": [
    "TODO df games plot? validate data"
   ],
   "metadata": {
    "collapsed": false
   },
   "id": "2130150bf66df9dc"
  },
  {
   "cell_type": "code",
   "execution_count": 102,
   "outputs": [
    {
     "data": {
      "text/plain": "    BGGId  Rating     Username\n0  213788     8.0    Tonydorrf\n1  213788     8.0   tachyon14k\n2  213788     8.0     Ungotter\n3  213788     8.0  brainlocki3\n4  213788     8.0         PPMP",
      "text/html": "<div>\n<style scoped>\n    .dataframe tbody tr th:only-of-type {\n        vertical-align: middle;\n    }\n\n    .dataframe tbody tr th {\n        vertical-align: top;\n    }\n\n    .dataframe thead th {\n        text-align: right;\n    }\n</style>\n<table border=\"1\" class=\"dataframe\">\n  <thead>\n    <tr style=\"text-align: right;\">\n      <th></th>\n      <th>BGGId</th>\n      <th>Rating</th>\n      <th>Username</th>\n    </tr>\n  </thead>\n  <tbody>\n    <tr>\n      <th>0</th>\n      <td>213788</td>\n      <td>8.0</td>\n      <td>Tonydorrf</td>\n    </tr>\n    <tr>\n      <th>1</th>\n      <td>213788</td>\n      <td>8.0</td>\n      <td>tachyon14k</td>\n    </tr>\n    <tr>\n      <th>2</th>\n      <td>213788</td>\n      <td>8.0</td>\n      <td>Ungotter</td>\n    </tr>\n    <tr>\n      <th>3</th>\n      <td>213788</td>\n      <td>8.0</td>\n      <td>brainlocki3</td>\n    </tr>\n    <tr>\n      <th>4</th>\n      <td>213788</td>\n      <td>8.0</td>\n      <td>PPMP</td>\n    </tr>\n  </tbody>\n</table>\n</div>"
     },
     "metadata": {},
     "output_type": "display_data"
    }
   ],
   "source": [
    "df_user_ratings = pd.read_csv(os.path.join(path, \"user_ratings.csv\"))\n",
    "display(df_user_ratings.head())"
   ],
   "metadata": {
    "collapsed": false,
    "ExecuteTime": {
     "end_time": "2025-10-06T17:10:25.500165200Z",
     "start_time": "2025-10-06T17:10:13.504870600Z"
    }
   },
   "id": "57e68c083395b7e"
  },
  {
   "cell_type": "markdown",
   "source": [
    "TODO df rating plot\n",
    "validate data\n"
   ],
   "metadata": {
    "collapsed": false
   },
   "id": "5c5275a76dda6aa"
  },
  {
   "cell_type": "markdown",
   "id": "eb906b1f9929b47c",
   "metadata": {
    "collapsed": false
   },
   "source": [
    "GAMES\n",
    "\tBGGId\t\t\tBoardGameGeek game ID\n",
    "\tName\t\t\tName of game\n",
    "\tDescription\t\tDescription, stripped of punctuation and lemmatized\n",
    "\tYearPublished\t\tFirst year game published\n",
    "\tGameWeight\t\tGame difficulty/complexity\n",
    "\tAvgRating\t\tAverage user rating for game\n",
    "\tBayesAvgRating\t\tBayes weighted average for game (x # of average reviews applied)\n",
    "\tStdDev\t\t\tStandard deviation of Bayes Avg\n",
    "\tMinPlayers\t\tMinimum number of players\n",
    "\tMaxPlayers\t\tMaximun number of players\n",
    "\tComAgeRec\t\tCommunity's recommended age minimum\n",
    "\tLanguageEase\t\tLanguage requirement\n",
    "\tBestPlayers\t\tCommunity voted best player count\n",
    "\tGoodPlayers\t\tList of community voted good plater counts\n",
    "\tNumOwned\t\tNumber of users who own this game\n",
    "\tNumWant\t\t\tNumber of users who want this game\n",
    "\tNumWish\t\t\tNumber of users who wishlisted this game\n",
    "\tNumWeightVotes\t\t? Unknown\n",
    "\tMfgPlayTime\t\tManufacturer Stated Play Time\n",
    "\tComMinPlaytime\t\tCommunity minimum play time\n",
    "\tComMaxPlaytime\t\tCommunity maximum play time\n",
    "\tMfgAgeRec\t\tManufacturer Age Recommendation\n",
    "\tNumUserRatings\t\tNumber of user ratings\n",
    "\tNumComments\t\tNumber of user comments\n",
    "\tNumAlternates\t\tNumber of alternate versions\n",
    "\tNumExpansions\t\tNumber of expansions\n",
    "\tNumImplementations\tNumber of implementations\n",
    "\tIsReimplementation\tBinary - Is this listing a reimplementation? \n",
    "\tFamily\t\t\tGame family\n",
    "\tKickstarted\t\tBinary - Is this a kickstarter?\n",
    "\tImagePath\t\tImage http:// path\n",
    "\tRank:boardgame\t\tRank for boardgames overall\n",
    "\tRank:strategygames\tRank in strategy games\n",
    "\tRank:abstracts\t\tRank in abstracts\n",
    "\tRank:familygames\tRank in family games\n",
    "\tRank:thematic\t\tRank in thematic\n",
    "\tRank:cgs\t\tRank in card games\n",
    "\tRank:wargames\t\tRank in war games\n",
    "\tRank:partygames\t\tRank in party games\n",
    "\tRank:childrensgames\tRank in children's games\n",
    "\tCat:Thematic\t\tBinary is in Thematic category\n",
    "\tCat:Strategy\t\tBinary is in Strategy category\n",
    "\tCat:War\t\t\tBinary is in War category\n",
    "\tCat:Family\t\tBinary is in Family category\n",
    "\tCat:CGS\t\t\tBinary is in Card Games category\n",
    "\tCat:Abstract\t\tBinary is in Abstract category\n",
    "\tCat:Party\t\tBinary is in Party category\n",
    "\tCat:Childrens\t\tBinary is in Childrens category\n",
    "\n",
    "\n",
    "MECHANICS\n",
    "\tBGGId\t\t\tBoardGameGeek game ID\t\n",
    "\tRemaining headers are various mechanics with binary flag\n",
    "\n",
    "\n",
    "THEMES\n",
    "\tBGGId\t\t\tBoardGameGeek game ID\n",
    "\tRemaining headers are various themes with binary flag\n",
    "\n",
    "\n",
    "SUBCATEGORIES\n",
    "\tBGGId\t\t\tBoardGameGeek game ID\n",
    "\tRemaining headers are various subcategories with binary flag\n",
    "\n",
    "\n",
    "ARTISTS_REDUCED\n",
    "\tBGGId\t\t\tBoardGameGeek game ID\n",
    "\tLow-Exp Artist\t\tIndicates game has an unlisted artist with <= 3 entries\n",
    "\tRemaining headers are various artists with binary flag\n",
    "\n",
    "\n",
    "DESIGNERS_REDUCED\n",
    "\tBGGId\t\t\tBoardGameGeek game ID\n",
    "\tLow-Exp Designer\tIndicates game has an unlisted designer with <= 3 entries\n",
    "\tRemaining headers are various subcategories with binary flag\n",
    "\n",
    "\n",
    "PUBLISHERS_REDUCED\n",
    "\tBGGId\t\t\tBoardGameGeek game ID\n",
    "\tLow-Exp Publisher\tIndicated games has an unlisted publisher with <= 3 entries\n",
    "\tRemaining headers are various subcategories with binary flag\n",
    "\n",
    "\n",
    "USER_RATINGS\n",
    "\tBGGId\t\t\tBoardGameGeek game ID\t\n",
    "\tRating\t\t\tRaw rating given by user\n",
    "\tUsername\t\tUser giving rating\n",
    "\n",
    "\n",
    "RATINGS_DISTRIBUTION\n",
    "\tBGGId\t\t\tBoardGameGeek game ID\n",
    "\tNumbers 0.0-10.0\tNumber of ratings per rating header\n",
    "\ttotal_ratings\t\tTotal number of ratings for game"
   ]
  },
  {
   "cell_type": "markdown",
   "id": "2da1ed4fcb95bda6",
   "metadata": {
    "collapsed": false
   },
   "source": [
    "## 3. Data Preparation"
   ]
  },
  {
   "cell_type": "markdown",
   "id": "60711db3d93ad4ba",
   "metadata": {
    "collapsed": false
   },
   "source": [
    " cleanataan data "
   ]
  },
  {
   "cell_type": "code",
   "execution_count": 103,
   "id": "50a175295596177",
   "metadata": {
    "collapsed": false,
    "ExecuteTime": {
     "end_time": "2025-10-06T17:10:25.537008800Z",
     "start_time": "2025-10-06T17:10:25.503171400Z"
    }
   },
   "outputs": [],
   "source": [
    "# Target user\n",
    "target_user = \"TeemuVataja\""
   ]
  },
  {
   "cell_type": "code",
   "execution_count": 104,
   "id": "831fdd6cfb0ded84",
   "metadata": {
    "collapsed": false,
    "ExecuteTime": {
     "end_time": "2025-10-06T17:10:35.468429500Z",
     "start_time": "2025-10-06T17:10:25.518955400Z"
    }
   },
   "outputs": [
    {
     "name": "stdout",
     "output_type": "stream",
     "text": [
      "Total number of users:\n"
     ]
    },
    {
     "data": {
      "text/plain": "411374"
     },
     "metadata": {},
     "output_type": "display_data"
    },
    {
     "name": "stdout",
     "output_type": "stream",
     "text": [
      "User table\n"
     ]
    },
    {
     "data": {
      "text/plain": "   UserId           Username  RatingCount\n0       0          Fu_Koios             2\n1       1           beastvol            9\n2       2            mycroft           14\n3       3                woh            5\n4       4  (mostly) harmless            1",
      "text/html": "<div>\n<style scoped>\n    .dataframe tbody tr th:only-of-type {\n        vertical-align: middle;\n    }\n\n    .dataframe tbody tr th {\n        vertical-align: top;\n    }\n\n    .dataframe thead th {\n        text-align: right;\n    }\n</style>\n<table border=\"1\" class=\"dataframe\">\n  <thead>\n    <tr style=\"text-align: right;\">\n      <th></th>\n      <th>UserId</th>\n      <th>Username</th>\n      <th>RatingCount</th>\n    </tr>\n  </thead>\n  <tbody>\n    <tr>\n      <th>0</th>\n      <td>0</td>\n      <td>Fu_Koios</td>\n      <td>2</td>\n    </tr>\n    <tr>\n      <th>1</th>\n      <td>1</td>\n      <td>beastvol</td>\n      <td>9</td>\n    </tr>\n    <tr>\n      <th>2</th>\n      <td>2</td>\n      <td>mycroft</td>\n      <td>14</td>\n    </tr>\n    <tr>\n      <th>3</th>\n      <td>3</td>\n      <td>woh</td>\n      <td>5</td>\n    </tr>\n    <tr>\n      <th>4</th>\n      <td>4</td>\n      <td>(mostly) harmless</td>\n      <td>1</td>\n    </tr>\n  </tbody>\n</table>\n</div>"
     },
     "metadata": {},
     "output_type": "display_data"
    },
    {
     "name": "stdout",
     "output_type": "stream",
     "text": [
      "User rating table\n"
     ]
    },
    {
     "data": {
      "text/plain": "    BGGId  Rating     Username\n0  213788     8.0    Tonydorrf\n1  213788     8.0   tachyon14k\n2  213788     8.0     Ungotter\n3  213788     8.0  brainlocki3\n4  213788     8.0         PPMP",
      "text/html": "<div>\n<style scoped>\n    .dataframe tbody tr th:only-of-type {\n        vertical-align: middle;\n    }\n\n    .dataframe tbody tr th {\n        vertical-align: top;\n    }\n\n    .dataframe thead th {\n        text-align: right;\n    }\n</style>\n<table border=\"1\" class=\"dataframe\">\n  <thead>\n    <tr style=\"text-align: right;\">\n      <th></th>\n      <th>BGGId</th>\n      <th>Rating</th>\n      <th>Username</th>\n    </tr>\n  </thead>\n  <tbody>\n    <tr>\n      <th>0</th>\n      <td>213788</td>\n      <td>8.0</td>\n      <td>Tonydorrf</td>\n    </tr>\n    <tr>\n      <th>1</th>\n      <td>213788</td>\n      <td>8.0</td>\n      <td>tachyon14k</td>\n    </tr>\n    <tr>\n      <th>2</th>\n      <td>213788</td>\n      <td>8.0</td>\n      <td>Ungotter</td>\n    </tr>\n    <tr>\n      <th>3</th>\n      <td>213788</td>\n      <td>8.0</td>\n      <td>brainlocki3</td>\n    </tr>\n    <tr>\n      <th>4</th>\n      <td>213788</td>\n      <td>8.0</td>\n      <td>PPMP</td>\n    </tr>\n  </tbody>\n</table>\n</div>"
     },
     "metadata": {},
     "output_type": "display_data"
    },
    {
     "name": "stdout",
     "output_type": "stream",
     "text": [
      "Selected user table\n"
     ]
    },
    {
     "data": {
      "text/plain": "        UserId     Username  RatingCount\n187874  187874  TeemuVataja          206",
      "text/html": "<div>\n<style scoped>\n    .dataframe tbody tr th:only-of-type {\n        vertical-align: middle;\n    }\n\n    .dataframe tbody tr th {\n        vertical-align: top;\n    }\n\n    .dataframe thead th {\n        text-align: right;\n    }\n</style>\n<table border=\"1\" class=\"dataframe\">\n  <thead>\n    <tr style=\"text-align: right;\">\n      <th></th>\n      <th>UserId</th>\n      <th>Username</th>\n      <th>RatingCount</th>\n    </tr>\n  </thead>\n  <tbody>\n    <tr>\n      <th>187874</th>\n      <td>187874</td>\n      <td>TeemuVataja</td>\n      <td>206</td>\n    </tr>\n  </tbody>\n</table>\n</div>"
     },
     "metadata": {},
     "output_type": "display_data"
    }
   ],
   "source": [
    "from surprise import Reader, Dataset\n",
    "\n",
    "# Example df_user_ratings has columns: Username, Item, Rating\n",
    "\n",
    "# Build user table with unique IDs and rating counts\n",
    "# If we ever need a dataframe without ratings just copy df_users before this step\n",
    "df_users = (\n",
    "    df_user_ratings.groupby(\"Username\")\n",
    "    .size()  # counts ratings per user\n",
    "    .reset_index(name=\"RatingCount\")\n",
    "    .reset_index(names=\"UserId\")  # create UserId from row index\n",
    ")\n",
    "\n",
    "#TODO: printtejä\n",
    "\n",
    "print(\"Total number of users:\")\n",
    "display(len(df_users))\n",
    "\n",
    "print(\"User table\")\n",
    "display(df_users.head())\n",
    "\n",
    "print(\"User rating table\")\n",
    "display(df_user_ratings.head())\n",
    "\n",
    "print(\"Selected user table\")\n",
    "display(df_users[df_users[\"Username\"] == target_user])"
   ]
  },
  {
   "cell_type": "markdown",
   "source": [
    "Users with more than equal 10 ratings"
   ],
   "metadata": {
    "collapsed": false
   },
   "id": "40778c0e01b62976"
  },
  {
   "cell_type": "code",
   "execution_count": 105,
   "outputs": [
    {
     "name": "stdout",
     "output_type": "stream",
     "text": [
      "Length of users set before reduction: 411374\n",
      "Length of users set after reduction: 224604\n"
     ]
    }
   ],
   "source": [
    "print(f\"Length of users set before reduction: {len(df_users)}\")\n",
    "\n",
    "df_users_reduced = df_users[df_users['RatingCount'] >= 10]\n",
    "\n",
    "print(f\"Length of users set after reduction: {len(df_users_reduced)}\")"
   ],
   "metadata": {
    "collapsed": false,
    "ExecuteTime": {
     "end_time": "2025-10-06T17:10:35.470397300Z",
     "start_time": "2025-10-06T17:10:35.398406200Z"
    }
   },
   "id": "7c34eabf8e9623a7"
  },
  {
   "cell_type": "markdown",
   "source": [],
   "metadata": {
    "collapsed": false
   },
   "id": "673f2d7646146fcf"
  },
  {
   "cell_type": "code",
   "execution_count": 106,
   "id": "5a8776087cf54aad",
   "metadata": {
    "collapsed": false,
    "ExecuteTime": {
     "end_time": "2025-10-06T17:10:35.483442600Z",
     "start_time": "2025-10-06T17:10:35.446401600Z"
    }
   },
   "outputs": [
    {
     "name": "stdout",
     "output_type": "stream",
     "text": [
      "Length of games set before reduction: 21925\n",
      "Length of games set after reduction: 12239\n"
     ]
    }
   ],
   "source": [
    "print(f\"Length of games set before reduction: {len(df_games)}\")\n",
    "\n",
    "df_games_reduced = df_games[df_games['NumUserRatings'] >= 100]\n",
    "\n",
    "print(f\"Length of games set after reduction: {len(df_games_reduced)}\")"
   ]
  },
  {
   "cell_type": "markdown",
   "source": [],
   "metadata": {
    "collapsed": false
   },
   "id": "35225e75c786dc89"
  },
  {
   "cell_type": "code",
   "execution_count": 107,
   "outputs": [
    {
     "name": "stdout",
     "output_type": "stream",
     "text": [
      "Length of ratings set before reduction: 18942215\n",
      "Length of ratings set after reduction: 17849716\n",
      "Valid ratings after pruning for target user: 198\n"
     ]
    }
   ],
   "source": [
    "print(f\"Length of ratings set before reduction: {len(df_user_ratings)}\")\n",
    "\n",
    "df_ratings_reduced = df_user_ratings[df_user_ratings[\"BGGId\"].isin(df_games_reduced[\"BGGId\"])]\n",
    "df_ratings_reduced = df_ratings_reduced[df_ratings_reduced[\"Username\"].isin(df_users_reduced[\"Username\"])]\n",
    "\n",
    "print(f\"Length of ratings set after reduction: {len(df_ratings_reduced)}\")\n",
    "print(f\"Valid ratings after pruning for target user: {len(df_ratings_reduced[df_ratings_reduced['Username'] == target_user])}\")"
   ],
   "metadata": {
    "collapsed": false,
    "ExecuteTime": {
     "end_time": "2025-10-06T17:10:46.442289500Z",
     "start_time": "2025-10-06T17:10:35.475396900Z"
    }
   },
   "id": "a40a49ee4ea64d9"
  },
  {
   "cell_type": "markdown",
   "source": [
    "## 4. Modeling\n"
   ],
   "metadata": {
    "collapsed": false
   },
   "id": "7208eaa952d55178"
  },
  {
   "cell_type": "markdown",
   "source": [
    "Selitä mitä nyt tehdään\n",
    "# SVD = item x item\n",
    "# KNN = user x user\n",
    "Mallin luonti ja tallennus tietokoneelle. Jos ei luotu niin kouluttaa sen ja tallentaa"
   ],
   "metadata": {
    "collapsed": false
   },
   "id": "cb07f935522851b"
  },
  {
   "cell_type": "code",
   "execution_count": 108,
   "outputs": [],
   "source": [
    "from surprise import SVD, dump\n",
    "from surprise.model_selection import train_test_split\n",
    "import os\n",
    "\n",
    "def create_surprise_dataset(df, user_id, item_id, ratings, reader):\n",
    "    return Dataset.load_from_df(df[[user_id, item_id, ratings]], reader)\n",
    "\n",
    "data = create_surprise_dataset(df_ratings_reduced, \"Username\", \"BGGId\", \"Rating\", Reader(rating_scale=(0.0, 10.0)))\n",
    "\n",
    "# def load_test_model(model_name, algo, force_recreate=False):\n",
    "#     if not os.path.exists(model_name) or force_recreate:\n",
    "#         surprise_dataset = create_surprise_dataset(df_ratings_reduced, \"Username\", \"BGGId\", \"Rating\", Reader(rating_scale=(0.0, 10.0))) # First create surprise dataset from an existing Pandas Dataframe. Hardcoded for now\n",
    "#         trainset, testset = train_test_split(surprise_dataset, test_size=0.2)\n",
    "#         algo.fit(trainset)\n",
    "#         #surprise_trainset = surprise_dataset.build_full_trainset() # Then build the trainset\n",
    "#         #algo.fit(surprise_trainset) # Lastly create the model using said training set\n",
    "#         \n",
    "#         dump.dump(model_name, algo=algo)\n",
    "#         return algo, testset\n",
    "# \n",
    "#     _, algo = dump.load(model_name)\n",
    "#     return algo\n",
    "# \n",
    "# model, testset = load_test_model(\"testmodel.pkl\", SVD(n_factors=50, random_state=666))"
   ],
   "metadata": {
    "collapsed": false,
    "ExecuteTime": {
     "end_time": "2025-10-06T17:11:08.054360900Z",
     "start_time": "2025-10-06T17:10:46.449291300Z"
    }
   },
   "id": "39a75ef37609ff92"
  },
  {
   "cell_type": "markdown",
   "source": [
    "predictions funktiot."
   ],
   "metadata": {
    "collapsed": false
   },
   "id": "3a7f16c7a899b043"
  },
  {
   "cell_type": "code",
   "execution_count": 109,
   "outputs": [],
   "source": [
    "import numpy as np\n",
    "from sklearn.metrics.pairwise import cosine_similarity\n",
    "\n",
    "def top_similar_users(username, model, top_n=10):\n",
    "    \"\"\"\n",
    "    Returns top-N similar users to a given username (raw ID).\n",
    "    \"\"\"\n",
    "    try:\n",
    "        inner_uid = model.trainset.to_inner_uid(username)\n",
    "    except ValueError:\n",
    "        return []\n",
    "\n",
    "    user_vec = model.pu[inner_uid].reshape(1, -1)\n",
    "    sims = cosine_similarity(user_vec, model.pu)[0]\n",
    "\n",
    "    # Exclude self\n",
    "    top_inner = np.argsort(-sims)[1:top_n+1]\n",
    "    return [model.trainset.to_raw_uid(i) for i in top_inner]\n"
   ],
   "metadata": {
    "collapsed": false,
    "ExecuteTime": {
     "end_time": "2025-10-06T17:11:08.069071500Z",
     "start_time": "2025-10-06T17:11:08.058331400Z"
    }
   },
   "id": "5d40db5e197b691f"
  },
  {
   "cell_type": "markdown",
   "source": [
    "Selitystä"
   ],
   "metadata": {
    "collapsed": false
   },
   "id": "17232db075b13393"
  },
  {
   "cell_type": "code",
   "execution_count": 110,
   "outputs": [],
   "source": [
    "\n",
    "def user_predictions(username, model, top_n_items=None):\n",
    "    \"\"\"\n",
    "    Predict ratings for all unseen items for a given username.\n",
    "    Optionally, return only top-N items.\n",
    "    \"\"\"\n",
    "    try:\n",
    "        inner_uid = model.trainset.to_inner_uid(username)\n",
    "    except ValueError:\n",
    "        return []\n",
    "\n",
    "    # Items already rated by user\n",
    "    user_items = {iid for (iid, _) in model.trainset.ur[inner_uid]}\n",
    "    all_items = set(range(model.trainset.n_items))\n",
    "    unseen_items = all_items - user_items\n",
    "\n",
    "    # Build test set (user x unseen items)\n",
    "    testset = [(username, model.trainset.to_raw_iid(i), 0.) for i in unseen_items]\n",
    "\n",
    "    # Get predictions\n",
    "    predictions = model.test(testset)\n",
    "\n",
    "    # Optionally keep top-N items\n",
    "    if top_n_items:\n",
    "        predictions = sorted(predictions, key=lambda x: x.est, reverse=True)[:top_n_items]\n",
    "\n",
    "    return predictions\n"
   ],
   "metadata": {
    "collapsed": false,
    "ExecuteTime": {
     "end_time": "2025-10-06T17:11:08.102073300Z",
     "start_time": "2025-10-06T17:11:08.075070800Z"
    }
   },
   "id": "dc97fcc77a7c592a"
  },
  {
   "cell_type": "markdown",
   "source": [
    "Selitystä"
   ],
   "metadata": {
    "collapsed": false
   },
   "id": "9e20df85424e7ae2"
  },
  {
   "cell_type": "code",
   "execution_count": 111,
   "outputs": [],
   "source": [
    "def user_predictions_from_similar(username, model, top_n_users=1000, top_n_items=10):\n",
    "    \"\"\"\n",
    "    Predict items for a user based on items liked by similar users.\n",
    "    \"\"\"\n",
    "    similar_users = top_similar_users(username, model, top_n=top_n_users)\n",
    "\n",
    "    # Collect items rated by similar users\n",
    "    similar_items = set()\n",
    "    for su in similar_users:\n",
    "        inner_uid = model.trainset.to_inner_uid(su)\n",
    "        similar_items.update([model.trainset.to_raw_iid(iid) for (iid, _) in model.trainset.ur[inner_uid]])\n",
    "\n",
    "    # Filter out items already rated by target user\n",
    "    inner_uid_target = model.trainset.to_inner_uid(username)\n",
    "    user_items = {model.trainset.to_raw_iid(iid) for (iid, _) in model.trainset.ur[inner_uid_target]}\n",
    "    candidate_items = similar_items - user_items\n",
    "\n",
    "    # Build test set and predict\n",
    "    testset = [(username, iid, 0.) for iid in candidate_items]\n",
    "    predictions = model.test(testset)\n",
    "    predictions = sorted(predictions, key=lambda x: x.est, reverse=True)[:top_n_items]\n",
    "\n",
    "    return predictions\n"
   ],
   "metadata": {
    "collapsed": false,
    "ExecuteTime": {
     "end_time": "2025-10-06T17:11:08.103070300Z",
     "start_time": "2025-10-06T17:11:08.090073300Z"
    }
   },
   "id": "832d8d2a1d399344"
  },
  {
   "cell_type": "markdown",
   "source": [
    "Selitystä"
   ],
   "metadata": {
    "collapsed": false
   },
   "id": "393fd2e72ef64cc0"
  },
  {
   "cell_type": "markdown",
   "id": "fe5a72235e1289ec",
   "metadata": {
    "collapsed": false
   },
   "source": [
    "## 5. Evaluation"
   ]
  },
  {
   "cell_type": "code",
   "execution_count": 112,
   "outputs": [],
   "source": [
    "from surprise.model_selection import cross_validate\n",
    "\n",
    "# cross_validate(SVD(n_factors=50, random_state=666), data, measures=[\"RMSE\", \"MAE\"], cv=3, return_train_measures=True, verbose=True)"
   ],
   "metadata": {
    "collapsed": false,
    "ExecuteTime": {
     "end_time": "2025-10-06T17:11:08.117068300Z",
     "start_time": "2025-10-06T17:11:08.103070300Z"
    }
   },
   "id": "a7c62ff076d36df0"
  },
  {
   "cell_type": "markdown",
   "id": "eb73bfdfd9f6fa65",
   "metadata": {
    "collapsed": false
   },
   "source": [
    "## 6. Deployment"
   ]
  },
  {
   "cell_type": "markdown",
   "source": [
    "Here, we build the model using the full dataset. First, we define a function to save the trained model as a dump file. This allows us to reload the model in future runs of the notebook, without retraining. The function also checks if a saved model already exists and loads it if available."
   ],
   "metadata": {
    "collapsed": false
   },
   "id": "cc9d0734f08cd1c1"
  },
  {
   "cell_type": "code",
   "execution_count": 113,
   "outputs": [],
   "source": [
    "def load_surprise_model(model_name, algo, force_recreate=False):\n",
    "    if not os.path.exists(model_name) or force_recreate:\n",
    "        surprise_dataset = create_surprise_dataset(df_ratings_reduced, \"Username\", \"BGGId\", \"Rating\", Reader(rating_scale=(0.0, 10.0))) # First create surprise dataset from an existing Pandas Dataframe. Hardcoded for now\n",
    "        surprise_trainset = surprise_dataset.build_full_trainset() # Then build the trainset\n",
    "        algo.fit(surprise_trainset) # Lastly create the model using said training set\n",
    "        \n",
    "        dump.dump(model_name, algo=algo)\n",
    "        return algo\n",
    "\n",
    "    _, algo = dump.load(model_name)\n",
    "    return algo\n",
    "\n",
    "model = load_surprise_model(\"model.pkl\", SVD(n_factors=5,random_state=666))\n",
    "\n",
    "##tehdään tällä juttutja"
   ],
   "metadata": {
    "collapsed": false,
    "ExecuteTime": {
     "end_time": "2025-10-06T17:16:16.279929400Z",
     "start_time": "2025-10-06T17:11:08.122068600Z"
    }
   },
   "id": "312be1e03fedafd2"
  },
  {
   "cell_type": "markdown",
   "source": [
    "After creating the model, we will calculate predictions for the selected user. We will then display the top 10 recommendations for the user."
   ],
   "metadata": {
    "collapsed": false
   },
   "id": "364e1693f1d51deb"
  },
  {
   "cell_type": "code",
   "execution_count": 117,
   "outputs": [
    {
     "name": "stdout",
     "output_type": "stream",
     "text": [
      "Predicted rating for item id 55690: 9.18\n"
     ]
    },
    {
     "data": {
      "text/plain": "      BGGId                    Name  AvgRating\n9398  55690  Kingdom Death: Monster    8.61012",
      "text/html": "<div>\n<style scoped>\n    .dataframe tbody tr th:only-of-type {\n        vertical-align: middle;\n    }\n\n    .dataframe tbody tr th {\n        vertical-align: top;\n    }\n\n    .dataframe thead th {\n        text-align: right;\n    }\n</style>\n<table border=\"1\" class=\"dataframe\">\n  <thead>\n    <tr style=\"text-align: right;\">\n      <th></th>\n      <th>BGGId</th>\n      <th>Name</th>\n      <th>AvgRating</th>\n    </tr>\n  </thead>\n  <tbody>\n    <tr>\n      <th>9398</th>\n      <td>55690</td>\n      <td>Kingdom Death: Monster</td>\n      <td>8.61012</td>\n    </tr>\n  </tbody>\n</table>\n</div>"
     },
     "metadata": {},
     "output_type": "display_data"
    },
    {
     "name": "stdout",
     "output_type": "stream",
     "text": [
      "Predicted rating for item id 342942: 9.17\n"
     ]
    },
    {
     "data": {
      "text/plain": "        BGGId      Name  AvgRating\n21896  342942  Ark Nova    8.47839",
      "text/html": "<div>\n<style scoped>\n    .dataframe tbody tr th:only-of-type {\n        vertical-align: middle;\n    }\n\n    .dataframe tbody tr th {\n        vertical-align: top;\n    }\n\n    .dataframe thead th {\n        text-align: right;\n    }\n</style>\n<table border=\"1\" class=\"dataframe\">\n  <thead>\n    <tr style=\"text-align: right;\">\n      <th></th>\n      <th>BGGId</th>\n      <th>Name</th>\n      <th>AvgRating</th>\n    </tr>\n  </thead>\n  <tbody>\n    <tr>\n      <th>21896</th>\n      <td>342942</td>\n      <td>Ark Nova</td>\n      <td>8.47839</td>\n    </tr>\n  </tbody>\n</table>\n</div>"
     },
     "metadata": {},
     "output_type": "display_data"
    },
    {
     "name": "stdout",
     "output_type": "stream",
     "text": [
      "Predicted rating for item id 323947: 8.96\n"
     ]
    },
    {
     "data": {
      "text/plain": "        BGGId                                              Name  AvgRating\n21631  323947  Middara: Unintentional Malum – Act 1 Version 1.1    9.02596",
      "text/html": "<div>\n<style scoped>\n    .dataframe tbody tr th:only-of-type {\n        vertical-align: middle;\n    }\n\n    .dataframe tbody tr th {\n        vertical-align: top;\n    }\n\n    .dataframe thead th {\n        text-align: right;\n    }\n</style>\n<table border=\"1\" class=\"dataframe\">\n  <thead>\n    <tr style=\"text-align: right;\">\n      <th></th>\n      <th>BGGId</th>\n      <th>Name</th>\n      <th>AvgRating</th>\n    </tr>\n  </thead>\n  <tbody>\n    <tr>\n      <th>21631</th>\n      <td>323947</td>\n      <td>Middara: Unintentional Malum – Act 1 Version 1.1</td>\n      <td>9.02596</td>\n    </tr>\n  </tbody>\n</table>\n</div>"
     },
     "metadata": {},
     "output_type": "display_data"
    },
    {
     "name": "stdout",
     "output_type": "stream",
     "text": [
      "Predicted rating for item id 248562: 8.93\n"
     ]
    },
    {
     "data": {
      "text/plain": "        BGGId                           Name  AvgRating\n18640  248562  Mage Knight: Ultimate Edition    8.94937",
      "text/html": "<div>\n<style scoped>\n    .dataframe tbody tr th:only-of-type {\n        vertical-align: middle;\n    }\n\n    .dataframe tbody tr th {\n        vertical-align: top;\n    }\n\n    .dataframe thead th {\n        text-align: right;\n    }\n</style>\n<table border=\"1\" class=\"dataframe\">\n  <thead>\n    <tr style=\"text-align: right;\">\n      <th></th>\n      <th>BGGId</th>\n      <th>Name</th>\n      <th>AvgRating</th>\n    </tr>\n  </thead>\n  <tbody>\n    <tr>\n      <th>18640</th>\n      <td>248562</td>\n      <td>Mage Knight: Ultimate Edition</td>\n      <td>8.94937</td>\n    </tr>\n  </tbody>\n</table>\n</div>"
     },
     "metadata": {},
     "output_type": "display_data"
    },
    {
     "name": "stdout",
     "output_type": "stream",
     "text": [
      "Predicted rating for item id 162886: 8.91\n"
     ]
    },
    {
     "data": {
      "text/plain": "        BGGId           Name  AvgRating\n13755  162886  Spirit Island     8.3583",
      "text/html": "<div>\n<style scoped>\n    .dataframe tbody tr th:only-of-type {\n        vertical-align: middle;\n    }\n\n    .dataframe tbody tr th {\n        vertical-align: top;\n    }\n\n    .dataframe thead th {\n        text-align: right;\n    }\n</style>\n<table border=\"1\" class=\"dataframe\">\n  <thead>\n    <tr style=\"text-align: right;\">\n      <th></th>\n      <th>BGGId</th>\n      <th>Name</th>\n      <th>AvgRating</th>\n    </tr>\n  </thead>\n  <tbody>\n    <tr>\n      <th>13755</th>\n      <td>162886</td>\n      <td>Spirit Island</td>\n      <td>8.3583</td>\n    </tr>\n  </tbody>\n</table>\n</div>"
     },
     "metadata": {},
     "output_type": "display_data"
    },
    {
     "name": "stdout",
     "output_type": "stream",
     "text": [
      "Predicted rating for item id 233078: 8.91\n"
     ]
    },
    {
     "data": {
      "text/plain": "        BGGId                               Name  AvgRating\n17834  233078  Twilight Imperium: Fourth Edition    8.67916",
      "text/html": "<div>\n<style scoped>\n    .dataframe tbody tr th:only-of-type {\n        vertical-align: middle;\n    }\n\n    .dataframe tbody tr th {\n        vertical-align: top;\n    }\n\n    .dataframe thead th {\n        text-align: right;\n    }\n</style>\n<table border=\"1\" class=\"dataframe\">\n  <thead>\n    <tr style=\"text-align: right;\">\n      <th></th>\n      <th>BGGId</th>\n      <th>Name</th>\n      <th>AvgRating</th>\n    </tr>\n  </thead>\n  <tbody>\n    <tr>\n      <th>17834</th>\n      <td>233078</td>\n      <td>Twilight Imperium: Fourth Edition</td>\n      <td>8.67916</td>\n    </tr>\n  </tbody>\n</table>\n</div>"
     },
     "metadata": {},
     "output_type": "display_data"
    },
    {
     "name": "stdout",
     "output_type": "stream",
     "text": [
      "Predicted rating for item id 295785: 8.90\n"
     ]
    },
    {
     "data": {
      "text/plain": "        BGGId                             Name  AvgRating\n20830  295785  Euthia: Torment of Resurrection    8.87023",
      "text/html": "<div>\n<style scoped>\n    .dataframe tbody tr th:only-of-type {\n        vertical-align: middle;\n    }\n\n    .dataframe tbody tr th {\n        vertical-align: top;\n    }\n\n    .dataframe thead th {\n        text-align: right;\n    }\n</style>\n<table border=\"1\" class=\"dataframe\">\n  <thead>\n    <tr style=\"text-align: right;\">\n      <th></th>\n      <th>BGGId</th>\n      <th>Name</th>\n      <th>AvgRating</th>\n    </tr>\n  </thead>\n  <tbody>\n    <tr>\n      <th>20830</th>\n      <td>295785</td>\n      <td>Euthia: Torment of Resurrection</td>\n      <td>8.87023</td>\n    </tr>\n  </tbody>\n</table>\n</div>"
     },
     "metadata": {},
     "output_type": "display_data"
    },
    {
     "name": "stdout",
     "output_type": "stream",
     "text": [
      "Predicted rating for item id 299659: 8.85\n"
     ]
    },
    {
     "data": {
      "text/plain": "        BGGId                                   Name  AvgRating\n20987  299659  Clash of Cultures: Monumental Edition    8.62371",
      "text/html": "<div>\n<style scoped>\n    .dataframe tbody tr th:only-of-type {\n        vertical-align: middle;\n    }\n\n    .dataframe tbody tr th {\n        vertical-align: top;\n    }\n\n    .dataframe thead th {\n        text-align: right;\n    }\n</style>\n<table border=\"1\" class=\"dataframe\">\n  <thead>\n    <tr style=\"text-align: right;\">\n      <th></th>\n      <th>BGGId</th>\n      <th>Name</th>\n      <th>AvgRating</th>\n    </tr>\n  </thead>\n  <tbody>\n    <tr>\n      <th>20987</th>\n      <td>299659</td>\n      <td>Clash of Cultures: Monumental Edition</td>\n      <td>8.62371</td>\n    </tr>\n  </tbody>\n</table>\n</div>"
     },
     "metadata": {},
     "output_type": "display_data"
    },
    {
     "name": "stdout",
     "output_type": "stream",
     "text": [
      "Predicted rating for item id 115746: 8.83\n"
     ]
    },
    {
     "data": {
      "text/plain": "        BGGId                             Name  AvgRating\n11220  115746  War of the Ring: Second Edition    8.50988",
      "text/html": "<div>\n<style scoped>\n    .dataframe tbody tr th:only-of-type {\n        vertical-align: middle;\n    }\n\n    .dataframe tbody tr th {\n        vertical-align: top;\n    }\n\n    .dataframe thead th {\n        text-align: right;\n    }\n</style>\n<table border=\"1\" class=\"dataframe\">\n  <thead>\n    <tr style=\"text-align: right;\">\n      <th></th>\n      <th>BGGId</th>\n      <th>Name</th>\n      <th>AvgRating</th>\n    </tr>\n  </thead>\n  <tbody>\n    <tr>\n      <th>11220</th>\n      <td>115746</td>\n      <td>War of the Ring: Second Edition</td>\n      <td>8.50988</td>\n    </tr>\n  </tbody>\n</table>\n</div>"
     },
     "metadata": {},
     "output_type": "display_data"
    },
    {
     "name": "stdout",
     "output_type": "stream",
     "text": [
      "Predicted rating for item id 278292: 8.83\n"
     ]
    },
    {
     "data": {
      "text/plain": "        BGGId                     Name  AvgRating\n20109  278292  Anachrony: Infinity Box    9.07609",
      "text/html": "<div>\n<style scoped>\n    .dataframe tbody tr th:only-of-type {\n        vertical-align: middle;\n    }\n\n    .dataframe tbody tr th {\n        vertical-align: top;\n    }\n\n    .dataframe thead th {\n        text-align: right;\n    }\n</style>\n<table border=\"1\" class=\"dataframe\">\n  <thead>\n    <tr style=\"text-align: right;\">\n      <th></th>\n      <th>BGGId</th>\n      <th>Name</th>\n      <th>AvgRating</th>\n    </tr>\n  </thead>\n  <tbody>\n    <tr>\n      <th>20109</th>\n      <td>278292</td>\n      <td>Anachrony: Infinity Box</td>\n      <td>9.07609</td>\n    </tr>\n  </tbody>\n</table>\n</div>"
     },
     "metadata": {},
     "output_type": "display_data"
    }
   ],
   "source": [
    "#TODO: poista sarakkeita tulostuksesta\n",
    "# Example usage\n",
    "predictions = user_predictions_from_similar(target_user, model)\n",
    "\n",
    "top10 = sorted(predictions, key=lambda x: x.est, reverse=True)\n",
    "for pred in top10:\n",
    "    print(f\"Predicted rating for item id {pred.iid}: {pred.est:.2f}\")\n",
    "    display(df_games_reduced.loc[df_games_reduced[\"BGGId\"] == pred.iid, [\"BGGId\", \"Name\", \"AvgRating\"]])\n",
    "    "
   ],
   "metadata": {
    "collapsed": false,
    "ExecuteTime": {
     "end_time": "2025-10-06T17:25:50.552436300Z",
     "start_time": "2025-10-06T17:25:50.000374800Z"
    }
   },
   "id": "65d47318831d432c"
  },
  {
   "cell_type": "markdown",
   "source": [
    "### Personal opinions on predicted ratings\n",
    "As this model was trained using my personal board game ratings on boardgamegeek.com, I can slightly evaluate the quality of the recommendations. Since the rating data for the dataset was collected 4 years ago, I have actually rated some of the recommended games since:  \n",
    "\n",
    "\n",
    "| Name              | Predicted rating | Actual rating |\n",
    "|-------------------|-----------------:|--------------:|\n",
    "| Ark Nova          |              9.17 |             9 |\n",
    "| Mage Knight       |              8.93 |             7 |\n",
    "| Spirit Island     |              8.91 |             9 |\n",
    "| Twilight Imperium |              8.91 |            10 |\n",
    "\n",
    "These are surprisingly close. Also for the games I have not rated, I can see the reasoning with each of them."
   ],
   "metadata": {
    "collapsed": false
   },
   "id": "8a03434e41cc693"
  },
  {
   "cell_type": "markdown",
   "source": [
    "### Model Integration and Applications\n",
    "\n",
    "The final model could be integrated into various platforms.  \n",
    "If an initial data input stage were added, the model could be used even without requiring an existing user on the site.\n",
    "\n",
    "**Possible applications include:**\n",
    "- Web store plugins  \n",
    "- A standalone app  \n",
    "\n",
    "**Future improvements:**\n",
    "- Use updated data scraped via the *BoardGameGeek XML API*  \n",
    "- Deploy as a backend API service  "
   ],
   "metadata": {
    "collapsed": false
   },
   "id": "9ec827e8bcaba05e"
  },
  {
   "cell_type": "code",
   "execution_count": null,
   "outputs": [],
   "source": [],
   "metadata": {
    "collapsed": false
   },
   "id": "a502203765a5fdef"
  }
 ],
 "metadata": {
  "kernelspec": {
   "display_name": ".venv",
   "language": "python",
   "name": "python3"
  },
  "language_info": {
   "codemirror_mode": {
    "name": "ipython",
    "version": 3
   },
   "file_extension": ".py",
   "mimetype": "text/x-python",
   "name": "python",
   "nbconvert_exporter": "python",
   "pygments_lexer": "ipython3",
   "version": "3.11.13"
  }
 },
 "nbformat": 4,
 "nbformat_minor": 5
}
