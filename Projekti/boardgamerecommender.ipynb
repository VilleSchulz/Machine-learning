{
 "cells": [
  {
   "cell_type": "markdown",
   "id": "c81e98924bf071a7",
   "metadata": {
    "collapsed": false
   },
   "source": [
    "# Boardgame Recommender"
   ]
  },
  {
   "cell_type": "markdown",
   "id": "a4c9cc9a54ec6412",
   "metadata": {
    "collapsed": false
   },
   "source": [
    "## 1. Business Understanding\n",
    "\n",
    "**BoardGameGeek** is a comprehensive online database that catalogues over 125,600 board games, providing access to reviews, discussion forums, and detailed information on individual titles. It is widely recognized as the most extensive repository of board game data available. In addition to serving as an information resource, the platform enables users to rate games on a 1–10 scale and to manage their personal game collections.\n",
    "\n",
    "The aim of this project is to build a recommender system that uses data gathered from BoardGameGeek to generate board game recommendations based on user ratings. \n",
    "-item based collaborative filtering\n",
    "Recomendations for selected user"
   ]
  },
  {
   "cell_type": "code",
   "execution_count": null,
   "outputs": [],
   "source": [
    "# Target user\n",
    "target_user = \"TeemuVataja\""
   ],
   "metadata": {
    "collapsed": false
   },
   "id": "50a175295596177"
  },
  {
   "cell_type": "markdown",
   "source": [
    "## 2. Data Understanding\n",
    "\n",
    "Feature-rich multi-table dataset full of interesting information about Board Games:\n",
    "[Board Games Database (BoardGameGeek, Kaggle)](https://www.kaggle.com/datasets/threnjen/board-games-database-from-boardgamegeek)\n",
    "\n",
    "This data set includes nine potential files for exploration and/or modeling. The files are as follows:\n",
    "\n",
    "- GAMES - the basic information file with 47 features about each of 22k board games. Primary key is BGGId which is the BoardGameGeek game id.\n",
    "- RATINGS_DISTRIBTION - includes full ratings distribution for each BGGId\n",
    "- THEMES - table of themes for each BGGId\n",
    "- MECHANICS - table of mechanics with binary flags per BGGId\n",
    "- SUBCATEGORIES - table of subcategories with binary flags per BGGId\n",
    "- ARTISTS_REDUCED - gives artist information for each BGGId. This file is reduced to artists with >3 works, with a binary flag indicating the game included an artist with <= 3 works\n",
    "- DESIGNERS_REDUCED - gives designer information for each BGGId. This file is reduced to designers with >3 works, with a binary flag indicating the game included a designer with <= 3 works\n",
    "- PUBLISHERS_REDUCED - gives publisher information for each BGGId. This file is reduced to publishers with >3 works, with a binary flag indicating the game included a publisher with <= 3 works\n",
    "- USER_RATINGS - has all ratings for all BGGId with username. There are over 411k unique users and ~19 million ratings. Use in recommender system.\n",
    "\n",
    "Source for the dataset:  \n",
    "[BoardGameGeek](https://boardgamegeek.com/)\n"
   ],
   "metadata": {
    "collapsed": false
   },
   "id": "c3681d2cd75bb9c3"
  },
  {
   "cell_type": "markdown",
   "source": [
    "kerrotaan miten importataan data Data is imported from the kagglehub "
   ],
   "metadata": {
    "collapsed": false
   },
   "id": "dad0ff0c9fdf9af8"
  },
  {
   "cell_type": "code",
   "execution_count": null,
   "outputs": [],
   "source": [
    "# Install dependencies as needed:\n",
    "# pip install kagglehub[pandas-datasets]\n",
    "import kagglehub\n",
    "import os\n",
    "import pandas as pd\n",
    "\n",
    "path = kagglehub.dataset_download(\"threnjen/board-games-database-from-boardgamegeek\")\n",
    "\n",
    "#TODO: tuo vaan ne mitä päädytään käyttämään, laita omiin blokkeihin ja selitykset ekaksi markdownina\n",
    "\n",
    "# df_artists = pd.read_csv(os.path.join(path, \"artists_reduced.csv\"))\n",
    "# display(df_artists.head())\n",
    "# \n",
    "# df_designers = pd.read_csv(os.path.join(path, \"designers_reduced.csv\"))\n",
    "# display(df_designers.head())\n",
    "\n",
    "\n",
    "\n",
    "# df_mechanics = pd.read_csv(os.path.join(path, \"mechanics.csv\"))\n",
    "# display(df_mechanics.head())\n",
    "# \n",
    "# df_publishers = pd.read_csv(os.path.join(path, \"publishers_reduced.csv\"))\n",
    "# display(df_publishers.head())\n",
    "\n",
    "# df_ratings_distribution = pd.read_csv(os.path.join(path, \"ratings_distribution.csv\"))\n",
    "# display(df_ratings_distribution.head())\n",
    "\n",
    "# df_subcategories = pd.read_csv(os.path.join(path, \"subcategories.csv\"))\n",
    "# display(df_subcategories.head())\n",
    "\n",
    "# df_themes = pd.read_csv(os.path.join(path, \"themes.csv\"))\n",
    "# display(df_themes.head())\n",
    "\n",
    "\n",
    "\n",
    "# For the documentation file, just preview as text (not tabular)\n",
    "# with open(os.path.join(path, \"bgg_data_documentation.txt\"), \"r\", encoding=\"utf-8\") as f:\n",
    "#     bgg_documentation = f.read()\n",
    "# print(bgg_documentation[:500])  # first 500 characters"
   ],
   "metadata": {
    "collapsed": false
   },
   "id": "42725a4f7a3b8792"
  },
  {
   "cell_type": "code",
   "execution_count": null,
   "outputs": [],
   "source": [
    "df_games = pd.read_csv(os.path.join(path, \"games.csv\"))\n",
    "display(df_games.head())"
   ],
   "metadata": {
    "collapsed": false
   },
   "id": "63d8da4501ecbc7c"
  },
  {
   "cell_type": "markdown",
   "source": [
    "TODO df games plot? validate data"
   ],
   "metadata": {
    "collapsed": false
   },
   "id": "2130150bf66df9dc"
  },
  {
   "cell_type": "code",
   "execution_count": null,
   "outputs": [],
   "source": [
    "df_user_ratings = pd.read_csv(os.path.join(path, \"user_ratings.csv\"))\n",
    "display(df_user_ratings.head())"
   ],
   "metadata": {
    "collapsed": false
   },
   "id": "57e68c083395b7e"
  },
  {
   "cell_type": "code",
   "execution_count": null,
   "outputs": [],
   "source": [
    "import numpy as np\n",
    "import seaborn as sns\n",
    "import matplotlib.pyplot as plt\n",
    "\n",
    "def create_distribution_histrogram(title,user_data):\n",
    "    \n",
    "    bins = np.arange(1, 11 + 0.5, 0.5)\n",
    "\n",
    "    #display(user_data.values.unique().count())\n",
    " \n",
    "    # Laske keskiarvo ja keskihajonta\n",
    "    mu = np.mean(user_data)\n",
    "    sigma = np.std(user_data, ddof=1)\n",
    "    \n",
    "    \n",
    "    # Piirrä histogrammi\n",
    "    plt.figure(figsize=(8,5))\n",
    "    sns.histplot(user_data, stat='density', bins=bins, kde=False, color='skyblue', edgecolor='black')\n",
    "    \n",
    "    # Laske ja piirrä teoreettinen normaalijakauma\n",
    "    x = np.linspace(min(user_data)-1, max(user_data)+1, 200)\n",
    "    pdf = (1 / (sigma * np.sqrt(2 * np.pi))) * np.exp(-0.5 * ((x - mu) / sigma) ** 2)\n",
    "    plt.plot(x, pdf, color='red', linewidth=2, label=f'Norm({mu:.2f}, {sigma:.2f})')\n",
    "    \n",
    "    # Aseta otsikot ja legendat\n",
    "    plt.title(f'{title} Distribution of Ratings and Theoretical Normal Curve')\n",
    "    plt.xticks(range(1, 11))    \n",
    "\n",
    "    plt.xlabel('Grade')\n",
    "    plt.ylabel('Density')\n",
    "    plt.legend()\n",
    "    plt.grid(alpha=0.2)\n",
    "    plt.show() \n",
    "    print(f\"Information for: {title}\")\n",
    "    print(f\"Mean: {mu:.2f}, Standard deviation: {sigma:.2f}\")\n",
    "\n",
    "    \n",
    "    \n",
    "user_data = df_user_ratings[df_user_ratings[\"Username\"] == target_user][\"Rating\"]\n",
    "create_distribution_histrogram(target_user,user_data)\n",
    "all_users_data =df_user_ratings[\"Rating\"]\n",
    "create_distribution_histrogram(\"All users\",all_users_data)"
   ],
   "metadata": {
    "collapsed": false
   },
   "id": "da7264edb62544dd"
  },
  {
   "cell_type": "markdown",
   "source": [
    "\n",
    "validate data\n"
   ],
   "metadata": {
    "collapsed": false
   },
   "id": "5c5275a76dda6aa"
  },
  {
   "cell_type": "markdown",
   "source": [
    "GAMES\n",
    "\tBGGId\t\t\tBoardGameGeek game ID\n",
    "\tName\t\t\tName of game\n",
    "\tDescription\t\tDescription, stripped of punctuation and lemmatized\n",
    "\tYearPublished\t\tFirst year game published\n",
    "\tGameWeight\t\tGame difficulty/complexity\n",
    "\tAvgRating\t\tAverage user rating for game\n",
    "\tBayesAvgRating\t\tBayes weighted average for game (x # of average reviews applied)\n",
    "\tStdDev\t\t\tStandard deviation of Bayes Avg\n",
    "\tMinPlayers\t\tMinimum number of players\n",
    "\tMaxPlayers\t\tMaximun number of players\n",
    "\tComAgeRec\t\tCommunity's recommended age minimum\n",
    "\tLanguageEase\t\tLanguage requirement\n",
    "\tBestPlayers\t\tCommunity voted best player count\n",
    "\tGoodPlayers\t\tList of community voted good plater counts\n",
    "\tNumOwned\t\tNumber of users who own this game\n",
    "\tNumWant\t\t\tNumber of users who want this game\n",
    "\tNumWish\t\t\tNumber of users who wishlisted this game\n",
    "\tNumWeightVotes\t\t? Unknown\n",
    "\tMfgPlayTime\t\tManufacturer Stated Play Time\n",
    "\tComMinPlaytime\t\tCommunity minimum play time\n",
    "\tComMaxPlaytime\t\tCommunity maximum play time\n",
    "\tMfgAgeRec\t\tManufacturer Age Recommendation\n",
    "\tNumUserRatings\t\tNumber of user ratings\n",
    "\tNumComments\t\tNumber of user comments\n",
    "\tNumAlternates\t\tNumber of alternate versions\n",
    "\tNumExpansions\t\tNumber of expansions\n",
    "\tNumImplementations\tNumber of implementations\n",
    "\tIsReimplementation\tBinary - Is this listing a reimplementation? \n",
    "\tFamily\t\t\tGame family\n",
    "\tKickstarted\t\tBinary - Is this a kickstarter?\n",
    "\tImagePath\t\tImage http:// path\n",
    "\tRank:boardgame\t\tRank for boardgames overall\n",
    "\tRank:strategygames\tRank in strategy games\n",
    "\tRank:abstracts\t\tRank in abstracts\n",
    "\tRank:familygames\tRank in family games\n",
    "\tRank:thematic\t\tRank in thematic\n",
    "\tRank:cgs\t\tRank in card games\n",
    "\tRank:wargames\t\tRank in war games\n",
    "\tRank:partygames\t\tRank in party games\n",
    "\tRank:childrensgames\tRank in children's games\n",
    "\tCat:Thematic\t\tBinary is in Thematic category\n",
    "\tCat:Strategy\t\tBinary is in Strategy category\n",
    "\tCat:War\t\t\tBinary is in War category\n",
    "\tCat:Family\t\tBinary is in Family category\n",
    "\tCat:CGS\t\t\tBinary is in Card Games category\n",
    "\tCat:Abstract\t\tBinary is in Abstract category\n",
    "\tCat:Party\t\tBinary is in Party category\n",
    "\tCat:Childrens\t\tBinary is in Childrens category\n",
    "\n",
    "\n",
    "MECHANICS\n",
    "\tBGGId\t\t\tBoardGameGeek game ID\t\n",
    "\tRemaining headers are various mechanics with binary flag\n",
    "\n",
    "\n",
    "THEMES\n",
    "\tBGGId\t\t\tBoardGameGeek game ID\n",
    "\tRemaining headers are various themes with binary flag\n",
    "\n",
    "\n",
    "SUBCATEGORIES\n",
    "\tBGGId\t\t\tBoardGameGeek game ID\n",
    "\tRemaining headers are various subcategories with binary flag\n",
    "\n",
    "\n",
    "ARTISTS_REDUCED\n",
    "\tBGGId\t\t\tBoardGameGeek game ID\n",
    "\tLow-Exp Artist\t\tIndicates game has an unlisted artist with <= 3 entries\n",
    "\tRemaining headers are various artists with binary flag\n",
    "\n",
    "\n",
    "DESIGNERS_REDUCED\n",
    "\tBGGId\t\t\tBoardGameGeek game ID\n",
    "\tLow-Exp Designer\tIndicates game has an unlisted designer with <= 3 entries\n",
    "\tRemaining headers are various subcategories with binary flag\n",
    "\n",
    "\n",
    "PUBLISHERS_REDUCED\n",
    "\tBGGId\t\t\tBoardGameGeek game ID\n",
    "\tLow-Exp Publisher\tIndicated games has an unlisted publisher with <= 3 entries\n",
    "\tRemaining headers are various subcategories with binary flag\n",
    "\n",
    "\n",
    "USER_RATINGS\n",
    "\tBGGId\t\t\tBoardGameGeek game ID\t\n",
    "\tRating\t\t\tRaw rating given by user\n",
    "\tUsername\t\tUser giving rating\n",
    "\n",
    "\n",
    "RATINGS_DISTRIBUTION\n",
    "\tBGGId\t\t\tBoardGameGeek game ID\n",
    "\tNumbers 0.0-10.0\tNumber of ratings per rating header\n",
    "\ttotal_ratings\t\tTotal number of ratings for game"
   ],
   "metadata": {
    "collapsed": false
   },
   "id": "eb906b1f9929b47c"
  },
  {
   "cell_type": "markdown",
   "source": [
    "## 3. Data Preparation"
   ],
   "metadata": {
    "collapsed": false
   },
   "id": "2da1ed4fcb95bda6"
  },
  {
   "cell_type": "markdown",
   "source": [
    " cleanataan data "
   ],
   "metadata": {
    "collapsed": false
   },
   "id": "60711db3d93ad4ba"
  },
  {
   "cell_type": "code",
   "execution_count": null,
   "id": "831fdd6cfb0ded84",
   "metadata": {
    "collapsed": false
   },
   "outputs": [],
   "source": [
    "from surprise import Reader, Dataset\n",
    "\n",
    "# Example df_user_ratings has columns: Username, Item, Rating\n",
    "\n",
    "# Build user table with unique IDs and rating counts\n",
    "# If we ever need a dataframe without ratings just copy df_users before this step\n",
    "df_users = (\n",
    "    df_user_ratings.groupby(\"Username\")\n",
    "    .size()  # counts ratings per user\n",
    "    .reset_index(name=\"RatingCount\")\n",
    "    .reset_index(names=\"UserId\")  # create UserId from row index\n",
    ")\n",
    "\n",
    "#TODO: printtejä\n",
    "\n",
    "print(\"Total number of users:\")\n",
    "display(len(df_users))\n",
    "\n",
    "print(\"User table\")\n",
    "display(df_users.head())\n",
    "\n",
    "print(\"User rating table\")\n",
    "display(df_user_ratings.head())\n",
    "\n",
    "print(\"Selected user table\")\n",
    "display(df_users[df_users[\"Username\"] == target_user])"
   ]
  },
  {
   "cell_type": "markdown",
   "source": [
    "Users with more than equal 10 ratings"
   ],
   "metadata": {
    "collapsed": false
   },
   "id": "40778c0e01b62976"
  },
  {
   "cell_type": "code",
   "execution_count": null,
   "outputs": [],
   "source": [
    "print(f\"Length of users set before reduction: {len(df_users)}\")\n",
    "\n",
    "df_users_reduced = df_users[df_users['RatingCount'] >= 10]\n",
    "\n",
    "print(f\"Length of users set after reduction: {len(df_users_reduced)}\")"
   ],
   "metadata": {
    "collapsed": false
   },
   "id": "7c34eabf8e9623a7"
  },
  {
   "cell_type": "markdown",
   "source": [],
   "metadata": {
    "collapsed": false
   },
   "id": "673f2d7646146fcf"
  },
  {
   "cell_type": "code",
   "execution_count": null,
   "id": "5a8776087cf54aad",
   "metadata": {
    "collapsed": false
   },
   "outputs": [],
   "source": [
    "print(f\"Length of games set before reduction: {len(df_games)}\")\n",
    "\n",
    "df_games_reduced = df_games[df_games['NumUserRatings'] >= 100]\n",
    "\n",
    "print(f\"Length of games set after reduction: {len(df_games_reduced)}\")"
   ]
  },
  {
   "cell_type": "markdown",
   "source": [],
   "metadata": {
    "collapsed": false
   },
   "id": "35225e75c786dc89"
  },
  {
   "cell_type": "code",
   "execution_count": null,
   "outputs": [],
   "source": [
    "print(f\"Length of ratings set before reduction: {len(df_user_ratings)}\")\n",
    "\n",
    "df_ratings_reduced = df_user_ratings[df_user_ratings[\"BGGId\"].isin(df_games_reduced[\"BGGId\"])]\n",
    "df_ratings_reduced = df_ratings_reduced[df_ratings_reduced[\"Username\"].isin(df_users_reduced[\"Username\"])]\n",
    "\n",
    "print(f\"Length of ratings set after reduction: {len(df_ratings_reduced)}\")\n",
    "print(f\"Valid ratings after pruning for target user: {len(df_ratings_reduced[df_ratings_reduced['Username'] == target_user])}\")"
   ],
   "metadata": {
    "collapsed": false
   },
   "id": "a40a49ee4ea64d9"
  },
  {
   "cell_type": "code",
   "execution_count": null,
   "outputs": [],
   "source": [],
   "metadata": {
    "collapsed": false
   },
   "id": "3e77be3e1fd8fb89"
  },
  {
   "cell_type": "markdown",
   "source": [
    "## 4. Modeling\n"
   ],
   "metadata": {
    "collapsed": false
   },
   "id": "7208eaa952d55178"
  },
  {
   "cell_type": "markdown",
   "source": [
    "Selitä mitä nyt tehdään\n",
    "# SVD = item x item\n",
    "# KNN = user x user\n",
    "Mallin luonti ja tallennus tietokoneelle. Jos ei luotu niin kouluttaa sen ja tallentaa"
   ],
   "metadata": {
    "collapsed": false
   },
   "id": "cb07f935522851b"
  },
  {
   "cell_type": "code",
   "execution_count": null,
   "outputs": [],
   "source": [
    "from surprise import SVD, dump\n",
    "from surprise.model_selection import train_test_split\n",
    "import os\n",
    "\n",
    "def create_surprise_dataset(df, user_id, item_id, ratings, reader):\n",
    "    return Dataset.load_from_df(df[[user_id, item_id, ratings]], reader)\n",
    "\n",
    "data = create_surprise_dataset(df_ratings_reduced, \"Username\", \"BGGId\", \"Rating\", Reader(rating_scale=(0.0, 10.0)))\n",
    "\n",
    "# def load_test_model(model_name, algo, force_recreate=False):\n",
    "#     if not os.path.exists(model_name) or force_recreate:\n",
    "#         surprise_dataset = create_surprise_dataset(df_ratings_reduced, \"Username\", \"BGGId\", \"Rating\", Reader(rating_scale=(0.0, 10.0))) # First create surprise dataset from an existing Pandas Dataframe. Hardcoded for now\n",
    "#         trainset, testset = train_test_split(surprise_dataset, test_size=0.2)\n",
    "#         algo.fit(trainset)\n",
    "#         #surprise_trainset = surprise_dataset.build_full_trainset() # Then build the trainset\n",
    "#         #algo.fit(surprise_trainset) # Lastly create the model using said training set\n",
    "#         \n",
    "#         dump.dump(model_name, algo=algo)\n",
    "#         return algo, testset\n",
    "# \n",
    "#     _, algo = dump.load(model_name)\n",
    "#     return algo\n",
    "# \n",
    "# model, testset = load_test_model(\"testmodel.pkl\", SVD(n_factors=50, random_state=666))"
   ],
   "metadata": {
    "collapsed": false
   },
   "id": "39a75ef37609ff92"
  },
  {
   "cell_type": "markdown",
   "source": [
    "predictions funktiot."
   ],
   "metadata": {
    "collapsed": false
   },
   "id": "3a7f16c7a899b043"
  },
  {
   "cell_type": "code",
   "execution_count": null,
   "outputs": [],
   "source": [
    "import numpy as np\n",
    "from sklearn.metrics.pairwise import cosine_similarity\n",
    "\n",
    "def top_similar_users(username, model, top_n=10):\n",
    "    \"\"\"\n",
    "    Returns top-N similar users to a given username (raw ID).\n",
    "    \"\"\"\n",
    "    try:\n",
    "        inner_uid = model.trainset.to_inner_uid(username)\n",
    "    except ValueError:\n",
    "        return []\n",
    "\n",
    "    user_vec = model.pu[inner_uid].reshape(1, -1)\n",
    "    sims = cosine_similarity(user_vec, model.pu)[0]\n",
    "\n",
    "    # Exclude self\n",
    "    top_inner = np.argsort(-sims)[1:top_n+1]\n",
    "    return [model.trainset.to_raw_uid(i) for i in top_inner]\n"
   ],
   "metadata": {
    "collapsed": false
   },
   "id": "5d40db5e197b691f"
  },
  {
   "cell_type": "markdown",
   "source": [
    "Selitystä"
   ],
   "metadata": {
    "collapsed": false
   },
   "id": "17232db075b13393"
  },
  {
   "cell_type": "code",
   "execution_count": null,
   "outputs": [],
   "source": [
    "\n",
    "def user_predictions(username, model, top_n_items=None):\n",
    "    \"\"\"\n",
    "    Predict ratings for all unseen items for a given username.\n",
    "    Optionally, return only top-N items.\n",
    "    \"\"\"\n",
    "    try:\n",
    "        inner_uid = model.trainset.to_inner_uid(username)\n",
    "    except ValueError:\n",
    "        return []\n",
    "\n",
    "    # Items already rated by user\n",
    "    user_items = {iid for (iid, _) in model.trainset.ur[inner_uid]}\n",
    "    all_items = set(range(model.trainset.n_items))\n",
    "    unseen_items = all_items - user_items\n",
    "\n",
    "    # Build test set (user x unseen items)\n",
    "    testset = [(username, model.trainset.to_raw_iid(i), 0.) for i in unseen_items]\n",
    "\n",
    "    # Get predictions\n",
    "    predictions = model.test(testset)\n",
    "\n",
    "    # Optionally keep top-N items\n",
    "    if top_n_items:\n",
    "        predictions = sorted(predictions, key=lambda x: x.est, reverse=True)[:top_n_items]\n",
    "\n",
    "    return predictions\n"
   ],
   "metadata": {
    "collapsed": false
   },
   "id": "dc97fcc77a7c592a"
  },
  {
   "cell_type": "markdown",
   "source": [
    "Selitystä"
   ],
   "metadata": {
    "collapsed": false
   },
   "id": "9e20df85424e7ae2"
  },
  {
   "cell_type": "code",
   "execution_count": null,
   "outputs": [],
   "source": [
    "def user_predictions_from_similar(username, model, top_n_users=1000, top_n_items=10):\n",
    "    \"\"\"\n",
    "    Predict items for a user based on items liked by similar users.\n",
    "    \"\"\"\n",
    "    similar_users = top_similar_users(username, model, top_n=top_n_users)\n",
    "\n",
    "    # Collect items rated by similar users\n",
    "    similar_items = set()\n",
    "    for su in similar_users:\n",
    "        inner_uid = model.trainset.to_inner_uid(su)\n",
    "        similar_items.update([model.trainset.to_raw_iid(iid) for (iid, _) in model.trainset.ur[inner_uid]])\n",
    "\n",
    "    # Filter out items already rated by target user\n",
    "    inner_uid_target = model.trainset.to_inner_uid(username)\n",
    "    user_items = {model.trainset.to_raw_iid(iid) for (iid, _) in model.trainset.ur[inner_uid_target]}\n",
    "    candidate_items = similar_items - user_items\n",
    "\n",
    "    # Build test set and predict\n",
    "    testset = [(username, iid, 0.) for iid in candidate_items]\n",
    "    predictions = model.test(testset)\n",
    "    predictions = sorted(predictions, key=lambda x: x.est, reverse=True)[:top_n_items]\n",
    "\n",
    "    return predictions\n"
   ],
   "metadata": {
    "collapsed": false
   },
   "id": "832d8d2a1d399344"
  },
  {
   "cell_type": "markdown",
   "source": [
    "Selitystä"
   ],
   "metadata": {
    "collapsed": false
   },
   "id": "393fd2e72ef64cc0"
  },
  {
   "cell_type": "markdown",
   "id": "fe5a72235e1289ec",
   "metadata": {
    "collapsed": false
   },
   "source": [
    "## 5. Evaluation"
   ]
  },
  {
   "cell_type": "code",
   "execution_count": null,
   "outputs": [],
   "source": [
    "from surprise.model_selection import cross_validate\n",
    "\n",
    "cross_validate(SVD(n_factors=50, random_state=666), data, measures=[\"RMSE\", \"MAE\"], cv=3, return_train_measures=True, verbose=True)"
   ],
   "metadata": {
    "collapsed": false
   },
   "id": "a7c62ff076d36df0"
  },
  {
   "cell_type": "markdown",
   "id": "eb73bfdfd9f6fa65",
   "metadata": {
    "collapsed": false
   },
   "source": [
    "## 6. Deployment"
   ]
  },
  {
   "cell_type": "code",
   "execution_count": null,
   "outputs": [],
   "source": [
    "def load_surprise_model(model_name, algo, force_recreate=False):\n",
    "    if not os.path.exists(model_name) or force_recreate:\n",
    "        surprise_dataset = create_surprise_dataset(df_ratings_reduced, \"Username\", \"BGGId\", \"Rating\", Reader(rating_scale=(0.0, 10.0))) # First create surprise dataset from an existing Pandas Dataframe. Hardcoded for now\n",
    "        surprise_trainset = surprise_dataset.build_full_trainset() # Then build the trainset\n",
    "        algo.fit(surprise_trainset) # Lastly create the model using said training set\n",
    "        \n",
    "        dump.dump(model_name, algo=algo)\n",
    "        return algo\n",
    "\n",
    "    _, algo = dump.load(model_name)\n",
    "    return algo\n",
    "\n",
    "model = load_surprise_model(\"model.pkl\", SVD(n_factors=50,random_state=666))\n",
    "\n",
    "##tehdään tällä juttutja"
   ],
   "metadata": {
    "collapsed": false
   },
   "id": "312be1e03fedafd2"
  },
  {
   "cell_type": "markdown",
   "source": [
    "tähän juttuja mallin luonnista"
   ],
   "metadata": {
    "collapsed": false
   },
   "id": "364e1693f1d51deb"
  },
  {
   "cell_type": "code",
   "execution_count": null,
   "outputs": [],
   "source": [
    "#TODO: poista sarakkeita tulostuksesta\n",
    "# Example usage\n",
    "predictions = user_predictions_from_similar(target_user, model)\n",
    "\n",
    "top10 = sorted(predictions, key=lambda x: x.est, reverse=True)\n",
    "for pred in top10:\n",
    "    print(pred.iid, pred.est)\n",
    "    display(df_games_reduced[df_games_reduced[\"BGGId\"] == pred.iid])\n",
    "    "
   ],
   "metadata": {
    "collapsed": false
   },
   "id": "65d47318831d432c"
  },
  {
   "cell_type": "markdown",
   "source": [
    "ajatuksia"
   ],
   "metadata": {
    "collapsed": false
   },
   "id": "8a03434e41cc693"
  }
 ],
 "metadata": {
  "kernelspec": {
   "display_name": ".venv",
   "language": "python",
   "name": "python3"
  },
  "language_info": {
   "codemirror_mode": {
    "name": "ipython",
    "version": 3
   },
   "file_extension": ".py",
   "mimetype": "text/x-python",
   "name": "python",
   "nbconvert_exporter": "python",
   "pygments_lexer": "ipython3",
   "version": "3.11.13"
  }
 },
 "nbformat": 4,
 "nbformat_minor": 5
}
