{
 "cells": [
  {
   "cell_type": "markdown",
   "source": [
    "# Boardgame Recommender\n"
   ],
   "metadata": {
    "collapsed": false
   },
   "id": "3e158d042a051e60"
  },
  {
   "cell_type": "markdown",
   "source": [
    "## 1. Business Understanding\n",
    "\n",
    "**BoardGameGeek** is a comprehensive online database that consists of over 125,600 board games, providing access to reviews, discussion forums, and detailed information on individual titles. It is widely recognized as the most extensive repository of board game data available. In addition to serving as an information resource, the platform enables users to rate games on a 1–10 scale and to manage their personal game collections.\n",
    "\n",
    "The goal of this project is to develop a recommender system that leverages data from BoardGameGeek to suggest board games to users. We chose a matrix factorization collaborative filtering approach, using community rating data to learn latent features of users and games. The system generates personalized recommendations for a selected user, based on their past ratings."
   ],
   "metadata": {
    "collapsed": false
   },
   "id": "d908555fedcd9bfe"
  },
  {
   "cell_type": "code",
   "execution_count": 8,
   "outputs": [],
   "source": [
    "# Target user\n",
    "target_user = \"TeemuVataja\""
   ],
   "metadata": {
    "collapsed": false,
    "ExecuteTime": {
     "end_time": "2025-10-09T16:22:40.328947300Z",
     "start_time": "2025-10-09T16:22:39.477214Z"
    }
   },
   "id": "591dc633e5f1f13c"
  },
  {
   "cell_type": "markdown",
   "source": [
    "## 2. Data Understanding\n",
    "\n",
    "The dataset used in this project is the **Board Game Database** available on [Kaggle](https://www.kaggle.com/datasets/threnjen/board-games-database-from-boardgamegeek), which compiles data from the **BoardGameGeek (BGG)** platform. The data, collected in 2021, captures detailed information about board games, their attributes, and user interactions on the site. \n",
    "\n",
    "This dataset provides a rich foundation for exploring patterns in board game design, user preferences, and popularity, making it well-suited for building a **recommender system** based on user ratings and item similarities."
   ],
   "metadata": {
    "collapsed": false
   },
   "id": "eac7bf5c8433f437"
  },
  {
   "cell_type": "markdown",
   "source": [
    "### 2.1 Overview of Available Files\n",
    "\n",
    "The dataset consists of **nine files**, each offering different dimensions of board game data:\n",
    "\n",
    "- **GAMES** – Contains core details for approximately **22,000 board games** with **47 features**.  \n",
    "  Each game is identified by a unique **BGGId**, serving as the primary key. This file includes metadata such as publication year, minimum/maximum players, average playtime, and average user rating.\n",
    "\n",
    "- **RATINGS_DISTRIBUTION** – Provides the **full rating distribution** for each game (`BGGId`), detailing how users rated the game on a 1–10 scale.\n",
    "\n",
    "- **THEMES** – Lists **thematic categories** associated with each game (`BGGId`), allowing thematic-based filtering and analysis.\n",
    "\n",
    "- **MECHANICS** – Includes **game mechanics** represented as binary indicators per game, enabling insights into gameplay styles (e.g., deck building, worker placement, area control).\n",
    "\n",
    "- **SUBCATEGORIES** – Contains **secondary classifications** (binary flags) that describe additional attributes or gameplay aspects of each title.\n",
    "\n",
    "- **ARTISTS_REDUCED** – Identifies **artists** involved in the visual design of each game.  \n",
    "  Only artists with more than 3 works are included explicitly; others are represented by a binary flag.\n",
    "\n",
    "- **DESIGNERS_REDUCED** – Provides information about **game designers**, using the same filtering logic as the artists file (designers with >3 works listed individually).\n",
    "\n",
    "- **PUBLISHERS_REDUCED** – Contains **publisher information** with binary flags for those associated with fewer than 3 published games.\n",
    "\n",
    "- **USER_RATINGS** – The largest and most critical table for recommendation modeling.  \n",
    "  It contains user-generated ratings with over **411,000 unique users** and approximately **19 million ratings**, linking users to the games they have rated via `username` and `BGGId`."
   ],
   "metadata": {
    "collapsed": false
   },
   "id": "9e838db58ece6a6d"
  },
  {
   "cell_type": "markdown",
   "source": [
    "### 2.2 Data Relevance to the Project\n",
    "\n",
    "For this project, the **USER_RATINGS** dataset forms the foundation of the **item-based collaborative filtering** recommender system."
   ],
   "metadata": {
    "collapsed": false
   },
   "id": "f80ab60b68f75709"
  },
  {
   "cell_type": "markdown",
   "source": [
    "### 2.3 Data Source\n",
    "\n",
    "- **Primary Source:** [BoardGameGeek](https://boardgamegeek.com/)  \n",
    "- **Dataset Repository:** [Board Games Database on Kaggle](https://www.kaggle.com/datasets/threnjen/board-games-database-from-boardgamegeek)"
   ],
   "metadata": {
    "collapsed": false
   },
   "id": "963aeaae9fde6607"
  },
  {
   "cell_type": "markdown",
   "source": [
    "### 2.4 Data Access and Loading\n",
    "\n",
    "To begin the analysis, the dataset is retrieved directly from **Kaggle** using the `kagglehub` library.  \n",
    "This ensures easy and reliable access to the **Board Game Database** for exploration and modeling.\n",
    "\n",
    "Install dependencies as needed:  \n",
    "`pip install kagglehub[pandas-datasets]`"
   ],
   "metadata": {
    "collapsed": false
   },
   "id": "8f0a4a0a30886c30"
  },
  {
   "cell_type": "code",
   "execution_count": 9,
   "outputs": [],
   "source": [
    "import kagglehub\n",
    "import os\n",
    "import pandas as pd\n",
    "\n",
    "path = kagglehub.dataset_download(\"threnjen/board-games-database-from-boardgamegeek\")"
   ],
   "metadata": {
    "collapsed": false,
    "ExecuteTime": {
     "end_time": "2025-10-09T16:22:41.217874700Z",
     "start_time": "2025-10-09T16:22:39.533585200Z"
    }
   },
   "id": "b7d638126f6e716d"
  },
  {
   "cell_type": "markdown",
   "source": [
    "### 2.5 Exploring the `GAMES` File\n",
    "\n",
    "The **`games.csv`** file serves as the **master information table**, containing detailed metadata for each board game listed on BoardGameGeek.  \n",
    "Each game is uniquely identified by the `BGGId` and described using 47 attributes covering gameplay, community ratings, rankings, and publisher information.\n",
    "\n",
    "Key features include:\n",
    "\n",
    "- **BGGId** – Unique BoardGameGeek game identifier  \n",
    "- **Name** – Title of the board game  \n",
    "- **Description** – Lemmatized and punctuation-stripped description text  \n",
    "- **YearPublished** – Year the game was first published  \n",
    "- **GameWeight** – Difficulty or complexity rating  \n",
    "- **AvgRating / BayesAvgRating** – Average and Bayesian-weighted average user ratings  \n",
    "- **MinPlayers / MaxPlayers / BestPlayers** – Recommended and community-voted player counts  \n",
    "- **ComAgeRec / MfgAgeRec** – Community and manufacturer age recommendations  \n",
    "- **MfgPlayTime / ComMinPlaytime / ComMaxPlaytime** – Estimated and community-reported play times  \n",
    "- **NumOwned / NumWant / NumWish** – Ownership and wishlist statistics  \n",
    "- **Rank:** fields – Game rankings across multiple categories (e.g., strategy, thematic, party)  \n",
    "- **Cat:** fields – Binary indicators for major game categories  \n",
    "\n",
    "The following code loads the `games.csv` file into a pandas DataFrame and displays the first few records for inspection."
   ],
   "metadata": {
    "collapsed": false
   },
   "id": "359396a3049d35ae"
  },
  {
   "cell_type": "code",
   "execution_count": 10,
   "outputs": [
    {
     "data": {
      "text/plain": "   BGGId            Name                                        Description  \\\n0      1      Die Macher  die macher game seven sequential political rac...   \n1      2    Dragonmaster  dragonmaster tricktaking card game base old ga...   \n2      3         Samurai  samurai set medieval japan player compete gain...   \n3      4  Tal der Könige  triangular box luxurious large block tal der k...   \n4      5         Acquire  acquire player strategically invest business t...   \n\n   YearPublished  GameWeight  AvgRating  BayesAvgRating   StdDev  MinPlayers  \\\n0           1986      4.3206    7.61428         7.10363  1.57979           3   \n1           1981      1.9630    6.64537         5.78447  1.45440           3   \n2           1998      2.4859    7.45601         7.23994  1.18227           2   \n3           1992      2.6667    6.60006         5.67954  1.23129           2   \n4           1964      2.5031    7.33861         7.14189  1.33583           2   \n\n   MaxPlayers  ...  Rank:partygames  Rank:childrensgames  Cat:Thematic  \\\n0           5  ...            21926                21926             0   \n1           4  ...            21926                21926             0   \n2           4  ...            21926                21926             0   \n3           4  ...            21926                21926             0   \n4           6  ...            21926                21926             0   \n\n  Cat:Strategy  Cat:War  Cat:Family  Cat:CGS  Cat:Abstract  Cat:Party  \\\n0            1        0           0        0             0          0   \n1            1        0           0        0             0          0   \n2            1        0           0        0             0          0   \n3            0        0           0        0             0          0   \n4            1        0           0        0             0          0   \n\n   Cat:Childrens  \n0              0  \n1              0  \n2              0  \n3              0  \n4              0  \n\n[5 rows x 48 columns]",
      "text/html": "<div>\n<style scoped>\n    .dataframe tbody tr th:only-of-type {\n        vertical-align: middle;\n    }\n\n    .dataframe tbody tr th {\n        vertical-align: top;\n    }\n\n    .dataframe thead th {\n        text-align: right;\n    }\n</style>\n<table border=\"1\" class=\"dataframe\">\n  <thead>\n    <tr style=\"text-align: right;\">\n      <th></th>\n      <th>BGGId</th>\n      <th>Name</th>\n      <th>Description</th>\n      <th>YearPublished</th>\n      <th>GameWeight</th>\n      <th>AvgRating</th>\n      <th>BayesAvgRating</th>\n      <th>StdDev</th>\n      <th>MinPlayers</th>\n      <th>MaxPlayers</th>\n      <th>...</th>\n      <th>Rank:partygames</th>\n      <th>Rank:childrensgames</th>\n      <th>Cat:Thematic</th>\n      <th>Cat:Strategy</th>\n      <th>Cat:War</th>\n      <th>Cat:Family</th>\n      <th>Cat:CGS</th>\n      <th>Cat:Abstract</th>\n      <th>Cat:Party</th>\n      <th>Cat:Childrens</th>\n    </tr>\n  </thead>\n  <tbody>\n    <tr>\n      <th>0</th>\n      <td>1</td>\n      <td>Die Macher</td>\n      <td>die macher game seven sequential political rac...</td>\n      <td>1986</td>\n      <td>4.3206</td>\n      <td>7.61428</td>\n      <td>7.10363</td>\n      <td>1.57979</td>\n      <td>3</td>\n      <td>5</td>\n      <td>...</td>\n      <td>21926</td>\n      <td>21926</td>\n      <td>0</td>\n      <td>1</td>\n      <td>0</td>\n      <td>0</td>\n      <td>0</td>\n      <td>0</td>\n      <td>0</td>\n      <td>0</td>\n    </tr>\n    <tr>\n      <th>1</th>\n      <td>2</td>\n      <td>Dragonmaster</td>\n      <td>dragonmaster tricktaking card game base old ga...</td>\n      <td>1981</td>\n      <td>1.9630</td>\n      <td>6.64537</td>\n      <td>5.78447</td>\n      <td>1.45440</td>\n      <td>3</td>\n      <td>4</td>\n      <td>...</td>\n      <td>21926</td>\n      <td>21926</td>\n      <td>0</td>\n      <td>1</td>\n      <td>0</td>\n      <td>0</td>\n      <td>0</td>\n      <td>0</td>\n      <td>0</td>\n      <td>0</td>\n    </tr>\n    <tr>\n      <th>2</th>\n      <td>3</td>\n      <td>Samurai</td>\n      <td>samurai set medieval japan player compete gain...</td>\n      <td>1998</td>\n      <td>2.4859</td>\n      <td>7.45601</td>\n      <td>7.23994</td>\n      <td>1.18227</td>\n      <td>2</td>\n      <td>4</td>\n      <td>...</td>\n      <td>21926</td>\n      <td>21926</td>\n      <td>0</td>\n      <td>1</td>\n      <td>0</td>\n      <td>0</td>\n      <td>0</td>\n      <td>0</td>\n      <td>0</td>\n      <td>0</td>\n    </tr>\n    <tr>\n      <th>3</th>\n      <td>4</td>\n      <td>Tal der Könige</td>\n      <td>triangular box luxurious large block tal der k...</td>\n      <td>1992</td>\n      <td>2.6667</td>\n      <td>6.60006</td>\n      <td>5.67954</td>\n      <td>1.23129</td>\n      <td>2</td>\n      <td>4</td>\n      <td>...</td>\n      <td>21926</td>\n      <td>21926</td>\n      <td>0</td>\n      <td>0</td>\n      <td>0</td>\n      <td>0</td>\n      <td>0</td>\n      <td>0</td>\n      <td>0</td>\n      <td>0</td>\n    </tr>\n    <tr>\n      <th>4</th>\n      <td>5</td>\n      <td>Acquire</td>\n      <td>acquire player strategically invest business t...</td>\n      <td>1964</td>\n      <td>2.5031</td>\n      <td>7.33861</td>\n      <td>7.14189</td>\n      <td>1.33583</td>\n      <td>2</td>\n      <td>6</td>\n      <td>...</td>\n      <td>21926</td>\n      <td>21926</td>\n      <td>0</td>\n      <td>1</td>\n      <td>0</td>\n      <td>0</td>\n      <td>0</td>\n      <td>0</td>\n      <td>0</td>\n      <td>0</td>\n    </tr>\n  </tbody>\n</table>\n<p>5 rows × 48 columns</p>\n</div>"
     },
     "metadata": {},
     "output_type": "display_data"
    }
   ],
   "source": [
    "df_games = pd.read_csv(os.path.join(path, \"games.csv\"))\n",
    "display(df_games.head())"
   ],
   "metadata": {
    "collapsed": false,
    "ExecuteTime": {
     "end_time": "2025-10-09T16:22:41.871245200Z",
     "start_time": "2025-10-09T16:22:40.143205700Z"
    }
   },
   "id": "c741e486c283ca21"
  },
  {
   "cell_type": "markdown",
   "source": [
    "### 2.7 Exploring the `USER_RATINGS` File\n",
    "\n",
    "The **`user_ratings.csv`** file captures individual user ratings for board games listed on BoardGameGeek.  \n",
    "Each record links a **user** to a **game** through its unique `BGGId` and the corresponding numeric rating, forming the foundation for collaborative filtering–based recommendations.\n",
    "\n",
    "Key features include:\n",
    "\n",
    "- **BGGId** – Unique identifier for each board game (foreign key referencing the `GAMES` table)  \n",
    "- **Rating** – The raw user-assigned rating on a 1–10 scale  \n",
    "- **Username** – Identifier of the user who provided the rating  \n",
    "\n",
    "This dataset contains over **19 million ratings** from approximately **411,000 unique users**, making it the **core interaction data** for the recommender system.\n",
    "\n",
    "The following code loads the `user_ratings.csv` file into a pandas DataFrame and displays the first few records to examine its structure."
   ],
   "metadata": {
    "collapsed": false
   },
   "id": "42f68237b7eff487"
  },
  {
   "cell_type": "code",
   "execution_count": 11,
   "outputs": [
    {
     "data": {
      "text/plain": "    BGGId  Rating     Username\n0  213788     8.0    Tonydorrf\n1  213788     8.0   tachyon14k\n2  213788     8.0     Ungotter\n3  213788     8.0  brainlocki3\n4  213788     8.0         PPMP",
      "text/html": "<div>\n<style scoped>\n    .dataframe tbody tr th:only-of-type {\n        vertical-align: middle;\n    }\n\n    .dataframe tbody tr th {\n        vertical-align: top;\n    }\n\n    .dataframe thead th {\n        text-align: right;\n    }\n</style>\n<table border=\"1\" class=\"dataframe\">\n  <thead>\n    <tr style=\"text-align: right;\">\n      <th></th>\n      <th>BGGId</th>\n      <th>Rating</th>\n      <th>Username</th>\n    </tr>\n  </thead>\n  <tbody>\n    <tr>\n      <th>0</th>\n      <td>213788</td>\n      <td>8.0</td>\n      <td>Tonydorrf</td>\n    </tr>\n    <tr>\n      <th>1</th>\n      <td>213788</td>\n      <td>8.0</td>\n      <td>tachyon14k</td>\n    </tr>\n    <tr>\n      <th>2</th>\n      <td>213788</td>\n      <td>8.0</td>\n      <td>Ungotter</td>\n    </tr>\n    <tr>\n      <th>3</th>\n      <td>213788</td>\n      <td>8.0</td>\n      <td>brainlocki3</td>\n    </tr>\n    <tr>\n      <th>4</th>\n      <td>213788</td>\n      <td>8.0</td>\n      <td>PPMP</td>\n    </tr>\n  </tbody>\n</table>\n</div>"
     },
     "metadata": {},
     "output_type": "display_data"
    }
   ],
   "source": [
    "df_user_ratings = pd.read_csv(os.path.join(path, \"user_ratings.csv\"))\n",
    "display(df_user_ratings.head())"
   ],
   "metadata": {
    "collapsed": false,
    "ExecuteTime": {
     "end_time": "2025-10-09T16:23:03.038788200Z",
     "start_time": "2025-10-09T16:22:41.835192700Z"
    }
   },
   "id": "1a55f9cc054439a1"
  },
  {
   "cell_type": "markdown",
   "source": [
    "### 2.6 Data Quality Assessment\n",
    "\n",
    "A thorough assessment of data quality was conducted to ensure the dataset is suitable for analysis and modeling.  \n",
    "This evaluation focused on two key aspects: **missing values** and **outliers**.  \n",
    "The findings are based on the official dataset documentation provided on Kaggle:  \n",
    "[Board Games Database (BoardGameGeek, Kaggle)](https://www.kaggle.com/datasets/threnjen/board-games-database-from-boardgamegeek?select=games.csv)\n",
    "\n",
    "#### Missing Values\n",
    "- The **`games.csv`** file was found to be **largely complete**, with **only one missing value** detected in the `Description` column.  \n",
    "  Since this column contains textual metadata and is not critical for the recommendation system, this missing entry does not pose a problem for the analysis.\n",
    "- The **`user_ratings.csv`** file contains **no missing values**, ensuring the user–item interaction data is fully populated and ready for modeling.\n",
    "\n",
    "#### Outliers\n",
    "- Based on both the exploratory inspection and the accompanying dataset documentation, the **`games.csv`** file contains **no outlier values** in its numerical attributes (e.g., `AvgRating`, `GameWeight`, or `NumUserRatings`).\n",
    "- The **`user_ratings.csv`** file also shows **no outliers**, with all ratings conforming to the expected **1–10** user rating scale.\n",
    "\n",
    "Overall, both datasets demonstrate **excellent data quality**, requiring minimal cleaning prior to the development of the recommender system."
   ],
   "metadata": {
    "collapsed": false
   },
   "id": "8bb6099f06c3c61e"
  },
  {
   "cell_type": "markdown",
   "source": [
    "### 2.7 Visualizing the data"
   ],
   "metadata": {
    "collapsed": false
   },
   "id": "c4d5315820817d9c"
  },
  {
   "cell_type": "markdown",
   "source": [
    "Here, we display key elements that are the focus of this project, primarily the ratings distribution. A normal distribution curve is also shown for reference. We first present data for all users, followed by data for the target user."
   ],
   "metadata": {
    "collapsed": false
   },
   "id": "14fd246959024266"
  },
  {
   "cell_type": "code",
   "execution_count": 13,
   "outputs": [
    {
     "data": {
      "text/plain": "<Figure size 800x500 with 1 Axes>",
      "image/png": "[encoded data removed]"
     },
     "metadata": {},
     "output_type": "display_data"
    },
    {
     "name": "stdout",
     "output_type": "stream",
     "text": [
      "Information for: All users\n",
      "Mean: 14.26, Standard deviation: 1.54\n"
     ]
    },
    {
     "data": {
      "text/plain": "<Figure size 800x500 with 1 Axes>",
      "image/png": "[encoded data removed]"
     },
     "metadata": {},
     "output_type": "display_data"
    },
    {
     "name": "stdout",
     "output_type": "stream",
     "text": [
      "Information for: TeemuVataja\n",
      "Mean: 13.72, Standard deviation: 1.48\n"
     ]
    }
   ],
   "source": [
    "import numpy as np\n",
    "import seaborn as sns\n",
    "import matplotlib.pyplot as plt\n",
    "\n",
    "def create_distribution_histogram(title,user_data):\n",
    "    \n",
    "    bins = np.arange(1, 11 + 0.5, 0.5)\n",
    "\n",
    "    mu = np.mean(user_data)*2\n",
    "    sigma = np.std(user_data, ddof=1)\n",
    "    \n",
    "    # plot histogram\n",
    "    plt.figure(figsize=(8,5))\n",
    "    sns.histplot(user_data, bins=bins, kde=False, color='skyblue', edgecolor='black')\n",
    "    \n",
    "    # Draw theoretical normal distribution\n",
    "    x = np.linspace(min(user_data)-1, max(user_data)+1, 200)\n",
    "    pdf = (1 / (sigma * np.sqrt(2 * np.pi))) * np.exp(-0.5 * ((x - mu) / sigma) ** 2)\n",
    "    plt.plot(x, pdf, color='red', linewidth=2, label=f'Norm({mu:.2f}, {sigma:.2f})')\n",
    "    \n",
    "    # Set titles and legends\n",
    "    plt.title(f'{title} Distribution of Ratings and Theoretical Normal Curve')\n",
    "    plt.xticks(range(1, 11)) \n",
    "    #plt.yticks(np.arange())\n",
    "\n",
    "    plt.xlabel('Grade')\n",
    "    plt.ylabel('Ratings amount')\n",
    "    plt.legend()\n",
    "    plt.grid(alpha=0.2)\n",
    "    plt.show() \n",
    "    print(f\"Information for: {title}\")\n",
    "    print(f\"Mean: {mu:.2f}, Standard deviation: {sigma:.2f}\")\n",
    "\n",
    "all_users_data = df_user_ratings[\"Rating\"]\n",
    "create_distribution_histogram(\"All users\",all_users_data)\n",
    "\n",
    "user_data = df_user_ratings[df_user_ratings[\"Username\"] == target_user][\"Rating\"]\n",
    "create_distribution_histogram(target_user,user_data)"
   ],
   "metadata": {
    "collapsed": false,
    "ExecuteTime": {
     "end_time": "2025-10-09T16:24:53.685403800Z",
     "start_time": "2025-10-09T16:24:01.357495700Z"
    }
   },
   "id": "9ca456bd06327695"
  },
  {
   "cell_type": "markdown",
   "source": [
    "## 3. Data Preparation\n"
   ],
   "metadata": {
    "collapsed": false
   },
   "id": "9b71252f2302faa6"
  },
  {
   "cell_type": "markdown",
   "source": [
    "User table is consisted with combined data from ratings. Rating count is added to give information how many ratings user has made."
   ],
   "metadata": {
    "collapsed": false
   },
   "id": "277812f75a85f3fd"
  },
  {
   "cell_type": "code",
   "execution_count": null,
   "outputs": [],
   "source": [
    "from surprise import Reader, Dataset\n",
    "\n",
    "# Example df_user_ratings has columns: Username, Item, Rating\n",
    "\n",
    "# Build user table with unique IDs and rating counts\n",
    "# If we ever need a dataframe without ratings just copy df_users before this step\n",
    "df_users = (\n",
    "    df_user_ratings.groupby(\"Username\")\n",
    "    .size()  # counts ratings per user\n",
    "    .reset_index(name=\"RatingCount\")\n",
    "    .reset_index(names=\"UserId\")  # create UserId from row index\n",
    ")\n",
    "\n",
    "print(\"User table\")\n",
    "display(df_users.head())\n",
    "\n",
    "print(\"User rating table\")\n",
    "display(df_user_ratings.head())\n",
    "\n",
    "print(\"Selected user table\")\n",
    "display(df_users[df_users[\"Username\"] == target_user])"
   ],
   "metadata": {
    "collapsed": false,
    "ExecuteTime": {
     "start_time": "2025-10-09T16:23:44.948824700Z"
    }
   },
   "id": "2e48f2d26244accf"
  },
  {
   "cell_type": "markdown",
   "source": [
    "Next, users with less than  10 ratings are filtered out from the data to later reduce the amount of user reviews.\n"
   ],
   "metadata": {
    "collapsed": false
   },
   "id": "2cfdd5632f8e817c"
  },
  {
   "cell_type": "code",
   "execution_count": null,
   "outputs": [],
   "source": [
    "df_users_reduced = df_users[df_users['RatingCount'] >= 10]\n",
    "\n",
    "# Examples\n",
    "before = len(df_users)\n",
    "after = len(df_users_reduced)\n",
    "\n",
    "# Data and labels\n",
    "counts = [before, after]\n",
    "labels = ['Before reduction', 'After reduction']\n",
    "\n",
    "# Plot diagram\n",
    "plt.figure(figsize=(6,5))\n",
    "bars = plt.bar(labels, counts, color=['skyblue', 'salmon'], edgecolor='black')\n",
    "\n",
    "# Add numbers to on top of bar\n",
    "for bar in bars:\n",
    "    height = bar.get_height()\n",
    "    plt.text(bar.get_x() + bar.get_width()/2, height + 1, str(height), ha='center', va='bottom', fontsize=12, fontweight='bold')\n",
    "\n",
    "plt.ylabel('Number of Users')\n",
    "plt.title('Number of Users Before and After Reduction')\n",
    "plt.grid(axis='y', alpha=0.2)\n",
    "plt.show()"
   ],
   "metadata": {
    "collapsed": false,
    "ExecuteTime": {
     "start_time": "2025-10-09T16:23:44.954876Z"
    }
   },
   "id": "6ca25758e9ee5f81"
  },
  {
   "cell_type": "markdown",
   "source": [
    "We also filter out games less than 100 reviews. These wouldn't be likely recommendations anyway, so we increase efficiency by not having to predict ratings for these.\n"
   ],
   "metadata": {
    "collapsed": false
   },
   "id": "1b5a48a68040ecb6"
  },
  {
   "cell_type": "code",
   "execution_count": null,
   "outputs": [],
   "source": [
    "df_games_reduced = df_games[df_games['NumUserRatings'] >= 100]\n",
    "\n",
    "import matplotlib.pyplot as plt\n",
    "\n",
    "# Examples\n",
    "before = len(df_games)\n",
    "after = len(df_games_reduced)\n",
    "\n",
    "# Data and labels\n",
    "counts = [before, after]\n",
    "labels = ['Before reduction', 'After reduction']\n",
    "\n",
    "# Plot diagram\n",
    "plt.figure(figsize=(6,5))\n",
    "bars = plt.bar(labels, counts, color=['lightgreen', 'orange'], edgecolor='black')\n",
    "\n",
    "# Add numbers to on top of bar\n",
    "for bar in bars:\n",
    "    height = bar.get_height()\n",
    "    plt.text(bar.get_x() + bar.get_width()/2, height + 1, str(height), ha='center', va='bottom', fontsize=12, fontweight='bold')\n",
    "\n",
    "plt.ylabel('Number of Games')\n",
    "plt.title('Number of Games Before and After Reduction')\n",
    "plt.grid(axis='y', alpha=0.2)\n",
    "plt.show()"
   ],
   "metadata": {
    "collapsed": false,
    "ExecuteTime": {
     "end_time": "2025-10-09T16:23:45.233031700Z",
     "start_time": "2025-10-09T16:23:44.960416800Z"
    }
   },
   "id": "b8bb506a05cd24b5"
  },
  {
   "cell_type": "markdown",
   "source": [
    "Here we can see how little reducing users and games affected to ratings count. Even though the amount of users and games are reduced to almost half, this only removed approximately 5% of data rows from the reviews table. This is expected as we are left with the most popular games and the most active users.\n"
   ],
   "metadata": {
    "collapsed": false
   },
   "id": "92ad6fb3b9f00db9"
  },
  {
   "cell_type": "code",
   "execution_count": null,
   "outputs": [],
   "source": [
    "df_ratings_reduced = df_user_ratings[df_user_ratings[\"BGGId\"].isin(df_games_reduced[\"BGGId\"])]\n",
    "df_ratings_reduced = df_ratings_reduced[df_ratings_reduced[\"Username\"].isin(df_users_reduced[\"Username\"])]\n",
    "\n",
    "before = len(df_user_ratings)\n",
    "after = len(df_ratings_reduced)\n",
    "target_user_count_before = len(df_user_ratings[df_user_ratings['Username'] == target_user])\n",
    "target_user_count_after = len(df_ratings_reduced[df_ratings_reduced['Username'] == target_user])\n",
    "\n",
    "# Data and labels\n",
    "counts = [before, after, target_user_count_before, target_user_count_after]\n",
    "labels = ['All Ratings', 'After Reduction', f'{target_user} \\nRatings Before',  f'{target_user} \\nRatings After']\n",
    "\n",
    "# Plot diagram\n",
    "plt.figure(figsize=(8,5))\n",
    "bars = plt.bar(labels, counts, color=['skyblue', 'salmon', 'lightgreen', 'orange'], edgecolor='black')\n",
    "\n",
    "# Add numbers on top of bars\n",
    "for bar in bars:\n",
    "    height = bar.get_height()\n",
    "    plt.text(bar.get_x() + bar.get_width()/2, height + 5, str(height), ha='center', va='bottom', fontsize=11, fontweight='bold')\n",
    "\n",
    "plt.ylabel('Number of Ratings')\n",
    "plt.title('Ratings Before and After Reduction')\n",
    "plt.grid(axis='y', alpha=0.2)\n",
    "plt.show()\n"
   ],
   "metadata": {
    "collapsed": false,
    "ExecuteTime": {
     "start_time": "2025-10-09T16:23:44.967460900Z"
    }
   },
   "id": "233e95ad1c225be0"
  },
  {
   "cell_type": "markdown",
   "source": [
    "## 4. Modeling\n"
   ],
   "metadata": {
    "collapsed": false
   },
   "id": "1d3fd2deac4b1ed1"
  },
  {
   "cell_type": "markdown",
   "source": [
    "For handling our data we had two options;\n",
    "\n",
    "SVD\n",
    "KNN\n",
    "\n",
    "We initially envisioned using kNN algorithm to calculate user preferences. This would have been preferable as kNN algorithm is very transparent in creating connections by calculating distances between different points. This however soon turned out to be impossible as our dataset was simply too large for such algorithm; instead we decided to go with SVD algorithm which instead of calculating distances attempts to find latent factors in our data that can then be used to predict new values."
   ],
   "metadata": {
    "collapsed": false
   },
   "id": "b5aa0f9837c0795b"
  },
  {
   "cell_type": "code",
   "execution_count": null,
   "outputs": [],
   "source": [
    "from surprise import SVD, dump\n",
    "import os\n",
    "\n",
    "def create_surprise_dataset(df, user_id, item_id, ratings, reader):\n",
    "    return Dataset.load_from_df(df[[user_id, item_id, ratings]], reader)\n",
    "\n",
    "data = create_surprise_dataset(df_ratings_reduced, \"Username\", \"BGGId\", \"Rating\", Reader(rating_scale=(0.0, 10.0)))"
   ],
   "metadata": {
    "collapsed": false,
    "ExecuteTime": {
     "start_time": "2025-10-09T16:23:44.983206200Z"
    }
   },
   "id": "9a87f5bf9cd104c2"
  },
  {
   "cell_type": "code",
   "execution_count": null,
   "outputs": [],
   "source": [
    "import numpy as np\n",
    "from sklearn.metrics.pairwise import cosine_similarity\n",
    "\n",
    "def top_similar_users(username, model, top_n=10):\n",
    "    try:\n",
    "        inner_uid = model.trainset.to_inner_uid(username)\n",
    "    except ValueError:\n",
    "        return []\n",
    "\n",
    "    # 1. Get given user's latent vector, reshaped into 2D\n",
    "    #    model.pu[id] is (n_users, n_factors)\n",
    "    #    Need one user, many factors to calculate cosine_similarity\n",
    "    user_vec = model.pu[inner_uid].reshape(1, -1)\n",
    "    \n",
    "    # 2. Calculate cosine similarity between user and all other users\n",
    "    sims = cosine_similarity(user_vec, model.pu)[0]\n",
    "\n",
    "    # 3. Exclude self\n",
    "    top_inner = np.argsort(-sims)[1:top_n+1]\n",
    "    \n",
    "    # 4. Convert all back into normal usernames\n",
    "    return [model.trainset.to_raw_uid(i) for i in top_inner]"
   ],
   "metadata": {
    "collapsed": false,
    "ExecuteTime": {
     "start_time": "2025-10-09T16:23:44.992373100Z"
    }
   },
   "id": "be12d97020560ff"
  },
  {
   "cell_type": "markdown",
   "source": [
    "In the above function we give the username for which we find top N similar users. Factorizing the model into two latent vectors:\n",
    "\n",
    "model.pu = User latent vector\n",
    "\n",
    "model.qi = Item latent vector\n",
    "\n",
    "Using vector of model.pu we can get the top N users which have the most similar player profile to our target user."
   ],
   "metadata": {
    "collapsed": false
   },
   "id": "e3bea9ac1af0f143"
  },
  {
   "cell_type": "code",
   "execution_count": null,
   "outputs": [],
   "source": [
    "def user_predictions_from_similar(username, model, top_n_users=1000, top_n_items=10):\n",
    "\n",
    "    # 1. Fetch top N similar users\n",
    "    similar_users = top_similar_users(username, model, top_n=top_n_users)\n",
    "\n",
    "    # 2. Collect items that have been rated by the users ruled as most similar to our target\n",
    "    similar_items = set()\n",
    "    for su in similar_users:\n",
    "        inner_uid = model.trainset.to_inner_uid(su)\n",
    "        similar_items.update([model.trainset.to_raw_iid(iid) for (iid, _) in model.trainset.ur[inner_uid]])\n",
    "\n",
    "    # 3. Filter out items already rated by target user\n",
    "    inner_uid_target = model.trainset.to_inner_uid(username)\n",
    "    user_items = {model.trainset.to_raw_iid(iid) for (iid, _) in model.trainset.ur[inner_uid_target]}\n",
    "    candidate_items = similar_items - user_items\n",
    "\n",
    "    # 4. Build test set and predict\n",
    "    testset = [(username, iid, 0.) for iid in candidate_items]\n",
    "    predictions = model.test(testset)\n",
    "    predictions = sorted(predictions, key=lambda x: x.est, reverse=True)[:top_n_items]\n",
    "\n",
    "    return predictions\n"
   ],
   "metadata": {
    "collapsed": false,
    "ExecuteTime": {
     "start_time": "2025-10-09T16:23:44.998946300Z"
    }
   },
   "id": "2dd0997b53236821"
  },
  {
   "cell_type": "markdown",
   "source": [
    "After retrieving N most similar users as in the function above we can use these to predict similar results our user might give.\n"
   ],
   "metadata": {
    "collapsed": false
   },
   "id": "d53fd1616b1bb5c3"
  },
  {
   "cell_type": "markdown",
   "source": [
    "## 5. Evaluation\n",
    "\n",
    "The performance of the recommendation model in this project is evaluated using **cross-validation**.  \n",
    "Specifically, the `cross_validate` function from the `surprise.model_selection` module is employed to assess the **SVD (Singular Value Decomposition)** model.\n",
    "\n",
    "In this setup, the SVD model is configured with 50 latent factors (`n_factors=50`) and a fixed random seed (`random_state=666`) to ensure reproducibility.  \n",
    "A three-fold cross-validation (`cv=3`) is performed, meaning the dataset is divided into three equal parts. In each iteration, two-thirds of the data are used to train the model, while the remaining one-third is used for testing.  \n",
    "\n",
    "Model performance is measured using two key metrics: **Root Mean Square Error (RMSE)** and **Mean Absolute Error (MAE)**. These metrics are computed for both the training and test sets (`return_train_measures=True`), allowing us to evaluate not only how well the model fits the data it was trained on, but also how effectively it generalizes to unseen data.  \n",
    "\n",
    "Overall, this evaluation approach provides a reliable estimate of the model’s predictive accuracy and its ability to generalize beyond the training data."
   ],
   "metadata": {
    "collapsed": false
   },
   "id": "87268afe8a3e119d"
  },
  {
   "cell_type": "code",
   "execution_count": null,
   "outputs": [],
   "source": [
    "from surprise.model_selection import cross_validate\n",
    "\n",
    "results = cross_validate(\n",
    "    SVD(n_factors=5, random_state=666),\n",
    "    data, measures=[\"RMSE\", \"MAE\"],\n",
    "    cv=3,\n",
    "    return_train_measures=True,\n",
    "    verbose=True\n",
    ")\n",
    "\n",
    "results_df = pd.DataFrame(results)\n",
    "results_df"
   ],
   "metadata": {
    "collapsed": false,
    "ExecuteTime": {
     "start_time": "2025-10-09T16:23:45.011690400Z"
    }
   },
   "id": "d3fdf7cd1666da98"
  },
  {
   "cell_type": "markdown",
   "source": [
    "### Understanding the Performance Metrics\n",
    "\n",
    "#### **Root Mean Square Error (RMSE)**  \n",
    "\n",
    "   $$RMSE = \\sqrt{\\frac{1}{N} \\sum_{(u,i)} (\\hat{r}_{ui} - r_{ui})^2}$$  \n",
    "\n",
    "RMSE measures the square root of the average squared difference between predicted and actual ratings.\n",
    "\n",
    "Because the errors are **squared before averaging**, RMSE gives **more weight to larger errors** — meaning a few big mistakes will increase this value significantly.  \n",
    "\n",
    "For board game recommendation systems using a **1–10 rating scale**, typical RMSE values range from **1.0 to 2.0**:  \n",
    "- **< 1.0** → Excellent predictive performance  \n",
    "- **1.0–1.5** → Good, typical for collaborative filtering models  \n",
    "- **> 2.0** → Poor, indicating weak predictive accuracy or sparse data  \n",
    "\n",
    "A **lower RMSE** means the model’s predictions are generally close to actual ratings, while a higher value suggests inconsistent or inaccurate predictions. \n",
    "\n",
    "RMSE is especially useful when you want to **penalize large errors**, such as recommending something that a user would really dislike.\n",
    "\n",
    "    \n",
    "#### **Mean Absolute Error (MAE)**\n",
    " \n",
    "   $$MAE = \\frac{1}{N} \\sum_{(u,i)} |\\hat{r}_{ui} - r_{ui}|$$  \n",
    "\n",
    "MAE represents the **average absolute difference** between predicted and actual ratings, treating all errors equally.  \n",
    "It is more **robust to outliers** and easier to interpret: it tells you, on average, how far your predictions are from the true ratings.  \n",
    "\n",
    "For the same 1–10 scale, **MAE** values are typically **slightly lower than RMSE**:  \n",
    "- **< 1.0** → Very good accuracy  \n",
    "- **1.0–1.5** → Acceptable, common for many recommenders  \n",
    "- **> 1.5** → Mediocre, suggesting inconsistent predictions  \n",
    "\n",
    "A **lower MAE** indicates more stable and reliable performance overall."
   ],
   "metadata": {
    "collapsed": false
   },
   "id": "5adb67eba26ee818"
  },
  {
   "cell_type": "code",
   "execution_count": null,
   "outputs": [],
   "source": [
    "# Display mean performance metrics for quick summary\n",
    "mean_results = results_df.mean().rename(\"Mean Value\")\n",
    "mean_results[['test_rmse', 'train_rmse', 'test_mae', 'train_mae']]\n"
   ],
   "metadata": {
    "collapsed": false,
    "ExecuteTime": {
     "start_time": "2025-10-09T16:23:45.022775400Z"
    }
   },
   "id": "8c1adf2d34713b59"
  },
  {
   "cell_type": "markdown",
   "source": [
    "## 6. Deployment\n"
   ],
   "metadata": {
    "collapsed": false
   },
   "id": "f1d7d2e38f982747"
  },
  {
   "cell_type": "markdown",
   "source": [
    "Here, we build the model using the full dataset. First, we define a function to save the trained model as a dump file. This allows us to reload the model in future runs of the notebook, without retraining. The function also checks if a saved model already exists and loads it if available.\n"
   ],
   "metadata": {
    "collapsed": false
   },
   "id": "b11736520495b3aa"
  },
  {
   "cell_type": "code",
   "execution_count": null,
   "outputs": [],
   "source": [
    "# Train model with full dataset and save, load from disc if available\n",
    "def load_surprise_model(model_name, algo, force_recreate=False):\n",
    "    \n",
    "    # If model doesn't exist, train new model\n",
    "    if not os.path.exists(model_name) or force_recreate:\n",
    "        \n",
    "        # Read dataset\n",
    "        surprise_dataset = create_surprise_dataset(df_ratings_reduced, \"Username\", \"BGGId\", \"Rating\", Reader(rating_scale=(0.0, 10.0))) \n",
    "        \n",
    "        # Build training set from full data\n",
    "        surprise_trainset = surprise_dataset.build_full_trainset()\n",
    "        \n",
    "        # Create the model with the full dataset\n",
    "        algo.fit(surprise_trainset)\n",
    "        \n",
    "        # Save model as .pkl file\n",
    "        dump.dump(model_name, algo=algo)\n",
    "        \n",
    "        # Return model\n",
    "        return algo\n",
    "\n",
    "    # If model exists, load model from file\n",
    "    _, algo = dump.load(model_name)\n",
    "    \n",
    "    # Return model\n",
    "    return algo\n",
    "\n",
    "# Model creation using the function\n",
    "model = load_surprise_model(\"model.pkl\", SVD(n_factors=5,random_state=666))\n"
   ],
   "metadata": {
    "collapsed": false,
    "ExecuteTime": {
     "start_time": "2025-10-09T16:23:45.027350500Z"
    }
   },
   "id": "6ebf13e4129a6cc4"
  },
  {
   "cell_type": "markdown",
   "source": [
    "After creating the model, we will calculate predictions for the selected user.\n",
    "\n",
    "The top 10 results for the user are then displayed."
   ],
   "metadata": {
    "collapsed": false
   },
   "id": "1e281e7083ba8390"
  },
  {
   "cell_type": "code",
   "execution_count": null,
   "outputs": [],
   "source": [
    "# Get predictions for selected user\n",
    "predictions = user_predictions_from_similar(target_user, model)\n",
    "\n",
    "# Sort and print the predictions\n",
    "top10 = sorted(predictions, key=lambda x: x.est, reverse=True)\n",
    "for pred in top10:\n",
    "    print(f\"Predicted rating for item id {pred.iid}: {pred.est:.2f}\")\n",
    "    display(df_games_reduced.loc[df_games_reduced[\"BGGId\"] == pred.iid, [\"BGGId\", \"Name\", \"AvgRating\"]])"
   ],
   "metadata": {
    "collapsed": false,
    "ExecuteTime": {
     "start_time": "2025-10-09T16:23:45.031890600Z"
    }
   },
   "id": "b0800ff14c0675dc"
  },
  {
   "cell_type": "markdown",
   "source": [
    "### Personal opinions on predicted ratings\n",
    "As this model was trained using my personal board game ratings on boardgamegeek.com, I can slightly evaluate the quality of the recommendations. Since the rating data for the dataset was collected 4 years ago, I have actually rated some of the recommended games since:  \n",
    "\n",
    "\n",
    "| Name              | Predicted rating | Actual rating |\n",
    "|-------------------|-----------------:|--------------:|\n",
    "| Ark Nova          |              9.17 |             9 |\n",
    "| Mage Knight       |              8.93 |             7 |\n",
    "| Spirit Island     |              8.91 |             9 |\n",
    "| Twilight Imperium |              8.91 |            10 |\n",
    "\n",
    "These are surprisingly close. Also for the games I have not rated, I can see the reasoning with each of them."
   ],
   "metadata": {
    "collapsed": false
   },
   "id": "771ef0d5f1d13279"
  },
  {
   "cell_type": "markdown",
   "source": [
    "### Model Integration and Applications\n",
    "\n",
    "The final model could be integrated into various platforms.  \n",
    "If an initial data input stage were added, the model could be used even without requiring an existing user on the site.\n",
    "\n",
    "**Possible applications include:**\n",
    "- Web store plugins  \n",
    "- A standalone app  \n",
    "\n",
    "**Future improvements:**\n",
    "- Use updated data scraped via the *BoardGameGeek XML API*  \n",
    "- Deploy as a backend API service  "
   ],
   "metadata": {
    "collapsed": false
   },
   "id": "c8844fd84a548708"
  }
 ],
 "metadata": {
  "kernelspec": {
   "display_name": "Python 3",
   "language": "python",
   "name": "python3"
  },
  "language_info": {
   "codemirror_mode": {
    "name": "ipython",
    "version": 2
   },
   "file_extension": ".py",
   "mimetype": "text/x-python",
   "name": "python",
   "nbconvert_exporter": "python",
   "pygments_lexer": "ipython2",
   "version": "2.7.6"
  }
 },
 "nbformat": 4,
 "nbformat_minor": 5
}
