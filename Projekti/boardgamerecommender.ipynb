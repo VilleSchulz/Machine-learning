{
 "cells": [
  {
   "cell_type": "markdown",
   "source": [
    "# Boradgame Recommender"
   ],
   "metadata": {
    "collapsed": false
   },
   "id": "c81e98924bf071a7"
  },
  {
   "cell_type": "markdown",
   "source": [
    "## 1. Business Understanding\n",
    "\n",
    "**BoardGameGeek** is a comprehensive online database that catalogues over 125,600 board games, providing access to reviews, discussion forums, and detailed information on individual titles. It is widely recognized as the most extensive repository of board game data available. In addition to serving as an information resource, the platform enables users to rate games on a 1–10 scale and to manage their personal game collections.\n",
    "\n",
    "The aim of this project is to build a recommender system that uses data gathered from BoardGameGeek to generate board game recommendations based on user ratings. \n",
    "\n",
    "jatka jotain kun tiedetään mitä tehdään"
   ],
   "metadata": {
    "collapsed": false
   },
   "id": "a4c9cc9a54ec6412"
  },
  {
   "cell_type": "markdown",
   "source": [
    "## 2. Data Understanding\n",
    "\n",
    "Feature-rich multi-table dataset full of interesting information about Board Games:\n",
    "[Board Games Database (BoardGameGeek, Kaggle)](https://www.kaggle.com/datasets/threnjen/board-games-database-from-boardgamegeek)\n",
    "\n",
    "This data set includes nine potential files for exploration and/or modeling. The files are as follows:\n",
    "\n",
    "- GAMES - the basic information file with 47 features about each of 22k board games. Primary key is BGGId which is the BoardGameGeek game id.\n",
    "- RATINGS_DISTRIBTION - includes full ratings distribution for each BGGId\n",
    "- THEMES - table of themes for each BGGId\n",
    "- MECHANICS - table of mechanics with binary flags per BGGId\n",
    "- SUBCATEGORIES - table of subcategories with binary flags per BGGId\n",
    "- ARTISTS_REDUCED - gives artist information for each BGGId. This file is reduced to artists with >3 works, with a binary flag indicating the game included an artist with <= 3 works\n",
    "- DESIGNERS_REDUCED - gives designer information for each BGGId. This file is reduced to designers with >3 works, with a binary flag indicating the game included a designer with <= 3 works\n",
    "- PUBLISHERS_REDUCED - gives publisher information for each BGGId. This file is reduced to publishers with >3 works, with a binary flag indicating the game included a publisher with <= 3 works\n",
    "- USER_RATINGS - has all ratings for all BGGId with username. There are over 411k unique users and ~19 million ratings. Use in recommender system.\n",
    "\n",
    "Source for the dataset:  \n",
    "[BoardGameGeek](https://boardgamegeek.com/)\n"
   ],
   "metadata": {
    "collapsed": false
   },
   "id": "c3681d2cd75bb9c3"
  },
  {
   "cell_type": "markdown",
   "source": [
    "kerrotaan miten importataan data"
   ],
   "metadata": {
    "collapsed": false
   },
   "id": "dad0ff0c9fdf9af8"
  },
  {
   "cell_type": "code",
   "execution_count": 31,
   "outputs": [
    {
     "data": {
      "text/plain": "   BGGId            Name                                        Description  \\\n0      1      Die Macher  die macher game seven sequential political rac...   \n1      2    Dragonmaster  dragonmaster tricktaking card game base old ga...   \n2      3         Samurai  samurai set medieval japan player compete gain...   \n3      4  Tal der Könige  triangular box luxurious large block tal der k...   \n4      5         Acquire  acquire player strategically invest business t...   \n\n   YearPublished  GameWeight  AvgRating  BayesAvgRating   StdDev  MinPlayers  \\\n0           1986      4.3206    7.61428         7.10363  1.57979           3   \n1           1981      1.9630    6.64537         5.78447  1.45440           3   \n2           1998      2.4859    7.45601         7.23994  1.18227           2   \n3           1992      2.6667    6.60006         5.67954  1.23129           2   \n4           1964      2.5031    7.33861         7.14189  1.33583           2   \n\n   MaxPlayers  ...  Rank:partygames  Rank:childrensgames  Cat:Thematic  \\\n0           5  ...            21926                21926             0   \n1           4  ...            21926                21926             0   \n2           4  ...            21926                21926             0   \n3           4  ...            21926                21926             0   \n4           6  ...            21926                21926             0   \n\n  Cat:Strategy  Cat:War  Cat:Family  Cat:CGS  Cat:Abstract  Cat:Party  \\\n0            1        0           0        0             0          0   \n1            1        0           0        0             0          0   \n2            1        0           0        0             0          0   \n3            0        0           0        0             0          0   \n4            1        0           0        0             0          0   \n\n   Cat:Childrens  \n0              0  \n1              0  \n2              0  \n3              0  \n4              0  \n\n[5 rows x 48 columns]",
      "text/html": "<div>\n<style scoped>\n    .dataframe tbody tr th:only-of-type {\n        vertical-align: middle;\n    }\n\n    .dataframe tbody tr th {\n        vertical-align: top;\n    }\n\n    .dataframe thead th {\n        text-align: right;\n    }\n</style>\n<table border=\"1\" class=\"dataframe\">\n  <thead>\n    <tr style=\"text-align: right;\">\n      <th></th>\n      <th>BGGId</th>\n      <th>Name</th>\n      <th>Description</th>\n      <th>YearPublished</th>\n      <th>GameWeight</th>\n      <th>AvgRating</th>\n      <th>BayesAvgRating</th>\n      <th>StdDev</th>\n      <th>MinPlayers</th>\n      <th>MaxPlayers</th>\n      <th>...</th>\n      <th>Rank:partygames</th>\n      <th>Rank:childrensgames</th>\n      <th>Cat:Thematic</th>\n      <th>Cat:Strategy</th>\n      <th>Cat:War</th>\n      <th>Cat:Family</th>\n      <th>Cat:CGS</th>\n      <th>Cat:Abstract</th>\n      <th>Cat:Party</th>\n      <th>Cat:Childrens</th>\n    </tr>\n  </thead>\n  <tbody>\n    <tr>\n      <th>0</th>\n      <td>1</td>\n      <td>Die Macher</td>\n      <td>die macher game seven sequential political rac...</td>\n      <td>1986</td>\n      <td>4.3206</td>\n      <td>7.61428</td>\n      <td>7.10363</td>\n      <td>1.57979</td>\n      <td>3</td>\n      <td>5</td>\n      <td>...</td>\n      <td>21926</td>\n      <td>21926</td>\n      <td>0</td>\n      <td>1</td>\n      <td>0</td>\n      <td>0</td>\n      <td>0</td>\n      <td>0</td>\n      <td>0</td>\n      <td>0</td>\n    </tr>\n    <tr>\n      <th>1</th>\n      <td>2</td>\n      <td>Dragonmaster</td>\n      <td>dragonmaster tricktaking card game base old ga...</td>\n      <td>1981</td>\n      <td>1.9630</td>\n      <td>6.64537</td>\n      <td>5.78447</td>\n      <td>1.45440</td>\n      <td>3</td>\n      <td>4</td>\n      <td>...</td>\n      <td>21926</td>\n      <td>21926</td>\n      <td>0</td>\n      <td>1</td>\n      <td>0</td>\n      <td>0</td>\n      <td>0</td>\n      <td>0</td>\n      <td>0</td>\n      <td>0</td>\n    </tr>\n    <tr>\n      <th>2</th>\n      <td>3</td>\n      <td>Samurai</td>\n      <td>samurai set medieval japan player compete gain...</td>\n      <td>1998</td>\n      <td>2.4859</td>\n      <td>7.45601</td>\n      <td>7.23994</td>\n      <td>1.18227</td>\n      <td>2</td>\n      <td>4</td>\n      <td>...</td>\n      <td>21926</td>\n      <td>21926</td>\n      <td>0</td>\n      <td>1</td>\n      <td>0</td>\n      <td>0</td>\n      <td>0</td>\n      <td>0</td>\n      <td>0</td>\n      <td>0</td>\n    </tr>\n    <tr>\n      <th>3</th>\n      <td>4</td>\n      <td>Tal der Könige</td>\n      <td>triangular box luxurious large block tal der k...</td>\n      <td>1992</td>\n      <td>2.6667</td>\n      <td>6.60006</td>\n      <td>5.67954</td>\n      <td>1.23129</td>\n      <td>2</td>\n      <td>4</td>\n      <td>...</td>\n      <td>21926</td>\n      <td>21926</td>\n      <td>0</td>\n      <td>0</td>\n      <td>0</td>\n      <td>0</td>\n      <td>0</td>\n      <td>0</td>\n      <td>0</td>\n      <td>0</td>\n    </tr>\n    <tr>\n      <th>4</th>\n      <td>5</td>\n      <td>Acquire</td>\n      <td>acquire player strategically invest business t...</td>\n      <td>1964</td>\n      <td>2.5031</td>\n      <td>7.33861</td>\n      <td>7.14189</td>\n      <td>1.33583</td>\n      <td>2</td>\n      <td>6</td>\n      <td>...</td>\n      <td>21926</td>\n      <td>21926</td>\n      <td>0</td>\n      <td>1</td>\n      <td>0</td>\n      <td>0</td>\n      <td>0</td>\n      <td>0</td>\n      <td>0</td>\n      <td>0</td>\n    </tr>\n  </tbody>\n</table>\n<p>5 rows × 48 columns</p>\n</div>"
     },
     "metadata": {},
     "output_type": "display_data"
    },
    {
     "data": {
      "text/plain": "    BGGId  Rating     Username\n0  213788     8.0    Tonydorrf\n1  213788     8.0   tachyon14k\n2  213788     8.0     Ungotter\n3  213788     8.0  brainlocki3\n4  213788     8.0         PPMP",
      "text/html": "<div>\n<style scoped>\n    .dataframe tbody tr th:only-of-type {\n        vertical-align: middle;\n    }\n\n    .dataframe tbody tr th {\n        vertical-align: top;\n    }\n\n    .dataframe thead th {\n        text-align: right;\n    }\n</style>\n<table border=\"1\" class=\"dataframe\">\n  <thead>\n    <tr style=\"text-align: right;\">\n      <th></th>\n      <th>BGGId</th>\n      <th>Rating</th>\n      <th>Username</th>\n    </tr>\n  </thead>\n  <tbody>\n    <tr>\n      <th>0</th>\n      <td>213788</td>\n      <td>8.0</td>\n      <td>Tonydorrf</td>\n    </tr>\n    <tr>\n      <th>1</th>\n      <td>213788</td>\n      <td>8.0</td>\n      <td>tachyon14k</td>\n    </tr>\n    <tr>\n      <th>2</th>\n      <td>213788</td>\n      <td>8.0</td>\n      <td>Ungotter</td>\n    </tr>\n    <tr>\n      <th>3</th>\n      <td>213788</td>\n      <td>8.0</td>\n      <td>brainlocki3</td>\n    </tr>\n    <tr>\n      <th>4</th>\n      <td>213788</td>\n      <td>8.0</td>\n      <td>PPMP</td>\n    </tr>\n  </tbody>\n</table>\n</div>"
     },
     "metadata": {},
     "output_type": "display_data"
    }
   ],
   "source": [
    "# Install dependencies as needed:\n",
    "# pip install kagglehub[pandas-datasets]\n",
    "import kagglehub\n",
    "import os\n",
    "import pandas as pd\n",
    "\n",
    "path = kagglehub.dataset_download(\"threnjen/board-games-database-from-boardgamegeek\")\n",
    "\n",
    "#TODO: tuo vaan ne mitä päädytään käyttämään, laita omiin blokkeihin ja selitykset ekaksi markdownina\n",
    "\n",
    "# df_artists = pd.read_csv(os.path.join(path, \"artists_reduced.csv\"))\n",
    "# display(df_artists.head())\n",
    "# \n",
    "# df_designers = pd.read_csv(os.path.join(path, \"designers_reduced.csv\"))\n",
    "# display(df_designers.head())\n",
    "\n",
    "df_games = pd.read_csv(os.path.join(path, \"games.csv\"))\n",
    "display(df_games.head())\n",
    "\n",
    "# df_mechanics = pd.read_csv(os.path.join(path, \"mechanics.csv\"))\n",
    "# display(df_mechanics.head())\n",
    "# \n",
    "# df_publishers = pd.read_csv(os.path.join(path, \"publishers_reduced.csv\"))\n",
    "# display(df_publishers.head())\n",
    "\n",
    "# df_ratings_distribution = pd.read_csv(os.path.join(path, \"ratings_distribution.csv\"))\n",
    "# display(df_ratings_distribution.head())\n",
    "\n",
    "# df_subcategories = pd.read_csv(os.path.join(path, \"subcategories.csv\"))\n",
    "# display(df_subcategories.head())\n",
    "\n",
    "# df_themes = pd.read_csv(os.path.join(path, \"themes.csv\"))\n",
    "# display(df_themes.head())\n",
    "\n",
    "df_user_ratings = pd.read_csv(os.path.join(path, \"user_ratings.csv\"))\n",
    "display(df_user_ratings.head())\n",
    "\n",
    "# For the documentation file, just preview as text (not tabular)\n",
    "# with open(os.path.join(path, \"bgg_data_documentation.txt\"), \"r\", encoding=\"utf-8\") as f:\n",
    "#     bgg_documentation = f.read()\n",
    "# print(bgg_documentation[:500])  # first 500 characters"
   ],
   "metadata": {
    "collapsed": false,
    "ExecuteTime": {
     "end_time": "2025-09-30T14:23:42.297527900Z",
     "start_time": "2025-09-30T14:23:27.318748100Z"
    }
   },
   "id": "86feb9d1b63f71d7"
  },
  {
   "cell_type": "markdown",
   "source": [
    "GAMES\n",
    "\tBGGId\t\t\tBoardGameGeek game ID\n",
    "\tName\t\t\tName of game\n",
    "\tDescription\t\tDescription, stripped of punctuation and lemmatized\n",
    "\tYearPublished\t\tFirst year game published\n",
    "\tGameWeight\t\tGame difficulty/complexity\n",
    "\tAvgRating\t\tAverage user rating for game\n",
    "\tBayesAvgRating\t\tBayes weighted average for game (x # of average reviews applied)\n",
    "\tStdDev\t\t\tStandard deviation of Bayes Avg\n",
    "\tMinPlayers\t\tMinimum number of players\n",
    "\tMaxPlayers\t\tMaximun number of players\n",
    "\tComAgeRec\t\tCommunity's recommended age minimum\n",
    "\tLanguageEase\t\tLanguage requirement\n",
    "\tBestPlayers\t\tCommunity voted best player count\n",
    "\tGoodPlayers\t\tList of community voted good plater counts\n",
    "\tNumOwned\t\tNumber of users who own this game\n",
    "\tNumWant\t\t\tNumber of users who want this game\n",
    "\tNumWish\t\t\tNumber of users who wishlisted this game\n",
    "\tNumWeightVotes\t\t? Unknown\n",
    "\tMfgPlayTime\t\tManufacturer Stated Play Time\n",
    "\tComMinPlaytime\t\tCommunity minimum play time\n",
    "\tComMaxPlaytime\t\tCommunity maximum play time\n",
    "\tMfgAgeRec\t\tManufacturer Age Recommendation\n",
    "\tNumUserRatings\t\tNumber of user ratings\n",
    "\tNumComments\t\tNumber of user comments\n",
    "\tNumAlternates\t\tNumber of alternate versions\n",
    "\tNumExpansions\t\tNumber of expansions\n",
    "\tNumImplementations\tNumber of implementations\n",
    "\tIsReimplementation\tBinary - Is this listing a reimplementation? \n",
    "\tFamily\t\t\tGame family\n",
    "\tKickstarted\t\tBinary - Is this a kickstarter?\n",
    "\tImagePath\t\tImage http:// path\n",
    "\tRank:boardgame\t\tRank for boardgames overall\n",
    "\tRank:strategygames\tRank in strategy games\n",
    "\tRank:abstracts\t\tRank in abstracts\n",
    "\tRank:familygames\tRank in family games\n",
    "\tRank:thematic\t\tRank in thematic\n",
    "\tRank:cgs\t\tRank in card games\n",
    "\tRank:wargames\t\tRank in war games\n",
    "\tRank:partygames\t\tRank in party games\n",
    "\tRank:childrensgames\tRank in children's games\n",
    "\tCat:Thematic\t\tBinary is in Thematic category\n",
    "\tCat:Strategy\t\tBinary is in Strategy category\n",
    "\tCat:War\t\t\tBinary is in War category\n",
    "\tCat:Family\t\tBinary is in Family category\n",
    "\tCat:CGS\t\t\tBinary is in Card Games category\n",
    "\tCat:Abstract\t\tBinary is in Abstract category\n",
    "\tCat:Party\t\tBinary is in Party category\n",
    "\tCat:Childrens\t\tBinary is in Childrens category\n",
    "\n",
    "\n",
    "MECHANICS\n",
    "\tBGGId\t\t\tBoardGameGeek game ID\t\n",
    "\tRemaining headers are various mechanics with binary flag\n",
    "\n",
    "\n",
    "THEMES\n",
    "\tBGGId\t\t\tBoardGameGeek game ID\n",
    "\tRemaining headers are various themes with binary flag\n",
    "\n",
    "\n",
    "SUBCATEGORIES\n",
    "\tBGGId\t\t\tBoardGameGeek game ID\n",
    "\tRemaining headers are various subcategories with binary flag\n",
    "\n",
    "\n",
    "ARTISTS_REDUCED\n",
    "\tBGGId\t\t\tBoardGameGeek game ID\n",
    "\tLow-Exp Artist\t\tIndicates game has an unlisted artist with <= 3 entries\n",
    "\tRemaining headers are various artists with binary flag\n",
    "\n",
    "\n",
    "DESIGNERS_REDUCED\n",
    "\tBGGId\t\t\tBoardGameGeek game ID\n",
    "\tLow-Exp Designer\tIndicates game has an unlisted designer with <= 3 entries\n",
    "\tRemaining headers are various subcategories with binary flag\n",
    "\n",
    "\n",
    "PUBLISHERS_REDUCED\n",
    "\tBGGId\t\t\tBoardGameGeek game ID\n",
    "\tLow-Exp Publisher\tIndicated games has an unlisted publisher with <= 3 entries\n",
    "\tRemaining headers are various subcategories with binary flag\n",
    "\n",
    "\n",
    "USER_RATINGS\n",
    "\tBGGId\t\t\tBoardGameGeek game ID\t\n",
    "\tRating\t\t\tRaw rating given by user\n",
    "\tUsername\t\tUser giving rating\n",
    "\n",
    "\n",
    "RATINGS_DISTRIBUTION\n",
    "\tBGGId\t\t\tBoardGameGeek game ID\n",
    "\tNumbers 0.0-10.0\tNumber of ratings per rating header\n",
    "\ttotal_ratings\t\tTotal number of ratings for game"
   ],
   "metadata": {
    "collapsed": false
   },
   "id": "eb906b1f9929b47c"
  },
  {
   "cell_type": "markdown",
   "source": [
    "## 3. Data Preparation"
   ],
   "metadata": {
    "collapsed": false
   },
   "id": "2da1ed4fcb95bda6"
  },
  {
   "cell_type": "markdown",
   "source": [
    "Tekstiä, mitä tehdään seuraavaksi"
   ],
   "metadata": {
    "collapsed": false
   },
   "id": "60711db3d93ad4ba"
  },
  {
   "cell_type": "code",
   "execution_count": 32,
   "outputs": [
    {
     "data": {
      "text/plain": "411375"
     },
     "metadata": {},
     "output_type": "display_data"
    },
    {
     "data": {
      "text/plain": "   UserId     Username  RatingCount\n0       0    Tonydorrf          253\n1       1   tachyon14k           59\n2       2     Ungotter           20\n3       3  brainlocki3           44\n4       4         PPMP          184",
      "text/html": "<div>\n<style scoped>\n    .dataframe tbody tr th:only-of-type {\n        vertical-align: middle;\n    }\n\n    .dataframe tbody tr th {\n        vertical-align: top;\n    }\n\n    .dataframe thead th {\n        text-align: right;\n    }\n</style>\n<table border=\"1\" class=\"dataframe\">\n  <thead>\n    <tr style=\"text-align: right;\">\n      <th></th>\n      <th>UserId</th>\n      <th>Username</th>\n      <th>RatingCount</th>\n    </tr>\n  </thead>\n  <tbody>\n    <tr>\n      <th>0</th>\n      <td>0</td>\n      <td>Tonydorrf</td>\n      <td>253</td>\n    </tr>\n    <tr>\n      <th>1</th>\n      <td>1</td>\n      <td>tachyon14k</td>\n      <td>59</td>\n    </tr>\n    <tr>\n      <th>2</th>\n      <td>2</td>\n      <td>Ungotter</td>\n      <td>20</td>\n    </tr>\n    <tr>\n      <th>3</th>\n      <td>3</td>\n      <td>brainlocki3</td>\n      <td>44</td>\n    </tr>\n    <tr>\n      <th>4</th>\n      <td>4</td>\n      <td>PPMP</td>\n      <td>184</td>\n    </tr>\n  </tbody>\n</table>\n</div>"
     },
     "metadata": {},
     "output_type": "display_data"
    },
    {
     "data": {
      "text/plain": "    BGGId  Rating     Username  UserId\n0  213788     8.0    Tonydorrf       0\n1  213788     8.0   tachyon14k       1\n2  213788     8.0     Ungotter       2\n3  213788     8.0  brainlocki3       3\n4  213788     8.0         PPMP       4",
      "text/html": "<div>\n<style scoped>\n    .dataframe tbody tr th:only-of-type {\n        vertical-align: middle;\n    }\n\n    .dataframe tbody tr th {\n        vertical-align: top;\n    }\n\n    .dataframe thead th {\n        text-align: right;\n    }\n</style>\n<table border=\"1\" class=\"dataframe\">\n  <thead>\n    <tr style=\"text-align: right;\">\n      <th></th>\n      <th>BGGId</th>\n      <th>Rating</th>\n      <th>Username</th>\n      <th>UserId</th>\n    </tr>\n  </thead>\n  <tbody>\n    <tr>\n      <th>0</th>\n      <td>213788</td>\n      <td>8.0</td>\n      <td>Tonydorrf</td>\n      <td>0</td>\n    </tr>\n    <tr>\n      <th>1</th>\n      <td>213788</td>\n      <td>8.0</td>\n      <td>tachyon14k</td>\n      <td>1</td>\n    </tr>\n    <tr>\n      <th>2</th>\n      <td>213788</td>\n      <td>8.0</td>\n      <td>Ungotter</td>\n      <td>2</td>\n    </tr>\n    <tr>\n      <th>3</th>\n      <td>213788</td>\n      <td>8.0</td>\n      <td>brainlocki3</td>\n      <td>3</td>\n    </tr>\n    <tr>\n      <th>4</th>\n      <td>213788</td>\n      <td>8.0</td>\n      <td>PPMP</td>\n      <td>4</td>\n    </tr>\n  </tbody>\n</table>\n</div>"
     },
     "metadata": {},
     "output_type": "display_data"
    }
   ],
   "source": [
    "from surprise import Reader, Dataset\n",
    "\n",
    "# Create dataframe for users\n",
    "df_users=pd.DataFrame()\n",
    "df_users[\"Username\"]= df_user_ratings[\"Username\"].unique()\n",
    "df_users.insert(0, 'UserId', range(0, len(df_users))) \n",
    "\n",
    "# Replace username with Id in ratings df\n",
    "id_map = dict(zip(df_users[\"Username\"], df_users[\"UserId\"]))\n",
    "df_user_ratings[\"UserId\"] = df_user_ratings[\"Username\"].map(id_map)\n",
    "\n",
    "# Create column for ratings count for users\n",
    "counts = df_user_ratings.groupby(\"UserId\").size().reset_index(name=\"RatingCount\")\n",
    "df_users = df_users.merge(counts, on=\"UserId\", how=\"left\")\n",
    "\n",
    "#TODO: printtejä\n",
    "\n",
    "display(len(df_users))\n",
    "display(df_users.head())\n",
    "\n",
    "display(df_user_ratings.head())"
   ],
   "metadata": {
    "collapsed": false,
    "ExecuteTime": {
     "end_time": "2025-09-30T14:23:55.752879Z",
     "start_time": "2025-09-30T14:23:42.297527900Z"
    }
   },
   "id": "831fdd6cfb0ded84"
  },
  {
   "cell_type": "code",
   "execution_count": 33,
   "outputs": [
    {
     "data": {
      "text/plain": "'Length of users set before reduction: 411375'"
     },
     "metadata": {},
     "output_type": "display_data"
    },
    {
     "data": {
      "text/plain": "'Length of users set after reduction: 224605'"
     },
     "metadata": {},
     "output_type": "display_data"
    }
   ],
   "source": [
    "display(f\"Length of users set before reduction: {len(df_users)}\")\n",
    "\n",
    "df_users_reduced = df_users.drop(df_users[df_users['RatingCount'] < 10].index)\n",
    "\n",
    "display(f\"Length of users set after reduction: {len(df_users_reduced)}\")"
   ],
   "metadata": {
    "collapsed": false,
    "ExecuteTime": {
     "end_time": "2025-09-30T14:23:55.989831900Z",
     "start_time": "2025-09-30T14:23:55.751910200Z"
    }
   },
   "id": "7c34eabf8e9623a7"
  },
  {
   "cell_type": "code",
   "execution_count": 34,
   "outputs": [
    {
     "data": {
      "text/plain": "'Length of games set before reduction: 21925'"
     },
     "metadata": {},
     "output_type": "display_data"
    },
    {
     "data": {
      "text/plain": "'Length of games set after reduction: 12239'"
     },
     "metadata": {},
     "output_type": "display_data"
    }
   ],
   "source": [
    "display(f\"Length of games set before reduction: {len(df_games)}\")\n",
    "\n",
    "df_games_reduced = df_games.drop(df_games[df_games['NumUserRatings'] < 100].index)\n",
    "\n",
    "display(f\"Length of games set after reduction: {len(df_games_reduced)}\")"
   ],
   "metadata": {
    "collapsed": false,
    "ExecuteTime": {
     "end_time": "2025-09-30T14:23:56.042822800Z",
     "start_time": "2025-09-30T14:23:55.827638500Z"
    }
   },
   "id": "5a8776087cf54aad"
  },
  {
   "cell_type": "code",
   "execution_count": 35,
   "outputs": [
    {
     "data": {
      "text/plain": "'Length of ratings set before reduction: 18942215'"
     },
     "metadata": {},
     "output_type": "display_data"
    },
    {
     "data": {
      "text/plain": "'Length of ratings set after reduction: 17849779'"
     },
     "metadata": {},
     "output_type": "display_data"
    }
   ],
   "source": [
    "display(f\"Length of ratings set before reduction: {len(df_user_ratings)}\")\n",
    "\n",
    "df_ratings_reduced = df_user_ratings[df_user_ratings[\"BGGId\"].isin(df_games_reduced[\"BGGId\"])]\n",
    "df_ratings_reduced = df_ratings_reduced[df_ratings_reduced[\"UserId\"].isin(df_users_reduced[\"UserId\"])]\n",
    "\n",
    "display(f\"Length of ratings set after reduction: {len(df_ratings_reduced)}\")"
   ],
   "metadata": {
    "collapsed": false,
    "ExecuteTime": {
     "end_time": "2025-09-30T14:23:59.666988800Z",
     "start_time": "2025-09-30T14:23:55.857821300Z"
    }
   },
   "id": "a40a49ee4ea64d9"
  },
  {
   "cell_type": "markdown",
   "source": [
    "selitetään juttuja"
   ],
   "metadata": {
    "collapsed": false
   },
   "id": "92c8d2e72c178087"
  },
  {
   "cell_type": "code",
   "execution_count": 36,
   "outputs": [
    {
     "data": {
      "text/plain": "<surprise.dataset.DatasetAutoFolds at 0x2001e508a00>"
     },
     "metadata": {},
     "output_type": "display_data"
    }
   ],
   "source": [
    "reader = Reader(rating_scale=(0.0, 10.0)) \n",
    "data = Dataset.load_from_df(df_user_ratings[['BGGId', 'Rating', 'UserId']], reader)\n",
    "\n",
    "#TODO: jotain fiksumpaa printtiä\n",
    "\n",
    "display(data)"
   ],
   "metadata": {
    "collapsed": false,
    "ExecuteTime": {
     "end_time": "2025-09-30T14:24:23.298605900Z",
     "start_time": "2025-09-30T14:23:59.666005Z"
    }
   },
   "id": "58726281260c1f65"
  },
  {
   "cell_type": "markdown",
   "source": [
    "mitä nyt tehdään"
   ],
   "metadata": {
    "collapsed": false
   },
   "id": "cb07f935522851b"
  },
  {
   "cell_type": "code",
   "execution_count": 37,
   "outputs": [],
   "source": [
    "from surprise import KNNBasic, SVD, dump\n",
    "import os\n",
    "\n",
    "if not os.path.exists(\"model.pkl\"):\n",
    "    trainset = data.build_full_trainset()\n",
    "\n",
    "    sim_options = {\n",
    "        'name': 'cosine',\n",
    "        'user_based': True,\n",
    "    }\n",
    "    \n",
    "    # item x item matrix\n",
    "    \n",
    "    algo = SVD()\n",
    "    algo.fit(trainset)\n",
    "    \n",
    "    # user x user matrix\n",
    "    \n",
    "    # algo = KNNBasic(k=10,sim_options=sim_options)\n",
    "    # algo.fit(trainset)\n",
    "    dump.dump('model.pkl', algo=algo)\n",
    "\n",
    "_, algo = dump.load('model.pkl')"
   ],
   "metadata": {
    "collapsed": false,
    "ExecuteTime": {
     "end_time": "2025-09-30T14:24:34.247607Z",
     "start_time": "2025-09-30T14:24:23.301608700Z"
    }
   },
   "id": "39a75ef37609ff92"
  },
  {
   "cell_type": "code",
   "execution_count": 41,
   "outputs": [
    {
     "name": "stdout",
     "output_type": "stream",
     "text": [
      "7.8 10.0 {'was_impossible': False} 5854\n",
      "7.6 10.0 {'was_impossible': False} 5854\n",
      "7.50667 10.0 {'was_impossible': False} 5854\n",
      "7.5 10.0 {'was_impossible': False} 5854\n",
      "7.2 10.0 {'was_impossible': False} 5854\n",
      "6.77778 10.0 {'was_impossible': False} 5854\n",
      "1.5 10.0 {'was_impossible': False} 5854\n",
      "3.5 10.0 {'was_impossible': False} 5854\n",
      "2.98 10.0 {'was_impossible': False} 5854\n",
      "1.0 10.0 {'was_impossible': False} 5854\n"
     ]
    }
   ],
   "source": [
    "def user_predictions(username):\n",
    "    user_id = id_map.get(username)\n",
    "    inner_id = trainset.to_inner_uid(user_id)\n",
    "    \n",
    "    user_items = set([j for (j, _) in trainset.ur[inner_id]])  # items rated by user\n",
    "    all_items = set(range(trainset.n_items))\n",
    "    unseen_items = all_items - user_items\n",
    "    \n",
    "    # Build a test set only for that user\n",
    "    testset = [(user_id, trainset.to_raw_iid(i), 0.) for i in unseen_items]\n",
    "\n",
    "    # Get predictions for this user\n",
    "    predictions = algo.test(testset)\n",
    "    \n",
    "    return predictions\n",
    "\n",
    "\n",
    "# testset = trainset.build_anti_testset()\n",
    "# predictions = algo.test(testset)\n",
    "username = \"TeemuVataja\"\n",
    "predictions = user_predictions(username)\n",
    "\n",
    "top10 = sorted(predictions, key=lambda x: x.est, reverse=True)[:10]\n",
    "for pred in top10:\n",
    "    print(pred.iid, pred.est, pred.details, pred.uid)"
   ],
   "metadata": {
    "collapsed": false,
    "ExecuteTime": {
     "end_time": "2025-09-30T14:34:54.936749300Z",
     "start_time": "2025-09-30T14:34:54.828719400Z"
    }
   },
   "id": "5d40db5e197b691f"
  },
  {
   "cell_type": "code",
   "execution_count": 39,
   "outputs": [],
   "source": [
    "# def get_predictions_for_user(user_id):\n",
    "#     user_rated = df_games_reduced[df_games_reduced[\"BGGId\"].isin(df_ratings_reduced[df_ratings_reduced[\"UserId\"] == user_id])]\n",
    "#     display(len(user_rated))\n",
    "#     for i in df_games_reduced[\"BGGId\"]:\n",
    "#         pred = algo.predict(user_id, i, verbose=True)"
   ],
   "metadata": {
    "collapsed": false,
    "ExecuteTime": {
     "end_time": "2025-09-30T14:24:34.391611200Z",
     "start_time": "2025-09-30T14:24:34.380608900Z"
    }
   },
   "id": "6e69184fab4644b7"
  },
  {
   "cell_type": "code",
   "execution_count": 40,
   "outputs": [],
   "source": [
    "\n",
    "from collections import defaultdict\n",
    "\n",
    "\n",
    "def get_top_n(predictions, n=10):\n",
    "    \"\"\"Return the top-N recommendation for each user from a set of predictions.\n",
    "\n",
    "    Args:\n",
    "        predictions(list of Prediction objects): The list of predictions, as\n",
    "            returned by the test method of an algorithm.\n",
    "        n(int): The number of recommendation to output for each user. Default\n",
    "            is 10.\n",
    "\n",
    "    Returns:\n",
    "    A dict where keys are user (raw) ids and values are lists of tuples:\n",
    "        [(raw item id, rating estimation), ...] of size n.\n",
    "    \"\"\"\n",
    "\n",
    "    # First map the predictions to each user.\n",
    "    top_n = defaultdict(list)\n",
    "    for uid, iid, true_r, est, _ in predictions:\n",
    "        top_n[uid].append((iid, est))\n",
    "\n",
    "    # Then sort the predictions for each user and retrieve the k highest ones.\n",
    "    for uid, user_ratings in top_n.items():\n",
    "        user_ratings.sort(key=lambda x: x[1], reverse=True)\n",
    "        top_n[uid] = user_ratings[:n]\n",
    "\n",
    "    return top_n\n",
    "\n",
    "\n",
    "# top_n = get_top_n(predictions, n=2)\n",
    "# \n",
    "# # Print the recommended items for each user\n",
    "# for uid, user_ratings in top_n.items():\n",
    "#     print(uid, [iid for (iid, _) in user_ratings])\n",
    "\n",
    "\n",
    "#username = \"TeemuVataja\"\n",
    "#pred = algo.predict(username, , verbose=True)\n"
   ],
   "metadata": {
    "collapsed": false,
    "ExecuteTime": {
     "end_time": "2025-09-30T14:24:34.450423900Z",
     "start_time": "2025-09-30T14:24:34.398614100Z"
    }
   },
   "id": "c90ca76d857b6bf"
  },
  {
   "cell_type": "markdown",
   "source": [
    "## 4. Modeling"
   ],
   "metadata": {
    "collapsed": false
   },
   "id": "7208eaa952d55178"
  },
  {
   "cell_type": "code",
   "execution_count": 40,
   "outputs": [],
   "source": [],
   "metadata": {
    "collapsed": false,
    "ExecuteTime": {
     "end_time": "2025-09-30T14:24:34.454443200Z",
     "start_time": "2025-09-30T14:24:34.410610500Z"
    }
   },
   "id": "65d47318831d432c"
  },
  {
   "cell_type": "markdown",
   "source": [
    "## 5. Evaluation"
   ],
   "metadata": {
    "collapsed": false
   },
   "id": "fe5a72235e1289ec"
  },
  {
   "cell_type": "markdown",
   "source": [
    "## 6. Deployment"
   ],
   "metadata": {
    "collapsed": false
   },
   "id": "eb73bfdfd9f6fa65"
  }
 ],
 "metadata": {
  "kernelspec": {
   "display_name": "Python 3",
   "language": "python",
   "name": "python3"
  },
  "language_info": {
   "codemirror_mode": {
    "name": "ipython",
    "version": 2
   },
   "file_extension": ".py",
   "mimetype": "text/x-python",
   "name": "python",
   "nbconvert_exporter": "python",
   "pygments_lexer": "ipython2",
   "version": "2.7.6"
  }
 },
 "nbformat": 4,
 "nbformat_minor": 5
}
