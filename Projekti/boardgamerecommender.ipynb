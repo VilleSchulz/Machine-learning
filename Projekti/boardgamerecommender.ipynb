{
 "cells": [
  {
   "cell_type": "markdown",
   "id": "c81e98924bf071a7",
   "metadata": {
    "collapsed": false
   },
   "source": [
    "# Boardgame Recommender"
   ]
  },
  {
   "cell_type": "markdown",
   "id": "a4c9cc9a54ec6412",
   "metadata": {
    "collapsed": false
   },
   "source": [
    "## 1. Business Understanding\n",
    "\n",
    "**BoardGameGeek** is a comprehensive online database that consists of over 125,600 board games, providing access to reviews, discussion forums, and detailed information on individual titles. It is widely recognized as the most extensive repository of board game data available. In addition to serving as an information resource, the platform enables users to rate games on a 1–10 scale and to manage their personal game collections.\n",
    "\n",
    "The goal of this project is to develop a recommender system that leverages data from BoardGameGeek to suggest board games to users. We chose an item-based collaborative filtering approach, using community rating data to find similarities between games. The system will generate personalized recommendations for selected user, based on their individual rating history."
   ]
  },
  {
   "cell_type": "markdown",
   "source": [
    "## 2. Data Understanding\n",
    "\n",
    "The dataset used in this project is the **Board Game Database** available on [Kaggle](https://www.kaggle.com/datasets/threnjen/board-games-database-from-boardgamegeek), which compiles data from the **BoardGameGeek (BGG)** platform. The data, collected in 2021, captures detailed information about board games, their attributes, and user interactions on the site. \n",
    "\n",
    "This dataset provides a rich foundation for exploring patterns in board game design, user preferences, and popularity, making it well-suited for building a **recommender system** based on user ratings and item similarities."
   ],
   "metadata": {
    "collapsed": false
   },
   "id": "9cf589c050d331ad"
  },
  {
   "cell_type": "markdown",
   "id": "c3681d2cd75bb9c3",
   "metadata": {
    "collapsed": false
   },
   "source": [
    "### 2.1 Overview of Available Files\n",
    "\n",
    "The dataset consists of **nine files**, each offering different dimensions of board game data:\n",
    "\n",
    "- **GAMES** – Contains core details for approximately **22,000 board games** with **47 features**.  \n",
    "  Each game is identified by a unique **BGGId**, serving as the primary key. This file includes metadata such as publication year, minimum/maximum players, average playtime, and average user rating.\n",
    "\n",
    "- **RATINGS_DISTRIBUTION** – Provides the **full rating distribution** for each game (`BGGId`), detailing how users rated the game on a 1–10 scale.\n",
    "\n",
    "- **THEMES** – Lists **thematic categories** associated with each game (`BGGId`), allowing thematic-based filtering and analysis.\n",
    "\n",
    "- **MECHANICS** – Includes **game mechanics** represented as binary indicators per game, enabling insights into gameplay styles (e.g., deck building, worker placement, area control).\n",
    "\n",
    "- **SUBCATEGORIES** – Contains **secondary classifications** (binary flags) that describe additional attributes or gameplay aspects of each title.\n",
    "\n",
    "- **ARTISTS_REDUCED** – Identifies **artists** involved in the visual design of each game.  \n",
    "  Only artists with more than 3 works are included explicitly; others are represented by a binary flag.\n",
    "\n",
    "- **DESIGNERS_REDUCED** – Provides information about **game designers**, using the same filtering logic as the artists file (designers with >3 works listed individually).\n",
    "\n",
    "- **PUBLISHERS_REDUCED** – Contains **publisher information** with binary flags for those associated with fewer than 3 published games.\n",
    "\n",
    "- **USER_RATINGS** – The largest and most critical table for recommendation modeling.  \n",
    "  It contains user-generated ratings with over **411,000 unique users** and approximately **19 million ratings**, linking users to the games they have rated via `username` and `BGGId`."
   ]
  },
  {
   "cell_type": "markdown",
   "source": [
    "\n",
    "### 2.2 Data Relevance to the Project\n",
    "\n",
    "For this project, the **USER_RATINGS** dataset serves as the foundation for modeling user–game interactions and generating personalized recommendations.  \n",
    "The accompanying **GAMES** dataset provides detailed metadata about each title and is used to filter and refine the set of games considered for recommendation.  \n",
    "Other available files support the project but are not directly used in the core recommendation workflow."
   ],
   "metadata": {
    "collapsed": false
   },
   "id": "9702e5f1f8c0f885"
  },
  {
   "cell_type": "markdown",
   "source": [
    "### 2.3 Data Source\n",
    "\n",
    "- **Primary Source:** [BoardGameGeek](https://boardgamegeek.com/)  \n",
    "- **Dataset Repository:** [Board Games Database on Kaggle](https://www.kaggle.com/datasets/threnjen/board-games-database-from-boardgamegeek)"
   ],
   "metadata": {
    "collapsed": false
   },
   "id": "ffcdb2fa081c25e8"
  },
  {
   "cell_type": "markdown",
   "id": "dad0ff0c9fdf9af8",
   "metadata": {
    "collapsed": false
   },
   "source": [
    "### 2.4 Data Access and Loading\n",
    "\n",
    "To begin the analysis, the dataset is retrieved directly from **Kaggle** using the `kagglehub` library.  \n",
    "This ensures easy and reliable access to the **Board Game Database** for exploration and modeling.\n",
    "\n",
    "Install dependencies as needed:  \n",
    "`pip install kagglehub[pandas-datasets]`"
   ]
  },
  {
   "cell_type": "code",
   "execution_count": 15,
   "outputs": [],
   "source": [
    "import kagglehub\n",
    "import os\n",
    "import pandas as pd\n",
    "\n",
    "path = kagglehub.dataset_download(\"threnjen/board-games-database-from-boardgamegeek\")"
   ],
   "metadata": {
    "collapsed": false,
    "ExecuteTime": {
     "end_time": "2025-10-06T20:44:58.474279700Z",
     "start_time": "2025-10-06T20:44:58.185540700Z"
    }
   },
   "id": "42725a4f7a3b8792"
  },
  {
   "cell_type": "markdown",
   "source": [
    "### 2.5 Exploring the `GAMES` File\n",
    "\n",
    "The **`games.csv`** file serves as the **master information table**, containing detailed metadata for each board game listed on BoardGameGeek.  \n",
    "Each game is uniquely identified by the `BGGId` and described using 47 attributes covering gameplay, community ratings, rankings, and publisher information.\n",
    "\n",
    "Key features include:\n",
    "\n",
    "- **BGGId** – Unique BoardGameGeek game identifier  \n",
    "- **Name** – Title of the board game  \n",
    "- **Description** – Lemmatized and punctuation-stripped description text  \n",
    "- **YearPublished** – Year the game was first published  \n",
    "- **GameWeight** – Difficulty or complexity rating  \n",
    "- **AvgRating / BayesAvgRating** – Average and Bayesian-weighted average user ratings  \n",
    "- **MinPlayers / MaxPlayers / BestPlayers** – Recommended and community-voted player counts  \n",
    "- **ComAgeRec / MfgAgeRec** – Community and manufacturer age recommendations  \n",
    "- **MfgPlayTime / ComMinPlaytime / ComMaxPlaytime** – Estimated and community-reported play times  \n",
    "- **NumOwned / NumWant / NumWish** – Ownership and wishlist statistics  \n",
    "- **Rank:** fields – Game rankings across multiple categories (e.g., strategy, thematic, party)  \n",
    "- **Cat:** fields – Binary indicators for major game categories  \n",
    "\n",
    "The following code loads the `games.csv` file into a pandas DataFrame and displays the first few records for inspection.\n"
   ],
   "metadata": {
    "collapsed": false
   },
   "id": "f0f4ccec89da0212"
  },
  {
   "cell_type": "code",
   "execution_count": 16,
   "outputs": [
    {
     "data": {
      "text/plain": "   BGGId            Name                                        Description  \\\n0      1      Die Macher  die macher game seven sequential political rac...   \n1      2    Dragonmaster  dragonmaster tricktaking card game base old ga...   \n2      3         Samurai  samurai set medieval japan player compete gain...   \n3      4  Tal der Könige  triangular box luxurious large block tal der k...   \n4      5         Acquire  acquire player strategically invest business t...   \n\n   YearPublished  GameWeight  AvgRating  BayesAvgRating   StdDev  MinPlayers  \\\n0           1986      4.3206    7.61428         7.10363  1.57979           3   \n1           1981      1.9630    6.64537         5.78447  1.45440           3   \n2           1998      2.4859    7.45601         7.23994  1.18227           2   \n3           1992      2.6667    6.60006         5.67954  1.23129           2   \n4           1964      2.5031    7.33861         7.14189  1.33583           2   \n\n   MaxPlayers  ...  Rank:partygames  Rank:childrensgames  Cat:Thematic  \\\n0           5  ...            21926                21926             0   \n1           4  ...            21926                21926             0   \n2           4  ...            21926                21926             0   \n3           4  ...            21926                21926             0   \n4           6  ...            21926                21926             0   \n\n  Cat:Strategy  Cat:War  Cat:Family  Cat:CGS  Cat:Abstract  Cat:Party  \\\n0            1        0           0        0             0          0   \n1            1        0           0        0             0          0   \n2            1        0           0        0             0          0   \n3            0        0           0        0             0          0   \n4            1        0           0        0             0          0   \n\n   Cat:Childrens  \n0              0  \n1              0  \n2              0  \n3              0  \n4              0  \n\n[5 rows x 48 columns]",
      "text/html": "<div>\n<style scoped>\n    .dataframe tbody tr th:only-of-type {\n        vertical-align: middle;\n    }\n\n    .dataframe tbody tr th {\n        vertical-align: top;\n    }\n\n    .dataframe thead th {\n        text-align: right;\n    }\n</style>\n<table border=\"1\" class=\"dataframe\">\n  <thead>\n    <tr style=\"text-align: right;\">\n      <th></th>\n      <th>BGGId</th>\n      <th>Name</th>\n      <th>Description</th>\n      <th>YearPublished</th>\n      <th>GameWeight</th>\n      <th>AvgRating</th>\n      <th>BayesAvgRating</th>\n      <th>StdDev</th>\n      <th>MinPlayers</th>\n      <th>MaxPlayers</th>\n      <th>...</th>\n      <th>Rank:partygames</th>\n      <th>Rank:childrensgames</th>\n      <th>Cat:Thematic</th>\n      <th>Cat:Strategy</th>\n      <th>Cat:War</th>\n      <th>Cat:Family</th>\n      <th>Cat:CGS</th>\n      <th>Cat:Abstract</th>\n      <th>Cat:Party</th>\n      <th>Cat:Childrens</th>\n    </tr>\n  </thead>\n  <tbody>\n    <tr>\n      <th>0</th>\n      <td>1</td>\n      <td>Die Macher</td>\n      <td>die macher game seven sequential political rac...</td>\n      <td>1986</td>\n      <td>4.3206</td>\n      <td>7.61428</td>\n      <td>7.10363</td>\n      <td>1.57979</td>\n      <td>3</td>\n      <td>5</td>\n      <td>...</td>\n      <td>21926</td>\n      <td>21926</td>\n      <td>0</td>\n      <td>1</td>\n      <td>0</td>\n      <td>0</td>\n      <td>0</td>\n      <td>0</td>\n      <td>0</td>\n      <td>0</td>\n    </tr>\n    <tr>\n      <th>1</th>\n      <td>2</td>\n      <td>Dragonmaster</td>\n      <td>dragonmaster tricktaking card game base old ga...</td>\n      <td>1981</td>\n      <td>1.9630</td>\n      <td>6.64537</td>\n      <td>5.78447</td>\n      <td>1.45440</td>\n      <td>3</td>\n      <td>4</td>\n      <td>...</td>\n      <td>21926</td>\n      <td>21926</td>\n      <td>0</td>\n      <td>1</td>\n      <td>0</td>\n      <td>0</td>\n      <td>0</td>\n      <td>0</td>\n      <td>0</td>\n      <td>0</td>\n    </tr>\n    <tr>\n      <th>2</th>\n      <td>3</td>\n      <td>Samurai</td>\n      <td>samurai set medieval japan player compete gain...</td>\n      <td>1998</td>\n      <td>2.4859</td>\n      <td>7.45601</td>\n      <td>7.23994</td>\n      <td>1.18227</td>\n      <td>2</td>\n      <td>4</td>\n      <td>...</td>\n      <td>21926</td>\n      <td>21926</td>\n      <td>0</td>\n      <td>1</td>\n      <td>0</td>\n      <td>0</td>\n      <td>0</td>\n      <td>0</td>\n      <td>0</td>\n      <td>0</td>\n    </tr>\n    <tr>\n      <th>3</th>\n      <td>4</td>\n      <td>Tal der Könige</td>\n      <td>triangular box luxurious large block tal der k...</td>\n      <td>1992</td>\n      <td>2.6667</td>\n      <td>6.60006</td>\n      <td>5.67954</td>\n      <td>1.23129</td>\n      <td>2</td>\n      <td>4</td>\n      <td>...</td>\n      <td>21926</td>\n      <td>21926</td>\n      <td>0</td>\n      <td>0</td>\n      <td>0</td>\n      <td>0</td>\n      <td>0</td>\n      <td>0</td>\n      <td>0</td>\n      <td>0</td>\n    </tr>\n    <tr>\n      <th>4</th>\n      <td>5</td>\n      <td>Acquire</td>\n      <td>acquire player strategically invest business t...</td>\n      <td>1964</td>\n      <td>2.5031</td>\n      <td>7.33861</td>\n      <td>7.14189</td>\n      <td>1.33583</td>\n      <td>2</td>\n      <td>6</td>\n      <td>...</td>\n      <td>21926</td>\n      <td>21926</td>\n      <td>0</td>\n      <td>1</td>\n      <td>0</td>\n      <td>0</td>\n      <td>0</td>\n      <td>0</td>\n      <td>0</td>\n      <td>0</td>\n    </tr>\n  </tbody>\n</table>\n<p>5 rows × 48 columns</p>\n</div>"
     },
     "metadata": {},
     "output_type": "display_data"
    }
   ],
   "source": [
    "df_games = pd.read_csv(os.path.join(path, \"games.csv\"))\n",
    "display(df_games.head())"
   ],
   "metadata": {
    "collapsed": false,
    "ExecuteTime": {
     "end_time": "2025-10-06T20:44:58.692262Z",
     "start_time": "2025-10-06T20:44:58.477169900Z"
    }
   },
   "id": "63d8da4501ecbc7c"
  },
  {
   "cell_type": "markdown",
   "source": [
    "### 2.7 Exploring the `USER_RATINGS` File\n",
    "\n",
    "The **`user_ratings.csv`** file captures individual user ratings for board games listed on BoardGameGeek.  \n",
    "Each record links a **user** to a **game** through its unique `BGGId` and the corresponding numeric rating, forming the foundation for collaborative filtering–based recommendations.\n",
    "\n",
    "Key features include:\n",
    "\n",
    "- **BGGId** – Unique identifier for each board game (foreign key referencing the `GAMES` table)  \n",
    "- **Rating** – The raw user-assigned rating on a 1–10 scale  \n",
    "- **Username** – Identifier of the user who provided the rating  \n",
    "\n",
    "This dataset contains over **19 million ratings** from approximately **411,000 unique users**, making it the **core interaction data** for the recommender system.\n",
    "\n",
    "The following code loads the `user_ratings.csv` file into a pandas DataFrame and displays the first few records to examine its structure.\n"
   ],
   "metadata": {
    "collapsed": false
   },
   "id": "836d0da83f0ab78a"
  },
  {
   "cell_type": "code",
   "execution_count": 17,
   "outputs": [
    {
     "data": {
      "text/plain": "    BGGId  Rating     Username\n0  213788     8.0    Tonydorrf\n1  213788     8.0   tachyon14k\n2  213788     8.0     Ungotter\n3  213788     8.0  brainlocki3\n4  213788     8.0         PPMP",
      "text/html": "<div>\n<style scoped>\n    .dataframe tbody tr th:only-of-type {\n        vertical-align: middle;\n    }\n\n    .dataframe tbody tr th {\n        vertical-align: top;\n    }\n\n    .dataframe thead th {\n        text-align: right;\n    }\n</style>\n<table border=\"1\" class=\"dataframe\">\n  <thead>\n    <tr style=\"text-align: right;\">\n      <th></th>\n      <th>BGGId</th>\n      <th>Rating</th>\n      <th>Username</th>\n    </tr>\n  </thead>\n  <tbody>\n    <tr>\n      <th>0</th>\n      <td>213788</td>\n      <td>8.0</td>\n      <td>Tonydorrf</td>\n    </tr>\n    <tr>\n      <th>1</th>\n      <td>213788</td>\n      <td>8.0</td>\n      <td>tachyon14k</td>\n    </tr>\n    <tr>\n      <th>2</th>\n      <td>213788</td>\n      <td>8.0</td>\n      <td>Ungotter</td>\n    </tr>\n    <tr>\n      <th>3</th>\n      <td>213788</td>\n      <td>8.0</td>\n      <td>brainlocki3</td>\n    </tr>\n    <tr>\n      <th>4</th>\n      <td>213788</td>\n      <td>8.0</td>\n      <td>PPMP</td>\n    </tr>\n  </tbody>\n</table>\n</div>"
     },
     "metadata": {},
     "output_type": "display_data"
    }
   ],
   "source": [
    "df_user_ratings = pd.read_csv(os.path.join(path, \"user_ratings.csv\"))\n",
    "display(df_user_ratings.head())"
   ],
   "metadata": {
    "collapsed": false,
    "ExecuteTime": {
     "end_time": "2025-10-06T20:45:03.932861200Z",
     "start_time": "2025-10-06T20:44:58.694260200Z"
    }
   },
   "id": "57e68c083395b7e"
  },
  {
   "cell_type": "markdown",
   "source": [
    "### 2.6 Data Quality Assessment\n",
    "\n",
    "A thorough assessment of data quality was conducted to ensure the dataset is suitable for analysis and modeling.  \n",
    "This evaluation focused on two key aspects: **missing values** and **outliers**.  \n",
    "The findings are based on the official dataset documentation provided on Kaggle:  \n",
    "[Board Games Database (BoardGameGeek, Kaggle)](https://www.kaggle.com/datasets/threnjen/board-games-database-from-boardgamegeek?select=games.csv)\n",
    "\n",
    "#### Missing Values\n",
    "- The **`games.csv`** file was found to be **largely complete**, with **only one missing value** detected in the `Description` column.  \n",
    "  Since this column contains textual metadata and is not critical for the recommendation system, this missing entry does not pose a problem for the analysis.\n",
    "- The **`user_ratings.csv`** file contains **no missing values**, ensuring the user–item interaction data is fully populated and ready for modeling.\n",
    "\n",
    "#### Outliers\n",
    "- Based on both the exploratory inspection and the accompanying dataset documentation, the **`games.csv`** file contains **no outlier values** in its numerical attributes (e.g., `AvgRating`, `GameWeight`, or `NumUserRatings`).\n",
    "- The **`user_ratings.csv`** file also shows **no outliers**, with all ratings conforming to the expected **1–10** user rating scale.\n",
    "\n",
    "Overall, both datasets demonstrate **excellent data quality**, requiring minimal cleaning prior to the development of the recommender system."
   ],
   "metadata": {
    "collapsed": false
   },
   "id": "74206a39bf8d19bf"
  },
  {
   "cell_type": "markdown",
   "source": [
    "## 3. Data Preparation"
   ],
   "metadata": {
    "collapsed": false
   },
   "id": "2da1ed4fcb95bda6"
  },
  {
   "cell_type": "markdown",
   "id": "60711db3d93ad4ba",
   "metadata": {
    "collapsed": false
   },
   "source": [
    " cleanataan data "
   ]
  },
  {
   "cell_type": "code",
   "execution_count": 18,
   "id": "50a175295596177",
   "metadata": {
    "collapsed": false,
    "ExecuteTime": {
     "end_time": "2025-10-06T20:45:03.946923800Z",
     "start_time": "2025-10-06T20:45:03.931859600Z"
    }
   },
   "outputs": [],
   "source": [
    "# Target user\n",
    "target_user = \"TeemuVataja\""
   ]
  },
  {
   "cell_type": "code",
   "execution_count": 19,
   "id": "831fdd6cfb0ded84",
   "metadata": {
    "collapsed": false,
    "ExecuteTime": {
     "end_time": "2025-10-06T20:45:09.543277900Z",
     "start_time": "2025-10-06T20:45:03.948922800Z"
    }
   },
   "outputs": [
    {
     "name": "stdout",
     "output_type": "stream",
     "text": [
      "Total number of users:\n"
     ]
    },
    {
     "data": {
      "text/plain": "411374"
     },
     "metadata": {},
     "output_type": "display_data"
    },
    {
     "name": "stdout",
     "output_type": "stream",
     "text": [
      "User table\n"
     ]
    },
    {
     "data": {
      "text/plain": "   UserId           Username  RatingCount\n0       0          Fu_Koios             2\n1       1           beastvol            9\n2       2            mycroft           14\n3       3                woh            5\n4       4  (mostly) harmless            1",
      "text/html": "<div>\n<style scoped>\n    .dataframe tbody tr th:only-of-type {\n        vertical-align: middle;\n    }\n\n    .dataframe tbody tr th {\n        vertical-align: top;\n    }\n\n    .dataframe thead th {\n        text-align: right;\n    }\n</style>\n<table border=\"1\" class=\"dataframe\">\n  <thead>\n    <tr style=\"text-align: right;\">\n      <th></th>\n      <th>UserId</th>\n      <th>Username</th>\n      <th>RatingCount</th>\n    </tr>\n  </thead>\n  <tbody>\n    <tr>\n      <th>0</th>\n      <td>0</td>\n      <td>Fu_Koios</td>\n      <td>2</td>\n    </tr>\n    <tr>\n      <th>1</th>\n      <td>1</td>\n      <td>beastvol</td>\n      <td>9</td>\n    </tr>\n    <tr>\n      <th>2</th>\n      <td>2</td>\n      <td>mycroft</td>\n      <td>14</td>\n    </tr>\n    <tr>\n      <th>3</th>\n      <td>3</td>\n      <td>woh</td>\n      <td>5</td>\n    </tr>\n    <tr>\n      <th>4</th>\n      <td>4</td>\n      <td>(mostly) harmless</td>\n      <td>1</td>\n    </tr>\n  </tbody>\n</table>\n</div>"
     },
     "metadata": {},
     "output_type": "display_data"
    },
    {
     "name": "stdout",
     "output_type": "stream",
     "text": [
      "User rating table\n"
     ]
    },
    {
     "data": {
      "text/plain": "    BGGId  Rating     Username\n0  213788     8.0    Tonydorrf\n1  213788     8.0   tachyon14k\n2  213788     8.0     Ungotter\n3  213788     8.0  brainlocki3\n4  213788     8.0         PPMP",
      "text/html": "<div>\n<style scoped>\n    .dataframe tbody tr th:only-of-type {\n        vertical-align: middle;\n    }\n\n    .dataframe tbody tr th {\n        vertical-align: top;\n    }\n\n    .dataframe thead th {\n        text-align: right;\n    }\n</style>\n<table border=\"1\" class=\"dataframe\">\n  <thead>\n    <tr style=\"text-align: right;\">\n      <th></th>\n      <th>BGGId</th>\n      <th>Rating</th>\n      <th>Username</th>\n    </tr>\n  </thead>\n  <tbody>\n    <tr>\n      <th>0</th>\n      <td>213788</td>\n      <td>8.0</td>\n      <td>Tonydorrf</td>\n    </tr>\n    <tr>\n      <th>1</th>\n      <td>213788</td>\n      <td>8.0</td>\n      <td>tachyon14k</td>\n    </tr>\n    <tr>\n      <th>2</th>\n      <td>213788</td>\n      <td>8.0</td>\n      <td>Ungotter</td>\n    </tr>\n    <tr>\n      <th>3</th>\n      <td>213788</td>\n      <td>8.0</td>\n      <td>brainlocki3</td>\n    </tr>\n    <tr>\n      <th>4</th>\n      <td>213788</td>\n      <td>8.0</td>\n      <td>PPMP</td>\n    </tr>\n  </tbody>\n</table>\n</div>"
     },
     "metadata": {},
     "output_type": "display_data"
    },
    {
     "name": "stdout",
     "output_type": "stream",
     "text": [
      "Selected user table\n"
     ]
    },
    {
     "data": {
      "text/plain": "        UserId     Username  RatingCount\n187874  187874  TeemuVataja          206",
      "text/html": "<div>\n<style scoped>\n    .dataframe tbody tr th:only-of-type {\n        vertical-align: middle;\n    }\n\n    .dataframe tbody tr th {\n        vertical-align: top;\n    }\n\n    .dataframe thead th {\n        text-align: right;\n    }\n</style>\n<table border=\"1\" class=\"dataframe\">\n  <thead>\n    <tr style=\"text-align: right;\">\n      <th></th>\n      <th>UserId</th>\n      <th>Username</th>\n      <th>RatingCount</th>\n    </tr>\n  </thead>\n  <tbody>\n    <tr>\n      <th>187874</th>\n      <td>187874</td>\n      <td>TeemuVataja</td>\n      <td>206</td>\n    </tr>\n  </tbody>\n</table>\n</div>"
     },
     "metadata": {},
     "output_type": "display_data"
    }
   ],
   "source": [
    "from surprise import Reader, Dataset\n",
    "\n",
    "# Example df_user_ratings has columns: Username, Item, Rating\n",
    "\n",
    "# Build user table with unique IDs and rating counts\n",
    "# If we ever need a dataframe without ratings just copy df_users before this step\n",
    "df_users = (\n",
    "    df_user_ratings.groupby(\"Username\")\n",
    "    .size()  # counts ratings per user\n",
    "    .reset_index(name=\"RatingCount\")\n",
    "    .reset_index(names=\"UserId\")  # create UserId from row index\n",
    ")\n",
    "\n",
    "#TODO: printtejä\n",
    "\n",
    "print(\"Total number of users:\")\n",
    "display(len(df_users))\n",
    "\n",
    "print(\"User table\")\n",
    "display(df_users.head())\n",
    "\n",
    "print(\"User rating table\")\n",
    "display(df_user_ratings.head())\n",
    "\n",
    "print(\"Selected user table\")\n",
    "display(df_users[df_users[\"Username\"] == target_user])"
   ]
  },
  {
   "cell_type": "markdown",
   "source": [
    "Users with more than equal 10 ratings"
   ],
   "metadata": {
    "collapsed": false
   },
   "id": "40778c0e01b62976"
  },
  {
   "cell_type": "code",
   "execution_count": 20,
   "outputs": [
    {
     "name": "stdout",
     "output_type": "stream",
     "text": [
      "Length of users set before reduction: 411374\n",
      "Length of users set after reduction: 224604\n"
     ]
    }
   ],
   "source": [
    "print(f\"Length of users set before reduction: {len(df_users)}\")\n",
    "\n",
    "df_users_reduced = df_users[df_users['RatingCount'] >= 10]\n",
    "\n",
    "print(f\"Length of users set after reduction: {len(df_users_reduced)}\")"
   ],
   "metadata": {
    "collapsed": false,
    "ExecuteTime": {
     "end_time": "2025-10-06T20:45:09.549708400Z",
     "start_time": "2025-10-06T20:45:09.520205300Z"
    }
   },
   "id": "7c34eabf8e9623a7"
  },
  {
   "cell_type": "markdown",
   "source": [],
   "metadata": {
    "collapsed": false
   },
   "id": "673f2d7646146fcf"
  },
  {
   "cell_type": "code",
   "execution_count": 21,
   "id": "5a8776087cf54aad",
   "metadata": {
    "collapsed": false,
    "ExecuteTime": {
     "end_time": "2025-10-06T20:45:09.625914600Z",
     "start_time": "2025-10-06T20:45:09.552709Z"
    }
   },
   "outputs": [
    {
     "name": "stdout",
     "output_type": "stream",
     "text": [
      "Length of games set before reduction: 21925\n",
      "Length of games set after reduction: 12239\n"
     ]
    }
   ],
   "source": [
    "print(f\"Length of games set before reduction: {len(df_games)}\")\n",
    "\n",
    "df_games_reduced = df_games[df_games['NumUserRatings'] >= 100]\n",
    "\n",
    "print(f\"Length of games set after reduction: {len(df_games_reduced)}\")"
   ]
  },
  {
   "cell_type": "markdown",
   "source": [],
   "metadata": {
    "collapsed": false
   },
   "id": "35225e75c786dc89"
  },
  {
   "cell_type": "code",
   "execution_count": 22,
   "outputs": [
    {
     "name": "stdout",
     "output_type": "stream",
     "text": [
      "Length of ratings set before reduction: 18942215\n",
      "Length of ratings set after reduction: 17849716\n",
      "Valid ratings after pruning for target user: 198\n"
     ]
    }
   ],
   "source": [
    "print(f\"Length of ratings set before reduction: {len(df_user_ratings)}\")\n",
    "\n",
    "df_ratings_reduced = df_user_ratings[df_user_ratings[\"BGGId\"].isin(df_games_reduced[\"BGGId\"])]\n",
    "df_ratings_reduced = df_ratings_reduced[df_ratings_reduced[\"Username\"].isin(df_users_reduced[\"Username\"])]\n",
    "\n",
    "print(f\"Length of ratings set after reduction: {len(df_ratings_reduced)}\")\n",
    "print(f\"Valid ratings after pruning for target user: {len(df_ratings_reduced[df_ratings_reduced['Username'] == target_user])}\")"
   ],
   "metadata": {
    "collapsed": false,
    "ExecuteTime": {
     "end_time": "2025-10-06T20:45:15.558866600Z",
     "start_time": "2025-10-06T20:45:09.584404200Z"
    }
   },
   "id": "a40a49ee4ea64d9"
  },
  {
   "cell_type": "markdown",
   "source": [
    "## 4. Modeling\n"
   ],
   "metadata": {
    "collapsed": false
   },
   "id": "7208eaa952d55178"
  },
  {
   "cell_type": "markdown",
   "source": [
    "Selitä mitä nyt tehdään\n",
    "# SVD = item x item\n",
    "# KNN = user x user\n",
    "Mallin luonti ja tallennus tietokoneelle. Jos ei luotu niin kouluttaa sen ja tallentaa"
   ],
   "metadata": {
    "collapsed": false
   },
   "id": "cb07f935522851b"
  },
  {
   "cell_type": "code",
   "execution_count": 23,
   "outputs": [],
   "source": [
    "from surprise import SVD, dump\n",
    "from surprise.model_selection import train_test_split\n",
    "import os\n",
    "\n",
    "def create_surprise_dataset(df, user_id, item_id, ratings, reader):\n",
    "    return Dataset.load_from_df(df[[user_id, item_id, ratings]], reader)\n",
    "\n",
    "data = create_surprise_dataset(df_ratings_reduced, \"Username\", \"BGGId\", \"Rating\", Reader(rating_scale=(0.0, 10.0)))\n",
    "\n",
    "# def load_test_model(model_name, algo, force_recreate=False):\n",
    "#     if not os.path.exists(model_name) or force_recreate:\n",
    "#         surprise_dataset = create_surprise_dataset(df_ratings_reduced, \"Username\", \"BGGId\", \"Rating\", Reader(rating_scale=(0.0, 10.0))) # First create surprise dataset from an existing Pandas Dataframe. Hardcoded for now\n",
    "#         trainset, testset = train_test_split(surprise_dataset, test_size=0.2)\n",
    "#         algo.fit(trainset)\n",
    "#         #surprise_trainset = surprise_dataset.build_full_trainset() # Then build the trainset\n",
    "#         #algo.fit(surprise_trainset) # Lastly create the model using said training set\n",
    "#         \n",
    "#         dump.dump(model_name, algo=algo)\n",
    "#         return algo, testset\n",
    "# \n",
    "#     _, algo = dump.load(model_name)\n",
    "#     return algo\n",
    "# \n",
    "# model, testset = load_test_model(\"testmodel.pkl\", SVD(n_factors=50, random_state=666))"
   ],
   "metadata": {
    "collapsed": false,
    "ExecuteTime": {
     "end_time": "2025-10-06T20:45:25.782090600Z",
     "start_time": "2025-10-06T20:45:15.676362Z"
    }
   },
   "id": "39a75ef37609ff92"
  },
  {
   "cell_type": "markdown",
   "source": [
    "predictions funktiot."
   ],
   "metadata": {
    "collapsed": false
   },
   "id": "3a7f16c7a899b043"
  },
  {
   "cell_type": "code",
   "execution_count": 24,
   "outputs": [],
   "source": [
    "import numpy as np\n",
    "from sklearn.metrics.pairwise import cosine_similarity\n",
    "\n",
    "def top_similar_users(username, model, top_n=10):\n",
    "    \"\"\"\n",
    "    Returns top-N similar users to a given username (raw ID).\n",
    "    \"\"\"\n",
    "    try:\n",
    "        inner_uid = model.trainset.to_inner_uid(username)\n",
    "    except ValueError:\n",
    "        return []\n",
    "\n",
    "    user_vec = model.pu[inner_uid].reshape(1, -1)\n",
    "    sims = cosine_similarity(user_vec, model.pu)[0]\n",
    "\n",
    "    # Exclude self\n",
    "    top_inner = np.argsort(-sims)[1:top_n+1]\n",
    "    return [model.trainset.to_raw_uid(i) for i in top_inner]\n"
   ],
   "metadata": {
    "collapsed": false,
    "ExecuteTime": {
     "end_time": "2025-10-06T20:45:25.829219Z",
     "start_time": "2025-10-06T20:45:25.811608700Z"
    }
   },
   "id": "5d40db5e197b691f"
  },
  {
   "cell_type": "markdown",
   "source": [
    "Selitystä"
   ],
   "metadata": {
    "collapsed": false
   },
   "id": "17232db075b13393"
  },
  {
   "cell_type": "code",
   "execution_count": 25,
   "outputs": [],
   "source": [
    "\n",
    "def user_predictions(username, model, top_n_items=None):\n",
    "    \"\"\"\n",
    "    Predict ratings for all unseen items for a given username.\n",
    "    Optionally, return only top-N items.\n",
    "    \"\"\"\n",
    "    try:\n",
    "        inner_uid = model.trainset.to_inner_uid(username)\n",
    "    except ValueError:\n",
    "        return []\n",
    "\n",
    "    # Items already rated by user\n",
    "    user_items = {iid for (iid, _) in model.trainset.ur[inner_uid]}\n",
    "    all_items = set(range(model.trainset.n_items))\n",
    "    unseen_items = all_items - user_items\n",
    "\n",
    "    # Build test set (user x unseen items)\n",
    "    testset = [(username, model.trainset.to_raw_iid(i), 0.) for i in unseen_items]\n",
    "\n",
    "    # Get predictions\n",
    "    predictions = model.test(testset)\n",
    "\n",
    "    # Optionally keep top-N items\n",
    "    if top_n_items:\n",
    "        predictions = sorted(predictions, key=lambda x: x.est, reverse=True)[:top_n_items]\n",
    "\n",
    "    return predictions\n"
   ],
   "metadata": {
    "collapsed": false,
    "ExecuteTime": {
     "end_time": "2025-10-06T20:45:25.874228900Z",
     "start_time": "2025-10-06T20:45:25.840238900Z"
    }
   },
   "id": "dc97fcc77a7c592a"
  },
  {
   "cell_type": "markdown",
   "source": [
    "Selitystä"
   ],
   "metadata": {
    "collapsed": false
   },
   "id": "9e20df85424e7ae2"
  },
  {
   "cell_type": "code",
   "execution_count": 26,
   "outputs": [],
   "source": [
    "def user_predictions_from_similar(username, model, top_n_users=1000, top_n_items=10):\n",
    "    \"\"\"\n",
    "    Predict items for a user based on items liked by similar users.\n",
    "    \"\"\"\n",
    "    similar_users = top_similar_users(username, model, top_n=top_n_users)\n",
    "\n",
    "    # Collect items rated by similar users\n",
    "    similar_items = set()\n",
    "    for su in similar_users:\n",
    "        inner_uid = model.trainset.to_inner_uid(su)\n",
    "        similar_items.update([model.trainset.to_raw_iid(iid) for (iid, _) in model.trainset.ur[inner_uid]])\n",
    "\n",
    "    # Filter out items already rated by target user\n",
    "    inner_uid_target = model.trainset.to_inner_uid(username)\n",
    "    user_items = {model.trainset.to_raw_iid(iid) for (iid, _) in model.trainset.ur[inner_uid_target]}\n",
    "    candidate_items = similar_items - user_items\n",
    "\n",
    "    # Build test set and predict\n",
    "    testset = [(username, iid, 0.) for iid in candidate_items]\n",
    "    predictions = model.test(testset)\n",
    "    predictions = sorted(predictions, key=lambda x: x.est, reverse=True)[:top_n_items]\n",
    "\n",
    "    return predictions\n"
   ],
   "metadata": {
    "collapsed": false,
    "ExecuteTime": {
     "end_time": "2025-10-06T20:45:25.890239300Z",
     "start_time": "2025-10-06T20:45:25.875264500Z"
    }
   },
   "id": "832d8d2a1d399344"
  },
  {
   "cell_type": "markdown",
   "source": [
    "Selitystä"
   ],
   "metadata": {
    "collapsed": false
   },
   "id": "393fd2e72ef64cc0"
  },
  {
   "cell_type": "markdown",
   "source": [
    "## 5. Evaluation\n",
    "\n",
    "The performance of the recommendation model in this project is evaluated using **cross-validation**.  \n",
    "Specifically, the `cross_validate` function from the `surprise.model_selection` module is employed to assess the **SVD (Singular Value Decomposition)** model.\n",
    "\n",
    "In this setup, the SVD model is configured with 50 latent factors (`n_factors=50`) and a fixed random seed (`random_state=666`) to ensure reproducibility.  \n",
    "A three-fold cross-validation (`cv=3`) is performed, meaning the dataset is divided into three equal parts. In each iteration, two-thirds of the data are used to train the model, while the remaining one-third is used for testing.  \n",
    "\n",
    "Model performance is measured using two key metrics: **Root Mean Square Error (RMSE)** and **Mean Absolute Error (MAE)**. These metrics are computed for both the training and test sets (`return_train_measures=True`), allowing us to evaluate not only how well the model fits the data it was trained on, but also how effectively it generalizes to unseen data.  \n",
    "\n",
    "Overall, this evaluation approach provides a reliable estimate of the model’s predictive accuracy and its ability to generalize beyond the training data.\n"
   ],
   "metadata": {
    "collapsed": false
   },
   "id": "71dcff1b25d8b878"
  },
  {
   "cell_type": "code",
   "execution_count": 27,
   "outputs": [
    {
     "name": "stdout",
     "output_type": "stream",
     "text": [
      "Evaluating RMSE, MAE of algorithm SVD on 3 split(s).\n",
      "\n",
      "                  Fold 1  Fold 2  Fold 3  Mean    Std     \n",
      "RMSE (testset)    1.1587  1.1590  1.1579  1.1585  0.0005  \n",
      "MAE (testset)     0.8650  0.8654  0.8648  0.8651  0.0003  \n",
      "RMSE (trainset)   0.8903  0.8896  0.8896  0.8898  0.0003  \n",
      "MAE (trainset)    0.6744  0.6739  0.6738  0.6740  0.0003  \n",
      "Fit time          140.05  151.23  98.62   129.97  22.63   \n",
      "Test time         65.41   52.73   54.99   57.71   5.52    \n"
     ]
    },
    {
     "data": {
      "text/plain": "   test_rmse  train_rmse  test_mae  train_mae    fit_time  test_time\n0   1.158669    0.890270  0.865032   0.674439  140.054871  65.406096\n1   1.158991    0.889581  0.865449   0.673876  151.225025  52.729806\n2   1.157884    0.889636  0.864770   0.673824   98.617773  54.990134",
      "text/html": "<div>\n<style scoped>\n    .dataframe tbody tr th:only-of-type {\n        vertical-align: middle;\n    }\n\n    .dataframe tbody tr th {\n        vertical-align: top;\n    }\n\n    .dataframe thead th {\n        text-align: right;\n    }\n</style>\n<table border=\"1\" class=\"dataframe\">\n  <thead>\n    <tr style=\"text-align: right;\">\n      <th></th>\n      <th>test_rmse</th>\n      <th>train_rmse</th>\n      <th>test_mae</th>\n      <th>train_mae</th>\n      <th>fit_time</th>\n      <th>test_time</th>\n    </tr>\n  </thead>\n  <tbody>\n    <tr>\n      <th>0</th>\n      <td>1.158669</td>\n      <td>0.890270</td>\n      <td>0.865032</td>\n      <td>0.674439</td>\n      <td>140.054871</td>\n      <td>65.406096</td>\n    </tr>\n    <tr>\n      <th>1</th>\n      <td>1.158991</td>\n      <td>0.889581</td>\n      <td>0.865449</td>\n      <td>0.673876</td>\n      <td>151.225025</td>\n      <td>52.729806</td>\n    </tr>\n    <tr>\n      <th>2</th>\n      <td>1.157884</td>\n      <td>0.889636</td>\n      <td>0.864770</td>\n      <td>0.673824</td>\n      <td>98.617773</td>\n      <td>54.990134</td>\n    </tr>\n  </tbody>\n</table>\n</div>"
     },
     "execution_count": 27,
     "metadata": {},
     "output_type": "execute_result"
    }
   ],
   "source": [
    "from surprise.model_selection import cross_validate\n",
    "\n",
    "results = cross_validate(\n",
    "    SVD(n_factors=50, random_state=666),\n",
    "    data, measures=[\"RMSE\", \"MAE\"],\n",
    "    cv=3,\n",
    "    return_train_measures=True,\n",
    "    verbose=True\n",
    ")\n",
    "\n",
    "results_df = pd.DataFrame(results)\n",
    "results_df"
   ],
   "metadata": {
    "collapsed": false,
    "ExecuteTime": {
     "end_time": "2025-10-06T21:11:05.281964800Z",
     "start_time": "2025-10-06T20:45:25.896369800Z"
    }
   },
   "id": "a7c62ff076d36df0"
  },
  {
   "cell_type": "markdown",
   "source": [
    "### Understanding the Performance Metrics\n",
    "\n",
    "#### **Root Mean Square Error (RMSE)**  \n",
    "\n",
    "   $$RMSE = \\sqrt{\\frac{1}{N} \\sum_{(u,i)} (\\hat{r}_{ui} - r_{ui})^2}$$  \n",
    "\n",
    "RMSE measures the square root of the average squared difference between predicted and actual ratings.\n",
    "\n",
    "Because the errors are **squared before averaging**, RMSE gives **more weight to larger errors** — meaning a few big mistakes will increase this value significantly.  \n",
    "\n",
    "For board game recommendation systems using a **1–10 rating scale**, typical RMSE values range from **1.0 to 2.0**:  \n",
    "- **< 1.0** → Excellent predictive performance  \n",
    "- **1.0–1.5** → Good, typical for collaborative filtering models  \n",
    "- **> 2.0** → Poor, indicating weak predictive accuracy or sparse data  \n",
    "\n",
    "A **lower RMSE** means the model’s predictions are generally close to actual ratings, while a higher value suggests inconsistent or inaccurate predictions. \n",
    "\n",
    "RMSE is especially useful when you want to **penalize large errors**, such as recommending something that a user would really dislike.\n",
    "\n",
    "    \n",
    "#### **Mean Absolute Error (MAE)**\n",
    " \n",
    "   $$MAE = \\frac{1}{N} \\sum_{(u,i)} |\\hat{r}_{ui} - r_{ui}|$$  \n",
    "\n",
    "MAE represents the **average absolute difference** between predicted and actual ratings, treating all errors equally.  \n",
    "It is more **robust to outliers** and easier to interpret: it tells you, on average, how far your predictions are from the true ratings.  \n",
    "\n",
    "For the same 1–10 scale, **MAE** values are typically **slightly lower than RMSE**:  \n",
    "- **< 1.0** → Very good accuracy  \n",
    "- **1.0–1.5** → Acceptable, common for many recommenders  \n",
    "- **> 1.5** → Mediocre, suggesting inconsistent predictions  \n",
    "\n",
    "A **lower MAE** indicates more stable and reliable performance overall."
   ],
   "metadata": {
    "collapsed": false
   },
   "id": "5fdb9f21f7a39f0d"
  },
  {
   "cell_type": "code",
   "execution_count": 28,
   "outputs": [
    {
     "data": {
      "text/plain": "test_rmse     1.158515\ntrain_rmse    0.889829\ntest_mae      0.865083\ntrain_mae     0.674046\nName: Mean Value, dtype: float64"
     },
     "execution_count": 28,
     "metadata": {},
     "output_type": "execute_result"
    }
   ],
   "source": [
    "# Display mean performance metrics for quick summary\n",
    "mean_results = results_df.mean().rename(\"Mean Value\")\n",
    "mean_results[['test_rmse', 'train_rmse', 'test_mae', 'train_mae']]\n"
   ],
   "metadata": {
    "collapsed": false,
    "ExecuteTime": {
     "end_time": "2025-10-06T21:11:05.521382200Z",
     "start_time": "2025-10-06T21:11:04.969877600Z"
    }
   },
   "id": "9a1947151925ca28"
  },
  {
   "cell_type": "markdown",
   "id": "eb73bfdfd9f6fa65",
   "metadata": {
    "collapsed": false
   },
   "source": [
    "## 6. Deployment"
   ]
  },
  {
   "cell_type": "code",
   "execution_count": 29,
   "outputs": [],
   "source": [
    "def load_surprise_model(model_name, algo, force_recreate=False):\n",
    "    if not os.path.exists(model_name) or force_recreate:\n",
    "        surprise_dataset = create_surprise_dataset(df_ratings_reduced, \"Username\", \"BGGId\", \"Rating\", Reader(rating_scale=(0.0, 10.0))) # First create surprise dataset from an existing Pandas Dataframe. Hardcoded for now\n",
    "        surprise_trainset = surprise_dataset.build_full_trainset() # Then build the trainset\n",
    "        algo.fit(surprise_trainset) # Lastly create the model using said training set\n",
    "        \n",
    "        dump.dump(model_name, algo=algo)\n",
    "        return algo\n",
    "\n",
    "    _, algo = dump.load(model_name)\n",
    "    return algo\n",
    "\n",
    "model = load_surprise_model(\"model.pkl\", SVD(n_factors=50,random_state=666))\n",
    "\n",
    "##tehdään tällä juttutja"
   ],
   "metadata": {
    "collapsed": false,
    "ExecuteTime": {
     "end_time": "2025-10-06T21:11:09.249187200Z",
     "start_time": "2025-10-06T21:11:05.008926400Z"
    }
   },
   "id": "312be1e03fedafd2"
  },
  {
   "cell_type": "markdown",
   "source": [
    "tähän juttuja mallin luonnista"
   ],
   "metadata": {
    "collapsed": false
   },
   "id": "364e1693f1d51deb"
  },
  {
   "cell_type": "code",
   "execution_count": 30,
   "outputs": [
    {
     "name": "stdout",
     "output_type": "stream",
     "text": [
      "262211 9.365823353856806\n"
     ]
    },
    {
     "data": {
      "text/plain": "        BGGId        Name                                        Description  \\\n19434  262211  Cloudspire  cloudspire   player strategy game heavily infl...   \n\n       YearPublished  GameWeight  AvgRating  BayesAvgRating   StdDev  \\\n19434           2019      4.2794    8.26495         6.90388  1.63067   \n\n       MinPlayers  MaxPlayers  ...  Rank:partygames  Rank:childrensgames  \\\n19434           1           4  ...            21926                21926   \n\n       Cat:Thematic Cat:Strategy  Cat:War  Cat:Family  Cat:CGS  Cat:Abstract  \\\n19434             0            1        0           0        0             0   \n\n       Cat:Party  Cat:Childrens  \n19434          0              0  \n\n[1 rows x 48 columns]",
      "text/html": "<div>\n<style scoped>\n    .dataframe tbody tr th:only-of-type {\n        vertical-align: middle;\n    }\n\n    .dataframe tbody tr th {\n        vertical-align: top;\n    }\n\n    .dataframe thead th {\n        text-align: right;\n    }\n</style>\n<table border=\"1\" class=\"dataframe\">\n  <thead>\n    <tr style=\"text-align: right;\">\n      <th></th>\n      <th>BGGId</th>\n      <th>Name</th>\n      <th>Description</th>\n      <th>YearPublished</th>\n      <th>GameWeight</th>\n      <th>AvgRating</th>\n      <th>BayesAvgRating</th>\n      <th>StdDev</th>\n      <th>MinPlayers</th>\n      <th>MaxPlayers</th>\n      <th>...</th>\n      <th>Rank:partygames</th>\n      <th>Rank:childrensgames</th>\n      <th>Cat:Thematic</th>\n      <th>Cat:Strategy</th>\n      <th>Cat:War</th>\n      <th>Cat:Family</th>\n      <th>Cat:CGS</th>\n      <th>Cat:Abstract</th>\n      <th>Cat:Party</th>\n      <th>Cat:Childrens</th>\n    </tr>\n  </thead>\n  <tbody>\n    <tr>\n      <th>19434</th>\n      <td>262211</td>\n      <td>Cloudspire</td>\n      <td>cloudspire   player strategy game heavily infl...</td>\n      <td>2019</td>\n      <td>4.2794</td>\n      <td>8.26495</td>\n      <td>6.90388</td>\n      <td>1.63067</td>\n      <td>1</td>\n      <td>4</td>\n      <td>...</td>\n      <td>21926</td>\n      <td>21926</td>\n      <td>0</td>\n      <td>1</td>\n      <td>0</td>\n      <td>0</td>\n      <td>0</td>\n      <td>0</td>\n      <td>0</td>\n      <td>0</td>\n    </tr>\n  </tbody>\n</table>\n<p>1 rows × 48 columns</p>\n</div>"
     },
     "metadata": {},
     "output_type": "display_data"
    },
    {
     "name": "stdout",
     "output_type": "stream",
     "text": [
      "210232 9.244231524173466\n"
     ]
    },
    {
     "data": {
      "text/plain": "        BGGId                               Name  \\\n16693  210232  Dungeon Degenerates: Hand of Doom   \n\n                                             Description  YearPublished  \\\n16693  dungeon degenerates hand doom take place dark ...           2017   \n\n       GameWeight  AvgRating  BayesAvgRating   StdDev  MinPlayers  MaxPlayers  \\\n16693      3.5574    8.23936         6.27133  1.69541           1           4   \n\n       ...  Rank:partygames  Rank:childrensgames  Cat:Thematic Cat:Strategy  \\\n16693  ...            21926                21926             1            0   \n\n       Cat:War  Cat:Family  Cat:CGS  Cat:Abstract  Cat:Party  Cat:Childrens  \n16693        0           0        0             0          0              0  \n\n[1 rows x 48 columns]",
      "text/html": "<div>\n<style scoped>\n    .dataframe tbody tr th:only-of-type {\n        vertical-align: middle;\n    }\n\n    .dataframe tbody tr th {\n        vertical-align: top;\n    }\n\n    .dataframe thead th {\n        text-align: right;\n    }\n</style>\n<table border=\"1\" class=\"dataframe\">\n  <thead>\n    <tr style=\"text-align: right;\">\n      <th></th>\n      <th>BGGId</th>\n      <th>Name</th>\n      <th>Description</th>\n      <th>YearPublished</th>\n      <th>GameWeight</th>\n      <th>AvgRating</th>\n      <th>BayesAvgRating</th>\n      <th>StdDev</th>\n      <th>MinPlayers</th>\n      <th>MaxPlayers</th>\n      <th>...</th>\n      <th>Rank:partygames</th>\n      <th>Rank:childrensgames</th>\n      <th>Cat:Thematic</th>\n      <th>Cat:Strategy</th>\n      <th>Cat:War</th>\n      <th>Cat:Family</th>\n      <th>Cat:CGS</th>\n      <th>Cat:Abstract</th>\n      <th>Cat:Party</th>\n      <th>Cat:Childrens</th>\n    </tr>\n  </thead>\n  <tbody>\n    <tr>\n      <th>16693</th>\n      <td>210232</td>\n      <td>Dungeon Degenerates: Hand of Doom</td>\n      <td>dungeon degenerates hand doom take place dark ...</td>\n      <td>2017</td>\n      <td>3.5574</td>\n      <td>8.23936</td>\n      <td>6.27133</td>\n      <td>1.69541</td>\n      <td>1</td>\n      <td>4</td>\n      <td>...</td>\n      <td>21926</td>\n      <td>21926</td>\n      <td>1</td>\n      <td>0</td>\n      <td>0</td>\n      <td>0</td>\n      <td>0</td>\n      <td>0</td>\n      <td>0</td>\n      <td>0</td>\n    </tr>\n  </tbody>\n</table>\n<p>1 rows × 48 columns</p>\n</div>"
     },
     "metadata": {},
     "output_type": "display_data"
    },
    {
     "name": "stdout",
     "output_type": "stream",
     "text": [
      "218421 9.235776785392913\n"
     ]
    },
    {
     "data": {
      "text/plain": "        BGGId            Name  \\\n17030  218421  Street Masters   \n\n                                             Description  YearPublished  \\\n17030  gameplaystreet master   player cooperative min...           2018   \n\n       GameWeight  AvgRating  BayesAvgRating   StdDev  MinPlayers  MaxPlayers  \\\n17030      2.8158    8.16434         6.50229  1.46228           1           4   \n\n       ...  Rank:partygames  Rank:childrensgames  Cat:Thematic Cat:Strategy  \\\n17030  ...            21926                21926             1            0   \n\n       Cat:War  Cat:Family  Cat:CGS  Cat:Abstract  Cat:Party  Cat:Childrens  \n17030        0           0        0             0          0              0  \n\n[1 rows x 48 columns]",
      "text/html": "<div>\n<style scoped>\n    .dataframe tbody tr th:only-of-type {\n        vertical-align: middle;\n    }\n\n    .dataframe tbody tr th {\n        vertical-align: top;\n    }\n\n    .dataframe thead th {\n        text-align: right;\n    }\n</style>\n<table border=\"1\" class=\"dataframe\">\n  <thead>\n    <tr style=\"text-align: right;\">\n      <th></th>\n      <th>BGGId</th>\n      <th>Name</th>\n      <th>Description</th>\n      <th>YearPublished</th>\n      <th>GameWeight</th>\n      <th>AvgRating</th>\n      <th>BayesAvgRating</th>\n      <th>StdDev</th>\n      <th>MinPlayers</th>\n      <th>MaxPlayers</th>\n      <th>...</th>\n      <th>Rank:partygames</th>\n      <th>Rank:childrensgames</th>\n      <th>Cat:Thematic</th>\n      <th>Cat:Strategy</th>\n      <th>Cat:War</th>\n      <th>Cat:Family</th>\n      <th>Cat:CGS</th>\n      <th>Cat:Abstract</th>\n      <th>Cat:Party</th>\n      <th>Cat:Childrens</th>\n    </tr>\n  </thead>\n  <tbody>\n    <tr>\n      <th>17030</th>\n      <td>218421</td>\n      <td>Street Masters</td>\n      <td>gameplaystreet master   player cooperative min...</td>\n      <td>2018</td>\n      <td>2.8158</td>\n      <td>8.16434</td>\n      <td>6.50229</td>\n      <td>1.46228</td>\n      <td>1</td>\n      <td>4</td>\n      <td>...</td>\n      <td>21926</td>\n      <td>21926</td>\n      <td>1</td>\n      <td>0</td>\n      <td>0</td>\n      <td>0</td>\n      <td>0</td>\n      <td>0</td>\n      <td>0</td>\n      <td>0</td>\n    </tr>\n  </tbody>\n</table>\n<p>1 rows × 48 columns</p>\n</div>"
     },
     "metadata": {},
     "output_type": "display_data"
    },
    {
     "name": "stdout",
     "output_type": "stream",
     "text": [
      "248562 9.214384099159748\n"
     ]
    },
    {
     "data": {
      "text/plain": "        BGGId                           Name  \\\n18640  248562  Mage Knight: Ultimate Edition   \n\n                                             Description  YearPublished  \\\n18640  combine element rpgs deckbuilding traditional ...           2018   \n\n       GameWeight  AvgRating  BayesAvgRating   StdDev  MinPlayers  MaxPlayers  \\\n18640      4.6321    8.94937         7.76184  1.20768           1           5   \n\n       ...  Rank:partygames  Rank:childrensgames  Cat:Thematic Cat:Strategy  \\\n18640  ...            21926                21926             0            0   \n\n       Cat:War  Cat:Family  Cat:CGS  Cat:Abstract  Cat:Party  Cat:Childrens  \n18640        0           0        0             0          0              0  \n\n[1 rows x 48 columns]",
      "text/html": "<div>\n<style scoped>\n    .dataframe tbody tr th:only-of-type {\n        vertical-align: middle;\n    }\n\n    .dataframe tbody tr th {\n        vertical-align: top;\n    }\n\n    .dataframe thead th {\n        text-align: right;\n    }\n</style>\n<table border=\"1\" class=\"dataframe\">\n  <thead>\n    <tr style=\"text-align: right;\">\n      <th></th>\n      <th>BGGId</th>\n      <th>Name</th>\n      <th>Description</th>\n      <th>YearPublished</th>\n      <th>GameWeight</th>\n      <th>AvgRating</th>\n      <th>BayesAvgRating</th>\n      <th>StdDev</th>\n      <th>MinPlayers</th>\n      <th>MaxPlayers</th>\n      <th>...</th>\n      <th>Rank:partygames</th>\n      <th>Rank:childrensgames</th>\n      <th>Cat:Thematic</th>\n      <th>Cat:Strategy</th>\n      <th>Cat:War</th>\n      <th>Cat:Family</th>\n      <th>Cat:CGS</th>\n      <th>Cat:Abstract</th>\n      <th>Cat:Party</th>\n      <th>Cat:Childrens</th>\n    </tr>\n  </thead>\n  <tbody>\n    <tr>\n      <th>18640</th>\n      <td>248562</td>\n      <td>Mage Knight: Ultimate Edition</td>\n      <td>combine element rpgs deckbuilding traditional ...</td>\n      <td>2018</td>\n      <td>4.6321</td>\n      <td>8.94937</td>\n      <td>7.76184</td>\n      <td>1.20768</td>\n      <td>1</td>\n      <td>5</td>\n      <td>...</td>\n      <td>21926</td>\n      <td>21926</td>\n      <td>0</td>\n      <td>0</td>\n      <td>0</td>\n      <td>0</td>\n      <td>0</td>\n      <td>0</td>\n      <td>0</td>\n      <td>0</td>\n    </tr>\n  </tbody>\n</table>\n<p>1 rows × 48 columns</p>\n</div>"
     },
     "metadata": {},
     "output_type": "display_data"
    },
    {
     "name": "stdout",
     "output_type": "stream",
     "text": [
      "332800 9.205870356863024\n"
     ]
    },
    {
     "data": {
      "text/plain": "        BGGId                            Name  \\\n21783  332800  Summoner Wars (Second Edition)   \n\n                                             Description  YearPublished  \\\n21783  summoner war put role powerful summoner contro...           2021   \n\n       GameWeight  AvgRating  BayesAvgRating   StdDev  MinPlayers  MaxPlayers  \\\n21783      2.5429    8.46092         6.40422  1.27564           2           2   \n\n       ...  Rank:partygames  Rank:childrensgames  Cat:Thematic Cat:Strategy  \\\n21783  ...            21926                21926             0            1   \n\n       Cat:War  Cat:Family  Cat:CGS  Cat:Abstract  Cat:Party  Cat:Childrens  \n21783        0           0        1             0          0              0  \n\n[1 rows x 48 columns]",
      "text/html": "<div>\n<style scoped>\n    .dataframe tbody tr th:only-of-type {\n        vertical-align: middle;\n    }\n\n    .dataframe tbody tr th {\n        vertical-align: top;\n    }\n\n    .dataframe thead th {\n        text-align: right;\n    }\n</style>\n<table border=\"1\" class=\"dataframe\">\n  <thead>\n    <tr style=\"text-align: right;\">\n      <th></th>\n      <th>BGGId</th>\n      <th>Name</th>\n      <th>Description</th>\n      <th>YearPublished</th>\n      <th>GameWeight</th>\n      <th>AvgRating</th>\n      <th>BayesAvgRating</th>\n      <th>StdDev</th>\n      <th>MinPlayers</th>\n      <th>MaxPlayers</th>\n      <th>...</th>\n      <th>Rank:partygames</th>\n      <th>Rank:childrensgames</th>\n      <th>Cat:Thematic</th>\n      <th>Cat:Strategy</th>\n      <th>Cat:War</th>\n      <th>Cat:Family</th>\n      <th>Cat:CGS</th>\n      <th>Cat:Abstract</th>\n      <th>Cat:Party</th>\n      <th>Cat:Childrens</th>\n    </tr>\n  </thead>\n  <tbody>\n    <tr>\n      <th>21783</th>\n      <td>332800</td>\n      <td>Summoner Wars (Second Edition)</td>\n      <td>summoner war put role powerful summoner contro...</td>\n      <td>2021</td>\n      <td>2.5429</td>\n      <td>8.46092</td>\n      <td>6.40422</td>\n      <td>1.27564</td>\n      <td>2</td>\n      <td>2</td>\n      <td>...</td>\n      <td>21926</td>\n      <td>21926</td>\n      <td>0</td>\n      <td>1</td>\n      <td>0</td>\n      <td>0</td>\n      <td>1</td>\n      <td>0</td>\n      <td>0</td>\n      <td>0</td>\n    </tr>\n  </tbody>\n</table>\n<p>1 rows × 48 columns</p>\n</div>"
     },
     "metadata": {},
     "output_type": "display_data"
    },
    {
     "name": "stdout",
     "output_type": "stream",
     "text": [
      "262201 9.15474841993046\n"
     ]
    },
    {
     "data": {
      "text/plain": "        BGGId                                 Name  \\\n19432  262201  Sword & Sorcery: Ancient Chronicles   \n\n                                             Description  YearPublished  \\\n19432  sword amp sorcery epicfantasy cooperative boar...           2021   \n\n       GameWeight  AvgRating  BayesAvgRating   StdDev  MinPlayers  MaxPlayers  \\\n19432         4.0    8.72203         5.74651  1.79084           1           5   \n\n       ...  Rank:partygames  Rank:childrensgames  Cat:Thematic Cat:Strategy  \\\n19432  ...            21926                21926             0            0   \n\n       Cat:War  Cat:Family  Cat:CGS  Cat:Abstract  Cat:Party  Cat:Childrens  \n19432        0           0        0             0          0              0  \n\n[1 rows x 48 columns]",
      "text/html": "<div>\n<style scoped>\n    .dataframe tbody tr th:only-of-type {\n        vertical-align: middle;\n    }\n\n    .dataframe tbody tr th {\n        vertical-align: top;\n    }\n\n    .dataframe thead th {\n        text-align: right;\n    }\n</style>\n<table border=\"1\" class=\"dataframe\">\n  <thead>\n    <tr style=\"text-align: right;\">\n      <th></th>\n      <th>BGGId</th>\n      <th>Name</th>\n      <th>Description</th>\n      <th>YearPublished</th>\n      <th>GameWeight</th>\n      <th>AvgRating</th>\n      <th>BayesAvgRating</th>\n      <th>StdDev</th>\n      <th>MinPlayers</th>\n      <th>MaxPlayers</th>\n      <th>...</th>\n      <th>Rank:partygames</th>\n      <th>Rank:childrensgames</th>\n      <th>Cat:Thematic</th>\n      <th>Cat:Strategy</th>\n      <th>Cat:War</th>\n      <th>Cat:Family</th>\n      <th>Cat:CGS</th>\n      <th>Cat:Abstract</th>\n      <th>Cat:Party</th>\n      <th>Cat:Childrens</th>\n    </tr>\n  </thead>\n  <tbody>\n    <tr>\n      <th>19432</th>\n      <td>262201</td>\n      <td>Sword &amp; Sorcery: Ancient Chronicles</td>\n      <td>sword amp sorcery epicfantasy cooperative boar...</td>\n      <td>2021</td>\n      <td>4.0</td>\n      <td>8.72203</td>\n      <td>5.74651</td>\n      <td>1.79084</td>\n      <td>1</td>\n      <td>5</td>\n      <td>...</td>\n      <td>21926</td>\n      <td>21926</td>\n      <td>0</td>\n      <td>0</td>\n      <td>0</td>\n      <td>0</td>\n      <td>0</td>\n      <td>0</td>\n      <td>0</td>\n      <td>0</td>\n    </tr>\n  </tbody>\n</table>\n<p>1 rows × 48 columns</p>\n</div>"
     },
     "metadata": {},
     "output_type": "display_data"
    },
    {
     "name": "stdout",
     "output_type": "stream",
     "text": [
      "322708 9.100084986669753\n"
     ]
    },
    {
     "data": {
      "text/plain": "        BGGId                          Name  \\\n21609  322708  Descent: Legends of the Dark   \n\n                                             Description  YearPublished  \\\n21609  terrinoth peril demontainte uthuk yllan barbar...           2021   \n\n       GameWeight  AvgRating  BayesAvgRating   StdDev  MinPlayers  MaxPlayers  \\\n21609      2.6377    7.96497         6.60815  2.55933           1           4   \n\n       ...  Rank:partygames  Rank:childrensgames  Cat:Thematic Cat:Strategy  \\\n21609  ...            21926                21926             1            0   \n\n       Cat:War  Cat:Family  Cat:CGS  Cat:Abstract  Cat:Party  Cat:Childrens  \n21609        0           0        0             0          0              0  \n\n[1 rows x 48 columns]",
      "text/html": "<div>\n<style scoped>\n    .dataframe tbody tr th:only-of-type {\n        vertical-align: middle;\n    }\n\n    .dataframe tbody tr th {\n        vertical-align: top;\n    }\n\n    .dataframe thead th {\n        text-align: right;\n    }\n</style>\n<table border=\"1\" class=\"dataframe\">\n  <thead>\n    <tr style=\"text-align: right;\">\n      <th></th>\n      <th>BGGId</th>\n      <th>Name</th>\n      <th>Description</th>\n      <th>YearPublished</th>\n      <th>GameWeight</th>\n      <th>AvgRating</th>\n      <th>BayesAvgRating</th>\n      <th>StdDev</th>\n      <th>MinPlayers</th>\n      <th>MaxPlayers</th>\n      <th>...</th>\n      <th>Rank:partygames</th>\n      <th>Rank:childrensgames</th>\n      <th>Cat:Thematic</th>\n      <th>Cat:Strategy</th>\n      <th>Cat:War</th>\n      <th>Cat:Family</th>\n      <th>Cat:CGS</th>\n      <th>Cat:Abstract</th>\n      <th>Cat:Party</th>\n      <th>Cat:Childrens</th>\n    </tr>\n  </thead>\n  <tbody>\n    <tr>\n      <th>21609</th>\n      <td>322708</td>\n      <td>Descent: Legends of the Dark</td>\n      <td>terrinoth peril demontainte uthuk yllan barbar...</td>\n      <td>2021</td>\n      <td>2.6377</td>\n      <td>7.96497</td>\n      <td>6.60815</td>\n      <td>2.55933</td>\n      <td>1</td>\n      <td>4</td>\n      <td>...</td>\n      <td>21926</td>\n      <td>21926</td>\n      <td>1</td>\n      <td>0</td>\n      <td>0</td>\n      <td>0</td>\n      <td>0</td>\n      <td>0</td>\n      <td>0</td>\n      <td>0</td>\n    </tr>\n  </tbody>\n</table>\n<p>1 rows × 48 columns</p>\n</div>"
     },
     "metadata": {},
     "output_type": "display_data"
    },
    {
     "name": "stdout",
     "output_type": "stream",
     "text": [
      "252328 9.09483639402759\n"
     ]
    },
    {
     "data": {
      "text/plain": "        BGGId                                Name  \\\n18811  252328  Star Wars: X-Wing (Second Edition)   \n\n                                             Description  YearPublished  \\\n18811  xwe second edition put command squadron advanc...           2018   \n\n       GameWeight  AvgRating  BayesAvgRating   StdDev  MinPlayers  MaxPlayers  \\\n18811      3.0435    8.23292         6.87496  1.56988           2           2   \n\n       ...  Rank:partygames  Rank:childrensgames  Cat:Thematic Cat:Strategy  \\\n18811  ...            21926                21926             0            0   \n\n       Cat:War  Cat:Family  Cat:CGS  Cat:Abstract  Cat:Party  Cat:Childrens  \n18811        1           0        1             0          0              0  \n\n[1 rows x 48 columns]",
      "text/html": "<div>\n<style scoped>\n    .dataframe tbody tr th:only-of-type {\n        vertical-align: middle;\n    }\n\n    .dataframe tbody tr th {\n        vertical-align: top;\n    }\n\n    .dataframe thead th {\n        text-align: right;\n    }\n</style>\n<table border=\"1\" class=\"dataframe\">\n  <thead>\n    <tr style=\"text-align: right;\">\n      <th></th>\n      <th>BGGId</th>\n      <th>Name</th>\n      <th>Description</th>\n      <th>YearPublished</th>\n      <th>GameWeight</th>\n      <th>AvgRating</th>\n      <th>BayesAvgRating</th>\n      <th>StdDev</th>\n      <th>MinPlayers</th>\n      <th>MaxPlayers</th>\n      <th>...</th>\n      <th>Rank:partygames</th>\n      <th>Rank:childrensgames</th>\n      <th>Cat:Thematic</th>\n      <th>Cat:Strategy</th>\n      <th>Cat:War</th>\n      <th>Cat:Family</th>\n      <th>Cat:CGS</th>\n      <th>Cat:Abstract</th>\n      <th>Cat:Party</th>\n      <th>Cat:Childrens</th>\n    </tr>\n  </thead>\n  <tbody>\n    <tr>\n      <th>18811</th>\n      <td>252328</td>\n      <td>Star Wars: X-Wing (Second Edition)</td>\n      <td>xwe second edition put command squadron advanc...</td>\n      <td>2018</td>\n      <td>3.0435</td>\n      <td>8.23292</td>\n      <td>6.87496</td>\n      <td>1.56988</td>\n      <td>2</td>\n      <td>2</td>\n      <td>...</td>\n      <td>21926</td>\n      <td>21926</td>\n      <td>0</td>\n      <td>0</td>\n      <td>1</td>\n      <td>0</td>\n      <td>1</td>\n      <td>0</td>\n      <td>0</td>\n      <td>0</td>\n    </tr>\n  </tbody>\n</table>\n<p>1 rows × 48 columns</p>\n</div>"
     },
     "metadata": {},
     "output_type": "display_data"
    },
    {
     "name": "stdout",
     "output_type": "stream",
     "text": [
      "342942 9.068026220319174\n"
     ]
    },
    {
     "data": {
      "text/plain": "        BGGId      Name                                        Description  \\\n21896  342942  Ark Nova  ark nova plan design modern scientifically man...   \n\n       YearPublished  GameWeight  AvgRating  BayesAvgRating   StdDev  \\\n21896           2021      3.7714    8.47839         6.25826  1.38243   \n\n       MinPlayers  MaxPlayers  ...  Rank:partygames  Rank:childrensgames  \\\n21896           1           4  ...            21926                21926   \n\n       Cat:Thematic Cat:Strategy  Cat:War  Cat:Family  Cat:CGS  Cat:Abstract  \\\n21896             0            1        0           0        0             0   \n\n       Cat:Party  Cat:Childrens  \n21896          0              0  \n\n[1 rows x 48 columns]",
      "text/html": "<div>\n<style scoped>\n    .dataframe tbody tr th:only-of-type {\n        vertical-align: middle;\n    }\n\n    .dataframe tbody tr th {\n        vertical-align: top;\n    }\n\n    .dataframe thead th {\n        text-align: right;\n    }\n</style>\n<table border=\"1\" class=\"dataframe\">\n  <thead>\n    <tr style=\"text-align: right;\">\n      <th></th>\n      <th>BGGId</th>\n      <th>Name</th>\n      <th>Description</th>\n      <th>YearPublished</th>\n      <th>GameWeight</th>\n      <th>AvgRating</th>\n      <th>BayesAvgRating</th>\n      <th>StdDev</th>\n      <th>MinPlayers</th>\n      <th>MaxPlayers</th>\n      <th>...</th>\n      <th>Rank:partygames</th>\n      <th>Rank:childrensgames</th>\n      <th>Cat:Thematic</th>\n      <th>Cat:Strategy</th>\n      <th>Cat:War</th>\n      <th>Cat:Family</th>\n      <th>Cat:CGS</th>\n      <th>Cat:Abstract</th>\n      <th>Cat:Party</th>\n      <th>Cat:Childrens</th>\n    </tr>\n  </thead>\n  <tbody>\n    <tr>\n      <th>21896</th>\n      <td>342942</td>\n      <td>Ark Nova</td>\n      <td>ark nova plan design modern scientifically man...</td>\n      <td>2021</td>\n      <td>3.7714</td>\n      <td>8.47839</td>\n      <td>6.25826</td>\n      <td>1.38243</td>\n      <td>1</td>\n      <td>4</td>\n      <td>...</td>\n      <td>21926</td>\n      <td>21926</td>\n      <td>0</td>\n      <td>1</td>\n      <td>0</td>\n      <td>0</td>\n      <td>0</td>\n      <td>0</td>\n      <td>0</td>\n      <td>0</td>\n    </tr>\n  </tbody>\n</table>\n<p>1 rows × 48 columns</p>\n</div>"
     },
     "metadata": {},
     "output_type": "display_data"
    },
    {
     "name": "stdout",
     "output_type": "stream",
     "text": [
      "184267 8.987256409580551\n"
     ]
    },
    {
     "data": {
      "text/plain": "        BGGId     Name                                        Description  \\\n15209  184267  On Mars  follow success unmanned rover mission united n...   \n\n       YearPublished  GameWeight  AvgRating  BayesAvgRating   StdDev  \\\n15209           2020      4.6477    8.25962          7.7036  1.49724   \n\n       MinPlayers  MaxPlayers  ...  Rank:partygames  Rank:childrensgames  \\\n15209           1           4  ...            21926                21926   \n\n       Cat:Thematic Cat:Strategy  Cat:War  Cat:Family  Cat:CGS  Cat:Abstract  \\\n15209             0            1        0           0        0             0   \n\n       Cat:Party  Cat:Childrens  \n15209          0              0  \n\n[1 rows x 48 columns]",
      "text/html": "<div>\n<style scoped>\n    .dataframe tbody tr th:only-of-type {\n        vertical-align: middle;\n    }\n\n    .dataframe tbody tr th {\n        vertical-align: top;\n    }\n\n    .dataframe thead th {\n        text-align: right;\n    }\n</style>\n<table border=\"1\" class=\"dataframe\">\n  <thead>\n    <tr style=\"text-align: right;\">\n      <th></th>\n      <th>BGGId</th>\n      <th>Name</th>\n      <th>Description</th>\n      <th>YearPublished</th>\n      <th>GameWeight</th>\n      <th>AvgRating</th>\n      <th>BayesAvgRating</th>\n      <th>StdDev</th>\n      <th>MinPlayers</th>\n      <th>MaxPlayers</th>\n      <th>...</th>\n      <th>Rank:partygames</th>\n      <th>Rank:childrensgames</th>\n      <th>Cat:Thematic</th>\n      <th>Cat:Strategy</th>\n      <th>Cat:War</th>\n      <th>Cat:Family</th>\n      <th>Cat:CGS</th>\n      <th>Cat:Abstract</th>\n      <th>Cat:Party</th>\n      <th>Cat:Childrens</th>\n    </tr>\n  </thead>\n  <tbody>\n    <tr>\n      <th>15209</th>\n      <td>184267</td>\n      <td>On Mars</td>\n      <td>follow success unmanned rover mission united n...</td>\n      <td>2020</td>\n      <td>4.6477</td>\n      <td>8.25962</td>\n      <td>7.7036</td>\n      <td>1.49724</td>\n      <td>1</td>\n      <td>4</td>\n      <td>...</td>\n      <td>21926</td>\n      <td>21926</td>\n      <td>0</td>\n      <td>1</td>\n      <td>0</td>\n      <td>0</td>\n      <td>0</td>\n      <td>0</td>\n      <td>0</td>\n      <td>0</td>\n    </tr>\n  </tbody>\n</table>\n<p>1 rows × 48 columns</p>\n</div>"
     },
     "metadata": {},
     "output_type": "display_data"
    }
   ],
   "source": [
    "#TODO: poista sarakkeita tulostuksesta\n",
    "# Example usage\n",
    "predictions = user_predictions_from_similar(target_user, model)\n",
    "\n",
    "top10 = sorted(predictions, key=lambda x: x.est, reverse=True)\n",
    "for pred in top10:\n",
    "    print(pred.iid, pred.est)\n",
    "    display(df_games_reduced[df_games_reduced[\"BGGId\"] == pred.iid])\n",
    "    "
   ],
   "metadata": {
    "collapsed": false,
    "ExecuteTime": {
     "end_time": "2025-10-06T21:11:09.684795500Z",
     "start_time": "2025-10-06T21:11:09.266189700Z"
    }
   },
   "id": "65d47318831d432c"
  },
  {
   "cell_type": "markdown",
   "source": [
    "ajatuksia"
   ],
   "metadata": {
    "collapsed": false
   },
   "id": "8a03434e41cc693"
  }
 ],
 "metadata": {
  "kernelspec": {
   "display_name": ".venv",
   "language": "python",
   "name": "python3"
  },
  "language_info": {
   "codemirror_mode": {
    "name": "ipython",
    "version": 3
   },
   "file_extension": ".py",
   "mimetype": "text/x-python",
   "name": "python",
   "nbconvert_exporter": "python",
   "pygments_lexer": "ipython3",
   "version": "3.11.13"
  }
 },
 "nbformat": 4,
 "nbformat_minor": 5
}
